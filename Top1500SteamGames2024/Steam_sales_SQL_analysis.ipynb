{
 "cells": [
  {
   "cell_type": "markdown",
   "id": "6a51d311",
   "metadata": {},
   "source": [
    "# --- Description --- #\n",
    "## Preparation and analysis of the top 1500 steam sales in 2024 (up to Aug?) ##\n",
    "\n",
    "We have a dataset from Kaggle (put link here?) that contains the records of the top 1500 games (by total revenue) sold on Steam from Jan to Aug (?) 2024."
   ]
  },
  {
   "cell_type": "markdown",
   "id": "c2936e62",
   "metadata": {},
   "source": [
    "### Preparing SQL for use with Jupyter Notebook ###"
   ]
  },
  {
   "cell_type": "markdown",
   "id": "ab4f397c",
   "metadata": {},
   "source": [
    "We will be using SQL-lite for this project. This is because it is very quick and easy to get working with Jupyter notebook, but it lacks many advanced features of other SQL variants (such as stored procedures, user-defined functions, some pre-defined statistical functions, etc). There is an accompanying SQL file in the same folder as this notebook (same filename, just with a .sql extension instead of .ipynb) that does the same analysis as here but uses MySQL.\n",
    "\n",
    "Also note that the magic-sql command (%%sql) will cause jupyter to interpret everything in the code block as sql code - comments will generally not be present directly in these blocks because of this. Brief descriptions of what each block does are printed *<b>like this</b>* above them."
   ]
  },
  {
   "cell_type": "markdown",
   "id": "064c99a5",
   "metadata": {},
   "source": [
    "Let's first load SQL externally and initialize the database in the environment:"
   ]
  },
  {
   "cell_type": "code",
   "execution_count": 1,
   "id": "36e605d4",
   "metadata": {},
   "outputs": [
    {
     "data": {
      "text/html": [
       "<span style=\"None\">Connecting to &#x27;sqlite:///steam_revenue.db&#x27;</span>"
      ],
      "text/plain": [
       "Connecting to 'sqlite:///steam_revenue.db'"
      ]
     },
     "metadata": {},
     "output_type": "display_data"
    }
   ],
   "source": [
    "%load_ext sql\n",
    "%sql sqlite:///steam_revenue.db"
   ]
  },
  {
   "cell_type": "markdown",
   "id": "b2ce4d5c",
   "metadata": {},
   "source": [
    "### Load the data as an SQL table ###"
   ]
  },
  {
   "cell_type": "markdown",
   "id": "43e4fd76",
   "metadata": {},
   "source": [
    "A combinations of pandas and sqlite are used in order to properly load and connect the database."
   ]
  },
  {
   "cell_type": "code",
   "execution_count": 2,
   "id": "e6d1cba2",
   "metadata": {},
   "outputs": [],
   "source": [
    "import pandas as pd\n",
    "import sqlite3\n",
    "\n",
    "# Load the CSV using pandas\n",
    "df = pd.read_csv('Steam_2024_bestRevenue_1500.csv')\n",
    "# Connect to SQLite\n",
    "conn = sqlite3.connect('steam_revenue.db')\n",
    "# Load the DataFrame into a SQL table in the SQLite database\n",
    "df.to_sql('steam_revenue', conn, if_exists='replace', index=False)\n",
    "# Close the connection (since it's now loaded)\n",
    "conn.close()"
   ]
  },
  {
   "cell_type": "markdown",
   "id": "5d588121",
   "metadata": {},
   "source": [
    "And let's confirm that the table has been properly loaded."
   ]
  },
  {
   "cell_type": "code",
   "execution_count": 3,
   "id": "00e4a563",
   "metadata": {},
   "outputs": [
    {
     "data": {
      "text/html": [
       "<span style=\"None\">Running query in &#x27;sqlite:///steam_revenue.db&#x27;</span>"
      ],
      "text/plain": [
       "Running query in 'sqlite:///steam_revenue.db'"
      ]
     },
     "metadata": {},
     "output_type": "display_data"
    },
    {
     "data": {
      "text/html": [
       "<table>\n",
       "    <thead>\n",
       "        <tr>\n",
       "            <th>name</th>\n",
       "            <th>releaseDate</th>\n",
       "            <th>copiesSold</th>\n",
       "            <th>price</th>\n",
       "            <th>revenue</th>\n",
       "            <th>avgPlaytime</th>\n",
       "            <th>reviewScore</th>\n",
       "            <th>publisherClass</th>\n",
       "            <th>publishers</th>\n",
       "            <th>developers</th>\n",
       "            <th>steamId</th>\n",
       "        </tr>\n",
       "    </thead>\n",
       "    <tbody>\n",
       "        <tr>\n",
       "            <td>WWE 2K24</td>\n",
       "            <td>07-03-2024</td>\n",
       "            <td>165301</td>\n",
       "            <td>99.99</td>\n",
       "            <td>8055097.0</td>\n",
       "            <td>42.36514031444467</td>\n",
       "            <td>71</td>\n",
       "            <td>AAA</td>\n",
       "            <td>2K</td>\n",
       "            <td>Visual Concepts</td>\n",
       "            <td>2315690</td>\n",
       "        </tr>\n",
       "        <tr>\n",
       "            <td>EARTH DEFENSE FORCE 6</td>\n",
       "            <td>25-07-2024</td>\n",
       "            <td>159806</td>\n",
       "            <td>59.99</td>\n",
       "            <td>7882151.0</td>\n",
       "            <td>29.65106126155342</td>\n",
       "            <td>57</td>\n",
       "            <td>Indie</td>\n",
       "            <td>D3PUBLISHER</td>\n",
       "            <td>SANDLOT</td>\n",
       "            <td>2291060</td>\n",
       "        </tr>\n",
       "        <tr>\n",
       "            <td>Sins of a Solar Empire II</td>\n",
       "            <td>15-08-2024</td>\n",
       "            <td>214192</td>\n",
       "            <td>49.99</td>\n",
       "            <td>7815247.0</td>\n",
       "            <td>12.45259326556514</td>\n",
       "            <td>88</td>\n",
       "            <td>Indie</td>\n",
       "            <td>Stardock Entertainment</td>\n",
       "            <td>Ironclad Games Corporation,Stardock Entertainment</td>\n",
       "            <td>1575940</td>\n",
       "        </tr>\n",
       "        <tr>\n",
       "            <td>Legend of Mortal</td>\n",
       "            <td>14-06-2024</td>\n",
       "            <td>440998</td>\n",
       "            <td>19.99</td>\n",
       "            <td>7756399.0</td>\n",
       "            <td>24.79781729089117</td>\n",
       "            <td>76</td>\n",
       "            <td>Indie</td>\n",
       "            <td>Paras Games,Obb Studio Inc.</td>\n",
       "            <td>Obb Studio Inc.</td>\n",
       "            <td>1859910</td>\n",
       "        </tr>\n",
       "        <tr>\n",
       "            <td>Shin Megami Tensei V: Vengeance</td>\n",
       "            <td>13-06-2024</td>\n",
       "            <td>141306</td>\n",
       "            <td>59.99</td>\n",
       "            <td>7629252.0</td>\n",
       "            <td>34.25849627863547</td>\n",
       "            <td>96</td>\n",
       "            <td>AA</td>\n",
       "            <td>SEGA</td>\n",
       "            <td>ATLUS</td>\n",
       "            <td>1875830</td>\n",
       "        </tr>\n",
       "    </tbody>\n",
       "</table>"
      ],
      "text/plain": [
       "+---------------------------------+-------------+------------+-------+-----------+-------------------+-------------+----------------+-----------------------------+---------------------------------------------------+---------+\n",
       "|               name              | releaseDate | copiesSold | price |  revenue  |    avgPlaytime    | reviewScore | publisherClass |          publishers         |                     developers                    | steamId |\n",
       "+---------------------------------+-------------+------------+-------+-----------+-------------------+-------------+----------------+-----------------------------+---------------------------------------------------+---------+\n",
       "|             WWE 2K24            |  07-03-2024 |   165301   | 99.99 | 8055097.0 | 42.36514031444467 |      71     |      AAA       |              2K             |                  Visual Concepts                  | 2315690 |\n",
       "|      EARTH DEFENSE FORCE 6      |  25-07-2024 |   159806   | 59.99 | 7882151.0 | 29.65106126155342 |      57     |     Indie      |         D3PUBLISHER         |                      SANDLOT                      | 2291060 |\n",
       "|    Sins of a Solar Empire II    |  15-08-2024 |   214192   | 49.99 | 7815247.0 | 12.45259326556514 |      88     |     Indie      |    Stardock Entertainment   | Ironclad Games Corporation,Stardock Entertainment | 1575940 |\n",
       "|         Legend of Mortal        |  14-06-2024 |   440998   | 19.99 | 7756399.0 | 24.79781729089117 |      76     |     Indie      | Paras Games,Obb Studio Inc. |                  Obb Studio Inc.                  | 1859910 |\n",
       "| Shin Megami Tensei V: Vengeance |  13-06-2024 |   141306   | 59.99 | 7629252.0 | 34.25849627863547 |      96     |       AA       |             SEGA            |                       ATLUS                       | 1875830 |\n",
       "+---------------------------------+-------------+------------+-------+-----------+-------------------+-------------+----------------+-----------------------------+---------------------------------------------------+---------+"
      ]
     },
     "execution_count": 3,
     "metadata": {},
     "output_type": "execute_result"
    }
   ],
   "source": [
    "%%sql\n",
    "SELECT * \n",
    "    FROM steam_revenue\n",
    "    LIMIT 5\n",
    ";"
   ]
  },
  {
   "cell_type": "markdown",
   "id": "4a3ee751",
   "metadata": {},
   "source": [
    "We'll also modify SqlMagic.displaylimit to None so that all rows get printed when asked."
   ]
  },
  {
   "cell_type": "code",
   "execution_count": 121,
   "id": "425d70bc",
   "metadata": {},
   "outputs": [
    {
     "data": {
      "text/html": [
       "<span style=\"None\">displaylimit: Value None will be treated as 0 (no limit)</span>"
      ],
      "text/plain": [
       "displaylimit: Value None will be treated as 0 (no limit)"
      ]
     },
     "metadata": {},
     "output_type": "display_data"
    }
   ],
   "source": [
    "%config SqlMagic.displaylimit = None"
   ]
  },
  {
   "cell_type": "markdown",
   "id": "8927b433",
   "metadata": {},
   "source": [
    "The data was successfully loaded, so let's proceed with the analysis"
   ]
  },
  {
   "cell_type": "markdown",
   "id": "10513dfd",
   "metadata": {},
   "source": [
    "# --- Pre-processing --- #"
   ]
  },
  {
   "cell_type": "markdown",
   "id": "7d7262ab",
   "metadata": {},
   "source": [
    "The table contains 4 string columns (name, publisherClass, publishers, developers), 1 date column (releaseDate), 3 integer columns (copiesSolid, reviewScore, and steamId), and 3 float columns (price, revenue, and avgPlaytime). 11 columns in total."
   ]
  },
  {
   "cell_type": "markdown",
   "id": "f9eec052",
   "metadata": {},
   "source": [
    "Let's look at the top 10 and bottom 10 earning games to see if anything immediately stands out"
   ]
  },
  {
   "cell_type": "markdown",
   "id": "bfb85a74",
   "metadata": {},
   "source": [
    "###### Show top-10 games by revenue"
   ]
  },
  {
   "cell_type": "code",
   "execution_count": 118,
   "id": "e2ca347e",
   "metadata": {
    "scrolled": false
   },
   "outputs": [
    {
     "data": {
      "text/html": [
       "<span style=\"None\">Running query in &#x27;sqlite:///steam_revenue.db&#x27;</span>"
      ],
      "text/plain": [
       "Running query in 'sqlite:///steam_revenue.db'"
      ]
     },
     "metadata": {},
     "output_type": "display_data"
    },
    {
     "data": {
      "text/html": [
       "<table>\n",
       "    <thead>\n",
       "        <tr>\n",
       "            <th>name</th>\n",
       "            <th>releaseDate</th>\n",
       "            <th>copiesSold</th>\n",
       "            <th>price</th>\n",
       "            <th>revenue</th>\n",
       "            <th>avgPlaytime</th>\n",
       "            <th>reviewScore</th>\n",
       "            <th>publisherClass</th>\n",
       "            <th>publishers</th>\n",
       "            <th>developers</th>\n",
       "            <th>steamId</th>\n",
       "        </tr>\n",
       "    </thead>\n",
       "    <tbody>\n",
       "        <tr>\n",
       "            <td>Black Myth: Wukong</td>\n",
       "            <td>19-08-2024</td>\n",
       "            <td>15517278</td>\n",
       "            <td>60.0</td>\n",
       "            <td>837793356.0</td>\n",
       "            <td>20.1</td>\n",
       "            <td>96</td>\n",
       "            <td>AAA</td>\n",
       "            <td>Game Science</td>\n",
       "            <td>Game Science</td>\n",
       "            <td>2358720</td>\n",
       "        </tr>\n",
       "        <tr>\n",
       "            <td>HELLDIVERS™ 2</td>\n",
       "            <td>08-02-2024</td>\n",
       "            <td>11905198</td>\n",
       "            <td>40.0</td>\n",
       "            <td>435635596.0</td>\n",
       "            <td>39.2</td>\n",
       "            <td>71</td>\n",
       "            <td>AAA</td>\n",
       "            <td>PlayStation Publishing LLC</td>\n",
       "            <td>Arrowhead Game Studios</td>\n",
       "            <td>553850</td>\n",
       "        </tr>\n",
       "        <tr>\n",
       "            <td>Palworld</td>\n",
       "            <td>18-01-2024</td>\n",
       "            <td>16704850</td>\n",
       "            <td>30.0</td>\n",
       "            <td>392328553.0</td>\n",
       "            <td>41.8</td>\n",
       "            <td>94</td>\n",
       "            <td>AA</td>\n",
       "            <td>Pocketpair</td>\n",
       "            <td>Pocketpair</td>\n",
       "            <td>1623730</td>\n",
       "        </tr>\n",
       "        <tr>\n",
       "            <td>Sons Of The Forest</td>\n",
       "            <td>22-02-2024</td>\n",
       "            <td>8693478</td>\n",
       "            <td>30.0</td>\n",
       "            <td>217017892.0</td>\n",
       "            <td>17.3</td>\n",
       "            <td>86</td>\n",
       "            <td>AA</td>\n",
       "            <td>Newnight</td>\n",
       "            <td>Endnight Games Ltd</td>\n",
       "            <td>1326470</td>\n",
       "        </tr>\n",
       "        <tr>\n",
       "            <td>Dragon's Dogma 2</td>\n",
       "            <td>21-03-2024</td>\n",
       "            <td>1785028</td>\n",
       "            <td>70.0</td>\n",
       "            <td>111478291.0</td>\n",
       "            <td>31.7</td>\n",
       "            <td>None</td>\n",
       "            <td>AAA</td>\n",
       "            <td>CAPCOM Co., Ltd.</td>\n",
       "            <td>CAPCOM Co., Ltd.</td>\n",
       "            <td>2054970</td>\n",
       "        </tr>\n",
       "        <tr>\n",
       "            <td>The First Descendant</td>\n",
       "            <td>30-06-2024</td>\n",
       "            <td>4043850</td>\n",
       "            <td>0.0</td>\n",
       "            <td>102244808.0</td>\n",
       "            <td>49.9</td>\n",
       "            <td>55</td>\n",
       "            <td>AA</td>\n",
       "            <td>NEXON</td>\n",
       "            <td>NEXON Games Co., Ltd.</td>\n",
       "            <td>2074920</td>\n",
       "        </tr>\n",
       "        <tr>\n",
       "            <td>Last Epoch</td>\n",
       "            <td>21-02-2024</td>\n",
       "            <td>3300623</td>\n",
       "            <td>35.0</td>\n",
       "            <td>97723674.0</td>\n",
       "            <td>52.0</td>\n",
       "            <td>86</td>\n",
       "            <td>AA</td>\n",
       "            <td>Eleventh Hour Games</td>\n",
       "            <td>Eleventh Hour Games</td>\n",
       "            <td>899770</td>\n",
       "        </tr>\n",
       "        <tr>\n",
       "            <td>7 Days to Die</td>\n",
       "            <td>25-07-2024</td>\n",
       "            <td>9877443</td>\n",
       "            <td>45.0</td>\n",
       "            <td>89781931.0</td>\n",
       "            <td>85.9</td>\n",
       "            <td>89</td>\n",
       "            <td>AA</td>\n",
       "            <td>The Fun Pimps Entertainment LLC</td>\n",
       "            <td>The Fun Pimps</td>\n",
       "            <td>251570</td>\n",
       "        </tr>\n",
       "        <tr>\n",
       "            <td>V Rising</td>\n",
       "            <td>08-05-2024</td>\n",
       "            <td>4784609</td>\n",
       "            <td>35.0</td>\n",
       "            <td>83614738.0</td>\n",
       "            <td>32.7</td>\n",
       "            <td>None</td>\n",
       "            <td>AA</td>\n",
       "            <td>Stunlock Studios</td>\n",
       "            <td>Stunlock Studios</td>\n",
       "            <td>1604030</td>\n",
       "        </tr>\n",
       "        <tr>\n",
       "            <td>Manor Lords</td>\n",
       "            <td>26-04-2024</td>\n",
       "            <td>2294915</td>\n",
       "            <td>40.0</td>\n",
       "            <td>63098408.0</td>\n",
       "            <td>16.7</td>\n",
       "            <td>88</td>\n",
       "            <td>AA</td>\n",
       "            <td>Hooded Horse</td>\n",
       "            <td>Slavic Magic</td>\n",
       "            <td>1363080</td>\n",
       "        </tr>\n",
       "    </tbody>\n",
       "</table>"
      ],
      "text/plain": [
       "+----------------------+-------------+------------+-------+-------------+-------------+-------------+----------------+---------------------------------+------------------------+---------+\n",
       "|         name         | releaseDate | copiesSold | price |   revenue   | avgPlaytime | reviewScore | publisherClass |            publishers           |       developers       | steamId |\n",
       "+----------------------+-------------+------------+-------+-------------+-------------+-------------+----------------+---------------------------------+------------------------+---------+\n",
       "|  Black Myth: Wukong  |  19-08-2024 |  15517278  |  60.0 | 837793356.0 |     20.1    |      96     |      AAA       |           Game Science          |      Game Science      | 2358720 |\n",
       "|    HELLDIVERS™ 2     |  08-02-2024 |  11905198  |  40.0 | 435635596.0 |     39.2    |      71     |      AAA       |    PlayStation Publishing LLC   | Arrowhead Game Studios |  553850 |\n",
       "|       Palworld       |  18-01-2024 |  16704850  |  30.0 | 392328553.0 |     41.8    |      94     |       AA       |            Pocketpair           |       Pocketpair       | 1623730 |\n",
       "|  Sons Of The Forest  |  22-02-2024 |  8693478   |  30.0 | 217017892.0 |     17.3    |      86     |       AA       |             Newnight            |   Endnight Games Ltd   | 1326470 |\n",
       "|   Dragon's Dogma 2   |  21-03-2024 |  1785028   |  70.0 | 111478291.0 |     31.7    |     None    |      AAA       |         CAPCOM Co., Ltd.        |    CAPCOM Co., Ltd.    | 2054970 |\n",
       "| The First Descendant |  30-06-2024 |  4043850   |  0.0  | 102244808.0 |     49.9    |      55     |       AA       |              NEXON              | NEXON Games Co., Ltd.  | 2074920 |\n",
       "|      Last Epoch      |  21-02-2024 |  3300623   |  35.0 |  97723674.0 |     52.0    |      86     |       AA       |       Eleventh Hour Games       |  Eleventh Hour Games   |  899770 |\n",
       "|    7 Days to Die     |  25-07-2024 |  9877443   |  45.0 |  89781931.0 |     85.9    |      89     |       AA       | The Fun Pimps Entertainment LLC |     The Fun Pimps      |  251570 |\n",
       "|       V Rising       |  08-05-2024 |  4784609   |  35.0 |  83614738.0 |     32.7    |     None    |       AA       |         Stunlock Studios        |    Stunlock Studios    | 1604030 |\n",
       "|     Manor Lords      |  26-04-2024 |  2294915   |  40.0 |  63098408.0 |     16.7    |      88     |       AA       |           Hooded Horse          |      Slavic Magic      | 1363080 |\n",
       "+----------------------+-------------+------------+-------+-------------+-------------+-------------+----------------+---------------------------------+------------------------+---------+"
      ]
     },
     "execution_count": 118,
     "metadata": {},
     "output_type": "execute_result"
    }
   ],
   "source": [
    "%%sql\n",
    "SELECT *\n",
    "    FROM steam_revenue\n",
    "    ORDER BY revenue DESC\n",
    "    LIMIT 10\n",
    ";"
   ]
  },
  {
   "cell_type": "markdown",
   "id": "b6c6f148",
   "metadata": {},
   "source": [
    "###### Show bottom-10 games by revenue"
   ]
  },
  {
   "cell_type": "code",
   "execution_count": 119,
   "id": "2e36d54d",
   "metadata": {
    "scrolled": false
   },
   "outputs": [
    {
     "data": {
      "text/html": [
       "<span style=\"None\">Running query in &#x27;sqlite:///steam_revenue.db&#x27;</span>"
      ],
      "text/plain": [
       "Running query in 'sqlite:///steam_revenue.db'"
      ]
     },
     "metadata": {},
     "output_type": "display_data"
    },
    {
     "data": {
      "text/html": [
       "<table>\n",
       "    <thead>\n",
       "        <tr>\n",
       "            <th>name</th>\n",
       "            <th>releaseDate</th>\n",
       "            <th>copiesSold</th>\n",
       "            <th>price</th>\n",
       "            <th>revenue</th>\n",
       "            <th>avgPlaytime</th>\n",
       "            <th>reviewScore</th>\n",
       "            <th>publisherClass</th>\n",
       "            <th>publishers</th>\n",
       "            <th>developers</th>\n",
       "            <th>steamId</th>\n",
       "        </tr>\n",
       "    </thead>\n",
       "    <tbody>\n",
       "        <tr>\n",
       "            <td>Memories Off #5 Togireta Film</td>\n",
       "            <td>31-01-2024</td>\n",
       "            <td>1778</td>\n",
       "            <td>15.0</td>\n",
       "            <td>20674.0</td>\n",
       "            <td>7.3</td>\n",
       "            <td>91</td>\n",
       "            <td>AA</td>\n",
       "            <td>Spike Chunsoft Co., Ltd.</td>\n",
       "            <td>MAGES. Inc.</td>\n",
       "            <td>2184570</td>\n",
       "        </tr>\n",
       "        <tr>\n",
       "            <td>Claw Machine Sim</td>\n",
       "            <td>28-03-2024</td>\n",
       "            <td>3896</td>\n",
       "            <td>7.0</td>\n",
       "            <td>20723.0</td>\n",
       "            <td>2.9</td>\n",
       "            <td>94</td>\n",
       "            <td>Indie</td>\n",
       "            <td>Unechte Sachen</td>\n",
       "            <td>Unechte Sachen</td>\n",
       "            <td>2456120</td>\n",
       "        </tr>\n",
       "        <tr>\n",
       "            <td>DYSCHRONIA: Chronos Alternate - Dual Edition</td>\n",
       "            <td>27-03-2024</td>\n",
       "            <td>725</td>\n",
       "            <td>35.0</td>\n",
       "            <td>20922.0</td>\n",
       "            <td>6.3</td>\n",
       "            <td>92</td>\n",
       "            <td>Indie</td>\n",
       "            <td>IzanagiGames</td>\n",
       "            <td>IzanagiGames,MyDearest Inc.</td>\n",
       "            <td>2023920</td>\n",
       "        </tr>\n",
       "        <tr>\n",
       "            <td>Megacopter: Blades of the Goddess</td>\n",
       "            <td>21-06-2024</td>\n",
       "            <td>1684</td>\n",
       "            <td>16.0</td>\n",
       "            <td>20946.0</td>\n",
       "            <td>3.6</td>\n",
       "            <td>95</td>\n",
       "            <td>Indie</td>\n",
       "            <td>Pizza Bear Games</td>\n",
       "            <td>Pizza Bear Games</td>\n",
       "            <td>1228360</td>\n",
       "        </tr>\n",
       "        <tr>\n",
       "            <td>Champion Shift</td>\n",
       "            <td>21-06-2024</td>\n",
       "            <td>4526</td>\n",
       "            <td>7.0</td>\n",
       "            <td>20955.0</td>\n",
       "            <td>6.6</td>\n",
       "            <td>79</td>\n",
       "            <td>Indie</td>\n",
       "            <td>SRG Studios</td>\n",
       "            <td>SRG Studios</td>\n",
       "            <td>2391900</td>\n",
       "        </tr>\n",
       "        <tr>\n",
       "            <td>Orc Covenant: Gay Bara Orc Visual Novel</td>\n",
       "            <td>21-08-2024</td>\n",
       "            <td>864</td>\n",
       "            <td>30.0</td>\n",
       "            <td>21022.0</td>\n",
       "            <td>3.9</td>\n",
       "            <td>75</td>\n",
       "            <td>Indie</td>\n",
       "            <td>Y Press Games</td>\n",
       "            <td>Y Press Games</td>\n",
       "            <td>2243570</td>\n",
       "        </tr>\n",
       "        <tr>\n",
       "            <td>Lucky Mark</td>\n",
       "            <td>19-04-2024</td>\n",
       "            <td>2505</td>\n",
       "            <td>10.0</td>\n",
       "            <td>21066.0</td>\n",
       "            <td>9.8</td>\n",
       "            <td>58</td>\n",
       "            <td>Indie</td>\n",
       "            <td>Super Alex</td>\n",
       "            <td>Super Alex</td>\n",
       "            <td>2450720</td>\n",
       "        </tr>\n",
       "        <tr>\n",
       "            <td>Dungeon Looter</td>\n",
       "            <td>13-05-2024</td>\n",
       "            <td>3205</td>\n",
       "            <td>12.0</td>\n",
       "            <td>21067.0</td>\n",
       "            <td>6.3</td>\n",
       "            <td>78</td>\n",
       "            <td>Indie</td>\n",
       "            <td>Wappen Games</td>\n",
       "            <td>Wappen Games</td>\n",
       "            <td>1228320</td>\n",
       "        </tr>\n",
       "        <tr>\n",
       "            <td>The Wandering Corinne</td>\n",
       "            <td>18-07-2024</td>\n",
       "            <td>2891</td>\n",
       "            <td>9.0</td>\n",
       "            <td>21082.0</td>\n",
       "            <td>0.8</td>\n",
       "            <td>54</td>\n",
       "            <td>Indie</td>\n",
       "            <td>Mango Party,Mango Party News</td>\n",
       "            <td>ankoku marimokan</td>\n",
       "            <td>2311840</td>\n",
       "        </tr>\n",
       "        <tr>\n",
       "            <td>Deathwish Enforcers Special Edition</td>\n",
       "            <td>14-02-2024</td>\n",
       "            <td>1489</td>\n",
       "            <td>20.0</td>\n",
       "            <td>21086.0</td>\n",
       "            <td>1.9</td>\n",
       "            <td>87</td>\n",
       "            <td>Indie</td>\n",
       "            <td>Monster Bath Games Inc.</td>\n",
       "            <td>Monster Bath Games Inc.</td>\n",
       "            <td>2683030</td>\n",
       "        </tr>\n",
       "    </tbody>\n",
       "</table>"
      ],
      "text/plain": [
       "+----------------------------------------------+-------------+------------+-------+---------+-------------+-------------+----------------+------------------------------+-----------------------------+---------+\n",
       "|                     name                     | releaseDate | copiesSold | price | revenue | avgPlaytime | reviewScore | publisherClass |          publishers          |          developers         | steamId |\n",
       "+----------------------------------------------+-------------+------------+-------+---------+-------------+-------------+----------------+------------------------------+-----------------------------+---------+\n",
       "|        Memories Off #5 Togireta Film         |  31-01-2024 |    1778    |  15.0 | 20674.0 |     7.3     |      91     |       AA       |   Spike Chunsoft Co., Ltd.   |         MAGES. Inc.         | 2184570 |\n",
       "|               Claw Machine Sim               |  28-03-2024 |    3896    |  7.0  | 20723.0 |     2.9     |      94     |     Indie      |        Unechte Sachen        |        Unechte Sachen       | 2456120 |\n",
       "| DYSCHRONIA: Chronos Alternate - Dual Edition |  27-03-2024 |    725     |  35.0 | 20922.0 |     6.3     |      92     |     Indie      |         IzanagiGames         | IzanagiGames,MyDearest Inc. | 2023920 |\n",
       "|      Megacopter: Blades of the Goddess       |  21-06-2024 |    1684    |  16.0 | 20946.0 |     3.6     |      95     |     Indie      |       Pizza Bear Games       |       Pizza Bear Games      | 1228360 |\n",
       "|                Champion Shift                |  21-06-2024 |    4526    |  7.0  | 20955.0 |     6.6     |      79     |     Indie      |         SRG Studios          |         SRG Studios         | 2391900 |\n",
       "|   Orc Covenant: Gay Bara Orc Visual Novel    |  21-08-2024 |    864     |  30.0 | 21022.0 |     3.9     |      75     |     Indie      |        Y Press Games         |        Y Press Games        | 2243570 |\n",
       "|                  Lucky Mark                  |  19-04-2024 |    2505    |  10.0 | 21066.0 |     9.8     |      58     |     Indie      |          Super Alex          |          Super Alex         | 2450720 |\n",
       "|                Dungeon Looter                |  13-05-2024 |    3205    |  12.0 | 21067.0 |     6.3     |      78     |     Indie      |         Wappen Games         |         Wappen Games        | 1228320 |\n",
       "|            The Wandering Corinne             |  18-07-2024 |    2891    |  9.0  | 21082.0 |     0.8     |      54     |     Indie      | Mango Party,Mango Party News |       ankoku marimokan      | 2311840 |\n",
       "|     Deathwish Enforcers Special Edition      |  14-02-2024 |    1489    |  20.0 | 21086.0 |     1.9     |      87     |     Indie      |   Monster Bath Games Inc.    |   Monster Bath Games Inc.   | 2683030 |\n",
       "+----------------------------------------------+-------------+------------+-------+---------+-------------+-------------+----------------+------------------------------+-----------------------------+---------+"
      ]
     },
     "execution_count": 119,
     "metadata": {},
     "output_type": "execute_result"
    }
   ],
   "source": [
    "%%sql\n",
    "SELECT\n",
    "    *\n",
    "FROM\n",
    "    steam_revenue\n",
    "ORDER BY\n",
    "    revenue\n",
    "LIMIT 10\n",
    ";"
   ]
  },
  {
   "cell_type": "markdown",
   "id": "fd4fdb63",
   "metadata": {},
   "source": [
    "There's a few peculiarities to address from the top and bottom 10:\n",
    "\n",
    "1) There's one game ('The First Descendent', top 10) that has a price of 0 (and there are likely others as well)\n",
    "\n",
    "2) avgPlaytime has very high decimal precision for some reason.\n",
    "\n",
    "3) The prices are listed as \\\\$(n).99 instead of just \\\\$(n+1).\n",
    "\n",
    "4) Some games have a review score of 0"
   ]
  },
  {
   "cell_type": "markdown",
   "id": "7513a6cc",
   "metadata": {},
   "source": [
    "We can address each of these:\n",
    "\n",
    "1) Prices of 0 should be kept as 0 (some economic models for video games can be to keep the game itself free with additional purchases possible - after all, one such game is in the top 10 for 2024!)\n",
    "\n",
    "2) We can take the precision just out to the first decimal point (making the uncertainty 0.1 hours, or 6 minutes, which really shouldn't make a difference)\n",
    "\n",
    "3) For prices ending in .99, we can just round those up to the next dollar amount - but we'll keep other values as their original decimal amount!\n",
    "\n",
    "4) It's not immediately clear why some games have a review score of 0 - it doesn't seem like it could be a tight release date as some games in the top 10 are released July / August and have defined scores whereas the 5th highest-in-revenue game ('Dragon\\'s Dogma 2') was released in March and yet has a score of 0. We'll redefine review scores of 0 to be Null."
   ]
  },
  {
   "cell_type": "markdown",
   "id": "1a9a153e",
   "metadata": {},
   "source": [
    "###### Modifying prices with \\*.99 to (\\*+1)"
   ]
  },
  {
   "cell_type": "code",
   "execution_count": 5,
   "id": "cd037f14",
   "metadata": {},
   "outputs": [
    {
     "data": {
      "text/html": [
       "<span style=\"None\">Running query in &#x27;sqlite:///steam_revenue.db&#x27;</span>"
      ],
      "text/plain": [
       "Running query in 'sqlite:///steam_revenue.db'"
      ]
     },
     "metadata": {},
     "output_type": "display_data"
    },
    {
     "data": {
      "text/html": [
       "<span style=\"color: green\">1392 rows affected.</span>"
      ],
      "text/plain": [
       "1392 rows affected."
      ]
     },
     "metadata": {},
     "output_type": "display_data"
    },
    {
     "data": {
      "text/html": [
       "<table>\n",
       "    <thead>\n",
       "        <tr>\n",
       "        </tr>\n",
       "    </thead>\n",
       "    <tbody>\n",
       "    </tbody>\n",
       "</table>"
      ],
      "text/plain": [
       "++\n",
       "||\n",
       "++\n",
       "++"
      ]
     },
     "execution_count": 5,
     "metadata": {},
     "output_type": "execute_result"
    }
   ],
   "source": [
    "%%sql\n",
    "UPDATE \n",
    "    steam_revenue\n",
    "SET \n",
    "    price = CAST(price AS INTEGER) + 1\n",
    "WHERE \n",
    "    (price LIKE '%.99')\n",
    ";"
   ]
  },
  {
   "cell_type": "markdown",
   "id": "32918005",
   "metadata": {},
   "source": [
    "###### Reduce precision of avgPlaytime to single decimal"
   ]
  },
  {
   "cell_type": "code",
   "execution_count": 6,
   "id": "51350b5a",
   "metadata": {},
   "outputs": [
    {
     "data": {
      "text/html": [
       "<span style=\"None\">Running query in &#x27;sqlite:///steam_revenue.db&#x27;</span>"
      ],
      "text/plain": [
       "Running query in 'sqlite:///steam_revenue.db'"
      ]
     },
     "metadata": {},
     "output_type": "display_data"
    },
    {
     "data": {
      "text/html": [
       "<span style=\"color: green\">1500 rows affected.</span>"
      ],
      "text/plain": [
       "1500 rows affected."
      ]
     },
     "metadata": {},
     "output_type": "display_data"
    },
    {
     "data": {
      "text/html": [
       "<table>\n",
       "    <thead>\n",
       "        <tr>\n",
       "        </tr>\n",
       "    </thead>\n",
       "    <tbody>\n",
       "    </tbody>\n",
       "</table>"
      ],
      "text/plain": [
       "++\n",
       "||\n",
       "++\n",
       "++"
      ]
     },
     "execution_count": 6,
     "metadata": {},
     "output_type": "execute_result"
    }
   ],
   "source": [
    "%%sql\n",
    "UPDATE\n",
    "    steam_revenue\n",
    "SET\n",
    "    avgPlaytime = ROUND(avgPlaytime,1)\n",
    ";"
   ]
  },
  {
   "cell_type": "markdown",
   "id": "88215d59",
   "metadata": {},
   "source": [
    "###### Changing reviewScore = 0 -> Null"
   ]
  },
  {
   "cell_type": "code",
   "execution_count": 7,
   "id": "1434563f",
   "metadata": {},
   "outputs": [
    {
     "data": {
      "text/html": [
       "<span style=\"None\">Running query in &#x27;sqlite:///steam_revenue.db&#x27;</span>"
      ],
      "text/plain": [
       "Running query in 'sqlite:///steam_revenue.db'"
      ]
     },
     "metadata": {},
     "output_type": "display_data"
    },
    {
     "data": {
      "text/html": [
       "<span style=\"color: green\">99 rows affected.</span>"
      ],
      "text/plain": [
       "99 rows affected."
      ]
     },
     "metadata": {},
     "output_type": "display_data"
    },
    {
     "data": {
      "text/html": [
       "<table>\n",
       "    <thead>\n",
       "        <tr>\n",
       "        </tr>\n",
       "    </thead>\n",
       "    <tbody>\n",
       "    </tbody>\n",
       "</table>"
      ],
      "text/plain": [
       "++\n",
       "||\n",
       "++\n",
       "++"
      ]
     },
     "execution_count": 7,
     "metadata": {},
     "output_type": "execute_result"
    }
   ],
   "source": [
    "%%sql\n",
    "UPDATE\n",
    "    steam_revenue\n",
    "SET\n",
    "    reviewScore = Null\n",
    "WHERE\n",
    "    reviewScore = 0\n",
    ";"
   ]
  },
  {
   "cell_type": "markdown",
   "id": "de14af00",
   "metadata": {},
   "source": [
    "Let's next see how granular the publisherClass, publisher, and developer columns are:"
   ]
  },
  {
   "cell_type": "markdown",
   "id": "6fa2a4ef",
   "metadata": {},
   "source": [
    "###### Counting the number of publisher classes and their class percentage"
   ]
  },
  {
   "cell_type": "code",
   "execution_count": 179,
   "id": "558c4fa7",
   "metadata": {
    "scrolled": false
   },
   "outputs": [
    {
     "data": {
      "text/html": [
       "<span style=\"None\">Running query in &#x27;sqlite:///steam_revenue.db&#x27;</span>"
      ],
      "text/plain": [
       "Running query in 'sqlite:///steam_revenue.db'"
      ]
     },
     "metadata": {},
     "output_type": "display_data"
    },
    {
     "data": {
      "text/html": [
       "<table>\n",
       "    <thead>\n",
       "        <tr>\n",
       "            <th>publisherClass</th>\n",
       "            <th>count_</th>\n",
       "            <th>games_percentage</th>\n",
       "        </tr>\n",
       "    </thead>\n",
       "    <tbody>\n",
       "        <tr>\n",
       "            <td>Indie</td>\n",
       "            <td>1301</td>\n",
       "            <td>86.79</td>\n",
       "        </tr>\n",
       "        <tr>\n",
       "            <td>AA</td>\n",
       "            <td>146</td>\n",
       "            <td>9.74</td>\n",
       "        </tr>\n",
       "        <tr>\n",
       "            <td>AAA</td>\n",
       "            <td>52</td>\n",
       "            <td>3.47</td>\n",
       "        </tr>\n",
       "    </tbody>\n",
       "</table>"
      ],
      "text/plain": [
       "+----------------+--------+------------------+\n",
       "| publisherClass | count_ | games_percentage |\n",
       "+----------------+--------+------------------+\n",
       "|     Indie      |  1301  |      86.79       |\n",
       "|       AA       |  146   |       9.74       |\n",
       "|      AAA       |   52   |       3.47       |\n",
       "+----------------+--------+------------------+"
      ]
     },
     "execution_count": 179,
     "metadata": {},
     "output_type": "execute_result"
    }
   ],
   "source": [
    "%%sql\n",
    "WITH pub_class AS (\n",
    "    SELECT \n",
    "        publisherClass,\n",
    "        COUNT(*) as count_\n",
    "    FROM\n",
    "        steam_revenue\n",
    "    GROUP BY\n",
    "        publisherClass\n",
    "),\n",
    "total_games AS (\n",
    "    SELECT\n",
    "        COUNT(*) AS num_games\n",
    "    FROM\n",
    "        steam_revenue\n",
    ")\n",
    "SELECT\n",
    "    pc.publisherClass,\n",
    "    pc.count_,\n",
    "    ROUND(pc.count_ * 100.0 / tg.num_games, 2) AS games_percentage\n",
    "FROM\n",
    "    pub_class pc,\n",
    "    total_games tg\n",
    "GROUP BY\n",
    "    publisherClass\n",
    "ORDER BY\n",
    "    pc.count_ DESC\n",
    ";"
   ]
  },
  {
   "cell_type": "markdown",
   "id": "c59e2405",
   "metadata": {},
   "source": [
    "There's only one game classified under 'Hobbyist' (which may not be that different from other Indie games) - we'll drop that one row, reducing us from 1500 to 1499 rows"
   ]
  },
  {
   "cell_type": "markdown",
   "id": "80825ee5",
   "metadata": {},
   "source": [
    "###### Reducing the number of publisher classes from 4 (AAA [52], AA [146], Indie [1301], Hobbyist [1]) to 3 by removing the single 'Hobbyist' entry"
   ]
  },
  {
   "cell_type": "code",
   "execution_count": 9,
   "id": "410ada17",
   "metadata": {},
   "outputs": [
    {
     "data": {
      "text/html": [
       "<span style=\"None\">Running query in &#x27;sqlite:///steam_revenue.db&#x27;</span>"
      ],
      "text/plain": [
       "Running query in 'sqlite:///steam_revenue.db'"
      ]
     },
     "metadata": {},
     "output_type": "display_data"
    },
    {
     "data": {
      "text/html": [
       "<span style=\"color: green\">1 rows affected.</span>"
      ],
      "text/plain": [
       "1 rows affected."
      ]
     },
     "metadata": {},
     "output_type": "display_data"
    },
    {
     "data": {
      "text/html": [
       "<table>\n",
       "    <thead>\n",
       "        <tr>\n",
       "        </tr>\n",
       "    </thead>\n",
       "    <tbody>\n",
       "    </tbody>\n",
       "</table>"
      ],
      "text/plain": [
       "++\n",
       "||\n",
       "++\n",
       "++"
      ]
     },
     "execution_count": 9,
     "metadata": {},
     "output_type": "execute_result"
    }
   ],
   "source": [
    "%%sql\n",
    "DELETE FROM\n",
    "    steam_revenue\n",
    "WHERE\n",
    "    publisherClass = 'Hobbyist'\n",
    ";"
   ]
  },
  {
   "cell_type": "markdown",
   "id": "80ba418f",
   "metadata": {},
   "source": [
    "###### Counting the number of particular publishers (not classes)"
   ]
  },
  {
   "cell_type": "code",
   "execution_count": 10,
   "id": "ab1ca64b",
   "metadata": {},
   "outputs": [
    {
     "data": {
      "text/html": [
       "<span style=\"None\">Running query in &#x27;sqlite:///steam_revenue.db&#x27;</span>"
      ],
      "text/plain": [
       "Running query in 'sqlite:///steam_revenue.db'"
      ]
     },
     "metadata": {},
     "output_type": "display_data"
    },
    {
     "data": {
      "text/html": [
       "<table>\n",
       "    <thead>\n",
       "        <tr>\n",
       "            <th>num_publishers</th>\n",
       "        </tr>\n",
       "    </thead>\n",
       "    <tbody>\n",
       "        <tr>\n",
       "            <td>1131</td>\n",
       "        </tr>\n",
       "    </tbody>\n",
       "</table>"
      ],
      "text/plain": [
       "+----------------+\n",
       "| num_publishers |\n",
       "+----------------+\n",
       "|      1131      |\n",
       "+----------------+"
      ]
     },
     "execution_count": 10,
     "metadata": {},
     "output_type": "execute_result"
    }
   ],
   "source": [
    "%%sql\n",
    "SELECT\n",
    "    COUNT(DISTINCT publishers) as num_publishers\n",
    "FROM\n",
    "    steam_revenue\n",
    ";"
   ]
  },
  {
   "cell_type": "code",
   "execution_count": 120,
   "id": "2681e9b9",
   "metadata": {
    "scrolled": true
   },
   "outputs": [
    {
     "data": {
      "text/html": [
       "<span style=\"None\">Running query in &#x27;sqlite:///steam_revenue.db&#x27;</span>"
      ],
      "text/plain": [
       "Running query in 'sqlite:///steam_revenue.db'"
      ]
     },
     "metadata": {},
     "output_type": "display_data"
    },
    {
     "data": {
      "text/html": [
       "<table>\n",
       "    <thead>\n",
       "        <tr>\n",
       "            <th>publishers</th>\n",
       "            <th>count_</th>\n",
       "        </tr>\n",
       "    </thead>\n",
       "    <tbody>\n",
       "        <tr>\n",
       "            <td>Kagura Games</td>\n",
       "            <td>17</td>\n",
       "        </tr>\n",
       "        <tr>\n",
       "            <td>Electronic Arts</td>\n",
       "            <td>16</td>\n",
       "        </tr>\n",
       "        <tr>\n",
       "            <td>072 Project</td>\n",
       "            <td>14</td>\n",
       "        </tr>\n",
       "        <tr>\n",
       "            <td>Ubisoft</td>\n",
       "            <td>13</td>\n",
       "        </tr>\n",
       "        <tr>\n",
       "            <td>Mango Party,Mango Party News</td>\n",
       "            <td>11</td>\n",
       "        </tr>\n",
       "        <tr>\n",
       "            <td>indie.io</td>\n",
       "            <td>10</td>\n",
       "        </tr>\n",
       "        <tr>\n",
       "            <td>Shiravune</td>\n",
       "            <td>10</td>\n",
       "        </tr>\n",
       "        <tr>\n",
       "            <td>Spike Chunsoft Co., Ltd.</td>\n",
       "            <td>9</td>\n",
       "        </tr>\n",
       "        <tr>\n",
       "            <td>Nacon</td>\n",
       "            <td>9</td>\n",
       "        </tr>\n",
       "        <tr>\n",
       "            <td>Lust Desires 🖤</td>\n",
       "            <td>9</td>\n",
       "        </tr>\n",
       "    </tbody>\n",
       "</table>"
      ],
      "text/plain": [
       "+------------------------------+--------+\n",
       "|          publishers          | count_ |\n",
       "+------------------------------+--------+\n",
       "|         Kagura Games         |   17   |\n",
       "|       Electronic Arts        |   16   |\n",
       "|         072 Project          |   14   |\n",
       "|           Ubisoft            |   13   |\n",
       "| Mango Party,Mango Party News |   11   |\n",
       "|           indie.io           |   10   |\n",
       "|          Shiravune           |   10   |\n",
       "|   Spike Chunsoft Co., Ltd.   |   9    |\n",
       "|            Nacon             |   9    |\n",
       "|       Lust Desires 🖤        |   9    |\n",
       "+------------------------------+--------+"
      ]
     },
     "execution_count": 120,
     "metadata": {},
     "output_type": "execute_result"
    }
   ],
   "source": [
    "%%sql\n",
    "SELECT\n",
    "    publishers, COUNT(*) as count_\n",
    "FROM\n",
    "    steam_revenue\n",
    "GROUP BY\n",
    "    publishers\n",
    "ORDER BY\n",
    "    count_ DESC\n",
    "LIMIT 10\n",
    ";"
   ]
  },
  {
   "cell_type": "markdown",
   "id": "f1eca375",
   "metadata": {},
   "source": [
    "###### Counting the number of developers"
   ]
  },
  {
   "cell_type": "code",
   "execution_count": 11,
   "id": "4d372098",
   "metadata": {},
   "outputs": [
    {
     "data": {
      "text/html": [
       "<span style=\"None\">Running query in &#x27;sqlite:///steam_revenue.db&#x27;</span>"
      ],
      "text/plain": [
       "Running query in 'sqlite:///steam_revenue.db'"
      ]
     },
     "metadata": {},
     "output_type": "display_data"
    },
    {
     "data": {
      "text/html": [
       "<table>\n",
       "    <thead>\n",
       "        <tr>\n",
       "            <th>num_developers</th>\n",
       "        </tr>\n",
       "    </thead>\n",
       "    <tbody>\n",
       "        <tr>\n",
       "            <td>1405</td>\n",
       "        </tr>\n",
       "    </tbody>\n",
       "</table>"
      ],
      "text/plain": [
       "+----------------+\n",
       "| num_developers |\n",
       "+----------------+\n",
       "|      1405      |\n",
       "+----------------+"
      ]
     },
     "execution_count": 11,
     "metadata": {},
     "output_type": "execute_result"
    }
   ],
   "source": [
    "%%sql\n",
    "SELECT\n",
    "    COUNT(DISTINCT developers) as num_developers\n",
    "FROM\n",
    "    steam_revenue\n",
    ";"
   ]
  },
  {
   "cell_type": "code",
   "execution_count": 124,
   "id": "09520d36",
   "metadata": {
    "scrolled": true
   },
   "outputs": [
    {
     "data": {
      "text/html": [
       "<span style=\"None\">Running query in &#x27;sqlite:///steam_revenue.db&#x27;</span>"
      ],
      "text/plain": [
       "Running query in 'sqlite:///steam_revenue.db'"
      ]
     },
     "metadata": {},
     "output_type": "display_data"
    },
    {
     "data": {
      "text/html": [
       "<table>\n",
       "    <thead>\n",
       "        <tr>\n",
       "            <th>developers</th>\n",
       "            <th>count_</th>\n",
       "        </tr>\n",
       "    </thead>\n",
       "    <tbody>\n",
       "        <tr>\n",
       "            <td>Lust Desires 🖤</td>\n",
       "            <td>9</td>\n",
       "        </tr>\n",
       "        <tr>\n",
       "            <td>MAGES. Inc.</td>\n",
       "            <td>7</td>\n",
       "        </tr>\n",
       "        <tr>\n",
       "            <td>EA Los Angeles</td>\n",
       "            <td>7</td>\n",
       "        </tr>\n",
       "        <tr>\n",
       "            <td>Square Enix</td>\n",
       "            <td>6</td>\n",
       "        </tr>\n",
       "        <tr>\n",
       "            <td>CAPCOM Co., Ltd.</td>\n",
       "            <td>5</td>\n",
       "        </tr>\n",
       "        <tr>\n",
       "            <td>Octo Games</td>\n",
       "            <td>4</td>\n",
       "        </tr>\n",
       "        <tr>\n",
       "            <td>FreeMind S.A.</td>\n",
       "            <td>4</td>\n",
       "        </tr>\n",
       "        <tr>\n",
       "            <td>BanzaiProject</td>\n",
       "            <td>4</td>\n",
       "        </tr>\n",
       "        <tr>\n",
       "            <td>Ubisoft Mainz</td>\n",
       "            <td>3</td>\n",
       "        </tr>\n",
       "        <tr>\n",
       "            <td>Romantic Room</td>\n",
       "            <td>3</td>\n",
       "        </tr>\n",
       "    </tbody>\n",
       "</table>"
      ],
      "text/plain": [
       "+------------------+--------+\n",
       "|    developers    | count_ |\n",
       "+------------------+--------+\n",
       "| Lust Desires 🖤  |   9    |\n",
       "|   MAGES. Inc.    |   7    |\n",
       "|  EA Los Angeles  |   7    |\n",
       "|   Square Enix    |   6    |\n",
       "| CAPCOM Co., Ltd. |   5    |\n",
       "|    Octo Games    |   4    |\n",
       "|  FreeMind S.A.   |   4    |\n",
       "|  BanzaiProject   |   4    |\n",
       "|  Ubisoft Mainz   |   3    |\n",
       "|  Romantic Room   |   3    |\n",
       "+------------------+--------+"
      ]
     },
     "execution_count": 124,
     "metadata": {},
     "output_type": "execute_result"
    }
   ],
   "source": [
    "%%sql\n",
    "SELECT\n",
    "    developers, COUNT(*) as count_\n",
    "FROM\n",
    "    steam_revenue\n",
    "GROUP BY\n",
    "    developers\n",
    "ORDER BY\n",
    "    count_ DESC\n",
    "LIMIT 10\n",
    ";"
   ]
  },
  {
   "cell_type": "markdown",
   "id": "a4fef921",
   "metadata": {},
   "source": [
    "# --- Analysis --- #"
   ]
  },
  {
   "cell_type": "markdown",
   "id": "b336a819",
   "metadata": {},
   "source": [
    "With the relevant pre-processing done, we can ask some questions about the data and perform some analyses. Consider the following questions from the perspective of someone wanting to invest in a particular publisher or developer:\n",
    "\n",
    "**1) What is the statistical breakdown of revenue by publisher class and what would be the best one to invest in?**\n",
    "\n",
    "**2) For developers with multiple releases, which would be good ones to invest in?**\n",
    "\n",
    "(It would also be interesting to see if there are times of the year it's more profitable to release a game, but we can't statistically confirm that with just a year 2024 dataset unfortunately)."
   ]
  },
  {
   "cell_type": "markdown",
   "id": "9460b8ad",
   "metadata": {},
   "source": [
    "## Q1 : What is the statistical breakdown of revenue by publisher class and what would be the best one to invest in? ##"
   ]
  },
  {
   "cell_type": "markdown",
   "id": "53e817b0",
   "metadata": {},
   "source": [
    "First we'll find out the average, minimum, and maximum revenues (in millions of dollars) per publisher class.\n",
    "\n",
    "It should stressed here and throughout that these are *revenue* statistics, and **not profit**. The earnings will likely be higher for AA and AAA publishers vs Indie but we're not told the production costs involved (for which AAA and AA would almost always be higher than an Indie game)."
   ]
  },
  {
   "cell_type": "markdown",
   "id": "bbaea275",
   "metadata": {},
   "source": [
    "###### Avg, Max, Min revenue (in millions of dollars) by publisher class"
   ]
  },
  {
   "cell_type": "code",
   "execution_count": 67,
   "id": "2e9c7f24",
   "metadata": {
    "scrolled": true
   },
   "outputs": [
    {
     "data": {
      "text/html": [
       "<span style=\"None\">Running query in &#x27;sqlite:///steam_revenue.db&#x27;</span>"
      ],
      "text/plain": [
       "Running query in 'sqlite:///steam_revenue.db'"
      ]
     },
     "metadata": {},
     "output_type": "display_data"
    },
    {
     "data": {
      "text/html": [
       "<table>\n",
       "    <thead>\n",
       "        <tr>\n",
       "            <th>publisherClass</th>\n",
       "            <th>avg_revenue_M</th>\n",
       "            <th>max_rev_M</th>\n",
       "            <th>min_rev_M</th>\n",
       "        </tr>\n",
       "    </thead>\n",
       "    <tbody>\n",
       "        <tr>\n",
       "            <td>AAA</td>\n",
       "            <td>30.51</td>\n",
       "            <td>837.79</td>\n",
       "            <td>0.026</td>\n",
       "        </tr>\n",
       "        <tr>\n",
       "            <td>AA</td>\n",
       "            <td>10.17</td>\n",
       "            <td>392.33</td>\n",
       "            <td>0.021</td>\n",
       "        </tr>\n",
       "        <tr>\n",
       "            <td>Indie</td>\n",
       "            <td>0.67</td>\n",
       "            <td>34.53</td>\n",
       "            <td>0.021</td>\n",
       "        </tr>\n",
       "    </tbody>\n",
       "</table>"
      ],
      "text/plain": [
       "+----------------+---------------+-----------+-----------+\n",
       "| publisherClass | avg_revenue_M | max_rev_M | min_rev_M |\n",
       "+----------------+---------------+-----------+-----------+\n",
       "|      AAA       |     30.51     |   837.79  |   0.026   |\n",
       "|       AA       |     10.17     |   392.33  |   0.021   |\n",
       "|     Indie      |      0.67     |   34.53   |   0.021   |\n",
       "+----------------+---------------+-----------+-----------+"
      ]
     },
     "execution_count": 67,
     "metadata": {},
     "output_type": "execute_result"
    }
   ],
   "source": [
    "%%sql\n",
    "SELECT\n",
    "    publisherClass,\n",
    "    ROUND(AVG(revenue) / 1000000, 2) as avg_revenue_M,\n",
    "    ROUND(MAX(revenue) / 1000000, 2) as max_rev_M,\n",
    "    ROUND(MIN(revenue) / 1000000, 3) as min_rev_M\n",
    "FROM \n",
    "    steam_revenue\n",
    "GROUP BY\n",
    "    publisherClass\n",
    "ORDER BY\n",
    "    avg_revenue_M DESC\n",
    ";"
   ]
  },
  {
   "cell_type": "markdown",
   "id": "1a2cabf0",
   "metadata": {},
   "source": [
    "Rather unsurprisingly, publishers with greater resources see greater revenue. The average revenue brought in by a AAA publisher is 10x higher than that of a AA and 45x an Indie game. The AAA max is much higher than AA, but looking back to the top-10 table shows that this is an outlier as the 2nd highest is also AAA and earned \\\\$436M (making it much closer to the AA max). Notably the minimum earnings are all within similar ranges (\\\\$26K for AAA and \\\\$21K for both AA and Indie) - but recall that this dataset comprises the top 1500 earning Steam games so there are very likely lower minimums not seen.\n",
    "\n",
    "[We would have analyzed the median as well, but sqlite unfortunately does not implement it for aggregation with GROUP BY]"
   ]
  },
  {
   "cell_type": "markdown",
   "id": "9f29c468",
   "metadata": {},
   "source": [
    "We can perhaps get better insight by converting revenue from a continuous variable (in \\$'s) to an ordinal one (e.g. <500K, 500KTo1M, ...). We'll do this and then express the data as a contingency table over the publisher class and ordinal revenue class (by percentage). We'll look at two contingency tables: One where the percentage is shown relative to the revenue ordinal classiciation, and another where it's relative to the publisherClass."
   ]
  },
  {
   "cell_type": "markdown",
   "id": "cb632a61",
   "metadata": {},
   "source": [
    "###### Calculating publisher classes across <u>ordinal revenue percentage</u> (<\\\\$500K, \\\\$500K-\\\\$1M, \\\\$1M-\\\\$10M, and >\\\\$10M) "
   ]
  },
  {
   "cell_type": "code",
   "execution_count": 197,
   "id": "416e3cfc",
   "metadata": {},
   "outputs": [
    {
     "data": {
      "text/html": [
       "<span style=\"None\">Running query in &#x27;sqlite:///steam_revenue.db&#x27;</span>"
      ],
      "text/plain": [
       "Running query in 'sqlite:///steam_revenue.db'"
      ]
     },
     "metadata": {},
     "output_type": "display_data"
    },
    {
     "data": {
      "text/html": [
       "<table>\n",
       "    <thead>\n",
       "        <tr>\n",
       "            <th>publisherClass</th>\n",
       "            <th><$500K</th>\n",
       "            <th>$500K-\\$1M</th>\n",
       "            <th>$1M-\\$10M</th>\n",
       "            <th>>$10M</th>\n",
       "        </tr>\n",
       "    </thead>\n",
       "    <tbody>\n",
       "        <tr>\n",
       "            <td>AAA</td>\n",
       "            <td>36.5</td>\n",
       "            <td>23.1</td>\n",
       "            <td>25.0</td>\n",
       "            <td>15.4</td>\n",
       "        </tr>\n",
       "        <tr>\n",
       "            <td>AA</td>\n",
       "            <td>45.2</td>\n",
       "            <td>13.7</td>\n",
       "            <td>30.8</td>\n",
       "            <td>10.3</td>\n",
       "        </tr>\n",
       "        <tr>\n",
       "            <td>Indie</td>\n",
       "            <td>81.5</td>\n",
       "            <td>6.9</td>\n",
       "            <td>10.4</td>\n",
       "            <td>1.2</td>\n",
       "        </tr>\n",
       "    </tbody>\n",
       "</table>"
      ],
      "text/plain": [
       "+----------------+--------+------------+-----------+-------+\n",
       "| publisherClass | <$500K | $500K-\\$1M | $1M-\\$10M | >$10M |\n",
       "+----------------+--------+------------+-----------+-------+\n",
       "|      AAA       |  36.5  |    23.1    |    25.0   |  15.4 |\n",
       "|       AA       |  45.2  |    13.7    |    30.8   |  10.3 |\n",
       "|     Indie      |  81.5  |    6.9     |    10.4   |  1.2  |\n",
       "+----------------+--------+------------+-----------+-------+"
      ]
     },
     "execution_count": 197,
     "metadata": {},
     "output_type": "execute_result"
    }
   ],
   "source": [
    "%%sql\n",
    "SELECT  \n",
    "    publisherClass,\n",
    "    ROUND(\n",
    "        SUM(CASE WHEN revenue <= 500*1000 THEN 1 ELSE 0 END) * 100.0 / COUNT(*), 1\n",
    "    ) AS \"<$500K\",\n",
    "    ROUND(\n",
    "        SUM(CASE WHEN revenue > 500*1000 AND revenue <= 1000*1000 THEN 1 ELSE 0 END) * 100.0 / COUNT(*), 1\n",
    "    ) AS \"$500K-\\$1M\",\n",
    "    ROUND(\n",
    "        SUM(CASE WHEN revenue > 1000*1000 AND revenue <= 10*1000*1000 THEN 1 ELSE 0 END) * 100.0 / COUNT(*), 1\n",
    "    ) AS \"$1M-\\$10M\",\n",
    "    ROUND(\n",
    "        SUM(CASE WHEN revenue > 10*1000*1000 THEN 1 ELSE 0 END) * 100.0 / COUNT(*), 1\n",
    "    ) AS \">$10M\"\n",
    "FROM\n",
    "    steam_revenue\n",
    "GROUP BY\n",
    "    publisherClass\n",
    "ORDER BY\n",
    "    \"<$500K\"\n",
    ";"
   ]
  },
  {
   "cell_type": "markdown",
   "id": "ae98c9ff",
   "metadata": {},
   "source": [
    "In statistical verbiage, this table expresses the probability of the revenue bracket ('rB') given the publisherClass ('pC'), or $prob (rB | pC)$. Here are some observations from the table:\n",
    "\n",
    "1) The order of largest percentages to smallest is the same for all publisher classes: <\\\\$500K, \\\\$1M-\\\\$10M, \\\\$500K-\\\\$1M, then >\\\\$10M.\n",
    "\n",
    "2) Although point (1) is true, the percentage proportions are not the same between classes. 80\\% of Indie games fall into the <\\\\$500K bracket and the percentage decreases for an increase in publisher class (AA can be regarded as \"higher\" than Indie, and AAA higher than AA). However, the percentages increase with publisher class in the \\\\$500K-\\\\$1M and >\\\\$10M brackets.\n",
    "\n",
    "Something we might ask is \"If I select a publisher class to invest in, what's the chance I'll be in Y revenue bracket <u>or higher</u>? We could add the percentages manually in this text block, but it would be easier if we reexpressed them as cumulative percentages relative to decreasing revenue bracket:"
   ]
  },
  {
   "cell_type": "markdown",
   "id": "cf08ff78",
   "metadata": {},
   "source": [
    "###### Calculating publisher classes across ordinal revenue <u>cumulative</u> percentages"
   ]
  },
  {
   "cell_type": "code",
   "execution_count": 208,
   "id": "ee263cfc",
   "metadata": {},
   "outputs": [
    {
     "data": {
      "text/html": [
       "<span style=\"None\">Running query in &#x27;sqlite:///steam_revenue.db&#x27;</span>"
      ],
      "text/plain": [
       "Running query in 'sqlite:///steam_revenue.db'"
      ]
     },
     "metadata": {},
     "output_type": "display_data"
    },
    {
     "data": {
      "text/html": [
       "<table>\n",
       "    <thead>\n",
       "        <tr>\n",
       "            <th>publisherClass</th>\n",
       "            <th><$500K</th>\n",
       "            <th>$500K-1M</th>\n",
       "            <th>$1M-10M</th>\n",
       "            <th>>$10M</th>\n",
       "        </tr>\n",
       "    </thead>\n",
       "    <tbody>\n",
       "        <tr>\n",
       "            <td>AAA</td>\n",
       "            <td>100.0</td>\n",
       "            <td>63.5</td>\n",
       "            <td>40.4</td>\n",
       "            <td>15.4</td>\n",
       "        </tr>\n",
       "        <tr>\n",
       "            <td>AA</td>\n",
       "            <td>100.0</td>\n",
       "            <td>54.8</td>\n",
       "            <td>41.1</td>\n",
       "            <td>10.3</td>\n",
       "        </tr>\n",
       "        <tr>\n",
       "            <td>Indie</td>\n",
       "            <td>100.0</td>\n",
       "            <td>18.5</td>\n",
       "            <td>11.6</td>\n",
       "            <td>1.2</td>\n",
       "        </tr>\n",
       "    </tbody>\n",
       "</table>"
      ],
      "text/plain": [
       "+----------------+--------+----------+---------+-------+\n",
       "| publisherClass | <$500K | $500K-1M | $1M-10M | >$10M |\n",
       "+----------------+--------+----------+---------+-------+\n",
       "|      AAA       | 100.0  |   63.5   |   40.4  |  15.4 |\n",
       "|       AA       | 100.0  |   54.8   |   41.1  |  10.3 |\n",
       "|     Indie      | 100.0  |   18.5   |   11.6  |  1.2  |\n",
       "+----------------+--------+----------+---------+-------+"
      ]
     },
     "execution_count": 208,
     "metadata": {},
     "output_type": "execute_result"
    }
   ],
   "source": [
    "%%sql\n",
    "WITH cumulative_revenue AS (\n",
    "    SELECT  \n",
    "        publisherClass,\n",
    "        ROUND(\n",
    "            SUM(CASE WHEN revenue <= 500*1000 THEN 1 ELSE 0 END) * 100.0 / COUNT(*), 1\n",
    "        ) AS \"<$500K\",\n",
    "        ROUND(\n",
    "            SUM(CASE WHEN revenue > 500*1000 AND revenue <= 1000*1000 THEN 1 ELSE 0 END) * 100.0 / COUNT(*), 1\n",
    "        ) AS \"$500K-1M\",\n",
    "        ROUND(\n",
    "            SUM(CASE WHEN revenue > 1000*1000 AND revenue <= 10*1000*1000 THEN 1 ELSE 0 END) * 100.0 / COUNT(*), 1\n",
    "        ) AS \"$1M-10M\",\n",
    "        ROUND(\n",
    "            SUM(CASE WHEN revenue > 10*1000*1000 THEN 1 ELSE 0 END) * 100.0 / COUNT(*), 1\n",
    "        ) AS \">$10M\"\n",
    "    FROM\n",
    "        steam_revenue\n",
    "    GROUP BY\n",
    "        publisherClass\n",
    ")\n",
    "SELECT\n",
    "    publisherClass,\n",
    "    ROUND(100, 2) AS \"<$500K\",\n",
    "    ROUND(100 - (\"<$500K\"), 2) AS \"$500K-1M\",\n",
    "    ROUND(100 - (\"$500K-1M\" + \"<$500K\"), 2) AS \"$1M-10M\",\n",
    "    ROUND(100 - (\"$1M-10M\" + \"$500K-1M\" + \"<$500K\"), 2) AS \">$10M\"\n",
    "FROM\n",
    "    cumulative_revenue\n",
    "ORDER BY\n",
    "    \">$10M\" DESC;"
   ]
  },
  {
   "cell_type": "markdown",
   "id": "665884a7",
   "metadata": {},
   "source": [
    "What stands out as pretty surprising is that the chances of a AA publisher earning >\\\\$1M in revenue is just barely larger than AAA! AA ususally has less production costs than AAA, so if there is more preference to make a safe investment versus maximizing chances of high-earning, it might be better to go with AA publishers."
   ]
  },
  {
   "cell_type": "markdown",
   "id": "3f4479bb",
   "metadata": {},
   "source": [
    "###### Calculating <u>publisher class percentage</u> across ordinal revenue (<\\\\$500K, \\\\$500K-\\\\$1M, \\\\$1M-\\\\$10M, and >\\\\$10M) "
   ]
  },
  {
   "cell_type": "code",
   "execution_count": 209,
   "id": "5da054fc",
   "metadata": {},
   "outputs": [
    {
     "data": {
      "text/html": [
       "<span style=\"None\">Running query in &#x27;sqlite:///steam_revenue.db&#x27;</span>"
      ],
      "text/plain": [
       "Running query in 'sqlite:///steam_revenue.db'"
      ]
     },
     "metadata": {},
     "output_type": "display_data"
    },
    {
     "data": {
      "text/html": [
       "<table>\n",
       "    <thead>\n",
       "        <tr>\n",
       "            <th>publisherClass</th>\n",
       "            <th><$500K</th>\n",
       "            <th>$500K-\\$1M</th>\n",
       "            <th>$1M-\\$10M</th>\n",
       "            <th>>$10M</th>\n",
       "        </tr>\n",
       "    </thead>\n",
       "    <tbody>\n",
       "        <tr>\n",
       "            <td>AAA</td>\n",
       "            <td>1.7</td>\n",
       "            <td>9.8</td>\n",
       "            <td>6.7</td>\n",
       "            <td>20.5</td>\n",
       "        </tr>\n",
       "        <tr>\n",
       "            <td>AA</td>\n",
       "            <td>5.8</td>\n",
       "            <td>16.4</td>\n",
       "            <td>23.3</td>\n",
       "            <td>38.5</td>\n",
       "        </tr>\n",
       "        <tr>\n",
       "            <td>Indie</td>\n",
       "            <td>92.6</td>\n",
       "            <td>73.8</td>\n",
       "            <td>69.9</td>\n",
       "            <td>41.0</td>\n",
       "        </tr>\n",
       "    </tbody>\n",
       "</table>"
      ],
      "text/plain": [
       "+----------------+--------+------------+-----------+-------+\n",
       "| publisherClass | <$500K | $500K-\\$1M | $1M-\\$10M | >$10M |\n",
       "+----------------+--------+------------+-----------+-------+\n",
       "|      AAA       |  1.7   |    9.8     |    6.7    |  20.5 |\n",
       "|       AA       |  5.8   |    16.4    |    23.3   |  38.5 |\n",
       "|     Indie      |  92.6  |    73.8    |    69.9   |  41.0 |\n",
       "+----------------+--------+------------+-----------+-------+"
      ]
     },
     "execution_count": 209,
     "metadata": {},
     "output_type": "execute_result"
    }
   ],
   "source": [
    "%%sql\n",
    "WITH total_revenue_brackets AS (\n",
    "    SELECT  \n",
    "        SUM(CASE WHEN revenue <= 500*1000 THEN 1 ELSE 0 END) AS total_500K,\n",
    "        SUM(CASE WHEN revenue > 500*1000 AND revenue <= 1000*1000 THEN 1 ELSE 0 END) AS total_500K_1M,\n",
    "        SUM(CASE WHEN revenue > 1000*1000 AND revenue <= 10*1000*1000 THEN 1 ELSE 0 END) AS total_1M_10M,\n",
    "        SUM(CASE WHEN revenue > 10*1000*1000 THEN 1 ELSE 0 END) AS total_10M\n",
    "    FROM\n",
    "        steam_revenue\n",
    ")\n",
    "SELECT  \n",
    "    publisherClass,\n",
    "    ROUND(\n",
    "        SUM(CASE WHEN revenue <= 500*1000 THEN 1 ELSE 0 END) * 100.0 / (SELECT total_500K FROM total_revenue_brackets), 1\n",
    "    ) AS \"<$500K\",\n",
    "    ROUND(\n",
    "        SUM(CASE WHEN revenue > 500*1000 AND revenue <= 1000*1000 THEN 1 ELSE 0 END) * 100.0 / (SELECT total_500K_1M FROM total_revenue_brackets), 1\n",
    "    ) AS \"$500K-\\$1M\",\n",
    "    ROUND(\n",
    "        SUM(CASE WHEN revenue > 1000*1000 AND revenue <= 10*1000*1000 THEN 1 ELSE 0 END) * 100.0 / (SELECT total_1M_10M FROM total_revenue_brackets), 1\n",
    "    ) AS \"$1M-\\$10M\",\n",
    "    ROUND(\n",
    "        SUM(CASE WHEN revenue > 10*1000*1000 THEN 1 ELSE 0 END) * 100.0 / (SELECT total_10M FROM total_revenue_brackets), 1\n",
    "    ) AS \">$10M\"\n",
    "FROM\n",
    "    steam_revenue\n",
    "GROUP BY\n",
    "    publisherClass\n",
    "ORDER BY\n",
    "    \"<$500K\"\n",
    ";"
   ]
  },
  {
   "cell_type": "markdown",
   "id": "5f1cacfb",
   "metadata": {},
   "source": [
    "Now we're seeing the probability (expressed as percentage) of publisherClass given revenue bracket, or $prob (pC | rB)$. Here are some observations:\n",
    "\n",
    "1) For each bracket, we see a decrease in the percentage publisherClass as publisherClass increases (increasing again meaning from Indie -> AA -> AAA).\n",
    "\n",
    "2) The percentage proportions are not the same across brackets. The <\\\\$500K is dominated by the Indie publishers, with only 6\\% and 2\\% of it belonging to AA and AAA games. This tends to become more uniformly distributed as the revenue bracket increase. The >\\\\$10M bracket even shows comparable chances between an Indie publisher vs AA."
   ]
  },
  {
   "cell_type": "markdown",
   "id": "1a0e3d20",
   "metadata": {},
   "source": [
    "# Answer to Q1 : What is the statistical breakdown of revenue by publisher class and what would be the best one to invest in?\n",
    "\n",
    "1) **The average revenue brought in by Indie publishers is \\\\$0.67M with AA 10x and AAA 45x higher.** The minimum revenue for AA and Indie publishers was about \\\\$21K with \\\\$26K being the minimum for AAA (but this is limited by the data we're given - which is just the top 1500 earning steam sales between January and August 2024).\n",
    "\n",
    "2) **For the probability of the revenue bracket given the publisher class ( $prob (rB | pC)$ ), we found that there was slightly higher chances of a AA game earning >\\$1M in revenue than a AAA publisher**. While we're not given the profits or the production costs associated with the developers or publishers, AA publishers generally have less costs than AAA so there's a <u>reduced risk</u> in generating a higher profit by investing with a AA publisher.\n",
    "\n",
    "3) **The probability of the publisher class given the revenue bracket ( $prob (pC | rB)$ ) showed that the highest revenue bracket was evenly split between AA and Indie publishers.** Like costs between AA and AAA, Indie publishers usually have lowers costs than AA (sometimes even much lower). These can be invested in a sort of 'long-shot' investments: Great if they win big, but no large loss if they break even or fail.\n",
    "\n",
    "**Overall recommendation:** Primarily invest in AA publishers due to their demonstrated capacity to earn into the higher revenue brackets while having lower operational costs than AAA. If additional funds are available, then diversify and invest in a variety of Indie publishers due to their likely lower operational costs."
   ]
  },
  {
   "cell_type": "markdown",
   "id": "e89bb2a9",
   "metadata": {},
   "source": [
    "## Q2 : For developers with multiple releases, which would be good ones to invest in? ##"
   ]
  },
  {
   "cell_type": "markdown",
   "id": "b83656f1",
   "metadata": {},
   "source": [
    "Let's filter out any developers that only released one game in this dataset:"
   ]
  },
  {
   "cell_type": "markdown",
   "id": "6307f592",
   "metadata": {},
   "source": [
    "###### Counting the number of <u>developers</u>  who have released 2 or more games in this dataset and the total games they've made:"
   ]
  },
  {
   "cell_type": "code",
   "execution_count": 126,
   "id": "f7b5170f",
   "metadata": {
    "scrolled": true
   },
   "outputs": [
    {
     "data": {
      "text/html": [
       "<span style=\"None\">Running query in &#x27;sqlite:///steam_revenue.db&#x27;</span>"
      ],
      "text/plain": [
       "Running query in 'sqlite:///steam_revenue.db'"
      ]
     },
     "metadata": {},
     "output_type": "display_data"
    },
    {
     "data": {
      "text/html": [
       "<table>\n",
       "    <thead>\n",
       "        <tr>\n",
       "            <th>num_developers</th>\n",
       "            <th>total_games</th>\n",
       "        </tr>\n",
       "    </thead>\n",
       "    <tbody>\n",
       "        <tr>\n",
       "            <td>58</td>\n",
       "            <td>151</td>\n",
       "        </tr>\n",
       "    </tbody>\n",
       "</table>"
      ],
      "text/plain": [
       "+----------------+-------------+\n",
       "| num_developers | total_games |\n",
       "+----------------+-------------+\n",
       "|       58       |     151     |\n",
       "+----------------+-------------+"
      ]
     },
     "execution_count": 126,
     "metadata": {},
     "output_type": "execute_result"
    }
   ],
   "source": [
    "%%sql\n",
    "WITH game_count_per_developer AS (\n",
    "    SELECT\n",
    "        developers,\n",
    "        COUNT(*) AS game_count\n",
    "    FROM \n",
    "        steam_revenue\n",
    "    GROUP BY\n",
    "        developers\n",
    ")\n",
    "SELECT \n",
    "    COUNT(*) AS num_developers,\n",
    "    SUM(game_count) AS total_games\n",
    "FROM\n",
    "    game_count_per_developer\n",
    "WHERE\n",
    "    game_count >= 2\n",
    ";"
   ]
  },
  {
   "cell_type": "markdown",
   "id": "22fbfee4",
   "metadata": {},
   "source": [
    "###### average, min, and max revenue (in thousands of dollars) per <u>developer</u> and sorted by <u>highest minimum</u> revenue:"
   ]
  },
  {
   "cell_type": "code",
   "execution_count": 157,
   "id": "5d09deb7",
   "metadata": {
    "scrolled": false
   },
   "outputs": [
    {
     "data": {
      "text/html": [
       "<span style=\"None\">Running query in &#x27;sqlite:///steam_revenue.db&#x27;</span>"
      ],
      "text/plain": [
       "Running query in 'sqlite:///steam_revenue.db'"
      ]
     },
     "metadata": {},
     "output_type": "display_data"
    },
    {
     "data": {
      "text/html": [
       "<table>\n",
       "    <thead>\n",
       "        <tr>\n",
       "            <th>min_revenue_rank</th>\n",
       "            <th>developers</th>\n",
       "            <th>avg_revenue_K</th>\n",
       "            <th>max_revenue_K</th>\n",
       "            <th>min_revenue_K</th>\n",
       "            <th>game_count</th>\n",
       "        </tr>\n",
       "    </thead>\n",
       "    <tbody>\n",
       "        <tr>\n",
       "            <td>1</td>\n",
       "            <td>Visual Concepts</td>\n",
       "            <td>9439.01</td>\n",
       "            <td>10822.92</td>\n",
       "            <td>8055.1</td>\n",
       "            <td>2</td>\n",
       "        </tr>\n",
       "        <tr>\n",
       "            <td>2</td>\n",
       "            <td>ATLUS</td>\n",
       "            <td>21115.56</td>\n",
       "            <td>34601.87</td>\n",
       "            <td>7629.25</td>\n",
       "            <td>2</td>\n",
       "        </tr>\n",
       "        <tr>\n",
       "            <td>3</td>\n",
       "            <td>EA Los Angeles</td>\n",
       "            <td>931.03</td>\n",
       "            <td>961.99</td>\n",
       "            <td>920.02</td>\n",
       "            <td>7</td>\n",
       "        </tr>\n",
       "        <tr>\n",
       "            <td>4</td>\n",
       "            <td>CAPCOM Co., Ltd.</td>\n",
       "            <td>23576.21</td>\n",
       "            <td>111478.29</td>\n",
       "            <td>683.95</td>\n",
       "            <td>5</td>\n",
       "        </tr>\n",
       "        <tr>\n",
       "            <td>5</td>\n",
       "            <td>Square Enix</td>\n",
       "            <td>2110.34</td>\n",
       "            <td>6828.45</td>\n",
       "            <td>464.42</td>\n",
       "            <td>6</td>\n",
       "        </tr>\n",
       "        <tr>\n",
       "            <td>6</td>\n",
       "            <td>WAKUWAKU</td>\n",
       "            <td>546.49</td>\n",
       "            <td>638.5</td>\n",
       "            <td>454.49</td>\n",
       "            <td>2</td>\n",
       "        </tr>\n",
       "        <tr>\n",
       "            <td>7</td>\n",
       "            <td>Aspyr</td>\n",
       "            <td>3244.51</td>\n",
       "            <td>6048.34</td>\n",
       "            <td>440.68</td>\n",
       "            <td>2</td>\n",
       "        </tr>\n",
       "        <tr>\n",
       "            <td>8</td>\n",
       "            <td>Taboo Tales 💘</td>\n",
       "            <td>319.11</td>\n",
       "            <td>388.95</td>\n",
       "            <td>249.27</td>\n",
       "            <td>2</td>\n",
       "        </tr>\n",
       "        <tr>\n",
       "            <td>9</td>\n",
       "            <td>Slitherine Ltd.</td>\n",
       "            <td>1137.39</td>\n",
       "            <td>2060.09</td>\n",
       "            <td>214.69</td>\n",
       "            <td>2</td>\n",
       "        </tr>\n",
       "        <tr>\n",
       "            <td>10</td>\n",
       "            <td>Cyanide Studio</td>\n",
       "            <td>459.23</td>\n",
       "            <td>709.83</td>\n",
       "            <td>208.63</td>\n",
       "            <td>2</td>\n",
       "        </tr>\n",
       "    </tbody>\n",
       "</table>"
      ],
      "text/plain": [
       "+------------------+------------------+---------------+---------------+---------------+------------+\n",
       "| min_revenue_rank |    developers    | avg_revenue_K | max_revenue_K | min_revenue_K | game_count |\n",
       "+------------------+------------------+---------------+---------------+---------------+------------+\n",
       "|        1         | Visual Concepts  |    9439.01    |    10822.92   |     8055.1    |     2      |\n",
       "|        2         |      ATLUS       |    21115.56   |    34601.87   |    7629.25    |     2      |\n",
       "|        3         |  EA Los Angeles  |     931.03    |     961.99    |     920.02    |     7      |\n",
       "|        4         | CAPCOM Co., Ltd. |    23576.21   |   111478.29   |     683.95    |     5      |\n",
       "|        5         |   Square Enix    |    2110.34    |    6828.45    |     464.42    |     6      |\n",
       "|        6         |     WAKUWAKU     |     546.49    |     638.5     |     454.49    |     2      |\n",
       "|        7         |      Aspyr       |    3244.51    |    6048.34    |     440.68    |     2      |\n",
       "|        8         |  Taboo Tales 💘  |     319.11    |     388.95    |     249.27    |     2      |\n",
       "|        9         | Slitherine Ltd.  |    1137.39    |    2060.09    |     214.69    |     2      |\n",
       "|        10        |  Cyanide Studio  |     459.23    |     709.83    |     208.63    |     2      |\n",
       "+------------------+------------------+---------------+---------------+---------------+------------+"
      ]
     },
     "execution_count": 157,
     "metadata": {},
     "output_type": "execute_result"
    }
   ],
   "source": [
    "%%sql\n",
    "WITH game_revenue AS (\n",
    "    SELECT \n",
    "        developers, \n",
    "        revenue\n",
    "    FROM\n",
    "        steam_revenue\n",
    "),\n",
    "developer_stats AS (\n",
    "    SELECT\n",
    "        developers,\n",
    "        COUNT(*) AS game_count,\n",
    "        AVG(revenue) AS avg_revenue_,\n",
    "        MAX(revenue) AS max_revenue_,\n",
    "        MIN(revenue) AS min_revenue_\n",
    "    FROM\n",
    "        game_revenue\n",
    "    GROUP BY\n",
    "        developers\n",
    ")\n",
    "SELECT\n",
    "    ROW_NUMBER() OVER (ORDER BY min_revenue_ DESC) AS min_revenue_rank,\n",
    "    developers, \n",
    "    ROUND(avg_revenue_/1000,2) as avg_revenue_K, \n",
    "    ROUND(max_revenue_/1000,2) as max_revenue_K,\n",
    "    ROUND(min_revenue_/1000,2) as min_revenue_K,\n",
    "    game_count\n",
    "FROM\n",
    "    developer_stats\n",
    "WHERE\n",
    "    game_count >= 2\n",
    "ORDER BY\n",
    "    min_revenue_K DESC\n",
    "LIMIT 10\n",
    ";"
   ]
  },
  {
   "cell_type": "markdown",
   "id": "34649e4d",
   "metadata": {},
   "source": [
    "The table above shows the average, maximum, and minimum revenue (in thousands of dollars) per multi-release developer, the amount of games they developed ('game_count') and their rank according to highest minimum revenue ('min_revenue_rank'). We're interested in finding good developers to invest in, so we're sorting these according to highest minimum. That way, we're less likely to simply pick a developer that had one lucky or break-out title but then fails to earn in their other games. There are several observations to make:\n",
    "\n",
    "1) The 1st row is 'Visual Concepts', who have only developed 2 games, but both earned fairly judging from the minimum and maximum revenue with the lesser one pulling in \\\\$8M. A developer releasing 2 games in this cycle with the least-earning being that high is a positive sign.\n",
    "\n",
    "2) The 2nd row is 'ATLUS' and they have also released 2 games. They're average revenue was \\\\$21M and their lowest-earning game pulled in \\\\$7.6M but the higher-earning one was much higher than 'Visual Concepts' at \\\\$34.6M.\n",
    "\n",
    "3) EA Los Angeles (3rd row) is interesting because they have developed many games (7 in this dataset) which have all pulled in comparable revenue between \\\\$920K and \\\\$960K. Dedicating funds here could be viewed as a low risk - low reward investment. It's likely to earn well based on past progress, but seems very unlikely to make anything very high earning.\n",
    "\n",
    "4) CAPCOM Co., Ltd. (row 4) developed 5 games and has a pretty wide revenue distribution (low min, very high max), so we should analyze their releases in more detail."
   ]
  },
  {
   "cell_type": "markdown",
   "id": "d6fd8d25",
   "metadata": {},
   "source": [
    "###### Show the 5 games developed by CAPCOM Co., Ltd., their revenue (in thousands of dollars), and the percentage of revenue that each game earned across the 5."
   ]
  },
  {
   "cell_type": "code",
   "execution_count": 152,
   "id": "997babbf",
   "metadata": {},
   "outputs": [
    {
     "data": {
      "text/html": [
       "<span style=\"None\">Running query in &#x27;sqlite:///steam_revenue.db&#x27;</span>"
      ],
      "text/plain": [
       "Running query in 'sqlite:///steam_revenue.db'"
      ]
     },
     "metadata": {},
     "output_type": "display_data"
    },
    {
     "data": {
      "text/html": [
       "<table>\n",
       "    <thead>\n",
       "        <tr>\n",
       "            <th>name</th>\n",
       "            <th>revenue_K</th>\n",
       "            <th>revenue_percentage</th>\n",
       "        </tr>\n",
       "    </thead>\n",
       "    <tbody>\n",
       "        <tr>\n",
       "            <td>Apollo Justice: Ace Attorney Trilogy</td>\n",
       "            <td>3465.018</td>\n",
       "            <td>2.9</td>\n",
       "        </tr>\n",
       "        <tr>\n",
       "            <td>Kunitsu-Gami: Path of the Goddess</td>\n",
       "            <td>1276.574</td>\n",
       "            <td>1.1</td>\n",
       "        </tr>\n",
       "        <tr>\n",
       "            <td>Ace Attorney Investigations Collection</td>\n",
       "            <td>977.191</td>\n",
       "            <td>0.8</td>\n",
       "        </tr>\n",
       "        <tr>\n",
       "            <td>Monster Hunter Stories</td>\n",
       "            <td>683.951</td>\n",
       "            <td>0.6</td>\n",
       "        </tr>\n",
       "        <tr>\n",
       "            <td>Dragon's Dogma 2</td>\n",
       "            <td>111478.291</td>\n",
       "            <td>94.6</td>\n",
       "        </tr>\n",
       "    </tbody>\n",
       "</table>"
      ],
      "text/plain": [
       "+----------------------------------------+------------+--------------------+\n",
       "|                  name                  | revenue_K  | revenue_percentage |\n",
       "+----------------------------------------+------------+--------------------+\n",
       "|  Apollo Justice: Ace Attorney Trilogy  |  3465.018  |        2.9         |\n",
       "|   Kunitsu-Gami: Path of the Goddess    |  1276.574  |        1.1         |\n",
       "| Ace Attorney Investigations Collection |  977.191   |        0.8         |\n",
       "|         Monster Hunter Stories         |  683.951   |        0.6         |\n",
       "|            Dragon's Dogma 2            | 111478.291 |        94.6        |\n",
       "+----------------------------------------+------------+--------------------+"
      ]
     },
     "execution_count": 152,
     "metadata": {},
     "output_type": "execute_result"
    }
   ],
   "source": [
    "%%sql\n",
    "WITH capcom_revenue AS (\n",
    "    SELECT\n",
    "        name,\n",
    "        revenue / 1000 as revenue_K\n",
    "    FROM\n",
    "        steam_revenue\n",
    "    WHERE\n",
    "        developers LIKE 'CAPCOM%'\n",
    "),\n",
    "total_capcom_revenue AS (\n",
    "    SELECT\n",
    "        SUM(revenue_K) AS total_rev_K\n",
    "    FROM\n",
    "        capcom_revenue\n",
    ")\n",
    "SELECT\n",
    "    cr.name,\n",
    "    cr.revenue_K,\n",
    "    ROUND(100 * cr.revenue_K / tr.total_rev_K, 1) AS revenue_percentage\n",
    "FROM\n",
    "    capcom_revenue cr,\n",
    "    total_capcom_revenue tr\n",
    ";"
   ]
  },
  {
   "cell_type": "markdown",
   "id": "7e99e2d5",
   "metadata": {},
   "source": [
    "And now it's clearer - the distribution is so wide because among these 5 titles we see there are 2 titles that earned < \\\\$1M (a cumulative 1.4\\% of earnings), another 2 titles that earned \\\\$1.2M and \\\\$3.5M (cumulatively 4\\%), and the last title earned \\\\$111M - almost 95\\%! So they made some okay-earning releases, another couple that were a few million, and an enourmous amount in a single game."
   ]
  },
  {
   "cell_type": "markdown",
   "id": "55b90695",
   "metadata": {},
   "source": [
    "# Answer to Q2 : For developers with multiple releases, which would be good ones to invest in?\n",
    "\n",
    "1) **A stable, low risk - low reward investment: EA Los Angeles.** Generally always close to \\\\$1M in revenue per game across 7 games.\n",
    "\n",
    "2) **Moderate risk - moderate reward: Visual Concepts.** Developed 2 games with \\\\$8M and \\\\$10.8M in revenue.\n",
    "\n",
    "3) **Moderate risk - high reward: ATLUS.** Developed 2 games with \\\\$7.6M and \\\\$34.6M in revenue. Seems more likely to create a much higher earning game than Visual Concepts and yet experience similar minimum earnings - but this is using a very small sample size (2).\n",
    "\n",
    "4) **High risk - <u>very</u> high reward: CAPCOM Co., Ltd.** Developed 5 games with 2 earning <\\\\$1M, another 2 earning \\\\$1.3M and \\\\$3.5M, and a blow-out title bringing in >\\\\$100M - which is the 5th highest earning title in the dataset."
   ]
  },
  {
   "cell_type": "markdown",
   "id": "e1a61d26",
   "metadata": {},
   "source": [
    "# --- Final Notes ---"
   ]
  },
  {
   "cell_type": "markdown",
   "id": "0d479763",
   "metadata": {},
   "source": [
    "# Saving the modified table to .csv"
   ]
  },
  {
   "cell_type": "markdown",
   "id": "583525f2",
   "metadata": {},
   "source": [
    "The python code block below was used to convert the modified sqlite table to a pandas dataframe, which was then saved to the folder as 'steam_revenue_cleaned.csv'. Note that this table reduced the precision on some of the floats, set some values to Null, and removed the single 'Hobbyist' publisher class entry (reducing the dataset size from 1500 to 1499).\n",
    "\n",
    "The code to do this is commented out in case someone wanted to run the notebook from scratch. Remove the block comments if you wish to save the dataframe (but the original result from the first run should already be in the folder)."
   ]
  },
  {
   "cell_type": "code",
   "execution_count": 136,
   "id": "a144a6dd",
   "metadata": {},
   "outputs": [
    {
     "data": {
      "text/html": [
       "<span style=\"None\">Running query in &#x27;sqlite:///steam_revenue.db&#x27;</span>"
      ],
      "text/plain": [
       "Running query in 'sqlite:///steam_revenue.db'"
      ]
     },
     "metadata": {},
     "output_type": "display_data"
    }
   ],
   "source": [
    "\"\"\"\n",
    "# Run the command to fully select table from database\n",
    "table_to_df = %sql SELECT * FROM steam_revenue\n",
    "# Convert the SQL result into a Pandas DataFrame\n",
    "modified_df = table_to_df.DataFrame()\n",
    "# Then finally export it as csv\n",
    "modified_df.to_csv('steam_revenue_cleaned.csv', index=False)\n",
    "\"\"\""
   ]
  },
  {
   "cell_type": "markdown",
   "id": "658bf291",
   "metadata": {},
   "source": [
    "### Deeper statistical questions / R"
   ]
  },
  {
   "cell_type": "markdown",
   "id": "9ad1e659",
   "metadata": {},
   "source": [
    "There are actually deeper statistical questions to ask concerning this dataset, such as \n",
    "\n",
    "1) What's the relationship between reviewScore and revenue? Does a game with high reviewScore necessarily earn well?\n",
    "\n",
    "2) Do the free-to-play games (those with a price of \\\\$0) generally experience higher revenue than those that are not?\n",
    "\n",
    "3) Between the publisher classes, which would be the **statistically optimal** one to invest in? We have a rough idea from our contingency table earlier, but we can definitely get more exact.\n",
    "\n",
    "But it's better to address these using more robust statistically-oriented software. We'll create an R markdown document and investigate further using R."
   ]
  },
  {
   "cell_type": "markdown",
   "id": "855fdbf7",
   "metadata": {},
   "source": [
    "### Tableau Dashboard"
   ]
  },
  {
   "cell_type": "markdown",
   "id": "616dd0c0",
   "metadata": {},
   "source": [
    "A dashboard going through a similar analysis can be found on the public Tableau server at https://tinyurl.com/3f3yyydu."
   ]
  }
 ],
 "metadata": {
  "kernelspec": {
   "display_name": "Python 3 (ipykernel)",
   "language": "python",
   "name": "python3"
  },
  "language_info": {
   "codemirror_mode": {
    "name": "ipython",
    "version": 3
   },
   "file_extension": ".py",
   "mimetype": "text/x-python",
   "name": "python",
   "nbconvert_exporter": "python",
   "pygments_lexer": "ipython3",
   "version": "3.10.12"
  }
 },
 "nbformat": 4,
 "nbformat_minor": 5
}
