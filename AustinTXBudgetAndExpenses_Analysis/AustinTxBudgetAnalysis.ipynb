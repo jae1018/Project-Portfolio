{
    "metadata": {
        "kernelspec": {
            "name": "SQL",
            "display_name": "SQL",
            "language": "sql"
        },
        "language_info": {
            "name": "sql",
            "version": ""
        }
    },
    "nbformat_minor": 2,
    "nbformat": 4,
    "cells": [
        {
            "cell_type": "markdown",
            "source": [
                "# Analysis of Austin, TX Budget and Expenditures"
            ],
            "metadata": {
                "azdata_cell_guid": "ed53bde6-bdc5-45af-a334-f3249e7022b7"
            },
            "attachments": {}
        },
        {
            "cell_type": "markdown",
            "source": [
                "Data is taken from the AustinTexas.gov website at https://data.austintexas.gov/Budget-and-Finance/Program-Budget-Operating-Budget-Vs-Expense-Raw-Dat/g5k8-8sud/about_data. \n",
                "\n",
                "Each row corresponds to a logged cost (either as budget vs expenditure, or just one of the two). The data includes both a Year and Quarter (1,2,3,4 for blocks of 3-months throughout the year) but all entries here only correspond to year 2024 and quarter 3, so no time analysis can be done (yet)."
            ],
            "metadata": {
                "azdata_cell_guid": "79108692-323c-4bb7-9259-8ac153b3db41"
            },
            "attachments": {}
        },
        {
            "cell_type": "markdown",
            "source": [
                "## Data Preparation\n",
                "\n",
                "After downloading, all processes are done within the Azure ecosystem. The original download is stored in an Azure Blob Storage container, then carted over to an SQL Server and saved into a database using Data Factory. Any visualizations are taken from Sand Dance used in Azure Data Studio. The tool doesn't support downloading the plots, so they're shamelessly screenshotted and inserted into this Azure Notebook (which is just a Jupyter Notebook made within Azure Data Studio)."
            ],
            "metadata": {
                "azdata_cell_guid": "1c9c424a-7c38-4b25-a41c-f36288ea4b20"
            },
            "attachments": {}
        },
        {
            "cell_type": "markdown",
            "source": [
                "Let's see some sample rows ..."
            ],
            "metadata": {
                "azdata_cell_guid": "3e93d40d-007c-48b2-9a2d-f047a13000d1"
            },
            "attachments": {}
        },
        {
            "cell_type": "code",
            "source": [
                "SELECT TOP (20) *\n",
                "FROM AustinTXData.BUDGET;"
            ],
            "metadata": {
                "azdata_cell_guid": "d2de8286-9d21-4d0c-9d3d-edaabb411c9d",
                "language": "sql"
            },
            "outputs": [
                {
                    "output_type": "display_data",
                    "data": {
                        "text/html": "(20 rows affected)"
                    },
                    "metadata": {}
                },
                {
                    "output_type": "display_data",
                    "data": {
                        "text/html": "Total execution time: 00:00:00.144"
                    },
                    "metadata": {}
                },
                {
                    "output_type": "execute_result",
                    "metadata": {},
                    "execution_count": 184,
                    "data": {
                        "application/vnd.dataresource+json": {
                            "schema": {
                                "fields": [
                                    {
                                        "name": "BUDGET_FISCAL_YEAR"
                                    },
                                    {
                                        "name": "THRU_QUARTER"
                                    },
                                    {
                                        "name": "DEPT_ROLLUP"
                                    },
                                    {
                                        "name": "DEPT_ROLLUP_NAME"
                                    },
                                    {
                                        "name": "DEPARTMENT_CODE"
                                    },
                                    {
                                        "name": "DEPARTMENT_NAME"
                                    },
                                    {
                                        "name": "FUND_CODE"
                                    },
                                    {
                                        "name": "FUND_NAME"
                                    },
                                    {
                                        "name": "PROGRAM_CODE"
                                    },
                                    {
                                        "name": "PROGRAM_NAME"
                                    },
                                    {
                                        "name": "ACTIVITY_CODE"
                                    },
                                    {
                                        "name": "ACTIVITY_NAME"
                                    },
                                    {
                                        "name": "UNIT_CODE"
                                    },
                                    {
                                        "name": "UNIT_NAME"
                                    },
                                    {
                                        "name": "EXPENSE_CODE"
                                    },
                                    {
                                        "name": "EXPENSE_NAME"
                                    },
                                    {
                                        "name": "BUDGET"
                                    },
                                    {
                                        "name": "EXPENDITURES"
                                    },
                                    {
                                        "name": "KEY"
                                    }
                                ]
                            },
                            "data": [
                                {
                                    "BUDGET_FISCAL_YEAR": "2024",
                                    "THRU_QUARTER": "3",
                                    "DEPT_ROLLUP": "60",
                                    "DEPT_ROLLUP_NAME": "Public Works",
                                    "DEPARTMENT_CODE": "6000",
                                    "DEPARTMENT_NAME": "Capital Delivery Services",
                                    "FUND_CODE": "5460",
                                    "FUND_NAME": "Capital Projects Management Fund",
                                    "PROGRAM_CODE": "8CDS",
                                    "PROGRAM_NAME": "Business Enterprises",
                                    "ACTIVITY_CODE": "8CDS",
                                    "ACTIVITY_NAME": "Business Enterprises",
                                    "UNIT_CODE": "8783",
                                    "UNIT_NAME": "Financial Services Division",
                                    "EXPENSE_CODE": "5033",
                                    "EXPENSE_NAME": "Jury leave",
                                    "BUDGET": "0",
                                    "EXPENDITURES": "0",
                                    "KEY": "2024360600054608CDS8CDS87835033"
                                },
                                {
                                    "BUDGET_FISCAL_YEAR": "2024",
                                    "THRU_QUARTER": "3",
                                    "DEPT_ROLLUP": "60",
                                    "DEPT_ROLLUP_NAME": "Public Works",
                                    "DEPARTMENT_CODE": "6000",
                                    "DEPARTMENT_NAME": "Capital Delivery Services",
                                    "FUND_CODE": "5460",
                                    "FUND_NAME": "Capital Projects Management Fund",
                                    "PROGRAM_CODE": "8CDS",
                                    "PROGRAM_NAME": "Business Enterprises",
                                    "ACTIVITY_CODE": "8CDS",
                                    "ACTIVITY_NAME": "Business Enterprises",
                                    "UNIT_CODE": "8783",
                                    "UNIT_NAME": "Financial Services Division",
                                    "EXPENSE_CODE": "5034",
                                    "EXPENSE_NAME": "Bad weather pay",
                                    "BUDGET": "0",
                                    "EXPENDITURES": "0",
                                    "KEY": "2024360600054608CDS8CDS87835034"
                                },
                                {
                                    "BUDGET_FISCAL_YEAR": "2024",
                                    "THRU_QUARTER": "3",
                                    "DEPT_ROLLUP": "60",
                                    "DEPT_ROLLUP_NAME": "Public Works",
                                    "DEPARTMENT_CODE": "6000",
                                    "DEPARTMENT_NAME": "Capital Delivery Services",
                                    "FUND_CODE": "5460",
                                    "FUND_NAME": "Capital Projects Management Fund",
                                    "PROGRAM_CODE": "8CDS",
                                    "PROGRAM_NAME": "Business Enterprises",
                                    "ACTIVITY_CODE": "8CDS",
                                    "ACTIVITY_NAME": "Business Enterprises",
                                    "UNIT_CODE": "8783",
                                    "UNIT_NAME": "Financial Services Division",
                                    "EXPENSE_CODE": "5051",
                                    "EXPENSE_NAME": "Personnel savings",
                                    "BUDGET": "-160714",
                                    "EXPENDITURES": "0",
                                    "KEY": "2024360600054608CDS8CDS87835051"
                                },
                                {
                                    "BUDGET_FISCAL_YEAR": "2024",
                                    "THRU_QUARTER": "3",
                                    "DEPT_ROLLUP": "60",
                                    "DEPT_ROLLUP_NAME": "Public Works",
                                    "DEPARTMENT_CODE": "6000",
                                    "DEPARTMENT_NAME": "Capital Delivery Services",
                                    "FUND_CODE": "5460",
                                    "FUND_NAME": "Capital Projects Management Fund",
                                    "PROGRAM_CODE": "8CDS",
                                    "PROGRAM_NAME": "Business Enterprises",
                                    "ACTIVITY_CODE": "8CDS",
                                    "ACTIVITY_NAME": "Business Enterprises",
                                    "UNIT_CODE": "8783",
                                    "UNIT_NAME": "Financial Services Division",
                                    "EXPENSE_CODE": "5280",
                                    "EXPENSE_NAME": "Consultant-others",
                                    "BUDGET": "24750",
                                    "EXPENDITURES": "0",
                                    "KEY": "2024360600054608CDS8CDS87835280"
                                },
                                {
                                    "BUDGET_FISCAL_YEAR": "2024",
                                    "THRU_QUARTER": "3",
                                    "DEPT_ROLLUP": "60",
                                    "DEPT_ROLLUP_NAME": "Public Works",
                                    "DEPARTMENT_CODE": "6000",
                                    "DEPARTMENT_NAME": "Capital Delivery Services",
                                    "FUND_CODE": "5460",
                                    "FUND_NAME": "Capital Projects Management Fund",
                                    "PROGRAM_CODE": "8CDS",
                                    "PROGRAM_NAME": "Business Enterprises",
                                    "ACTIVITY_CODE": "8CDS",
                                    "ACTIVITY_NAME": "Business Enterprises",
                                    "UNIT_CODE": "8783",
                                    "UNIT_NAME": "Financial Services Division",
                                    "EXPENSE_CODE": "6361",
                                    "EXPENSE_NAME": "Awards and Recognition",
                                    "BUDGET": "1560",
                                    "EXPENDITURES": "0",
                                    "KEY": "2024360600054608CDS8CDS87836361"
                                },
                                {
                                    "BUDGET_FISCAL_YEAR": "2024",
                                    "THRU_QUARTER": "3",
                                    "DEPT_ROLLUP": "60",
                                    "DEPT_ROLLUP_NAME": "Public Works",
                                    "DEPARTMENT_CODE": "6000",
                                    "DEPARTMENT_NAME": "Capital Delivery Services",
                                    "FUND_CODE": "5460",
                                    "FUND_NAME": "Capital Projects Management Fund",
                                    "PROGRAM_CODE": "8CDS",
                                    "PROGRAM_NAME": "Business Enterprises",
                                    "ACTIVITY_CODE": "8CDS",
                                    "ACTIVITY_NAME": "Business Enterprises",
                                    "UNIT_CODE": "8783",
                                    "UNIT_NAME": "Financial Services Division",
                                    "EXPENSE_CODE": "6388",
                                    "EXPENSE_NAME": "Maintenance-computer software",
                                    "BUDGET": "0",
                                    "EXPENDITURES": "0",
                                    "KEY": "2024360600054608CDS8CDS87836388"
                                },
                                {
                                    "BUDGET_FISCAL_YEAR": "2024",
                                    "THRU_QUARTER": "3",
                                    "DEPT_ROLLUP": "60",
                                    "DEPT_ROLLUP_NAME": "Public Works",
                                    "DEPARTMENT_CODE": "6000",
                                    "DEPARTMENT_NAME": "Capital Delivery Services",
                                    "FUND_CODE": "5460",
                                    "FUND_NAME": "Capital Projects Management Fund",
                                    "PROGRAM_CODE": "8CDS",
                                    "PROGRAM_NAME": "Business Enterprises",
                                    "ACTIVITY_CODE": "8CDS",
                                    "ACTIVITY_NAME": "Business Enterprises",
                                    "UNIT_CODE": "8783",
                                    "UNIT_NAME": "Financial Services Division",
                                    "EXPENSE_CODE": "6531",
                                    "EXPENSE_NAME": "Seminar/training fees",
                                    "BUDGET": "24000",
                                    "EXPENDITURES": "0",
                                    "KEY": "2024360600054608CDS8CDS87836531"
                                },
                                {
                                    "BUDGET_FISCAL_YEAR": "2024",
                                    "THRU_QUARTER": "3",
                                    "DEPT_ROLLUP": "60",
                                    "DEPT_ROLLUP_NAME": "Public Works",
                                    "DEPARTMENT_CODE": "6000",
                                    "DEPARTMENT_NAME": "Capital Delivery Services",
                                    "FUND_CODE": "5460",
                                    "FUND_NAME": "Capital Projects Management Fund",
                                    "PROGRAM_CODE": "8CDS",
                                    "PROGRAM_NAME": "Business Enterprises",
                                    "ACTIVITY_CODE": "8CDS",
                                    "ACTIVITY_NAME": "Business Enterprises",
                                    "UNIT_CODE": "8783",
                                    "UNIT_NAME": "Financial Services Division",
                                    "EXPENSE_CODE": "6532",
                                    "EXPENSE_NAME": "Educational travel",
                                    "BUDGET": "36000",
                                    "EXPENDITURES": "339.66",
                                    "KEY": "2024360600054608CDS8CDS87836532"
                                },
                                {
                                    "BUDGET_FISCAL_YEAR": "2024",
                                    "THRU_QUARTER": "3",
                                    "DEPT_ROLLUP": "60",
                                    "DEPT_ROLLUP_NAME": "Public Works",
                                    "DEPARTMENT_CODE": "6000",
                                    "DEPARTMENT_NAME": "Capital Delivery Services",
                                    "FUND_CODE": "5460",
                                    "FUND_NAME": "Capital Projects Management Fund",
                                    "PROGRAM_CODE": "8CDS",
                                    "PROGRAM_NAME": "Business Enterprises",
                                    "ACTIVITY_CODE": "8CDS",
                                    "ACTIVITY_NAME": "Business Enterprises",
                                    "UNIT_CODE": "8783",
                                    "UNIT_NAME": "Financial Services Division",
                                    "EXPENSE_CODE": "6551",
                                    "EXPENSE_NAME": "Mileage reimbursements",
                                    "BUDGET": "150",
                                    "EXPENDITURES": "0",
                                    "KEY": "2024360600054608CDS8CDS87836551"
                                },
                                {
                                    "BUDGET_FISCAL_YEAR": "2024",
                                    "THRU_QUARTER": "3",
                                    "DEPT_ROLLUP": "60",
                                    "DEPT_ROLLUP_NAME": "Public Works",
                                    "DEPARTMENT_CODE": "6000",
                                    "DEPARTMENT_NAME": "Capital Delivery Services",
                                    "FUND_CODE": "5460",
                                    "FUND_NAME": "Capital Projects Management Fund",
                                    "PROGRAM_CODE": "8CDS",
                                    "PROGRAM_NAME": "Business Enterprises",
                                    "ACTIVITY_CODE": "8CDS",
                                    "ACTIVITY_NAME": "Business Enterprises",
                                    "UNIT_CODE": "8783",
                                    "UNIT_NAME": "Financial Services Division",
                                    "EXPENSE_CODE": "6558",
                                    "EXPENSE_NAME": "Professional registration",
                                    "BUDGET": "500",
                                    "EXPENDITURES": "300",
                                    "KEY": "2024360600054608CDS8CDS87836558"
                                },
                                {
                                    "BUDGET_FISCAL_YEAR": "2024",
                                    "THRU_QUARTER": "3",
                                    "DEPT_ROLLUP": "60",
                                    "DEPT_ROLLUP_NAME": "Public Works",
                                    "DEPARTMENT_CODE": "6000",
                                    "DEPARTMENT_NAME": "Capital Delivery Services",
                                    "FUND_CODE": "5460",
                                    "FUND_NAME": "Capital Projects Management Fund",
                                    "PROGRAM_CODE": "8CDS",
                                    "PROGRAM_NAME": "Business Enterprises",
                                    "ACTIVITY_CODE": "8CDS",
                                    "ACTIVITY_NAME": "Business Enterprises",
                                    "UNIT_CODE": "8783",
                                    "UNIT_NAME": "Financial Services Division",
                                    "EXPENSE_CODE": "6633",
                                    "EXPENSE_NAME": "Subscriptions",
                                    "BUDGET": "0",
                                    "EXPENDITURES": "0",
                                    "KEY": "2024360600054608CDS8CDS87836633"
                                },
                                {
                                    "BUDGET_FISCAL_YEAR": "2024",
                                    "THRU_QUARTER": "3",
                                    "DEPT_ROLLUP": "60",
                                    "DEPT_ROLLUP_NAME": "Public Works",
                                    "DEPARTMENT_CODE": "6000",
                                    "DEPARTMENT_NAME": "Capital Delivery Services",
                                    "FUND_CODE": "5460",
                                    "FUND_NAME": "Capital Projects Management Fund",
                                    "PROGRAM_CODE": "8CDS",
                                    "PROGRAM_NAME": "Business Enterprises",
                                    "ACTIVITY_CODE": "8CDS",
                                    "ACTIVITY_NAME": "Business Enterprises",
                                    "UNIT_CODE": "8783",
                                    "UNIT_NAME": "Financial Services Division",
                                    "EXPENSE_CODE": "6854",
                                    "EXPENSE_NAME": "Miscellaneous expense",
                                    "BUDGET": "500",
                                    "EXPENDITURES": "0",
                                    "KEY": "2024360600054608CDS8CDS87836854"
                                },
                                {
                                    "BUDGET_FISCAL_YEAR": "2024",
                                    "THRU_QUARTER": "3",
                                    "DEPT_ROLLUP": "60",
                                    "DEPT_ROLLUP_NAME": "Public Works",
                                    "DEPARTMENT_CODE": "6000",
                                    "DEPARTMENT_NAME": "Capital Delivery Services",
                                    "FUND_CODE": "5460",
                                    "FUND_NAME": "Capital Projects Management Fund",
                                    "PROGRAM_CODE": "8CDS",
                                    "PROGRAM_NAME": "Business Enterprises",
                                    "ACTIVITY_CODE": "8CDS",
                                    "ACTIVITY_NAME": "Business Enterprises",
                                    "UNIT_CODE": "8783",
                                    "UNIT_NAME": "Financial Services Division",
                                    "EXPENSE_CODE": "7478",
                                    "EXPENSE_NAME": "Clothing/clothing material",
                                    "BUDGET": "500",
                                    "EXPENDITURES": "0",
                                    "KEY": "2024360600054608CDS8CDS87837478"
                                },
                                {
                                    "BUDGET_FISCAL_YEAR": "2024",
                                    "THRU_QUARTER": "3",
                                    "DEPT_ROLLUP": "60",
                                    "DEPT_ROLLUP_NAME": "Public Works",
                                    "DEPARTMENT_CODE": "6000",
                                    "DEPARTMENT_NAME": "Capital Delivery Services",
                                    "FUND_CODE": "5460",
                                    "FUND_NAME": "Capital Projects Management Fund",
                                    "PROGRAM_CODE": "8CDS",
                                    "PROGRAM_NAME": "Business Enterprises",
                                    "ACTIVITY_CODE": "8CDS",
                                    "ACTIVITY_NAME": "Business Enterprises",
                                    "UNIT_CODE": "8783",
                                    "UNIT_NAME": "Financial Services Division",
                                    "EXPENSE_CODE": "7121",
                                    "EXPENSE_NAME": "Street/traff signs/mrkr/pos",
                                    "BUDGET": "100",
                                    "EXPENDITURES": "30",
                                    "KEY": "2024360600054608CDS8CDS87837121"
                                },
                                {
                                    "BUDGET_FISCAL_YEAR": "2024",
                                    "THRU_QUARTER": "3",
                                    "DEPT_ROLLUP": "60",
                                    "DEPT_ROLLUP_NAME": "Public Works",
                                    "DEPARTMENT_CODE": "6000",
                                    "DEPARTMENT_NAME": "Capital Delivery Services",
                                    "FUND_CODE": "5460",
                                    "FUND_NAME": "Capital Projects Management Fund",
                                    "PROGRAM_CODE": "8CDS",
                                    "PROGRAM_NAME": "Business Enterprises",
                                    "ACTIVITY_CODE": "8CDS",
                                    "ACTIVITY_NAME": "Business Enterprises",
                                    "UNIT_CODE": "8783",
                                    "UNIT_NAME": "Financial Services Division",
                                    "EXPENSE_CODE": "5036",
                                    "EXPENSE_NAME": "Emergency leave",
                                    "BUDGET": "0",
                                    "EXPENDITURES": "1795.52",
                                    "KEY": "2024360600054608CDS8CDS87835036"
                                },
                                {
                                    "BUDGET_FISCAL_YEAR": "2024",
                                    "THRU_QUARTER": "3",
                                    "DEPT_ROLLUP": "87",
                                    "DEPT_ROLLUP_NAME": "Police",
                                    "DEPARTMENT_CODE": "8700",
                                    "DEPARTMENT_NAME": "Police",
                                    "FUND_CODE": "1000",
                                    "FUND_NAME": "General Fund",
                                    "PROGRAM_CODE": "11AA",
                                    "PROGRAM_NAME": "Neighborhood-Based Policing",
                                    "ACTIVITY_CODE": "11A1",
                                    "ACTIVITY_NAME": "Patrol",
                                    "UNIT_CODE": "5101",
                                    "UNIT_NAME": "Region 1 Patrol Baker",
                                    "EXPENSE_CODE": "5039",
                                    "EXPENSE_NAME": "Comp time used",
                                    "BUDGET": "0",
                                    "EXPENDITURES": "135375.01",
                                    "KEY": "20243878700100011AA11A151015039"
                                },
                                {
                                    "BUDGET_FISCAL_YEAR": "2024",
                                    "THRU_QUARTER": "3",
                                    "DEPT_ROLLUP": "60",
                                    "DEPT_ROLLUP_NAME": "Public Works",
                                    "DEPARTMENT_CODE": "6000",
                                    "DEPARTMENT_NAME": "Capital Delivery Services",
                                    "FUND_CODE": "5460",
                                    "FUND_NAME": "Capital Projects Management Fund",
                                    "PROGRAM_CODE": "8CDS",
                                    "PROGRAM_NAME": "Business Enterprises",
                                    "ACTIVITY_CODE": "8CDS",
                                    "ACTIVITY_NAME": "Business Enterprises",
                                    "UNIT_CODE": "8783",
                                    "UNIT_NAME": "Financial Services Division",
                                    "EXPENSE_CODE": "6632",
                                    "EXPENSE_NAME": "Memberships",
                                    "BUDGET": "0",
                                    "EXPENDITURES": "150",
                                    "KEY": "2024360600054608CDS8CDS87836632"
                                },
                                {
                                    "BUDGET_FISCAL_YEAR": "2024",
                                    "THRU_QUARTER": "3",
                                    "DEPT_ROLLUP": "60",
                                    "DEPT_ROLLUP_NAME": "Public Works",
                                    "DEPARTMENT_CODE": "6000",
                                    "DEPARTMENT_NAME": "Capital Delivery Services",
                                    "FUND_CODE": "5460",
                                    "FUND_NAME": "Capital Projects Management Fund",
                                    "PROGRAM_CODE": "8CDS",
                                    "PROGRAM_NAME": "Business Enterprises",
                                    "ACTIVITY_CODE": "8CDS",
                                    "ACTIVITY_NAME": "Business Enterprises",
                                    "UNIT_CODE": "8783",
                                    "UNIT_NAME": "Financial Services Division",
                                    "EXPENSE_CODE": "5028",
                                    "EXPENSE_NAME": "Terminal pay",
                                    "BUDGET": "6665",
                                    "EXPENDITURES": "4256.29",
                                    "KEY": "2024360600054608CDS8CDS87835028"
                                },
                                {
                                    "BUDGET_FISCAL_YEAR": "2024",
                                    "THRU_QUARTER": "3",
                                    "DEPT_ROLLUP": "60",
                                    "DEPT_ROLLUP_NAME": "Public Works",
                                    "DEPARTMENT_CODE": "6000",
                                    "DEPARTMENT_NAME": "Capital Delivery Services",
                                    "FUND_CODE": "5460",
                                    "FUND_NAME": "Capital Projects Management Fund",
                                    "PROGRAM_CODE": "8CDS",
                                    "PROGRAM_NAME": "Business Enterprises",
                                    "ACTIVITY_CODE": "8CDS",
                                    "ACTIVITY_NAME": "Business Enterprises",
                                    "UNIT_CODE": "8783",
                                    "UNIT_NAME": "Financial Services Division",
                                    "EXPENSE_CODE": "5860",
                                    "EXPENSE_NAME": "Services-other",
                                    "BUDGET": "0",
                                    "EXPENDITURES": "119.86",
                                    "KEY": "2024360600054608CDS8CDS87835860"
                                },
                                {
                                    "BUDGET_FISCAL_YEAR": "2024",
                                    "THRU_QUARTER": "3",
                                    "DEPT_ROLLUP": "60",
                                    "DEPT_ROLLUP_NAME": "Public Works",
                                    "DEPARTMENT_CODE": "6000",
                                    "DEPARTMENT_NAME": "Capital Delivery Services",
                                    "FUND_CODE": "5460",
                                    "FUND_NAME": "Capital Projects Management Fund",
                                    "PROGRAM_CODE": "8CDS",
                                    "PROGRAM_NAME": "Business Enterprises",
                                    "ACTIVITY_CODE": "8CDS",
                                    "ACTIVITY_NAME": "Business Enterprises",
                                    "UNIT_CODE": "8783",
                                    "UNIT_NAME": "Financial Services Division",
                                    "EXPENSE_CODE": "6503",
                                    "EXPENSE_NAME": "Staff dev-seminars",
                                    "BUDGET": "1000",
                                    "EXPENDITURES": "590.94",
                                    "KEY": "2024360600054608CDS8CDS87836503"
                                }
                            ]
                        },
                        "text/html": [
                            "<table>",
                            "<tr><th>BUDGET_FISCAL_YEAR</th><th>THRU_QUARTER</th><th>DEPT_ROLLUP</th><th>DEPT_ROLLUP_NAME</th><th>DEPARTMENT_CODE</th><th>DEPARTMENT_NAME</th><th>FUND_CODE</th><th>FUND_NAME</th><th>PROGRAM_CODE</th><th>PROGRAM_NAME</th><th>ACTIVITY_CODE</th><th>ACTIVITY_NAME</th><th>UNIT_CODE</th><th>UNIT_NAME</th><th>EXPENSE_CODE</th><th>EXPENSE_NAME</th><th>BUDGET</th><th>EXPENDITURES</th><th>KEY</th></tr>",
                            "<tr><td>2024</td><td>3</td><td>60</td><td>Public Works</td><td>6000</td><td>Capital Delivery Services</td><td>5460</td><td>Capital Projects Management Fund</td><td>8CDS</td><td>Business Enterprises</td><td>8CDS</td><td>Business Enterprises</td><td>8783</td><td>Financial Services Division</td><td>5033</td><td>Jury leave</td><td>0</td><td>0</td><td>2024360600054608CDS8CDS87835033</td></tr>",
                            "<tr><td>2024</td><td>3</td><td>60</td><td>Public Works</td><td>6000</td><td>Capital Delivery Services</td><td>5460</td><td>Capital Projects Management Fund</td><td>8CDS</td><td>Business Enterprises</td><td>8CDS</td><td>Business Enterprises</td><td>8783</td><td>Financial Services Division</td><td>5034</td><td>Bad weather pay</td><td>0</td><td>0</td><td>2024360600054608CDS8CDS87835034</td></tr>",
                            "<tr><td>2024</td><td>3</td><td>60</td><td>Public Works</td><td>6000</td><td>Capital Delivery Services</td><td>5460</td><td>Capital Projects Management Fund</td><td>8CDS</td><td>Business Enterprises</td><td>8CDS</td><td>Business Enterprises</td><td>8783</td><td>Financial Services Division</td><td>5051</td><td>Personnel savings</td><td>-160714</td><td>0</td><td>2024360600054608CDS8CDS87835051</td></tr>",
                            "<tr><td>2024</td><td>3</td><td>60</td><td>Public Works</td><td>6000</td><td>Capital Delivery Services</td><td>5460</td><td>Capital Projects Management Fund</td><td>8CDS</td><td>Business Enterprises</td><td>8CDS</td><td>Business Enterprises</td><td>8783</td><td>Financial Services Division</td><td>5280</td><td>Consultant-others</td><td>24750</td><td>0</td><td>2024360600054608CDS8CDS87835280</td></tr>",
                            "<tr><td>2024</td><td>3</td><td>60</td><td>Public Works</td><td>6000</td><td>Capital Delivery Services</td><td>5460</td><td>Capital Projects Management Fund</td><td>8CDS</td><td>Business Enterprises</td><td>8CDS</td><td>Business Enterprises</td><td>8783</td><td>Financial Services Division</td><td>6361</td><td>Awards and Recognition</td><td>1560</td><td>0</td><td>2024360600054608CDS8CDS87836361</td></tr>",
                            "<tr><td>2024</td><td>3</td><td>60</td><td>Public Works</td><td>6000</td><td>Capital Delivery Services</td><td>5460</td><td>Capital Projects Management Fund</td><td>8CDS</td><td>Business Enterprises</td><td>8CDS</td><td>Business Enterprises</td><td>8783</td><td>Financial Services Division</td><td>6388</td><td>Maintenance-computer software</td><td>0</td><td>0</td><td>2024360600054608CDS8CDS87836388</td></tr>",
                            "<tr><td>2024</td><td>3</td><td>60</td><td>Public Works</td><td>6000</td><td>Capital Delivery Services</td><td>5460</td><td>Capital Projects Management Fund</td><td>8CDS</td><td>Business Enterprises</td><td>8CDS</td><td>Business Enterprises</td><td>8783</td><td>Financial Services Division</td><td>6531</td><td>Seminar/training fees</td><td>24000</td><td>0</td><td>2024360600054608CDS8CDS87836531</td></tr>",
                            "<tr><td>2024</td><td>3</td><td>60</td><td>Public Works</td><td>6000</td><td>Capital Delivery Services</td><td>5460</td><td>Capital Projects Management Fund</td><td>8CDS</td><td>Business Enterprises</td><td>8CDS</td><td>Business Enterprises</td><td>8783</td><td>Financial Services Division</td><td>6532</td><td>Educational travel</td><td>36000</td><td>339.66</td><td>2024360600054608CDS8CDS87836532</td></tr>",
                            "<tr><td>2024</td><td>3</td><td>60</td><td>Public Works</td><td>6000</td><td>Capital Delivery Services</td><td>5460</td><td>Capital Projects Management Fund</td><td>8CDS</td><td>Business Enterprises</td><td>8CDS</td><td>Business Enterprises</td><td>8783</td><td>Financial Services Division</td><td>6551</td><td>Mileage reimbursements</td><td>150</td><td>0</td><td>2024360600054608CDS8CDS87836551</td></tr>",
                            "<tr><td>2024</td><td>3</td><td>60</td><td>Public Works</td><td>6000</td><td>Capital Delivery Services</td><td>5460</td><td>Capital Projects Management Fund</td><td>8CDS</td><td>Business Enterprises</td><td>8CDS</td><td>Business Enterprises</td><td>8783</td><td>Financial Services Division</td><td>6558</td><td>Professional registration</td><td>500</td><td>300</td><td>2024360600054608CDS8CDS87836558</td></tr>",
                            "<tr><td>2024</td><td>3</td><td>60</td><td>Public Works</td><td>6000</td><td>Capital Delivery Services</td><td>5460</td><td>Capital Projects Management Fund</td><td>8CDS</td><td>Business Enterprises</td><td>8CDS</td><td>Business Enterprises</td><td>8783</td><td>Financial Services Division</td><td>6633</td><td>Subscriptions</td><td>0</td><td>0</td><td>2024360600054608CDS8CDS87836633</td></tr>",
                            "<tr><td>2024</td><td>3</td><td>60</td><td>Public Works</td><td>6000</td><td>Capital Delivery Services</td><td>5460</td><td>Capital Projects Management Fund</td><td>8CDS</td><td>Business Enterprises</td><td>8CDS</td><td>Business Enterprises</td><td>8783</td><td>Financial Services Division</td><td>6854</td><td>Miscellaneous expense</td><td>500</td><td>0</td><td>2024360600054608CDS8CDS87836854</td></tr>",
                            "<tr><td>2024</td><td>3</td><td>60</td><td>Public Works</td><td>6000</td><td>Capital Delivery Services</td><td>5460</td><td>Capital Projects Management Fund</td><td>8CDS</td><td>Business Enterprises</td><td>8CDS</td><td>Business Enterprises</td><td>8783</td><td>Financial Services Division</td><td>7478</td><td>Clothing/clothing material</td><td>500</td><td>0</td><td>2024360600054608CDS8CDS87837478</td></tr>",
                            "<tr><td>2024</td><td>3</td><td>60</td><td>Public Works</td><td>6000</td><td>Capital Delivery Services</td><td>5460</td><td>Capital Projects Management Fund</td><td>8CDS</td><td>Business Enterprises</td><td>8CDS</td><td>Business Enterprises</td><td>8783</td><td>Financial Services Division</td><td>7121</td><td>Street/traff signs/mrkr/pos</td><td>100</td><td>30</td><td>2024360600054608CDS8CDS87837121</td></tr>",
                            "<tr><td>2024</td><td>3</td><td>60</td><td>Public Works</td><td>6000</td><td>Capital Delivery Services</td><td>5460</td><td>Capital Projects Management Fund</td><td>8CDS</td><td>Business Enterprises</td><td>8CDS</td><td>Business Enterprises</td><td>8783</td><td>Financial Services Division</td><td>5036</td><td>Emergency leave</td><td>0</td><td>1795.52</td><td>2024360600054608CDS8CDS87835036</td></tr>",
                            "<tr><td>2024</td><td>3</td><td>87</td><td>Police</td><td>8700</td><td>Police</td><td>1000</td><td>General Fund</td><td>11AA</td><td>Neighborhood-Based Policing</td><td>11A1</td><td>Patrol</td><td>5101</td><td>Region 1 Patrol Baker</td><td>5039</td><td>Comp time used</td><td>0</td><td>135375.01</td><td>20243878700100011AA11A151015039</td></tr>",
                            "<tr><td>2024</td><td>3</td><td>60</td><td>Public Works</td><td>6000</td><td>Capital Delivery Services</td><td>5460</td><td>Capital Projects Management Fund</td><td>8CDS</td><td>Business Enterprises</td><td>8CDS</td><td>Business Enterprises</td><td>8783</td><td>Financial Services Division</td><td>6632</td><td>Memberships</td><td>0</td><td>150</td><td>2024360600054608CDS8CDS87836632</td></tr>",
                            "<tr><td>2024</td><td>3</td><td>60</td><td>Public Works</td><td>6000</td><td>Capital Delivery Services</td><td>5460</td><td>Capital Projects Management Fund</td><td>8CDS</td><td>Business Enterprises</td><td>8CDS</td><td>Business Enterprises</td><td>8783</td><td>Financial Services Division</td><td>5028</td><td>Terminal pay</td><td>6665</td><td>4256.29</td><td>2024360600054608CDS8CDS87835028</td></tr>",
                            "<tr><td>2024</td><td>3</td><td>60</td><td>Public Works</td><td>6000</td><td>Capital Delivery Services</td><td>5460</td><td>Capital Projects Management Fund</td><td>8CDS</td><td>Business Enterprises</td><td>8CDS</td><td>Business Enterprises</td><td>8783</td><td>Financial Services Division</td><td>5860</td><td>Services-other</td><td>0</td><td>119.86</td><td>2024360600054608CDS8CDS87835860</td></tr>",
                            "<tr><td>2024</td><td>3</td><td>60</td><td>Public Works</td><td>6000</td><td>Capital Delivery Services</td><td>5460</td><td>Capital Projects Management Fund</td><td>8CDS</td><td>Business Enterprises</td><td>8CDS</td><td>Business Enterprises</td><td>8783</td><td>Financial Services Division</td><td>6503</td><td>Staff dev-seminars</td><td>1000</td><td>590.94</td><td>2024360600054608CDS8CDS87836503</td></tr>",
                            "</table>"
                        ]
                    }
                }
            ],
            "execution_count": 184
        },
        {
            "cell_type": "markdown",
            "source": [
                "... and check the column types:"
            ],
            "metadata": {
                "azdata_cell_guid": "53c6b2d3-b00e-4eef-a15d-cc40742dbc13",
                "language": ""
            },
            "attachments": {}
        },
        {
            "cell_type": "code",
            "source": [
                "SELECT COLUMN_NAME, DATA_TYPE\n",
                "FROM INFORMATION_SCHEMA.COLUMNS\n",
                "WHERE TABLE_NAME = 'BUDGET';"
            ],
            "metadata": {
                "language": "sql",
                "azdata_cell_guid": "d4b9078e-bd3d-4ca0-9b39-6ceaa9ed731c"
            },
            "outputs": [
                {
                    "output_type": "display_data",
                    "data": {
                        "text/html": "(19 rows affected)"
                    },
                    "metadata": {}
                },
                {
                    "output_type": "display_data",
                    "data": {
                        "text/html": "Total execution time: 00:00:00.093"
                    },
                    "metadata": {}
                },
                {
                    "output_type": "execute_result",
                    "metadata": {},
                    "execution_count": 185,
                    "data": {
                        "application/vnd.dataresource+json": {
                            "schema": {
                                "fields": [
                                    {
                                        "name": "COLUMN_NAME"
                                    },
                                    {
                                        "name": "DATA_TYPE"
                                    }
                                ]
                            },
                            "data": [
                                {
                                    "COLUMN_NAME": "BUDGET_FISCAL_YEAR",
                                    "DATA_TYPE": "int"
                                },
                                {
                                    "COLUMN_NAME": "THRU_QUARTER",
                                    "DATA_TYPE": "int"
                                },
                                {
                                    "COLUMN_NAME": "DEPT_ROLLUP",
                                    "DATA_TYPE": "int"
                                },
                                {
                                    "COLUMN_NAME": "DEPT_ROLLUP_NAME",
                                    "DATA_TYPE": "nvarchar"
                                },
                                {
                                    "COLUMN_NAME": "DEPARTMENT_CODE",
                                    "DATA_TYPE": "int"
                                },
                                {
                                    "COLUMN_NAME": "DEPARTMENT_NAME",
                                    "DATA_TYPE": "nvarchar"
                                },
                                {
                                    "COLUMN_NAME": "FUND_CODE",
                                    "DATA_TYPE": "nvarchar"
                                },
                                {
                                    "COLUMN_NAME": "FUND_NAME",
                                    "DATA_TYPE": "nvarchar"
                                },
                                {
                                    "COLUMN_NAME": "PROGRAM_CODE",
                                    "DATA_TYPE": "nvarchar"
                                },
                                {
                                    "COLUMN_NAME": "PROGRAM_NAME",
                                    "DATA_TYPE": "nvarchar"
                                },
                                {
                                    "COLUMN_NAME": "ACTIVITY_CODE",
                                    "DATA_TYPE": "nvarchar"
                                },
                                {
                                    "COLUMN_NAME": "ACTIVITY_NAME",
                                    "DATA_TYPE": "nvarchar"
                                },
                                {
                                    "COLUMN_NAME": "UNIT_CODE",
                                    "DATA_TYPE": "nvarchar"
                                },
                                {
                                    "COLUMN_NAME": "UNIT_NAME",
                                    "DATA_TYPE": "nvarchar"
                                },
                                {
                                    "COLUMN_NAME": "EXPENSE_CODE",
                                    "DATA_TYPE": "nvarchar"
                                },
                                {
                                    "COLUMN_NAME": "EXPENSE_NAME",
                                    "DATA_TYPE": "nvarchar"
                                },
                                {
                                    "COLUMN_NAME": "BUDGET",
                                    "DATA_TYPE": "float"
                                },
                                {
                                    "COLUMN_NAME": "EXPENDITURES",
                                    "DATA_TYPE": "float"
                                },
                                {
                                    "COLUMN_NAME": "KEY",
                                    "DATA_TYPE": "nvarchar"
                                }
                            ]
                        },
                        "text/html": [
                            "<table>",
                            "<tr><th>COLUMN_NAME</th><th>DATA_TYPE</th></tr>",
                            "<tr><td>BUDGET_FISCAL_YEAR</td><td>int</td></tr>",
                            "<tr><td>THRU_QUARTER</td><td>int</td></tr>",
                            "<tr><td>DEPT_ROLLUP</td><td>int</td></tr>",
                            "<tr><td>DEPT_ROLLUP_NAME</td><td>nvarchar</td></tr>",
                            "<tr><td>DEPARTMENT_CODE</td><td>int</td></tr>",
                            "<tr><td>DEPARTMENT_NAME</td><td>nvarchar</td></tr>",
                            "<tr><td>FUND_CODE</td><td>nvarchar</td></tr>",
                            "<tr><td>FUND_NAME</td><td>nvarchar</td></tr>",
                            "<tr><td>PROGRAM_CODE</td><td>nvarchar</td></tr>",
                            "<tr><td>PROGRAM_NAME</td><td>nvarchar</td></tr>",
                            "<tr><td>ACTIVITY_CODE</td><td>nvarchar</td></tr>",
                            "<tr><td>ACTIVITY_NAME</td><td>nvarchar</td></tr>",
                            "<tr><td>UNIT_CODE</td><td>nvarchar</td></tr>",
                            "<tr><td>UNIT_NAME</td><td>nvarchar</td></tr>",
                            "<tr><td>EXPENSE_CODE</td><td>nvarchar</td></tr>",
                            "<tr><td>EXPENSE_NAME</td><td>nvarchar</td></tr>",
                            "<tr><td>BUDGET</td><td>float</td></tr>",
                            "<tr><td>EXPENDITURES</td><td>float</td></tr>",
                            "<tr><td>KEY</td><td>nvarchar</td></tr>",
                            "</table>"
                        ]
                    }
                }
            ],
            "execution_count": 185
        },
        {
            "cell_type": "markdown",
            "source": [
                "# Analysis"
            ],
            "metadata": {
                "azdata_cell_guid": "af3f2448-caf7-4735-8ee2-3e03cf52d2a3"
            },
            "attachments": {}
        },
        {
            "cell_type": "markdown",
            "source": [
                "## Budget Types"
            ],
            "metadata": {
                "azdata_cell_guid": "d77fb690-1055-4ec9-9351-9793c97ddf45"
            },
            "attachments": {}
        },
        {
            "cell_type": "markdown",
            "source": [
                "The interpretation of the budgets vs expenditures columns is not what you would expect, as described in the dataset description from the website:\n",
                "\n",
                "*\"The comparison of actual expenditures to budget may appear inconsistent. That is because base wages for personnel are fully budgeted in the expense categories regular wages—full-time, regular wages—part-time or regular wages—civil service. **The budget does not assume expenditure levels for the various leave categories, such as sick pay, vacation pay, or jury leave.** However, actual expenses for various leave categories are recorded based on timesheet coding. The result is that **actual expenditures for regular wages are spread across multiple expense categories while the budget is shown in one expense category.***\n",
                "\n",
                "*\"Personnel savings is budgeted to account for the likely savings in personnel costs generated through attrition. However, the savings is realized in the expense categories regular wages—full-time, regular wages—part-time and regular wages—civil service. Therefore, **the actual expenditures in the personnel savings expense category will always be zero.\"***\n",
                "\n",
                "Since the budgets and expenses are atypical, we should build a contingency table to see how many entries have negative, 0, or positive budget or expense. We'll define a function to compute the counts in each bivariate category below:"
            ],
            "metadata": {
                "azdata_cell_guid": "e04c6f8c-9e1a-4944-833e-db72a72c730d"
            },
            "attachments": {}
        },
        {
            "cell_type": "code",
            "source": [
                "-- Drop function if exists\n",
                "IF OBJECT_ID('AustinTXData.BudgetExpenditureCounts', 'TF') IS NOT NULL\n",
                "    DROP FUNCTION AustinTXData.BudgetExpenditureCounts;\n",
                "GO\n",
                "\n",
                "-- Define func to get 3 x 3 contingency table of negative, 0, positive counts of\n",
                "-- Budget vs Expenditure\n",
                "CREATE FUNCTION AustinTXData.BudgetExpenditureCounts()\n",
                "RETURNS @ResultTable TABLE \n",
                "(\n",
                "    BudgetCategory NVARCHAR(50),\n",
                "    Expenditures_LT_0 INT,\n",
                "    Expenditures_EQ_0 INT,\n",
                "    Expenditures_GT_0 INT,\n",
                "    ColSum INT\n",
                ")\n",
                "AS\n",
                "BEGIN\n",
                "    \n",
                "    INSERT INTO @ResultTable\n",
                "    SELECT 'Budget < 0' AS BudgetCategory,\n",
                "           SUM(CASE WHEN BUDGET < 0 AND EXPENDITURES < 0 THEN 1 ELSE 0 END),\n",
                "           SUM(CASE WHEN BUDGET < 0 AND EXPENDITURES = 0 THEN 1 ELSE 0 END),\n",
                "           SUM(CASE WHEN BUDGET < 0 AND EXPENDITURES > 0 THEN 1 ELSE 0 END),\n",
                "           SUM(CASE WHEN BUDGET < 0 THEN 1 ELSE 0 END)\n",
                "    FROM AustinTXData.BUDGET\n",
                "    UNION ALL\n",
                "    SELECT 'Budget = 0',\n",
                "           SUM(CASE WHEN BUDGET = 0 AND EXPENDITURES < 0 THEN 1 ELSE 0 END),\n",
                "           SUM(CASE WHEN BUDGET = 0 AND EXPENDITURES = 0 THEN 1 ELSE 0 END),\n",
                "           SUM(CASE WHEN BUDGET = 0 AND EXPENDITURES > 0 THEN 1 ELSE 0 END),\n",
                "           SUM(CASE WHEN BUDGET = 0 THEN 1 ELSE 0 END)\n",
                "    FROM AustinTXData.BUDGET\n",
                "    UNION ALL\n",
                "    SELECT 'Budget > 0',\n",
                "           SUM(CASE WHEN BUDGET > 0 AND EXPENDITURES < 0 THEN 1 ELSE 0 END),\n",
                "           SUM(CASE WHEN BUDGET > 0 AND EXPENDITURES = 0 THEN 1 ELSE 0 END),\n",
                "           SUM(CASE WHEN BUDGET > 0 AND EXPENDITURES > 0 THEN 1 ELSE 0 END),\n",
                "           SUM(CASE WHEN BUDGET > 0 THEN 1 ELSE 0 END)\n",
                "    FROM AustinTXData.BUDGET\n",
                "    UNION ALL\n",
                "    SELECT 'RowSum',\n",
                "           SUM(CASE WHEN EXPENDITURES < 0 THEN 1 ELSE 0 END),\n",
                "           SUM(CASE WHEN EXPENDITURES = 0 THEN 1 ELSE 0 END),\n",
                "           SUM(CASE WHEN EXPENDITURES > 0 THEN 1 ELSE 0 END),\n",
                "           COUNT(*) -- just get totat table rows\n",
                "    FROM AustinTXData.BUDGET;\n",
                "\n",
                "    RETURN;\n",
                "END;\n",
                "GO"
            ],
            "metadata": {
                "azdata_cell_guid": "1a0315c6-be87-4f5a-910c-ac35acae9024",
                "language": "sql"
            },
            "outputs": [
                {
                    "output_type": "display_data",
                    "data": {
                        "text/html": "Commands completed successfully."
                    },
                    "metadata": {}
                },
                {
                    "output_type": "display_data",
                    "data": {
                        "text/html": "Commands completed successfully."
                    },
                    "metadata": {}
                },
                {
                    "output_type": "display_data",
                    "data": {
                        "text/html": "Total execution time: 00:00:00.178"
                    },
                    "metadata": {}
                }
            ],
            "execution_count": 186
        },
        {
            "cell_type": "markdown",
            "source": [
                "Now let's see both the counts in the contingency table and their percentages:"
            ],
            "metadata": {
                "azdata_cell_guid": "5a54ba8d-a98c-4eb9-a9a2-ee0d6aae54ca"
            },
            "attachments": {}
        },
        {
            "cell_type": "code",
            "source": [
                "-- show counts table\n",
                "SELECT * FROM AustinTXData.BudgetExpenditureCounts();\n",
                "\n",
                "-- show percentages table\n",
                "WITH counts AS \n",
                "(\n",
                "    SELECT * FROM AustinTXData.BudgetExpenditureCounts()\n",
                "),\n",
                "\n",
                "total_counts AS \n",
                "(\n",
                "    SELECT ColSum AS total_size\n",
                "    FROM counts\n",
                "    WHERE BudgetCategory = 'RowSum'\n",
                ")\n",
                "\n",
                "SELECT \n",
                "    BudgetCategory,\n",
                "    CAST(Expenditures_LT_0 * 100.0 / total_counts.total_size AS DECIMAL(5,2)) AS Expenditures_LT_0,\n",
                "    CAST(Expenditures_EQ_0 * 100.0 / total_counts.total_size AS DECIMAL(5,2)) AS Expenditures_EQ_0,\n",
                "    CAST(Expenditures_GT_0 * 100.0 / total_counts.total_size AS DECIMAL(5,2)) AS Expenditures_GT_0,\n",
                "    CAST(ColSum * 100.0 / total_counts.total_size AS DECIMAL(5,2)) AS ColSum\n",
                "FROM counts, total_counts;"
            ],
            "metadata": {
                "azdata_cell_guid": "3db7a6bd-d81b-469d-8aa2-79db4fe7ec85",
                "language": "sql"
            },
            "outputs": [
                {
                    "output_type": "display_data",
                    "data": {
                        "text/html": "(4 rows affected)"
                    },
                    "metadata": {}
                },
                {
                    "output_type": "display_data",
                    "data": {
                        "text/html": "(4 rows affected)"
                    },
                    "metadata": {}
                },
                {
                    "output_type": "display_data",
                    "data": {
                        "text/html": "Total execution time: 00:00:00.535"
                    },
                    "metadata": {}
                },
                {
                    "output_type": "execute_result",
                    "metadata": {},
                    "execution_count": 187,
                    "data": {
                        "application/vnd.dataresource+json": {
                            "schema": {
                                "fields": [
                                    {
                                        "name": "BudgetCategory"
                                    },
                                    {
                                        "name": "Expenditures_LT_0"
                                    },
                                    {
                                        "name": "Expenditures_EQ_0"
                                    },
                                    {
                                        "name": "Expenditures_GT_0"
                                    },
                                    {
                                        "name": "ColSum"
                                    }
                                ]
                            },
                            "data": [
                                {
                                    "BudgetCategory": "Budget < 0",
                                    "Expenditures_LT_0": "254",
                                    "Expenditures_EQ_0": "1026",
                                    "Expenditures_GT_0": "7",
                                    "ColSum": "1287"
                                },
                                {
                                    "BudgetCategory": "Budget = 0",
                                    "Expenditures_LT_0": "489",
                                    "Expenditures_EQ_0": "12817",
                                    "Expenditures_GT_0": "14729",
                                    "ColSum": "28035"
                                },
                                {
                                    "BudgetCategory": "Budget > 0",
                                    "Expenditures_LT_0": "49",
                                    "Expenditures_EQ_0": "6547",
                                    "Expenditures_GT_0": "22441",
                                    "ColSum": "29037"
                                },
                                {
                                    "BudgetCategory": "RowSum",
                                    "Expenditures_LT_0": "792",
                                    "Expenditures_EQ_0": "20390",
                                    "Expenditures_GT_0": "37177",
                                    "ColSum": "58359"
                                }
                            ]
                        },
                        "text/html": [
                            "<table>",
                            "<tr><th>BudgetCategory</th><th>Expenditures_LT_0</th><th>Expenditures_EQ_0</th><th>Expenditures_GT_0</th><th>ColSum</th></tr>",
                            "<tr><td>Budget &lt; 0</td><td>254</td><td>1026</td><td>7</td><td>1287</td></tr>",
                            "<tr><td>Budget = 0</td><td>489</td><td>12817</td><td>14729</td><td>28035</td></tr>",
                            "<tr><td>Budget &gt; 0</td><td>49</td><td>6547</td><td>22441</td><td>29037</td></tr>",
                            "<tr><td>RowSum</td><td>792</td><td>20390</td><td>37177</td><td>58359</td></tr>",
                            "</table>"
                        ]
                    }
                },
                {
                    "output_type": "execute_result",
                    "metadata": {},
                    "execution_count": 187,
                    "data": {
                        "application/vnd.dataresource+json": {
                            "schema": {
                                "fields": [
                                    {
                                        "name": "BudgetCategory"
                                    },
                                    {
                                        "name": "Expenditures_LT_0"
                                    },
                                    {
                                        "name": "Expenditures_EQ_0"
                                    },
                                    {
                                        "name": "Expenditures_GT_0"
                                    },
                                    {
                                        "name": "ColSum"
                                    }
                                ]
                            },
                            "data": [
                                {
                                    "BudgetCategory": "Budget < 0",
                                    "Expenditures_LT_0": "0.44",
                                    "Expenditures_EQ_0": "1.76",
                                    "Expenditures_GT_0": "0.01",
                                    "ColSum": "2.21"
                                },
                                {
                                    "BudgetCategory": "Budget = 0",
                                    "Expenditures_LT_0": "0.84",
                                    "Expenditures_EQ_0": "21.96",
                                    "Expenditures_GT_0": "25.24",
                                    "ColSum": "48.04"
                                },
                                {
                                    "BudgetCategory": "Budget > 0",
                                    "Expenditures_LT_0": "0.08",
                                    "Expenditures_EQ_0": "11.22",
                                    "Expenditures_GT_0": "38.45",
                                    "ColSum": "49.76"
                                },
                                {
                                    "BudgetCategory": "RowSum",
                                    "Expenditures_LT_0": "1.36",
                                    "Expenditures_EQ_0": "34.94",
                                    "Expenditures_GT_0": "63.70",
                                    "ColSum": "100.00"
                                }
                            ]
                        },
                        "text/html": [
                            "<table>",
                            "<tr><th>BudgetCategory</th><th>Expenditures_LT_0</th><th>Expenditures_EQ_0</th><th>Expenditures_GT_0</th><th>ColSum</th></tr>",
                            "<tr><td>Budget &lt; 0</td><td>0.44</td><td>1.76</td><td>0.01</td><td>2.21</td></tr>",
                            "<tr><td>Budget = 0</td><td>0.84</td><td>21.96</td><td>25.24</td><td>48.04</td></tr>",
                            "<tr><td>Budget &gt; 0</td><td>0.08</td><td>11.22</td><td>38.45</td><td>49.76</td></tr>",
                            "<tr><td>RowSum</td><td>1.36</td><td>34.94</td><td>63.70</td><td>100.00</td></tr>",
                            "</table>"
                        ]
                    }
                }
            ],
            "execution_count": 187
        },
        {
            "cell_type": "markdown",
            "source": [
                "So from the margins, we can see that:\n",
                "\n",
                "1. **Budgets:** 2% have negative budgets, 48% have zero-valued budgets, and the other 50% have positive budgets.\n",
                "\n",
                "2. **Expenditures:** A bit over 1% have negative expenditures, 35% have zero-valued expenditures, and almost 64% have positive expenditures\n",
                "\n",
                "There are also additional specific observations:\n",
                "\n",
                "1. Almost 22% of the table is comprised of entries that have neither budget or expense.\n",
                "\n",
                "2. 0.01% (7 rows) have negative budget yet positive expenditure.\n",
                "\n",
                ""
            ],
            "metadata": {
                "azdata_cell_guid": "cb5b0ab6-486f-4b93-b143-851cafe7ce8e"
            },
            "attachments": {}
        },
        {
            "cell_type": "markdown",
            "source": [
                "## Questions:\n",
                "\n",
                "We have a little more insight into the data, so now we can pose some questions:\n",
                "\n",
                "1. Which departments are responsible for the majority of these logs?\n",
                "\n",
                "2. When grouped by department and for records with both positive budgets and expenditures, did any go beyond their budget?\n",
                "\n",
                "3. What were the most costly expenditures?"
            ],
            "metadata": {
                "azdata_cell_guid": "c01556d7-ff94-4c9e-8a10-14c5eb2b665b"
            },
            "attachments": {}
        },
        {
            "cell_type": "markdown",
            "source": [
                "So that we can re-use code with ease, we'll create some stored procedures that can take in an arbitrary column (so long as its categorical data). First we'll need to create a user-defined Type for our Table so that we can pass tables as parameters to the stored procedures to follow."
            ],
            "metadata": {
                "azdata_cell_guid": "ad0c0e86-2f70-47a5-b3f3-fc121c17b015"
            },
            "attachments": {}
        },
        {
            "cell_type": "code",
            "source": [
                "-- Delete TableType if cell has already been run before\n",
                "IF NOT EXISTS (SELECT * FROM sys.types WHERE is_table_type = 1 AND name = 'TableType')\n",
                "BEGIN\n",
                "    CREATE TYPE TableType AS TABLE\n",
                "    (\n",
                "        BUDGET_FISCAL_YEAR INT,\n",
                "        THRU_QUARTER INT,\n",
                "        DEPT_ROLLUP INT,\n",
                "        DEPT_ROLLUP_NAME NVARCHAR(MAX),  \n",
                "        DEPARTMENT_CODE INT,\n",
                "        DEPARTMENT_NAME NVARCHAR(MAX),   \n",
                "        FUND_CODE NVARCHAR(MAX),         \n",
                "        FUND_NAME NVARCHAR(MAX),         \n",
                "        PROGRAM_CODE NVARCHAR(MAX),      \n",
                "        PROGRAM_NAME NVARCHAR(MAX),      \n",
                "        ACTIVITY_CODE NVARCHAR(MAX),     \n",
                "        ACTIVITY_NAME NVARCHAR(MAX),     \n",
                "        UNIT_CODE NVARCHAR(MAX),         \n",
                "        UNIT_NAME NVARCHAR(MAX),         \n",
                "        EXPENSE_CODE NVARCHAR(MAX),      \n",
                "        EXPENSE_NAME NVARCHAR(MAX),      \n",
                "        BUDGET FLOAT,\n",
                "        EXPENDITURES FLOAT,\n",
                "        [KEY] NVARCHAR(MAX)\n",
                "    )\n",
                "END;\n",
                "GO"
            ],
            "metadata": {
                "azdata_cell_guid": "a8393c89-1785-40a6-b8c8-efcc466a8b24",
                "language": "sql"
            },
            "outputs": [
                {
                    "output_type": "display_data",
                    "data": {
                        "text/html": "Commands completed successfully."
                    },
                    "metadata": {}
                },
                {
                    "output_type": "display_data",
                    "data": {
                        "text/html": "Total execution time: 00:00:00.083"
                    },
                    "metadata": {}
                }
            ],
            "execution_count": 188
        },
        {
            "cell_type": "markdown",
            "source": [
                "Now we can define the procedures. One will be to simply count the number of distinct elements and the other to show the counts (as well as percentages and cumulative percentages) of each category."
            ],
            "metadata": {
                "azdata_cell_guid": "ce8f61c6-3c9b-433d-a611-b10586005b20"
            },
            "attachments": {}
        },
        {
            "cell_type": "markdown",
            "source": [
                "Here's the stored procedure to calculate the number of unique elements for a category:"
            ],
            "metadata": {
                "azdata_cell_guid": "50499a95-3164-4ee3-9ff6-79eed701f2c1"
            },
            "attachments": {}
        },
        {
            "cell_type": "code",
            "source": [
                "IF OBJECT_ID('NumUnique', 'P') IS NOT NULL\n",
                "    DROP PROCEDURE NumUnique;\n",
                "GO\n",
                "\n",
                "CREATE PROCEDURE NumUnique\n",
                "(\n",
                "    @Table_ TableType READONLY,  -- Table to read over\n",
                "    @Col NVARCHAR(128)           -- col to count distinct types for\n",
                ")\n",
                "AS\n",
                "BEGIN\n",
                "    DECLARE @SQL NVARCHAR(MAX);\n",
                "\n",
                "    -- Note: Can't put the QUOTENAME around @Col for the str concat after NumUnique_ - Will break!\n",
                "    -- spent *lots* of time trying to debug this in wrong directions.. :(\n",
                "    SET @SQL = N'\n",
                "    SELECT\n",
                "        COUNT(DISTINCT ' + QUOTENAME(@Col) + ') AS NumUnique_' + @Col + '\n",
                "    FROM @Table_';\n",
                "    \n",
                "    EXEC sp_executesql @SQL, N'@Table_ TableType READONLY', @Table_;\n",
                "END;\n",
                "GO"
            ],
            "metadata": {
                "azdata_cell_guid": "7e7e82bf-14ca-466f-81a4-70b04cc0482a",
                "language": "sql"
            },
            "outputs": [
                {
                    "output_type": "display_data",
                    "data": {
                        "text/html": "Commands completed successfully."
                    },
                    "metadata": {}
                },
                {
                    "output_type": "display_data",
                    "data": {
                        "text/html": "Commands completed successfully."
                    },
                    "metadata": {}
                },
                {
                    "output_type": "display_data",
                    "data": {
                        "text/html": "Total execution time: 00:00:00.138"
                    },
                    "metadata": {}
                }
            ],
            "execution_count": 189
        },
        {
            "cell_type": "markdown",
            "source": [
                "And here's the more-involved stored procedure that returns the ...\n",
                "\n",
                "1. unique value of the category\n",
                "2. raw number of counts\n",
                "3. percentage of those counts out of total,\n",
                "4. cumulative percentage of the counts for all unique values up to that row.\n",
                "\n",
                "Additionally, we'll also show the\n",
                "\n",
                "5. budget (in millions of \\$'s),\n",
                "6. expenditures (in millions of \\$'s),\n",
                "7. how much under-budget (e.g. budget - expense, also in millions of \\$'s)\n",
                "8. the percentage under-budget (e.g. 100 * [1 - expenses / budget]). Note that this can be > 100%."
            ],
            "metadata": {
                "language": "sql",
                "azdata_cell_guid": "f5babf3f-cd39-4099-9463-724e1b303eb1"
            },
            "attachments": {}
        },
        {
            "cell_type": "code",
            "source": [
                "IF OBJECT_ID('CategStats', 'P') IS NOT NULL\n",
                "    DROP PROCEDURE CategStats;\n",
                "GO\n",
                "\n",
                "CREATE PROCEDURE CategStats\n",
                "(\n",
                "    @Table_ TableType READONLY,  -- Table to read over\n",
                "    @Col NVARCHAR(128),          -- categ col to group by\n",
                "    @cutoff FLOAT = 100.0,       -- only get rows up to this cumul perc\n",
                "    @showbudget INT = 1          -- show budget-related cols if 1 / hide if 0\n",
                ")\n",
                "AS\n",
                "BEGIN\n",
                "    DECLARE @SQL NVARCHAR(MAX);\n",
                "\n",
                "    SET @SQL = N'\n",
                "    WITH dept_count AS\n",
                "    (\n",
                "        -- Step 1: Aggregate the data from the passed table\n",
                "        SELECT\n",
                "            ' + QUOTENAME(@Col) + ' AS Col,\n",
                "            COUNT(*) AS count_,\n",
                "            ' + CASE WHEN @showbudget = 1 \n",
                "                     THEN 'ROUND(SUM(BUDGET) / 1000000.0, 3) AS budget_M,\n",
                "                           ROUND(SUM(EXPENDITURES) / 1000000.0, 3) AS expend_M' \n",
                "                     ELSE 'NULL AS budget_M, \n",
                "                           NULL AS expend_M' \n",
                "                END + '\n",
                "        FROM \n",
                "            @Table_\n",
                "        GROUP BY\n",
                "            ' + QUOTENAME(@Col) + '\n",
                "    ),\n",
                "\n",
                "    perc_calc AS\n",
                "    (\n",
                "        SELECT\n",
                "            Col,\n",
                "            count_,\n",
                "            budget_M,\n",
                "            expend_M,\n",
                "            ' + CASE WHEN @showbudget = 1 \n",
                "                     THEN 'ROUND(budget_M - expend_M, 3) AS under_budget_M,\n",
                "                           CASE WHEN budget_M = 0 THEN NULL ELSE ROUND(100 * (1 - expend_M / budget_M), 2) END AS perc_under_budget' \n",
                "                     ELSE 'NULL AS under_budget_M, NULL AS perc_under_budget'\n",
                "                END + ',\n",
                "            ROUND(count_ * 100.0 / SUM(count_) OVER (), 2) AS perc\n",
                "        FROM\n",
                "            dept_count\n",
                "    ),\n",
                "    \n",
                "    cumul_calc AS\n",
                "    (\n",
                "        SELECT\n",
                "            Col,\n",
                "            count_,\n",
                "            budget_M,\n",
                "            expend_M,\n",
                "            under_budget_M,\n",
                "            perc_under_budget,\n",
                "            perc,\n",
                "            SUM(perc) OVER (ORDER BY count_ DESC) AS cumul_perc\n",
                "        FROM\n",
                "            perc_calc\n",
                "    )\n",
                "    \n",
                "    SELECT\n",
                "        Col AS [' + @Col + '],\n",
                "        count_,\n",
                "        CAST(perc AS DECIMAL(4,2)) AS perc,\n",
                "        CAST(cumul_perc AS DECIMAL(5,2)) AS cumul_perc' +\n",
                "        CASE WHEN @showbudget = 1 \n",
                "             THEN ', \n",
                "                   budget_M, \n",
                "                   expend_M, \n",
                "                   under_budget_M,\n",
                "                   perc_under_budget' \n",
                "             ELSE '' \n",
                "        END + '\n",
                "    FROM\n",
                "        cumul_calc\n",
                "    WHERE\n",
                "        cumul_perc <= ' + CAST(@cutoff AS NVARCHAR(10)) + ' -- Apply the cutoff to limit rows by cumulative percentage\n",
                "    ORDER BY\n",
                "        count_ DESC;\n",
                "    ';\n",
                "\n",
                "    EXEC sp_executesql @SQL, N'@Table_ TableType READONLY', @Table_;\n",
                "END;\n",
                "GO"
            ],
            "metadata": {
                "azdata_cell_guid": "77d0c91f-5847-45e5-b106-e56c8b84c935",
                "language": "sql"
            },
            "outputs": [
                {
                    "output_type": "display_data",
                    "data": {
                        "text/html": "Commands completed successfully."
                    },
                    "metadata": {}
                },
                {
                    "output_type": "display_data",
                    "data": {
                        "text/html": "Commands completed successfully."
                    },
                    "metadata": {}
                },
                {
                    "output_type": "display_data",
                    "data": {
                        "text/html": "Total execution time: 00:00:00.186"
                    },
                    "metadata": {}
                }
            ],
            "execution_count": 190
        },
        {
            "cell_type": "markdown",
            "source": [
                "With these procedures, we can easily analyze the distribution among the different columns. Now let's revisit the first question:\n",
                "\n",
                "### **Q1: Which departments are responsible for the majority of these logs?**"
            ],
            "metadata": {
                "azdata_cell_guid": "5d72554a-f874-48ee-afb0-355cef877f42"
            },
            "attachments": {}
        },
        {
            "cell_type": "code",
            "source": [
                "-- The procedure was defined to accept a table parameter, so we have to copy the\n",
                "-- original table to a table variable to accomadate.\n",
                "DECLARE @SubTable TableType;\n",
                "INSERT INTO @SubTable\n",
                "SELECT * \n",
                "FROM AustinTXData.budget;\n",
                "\n",
                "-- Get stats by Department\n",
                "EXEC NumUnique @SubTable, 'DEPARTMENT_NAME';\n",
                "EXEC CategStats @SubTable, 'DEPARTMENT_NAME', 99, 1;"
            ],
            "metadata": {
                "azdata_cell_guid": "51ada060-8433-4c6a-8bf9-eef2ee99a216",
                "language": "sql"
            },
            "outputs": [
                {
                    "output_type": "display_data",
                    "data": {
                        "text/html": "(58359 rows affected)"
                    },
                    "metadata": {}
                },
                {
                    "output_type": "display_data",
                    "data": {
                        "text/html": "(1 row affected)"
                    },
                    "metadata": {}
                },
                {
                    "output_type": "display_data",
                    "data": {
                        "text/html": "(33 rows affected)"
                    },
                    "metadata": {}
                },
                {
                    "output_type": "display_data",
                    "data": {
                        "text/html": "Total execution time: 00:00:00.620"
                    },
                    "metadata": {}
                },
                {
                    "output_type": "execute_result",
                    "metadata": {},
                    "execution_count": 191,
                    "data": {
                        "application/vnd.dataresource+json": {
                            "schema": {
                                "fields": [
                                    {
                                        "name": "NumUnique_DEPARTMENT_NAME"
                                    }
                                ]
                            },
                            "data": [
                                {
                                    "NumUnique_DEPARTMENT_NAME": "66"
                                }
                            ]
                        },
                        "text/html": [
                            "<table>",
                            "<tr><th>NumUnique_DEPARTMENT_NAME</th></tr>",
                            "<tr><td>66</td></tr>",
                            "</table>"
                        ]
                    }
                },
                {
                    "output_type": "execute_result",
                    "metadata": {},
                    "execution_count": 191,
                    "data": {
                        "application/vnd.dataresource+json": {
                            "schema": {
                                "fields": [
                                    {
                                        "name": "DEPARTMENT_NAME"
                                    },
                                    {
                                        "name": "count_"
                                    },
                                    {
                                        "name": "perc"
                                    },
                                    {
                                        "name": "cumul_perc"
                                    },
                                    {
                                        "name": "budget_M"
                                    },
                                    {
                                        "name": "expend_M"
                                    },
                                    {
                                        "name": "under_budget_M"
                                    },
                                    {
                                        "name": "perc_under_budget"
                                    }
                                ]
                            },
                            "data": [
                                {
                                    "DEPARTMENT_NAME": "Austin Energy",
                                    "count_": "7112",
                                    "perc": "12.19",
                                    "cumul_perc": "12.19",
                                    "budget_M": "1163.632",
                                    "expend_M": "1118.023",
                                    "under_budget_M": "45.609",
                                    "perc_under_budget": "3.92"
                                },
                                {
                                    "DEPARTMENT_NAME": "Austin Water",
                                    "count_": "7039",
                                    "perc": "12.06",
                                    "cumul_perc": "24.25",
                                    "budget_M": "785.946",
                                    "expend_M": "670.713",
                                    "under_budget_M": "115.233",
                                    "perc_under_budget": "14.66"
                                },
                                {
                                    "DEPARTMENT_NAME": "Parks and Recreation",
                                    "count_": "7016",
                                    "perc": "12.02",
                                    "cumul_perc": "36.27",
                                    "budget_M": "141.934",
                                    "expend_M": "129.55",
                                    "under_budget_M": "12.384",
                                    "perc_under_budget": "8.73"
                                },
                                {
                                    "DEPARTMENT_NAME": "Police",
                                    "count_": "4509",
                                    "perc": "7.73",
                                    "cumul_perc": "44.00",
                                    "budget_M": "485.871",
                                    "expend_M": "452.031",
                                    "under_budget_M": "33.84",
                                    "perc_under_budget": "6.96"
                                },
                                {
                                    "DEPARTMENT_NAME": "Transportation and Public Works",
                                    "count_": "2852",
                                    "perc": "4.89",
                                    "cumul_perc": "48.89",
                                    "budget_M": "228.288",
                                    "expend_M": "179.228",
                                    "under_budget_M": "49.06",
                                    "perc_under_budget": "21.49"
                                },
                                {
                                    "DEPARTMENT_NAME": "Austin Public Health",
                                    "count_": "2429",
                                    "perc": "4.16",
                                    "cumul_perc": "53.05",
                                    "budget_M": "76.106",
                                    "expend_M": "59.506",
                                    "under_budget_M": "16.6",
                                    "perc_under_budget": "21.81"
                                },
                                {
                                    "DEPARTMENT_NAME": "Watershed Protection",
                                    "count_": "1991",
                                    "perc": "3.41",
                                    "cumul_perc": "56.46",
                                    "budget_M": "115.191",
                                    "expend_M": "101.474",
                                    "under_budget_M": "13.717",
                                    "perc_under_budget": "11.91"
                                },
                                {
                                    "DEPARTMENT_NAME": "Development Services",
                                    "count_": "1966",
                                    "perc": "3.37",
                                    "cumul_perc": "59.83",
                                    "budget_M": "114.609",
                                    "expend_M": "102.888",
                                    "under_budget_M": "11.721",
                                    "perc_under_budget": "10.23"
                                },
                                {
                                    "DEPARTMENT_NAME": "Aviation",
                                    "count_": "1855",
                                    "perc": "3.18",
                                    "cumul_perc": "63.01",
                                    "budget_M": "376.302",
                                    "expend_M": "247.226",
                                    "under_budget_M": "129.076",
                                    "perc_under_budget": "34.3"
                                },
                                {
                                    "DEPARTMENT_NAME": "Austin Resource Recovery",
                                    "count_": "1677",
                                    "perc": "2.87",
                                    "cumul_perc": "65.88",
                                    "budget_M": "126.102",
                                    "expend_M": "113.952",
                                    "under_budget_M": "12.15",
                                    "perc_under_budget": "9.64"
                                },
                                {
                                    "DEPARTMENT_NAME": "Austin Convention Center",
                                    "count_": "1517",
                                    "perc": "2.60",
                                    "cumul_perc": "68.48",
                                    "budget_M": "368.871",
                                    "expend_M": "295.886",
                                    "under_budget_M": "72.985",
                                    "perc_under_budget": "19.79"
                                },
                                {
                                    "DEPARTMENT_NAME": "Financial Services",
                                    "count_": "1432",
                                    "perc": "2.45",
                                    "cumul_perc": "70.93",
                                    "budget_M": "113.661",
                                    "expend_M": "91.837",
                                    "under_budget_M": "21.824",
                                    "perc_under_budget": "19.2"
                                },
                                {
                                    "DEPARTMENT_NAME": "Austin Transportation",
                                    "count_": "1417",
                                    "perc": "2.43",
                                    "cumul_perc": "73.36",
                                    "budget_M": "0",
                                    "expend_M": "-0.782",
                                    "under_budget_M": "0.782",
                                    "perc_under_budget": "NULL"
                                },
                                {
                                    "DEPARTMENT_NAME": "Fire",
                                    "count_": "1305",
                                    "perc": "2.24",
                                    "cumul_perc": "75.60",
                                    "budget_M": "248.124",
                                    "expend_M": "237.179",
                                    "under_budget_M": "10.945",
                                    "perc_under_budget": "4.41"
                                },
                                {
                                    "DEPARTMENT_NAME": "Emergency Medical Services",
                                    "count_": "1291",
                                    "perc": "2.21",
                                    "cumul_perc": "77.81",
                                    "budget_M": "129.851",
                                    "expend_M": "119.753",
                                    "under_budget_M": "10.098",
                                    "perc_under_budget": "7.78"
                                },
                                {
                                    "DEPARTMENT_NAME": "Communications and Technology Management",
                                    "count_": "1192",
                                    "perc": "2.04",
                                    "cumul_perc": "79.85",
                                    "budget_M": "124.04",
                                    "expend_M": "105.819",
                                    "under_budget_M": "18.221",
                                    "perc_under_budget": "14.69"
                                },
                                {
                                    "DEPARTMENT_NAME": "Capital Delivery Services",
                                    "count_": "1149",
                                    "perc": "1.97",
                                    "cumul_perc": "81.82",
                                    "budget_M": "56.377",
                                    "expend_M": "48.03",
                                    "under_budget_M": "8.347",
                                    "perc_under_budget": "14.81"
                                },
                                {
                                    "DEPARTMENT_NAME": "Building Services",
                                    "count_": "1107",
                                    "perc": "1.90",
                                    "cumul_perc": "83.72",
                                    "budget_M": "35.365",
                                    "expend_M": "32.745",
                                    "under_budget_M": "2.62",
                                    "perc_under_budget": "7.41"
                                },
                                {
                                    "DEPARTMENT_NAME": "Fleet Mobility Services",
                                    "count_": "1093",
                                    "perc": "1.87",
                                    "cumul_perc": "85.59",
                                    "budget_M": "75.425",
                                    "expend_M": "70.079",
                                    "under_budget_M": "5.346",
                                    "perc_under_budget": "7.09"
                                },
                                {
                                    "DEPARTMENT_NAME": "Management Services",
                                    "count_": "1029",
                                    "perc": "1.76",
                                    "cumul_perc": "87.35",
                                    "budget_M": "31.893",
                                    "expend_M": "23.983",
                                    "under_budget_M": "7.91",
                                    "perc_under_budget": "24.8"
                                },
                                {
                                    "DEPARTMENT_NAME": "Austin Public Library",
                                    "count_": "1010",
                                    "perc": "1.73",
                                    "cumul_perc": "89.08",
                                    "budget_M": "71.918",
                                    "expend_M": "64.113",
                                    "under_budget_M": "7.805",
                                    "perc_under_budget": "10.85"
                                },
                                {
                                    "DEPARTMENT_NAME": "Human Resources",
                                    "count_": "768",
                                    "perc": "1.32",
                                    "cumul_perc": "90.40",
                                    "budget_M": "367.3",
                                    "expend_M": "324.439",
                                    "under_budget_M": "42.861",
                                    "perc_under_budget": "11.67"
                                },
                                {
                                    "DEPARTMENT_NAME": "Municipal Court",
                                    "count_": "712",
                                    "perc": "1.22",
                                    "cumul_perc": "91.62",
                                    "budget_M": "42.426",
                                    "expend_M": "36.184",
                                    "under_budget_M": "6.242",
                                    "perc_under_budget": "14.71"
                                },
                                {
                                    "DEPARTMENT_NAME": "Austin Code",
                                    "count_": "593",
                                    "perc": "1.02",
                                    "cumul_perc": "92.64",
                                    "budget_M": "0",
                                    "expend_M": "0",
                                    "under_budget_M": "0",
                                    "perc_under_budget": "NULL"
                                },
                                {
                                    "DEPARTMENT_NAME": "Economic Development",
                                    "count_": "579",
                                    "perc": "0.99",
                                    "cumul_perc": "93.63",
                                    "budget_M": "125.139",
                                    "expend_M": "72.267",
                                    "under_budget_M": "52.872",
                                    "perc_under_budget": "42.25"
                                },
                                {
                                    "DEPARTMENT_NAME": "Mayor and Council",
                                    "count_": "497",
                                    "perc": "0.85",
                                    "cumul_perc": "94.48",
                                    "budget_M": "11.647",
                                    "expend_M": "9.201",
                                    "under_budget_M": "2.446",
                                    "perc_under_budget": "21"
                                },
                                {
                                    "DEPARTMENT_NAME": "Animal Services",
                                    "count_": "443",
                                    "perc": "0.76",
                                    "cumul_perc": "95.24",
                                    "budget_M": "21.638",
                                    "expend_M": "18.795",
                                    "under_budget_M": "2.843",
                                    "perc_under_budget": "13.14"
                                },
                                {
                                    "DEPARTMENT_NAME": "Law",
                                    "count_": "440",
                                    "perc": "0.75",
                                    "cumul_perc": "95.99",
                                    "budget_M": "25.701",
                                    "expend_M": "22.673",
                                    "under_budget_M": "3.028",
                                    "perc_under_budget": "11.78"
                                },
                                {
                                    "DEPARTMENT_NAME": "Housing",
                                    "count_": "416",
                                    "perc": "0.71",
                                    "cumul_perc": "96.70",
                                    "budget_M": "59.724",
                                    "expend_M": "33.795",
                                    "under_budget_M": "25.929",
                                    "perc_under_budget": "43.41"
                                },
                                {
                                    "DEPARTMENT_NAME": "Forensic Science",
                                    "count_": "359",
                                    "perc": "0.62",
                                    "cumul_perc": "97.32",
                                    "budget_M": "14.251",
                                    "expend_M": "10.391",
                                    "under_budget_M": "3.86",
                                    "perc_under_budget": "27.09"
                                },
                                {
                                    "DEPARTMENT_NAME": "Communications and Public Information",
                                    "count_": "347",
                                    "perc": "0.59",
                                    "cumul_perc": "97.91",
                                    "budget_M": "8.795",
                                    "expend_M": "6.983",
                                    "under_budget_M": "1.812",
                                    "perc_under_budget": "20.6"
                                },
                                {
                                    "DEPARTMENT_NAME": "Planning",
                                    "count_": "333",
                                    "perc": "0.57",
                                    "cumul_perc": "98.48",
                                    "budget_M": "10.282",
                                    "expend_M": "8.913",
                                    "under_budget_M": "1.369",
                                    "perc_under_budget": "13.31"
                                },
                                {
                                    "DEPARTMENT_NAME": "Wireless Communication Services",
                                    "count_": "249",
                                    "perc": "0.43",
                                    "cumul_perc": "98.91",
                                    "budget_M": "20.657",
                                    "expend_M": "15.988",
                                    "under_budget_M": "4.669",
                                    "perc_under_budget": "22.6"
                                }
                            ]
                        },
                        "text/html": [
                            "<table>",
                            "<tr><th>DEPARTMENT_NAME</th><th>count_</th><th>perc</th><th>cumul_perc</th><th>budget_M</th><th>expend_M</th><th>under_budget_M</th><th>perc_under_budget</th></tr>",
                            "<tr><td>Austin Energy</td><td>7112</td><td>12.19</td><td>12.19</td><td>1163.632</td><td>1118.023</td><td>45.609</td><td>3.92</td></tr>",
                            "<tr><td>Austin Water</td><td>7039</td><td>12.06</td><td>24.25</td><td>785.946</td><td>670.713</td><td>115.233</td><td>14.66</td></tr>",
                            "<tr><td>Parks and Recreation</td><td>7016</td><td>12.02</td><td>36.27</td><td>141.934</td><td>129.55</td><td>12.384</td><td>8.73</td></tr>",
                            "<tr><td>Police</td><td>4509</td><td>7.73</td><td>44.00</td><td>485.871</td><td>452.031</td><td>33.84</td><td>6.96</td></tr>",
                            "<tr><td>Transportation and Public Works</td><td>2852</td><td>4.89</td><td>48.89</td><td>228.288</td><td>179.228</td><td>49.06</td><td>21.49</td></tr>",
                            "<tr><td>Austin Public Health</td><td>2429</td><td>4.16</td><td>53.05</td><td>76.106</td><td>59.506</td><td>16.6</td><td>21.81</td></tr>",
                            "<tr><td>Watershed Protection</td><td>1991</td><td>3.41</td><td>56.46</td><td>115.191</td><td>101.474</td><td>13.717</td><td>11.91</td></tr>",
                            "<tr><td>Development Services</td><td>1966</td><td>3.37</td><td>59.83</td><td>114.609</td><td>102.888</td><td>11.721</td><td>10.23</td></tr>",
                            "<tr><td>Aviation</td><td>1855</td><td>3.18</td><td>63.01</td><td>376.302</td><td>247.226</td><td>129.076</td><td>34.3</td></tr>",
                            "<tr><td>Austin Resource Recovery</td><td>1677</td><td>2.87</td><td>65.88</td><td>126.102</td><td>113.952</td><td>12.15</td><td>9.64</td></tr>",
                            "<tr><td>Austin Convention Center</td><td>1517</td><td>2.60</td><td>68.48</td><td>368.871</td><td>295.886</td><td>72.985</td><td>19.79</td></tr>",
                            "<tr><td>Financial Services</td><td>1432</td><td>2.45</td><td>70.93</td><td>113.661</td><td>91.837</td><td>21.824</td><td>19.2</td></tr>",
                            "<tr><td>Austin Transportation</td><td>1417</td><td>2.43</td><td>73.36</td><td>0</td><td>-0.782</td><td>0.782</td><td>NULL</td></tr>",
                            "<tr><td>Fire</td><td>1305</td><td>2.24</td><td>75.60</td><td>248.124</td><td>237.179</td><td>10.945</td><td>4.41</td></tr>",
                            "<tr><td>Emergency Medical Services</td><td>1291</td><td>2.21</td><td>77.81</td><td>129.851</td><td>119.753</td><td>10.098</td><td>7.78</td></tr>",
                            "<tr><td>Communications and Technology Management</td><td>1192</td><td>2.04</td><td>79.85</td><td>124.04</td><td>105.819</td><td>18.221</td><td>14.69</td></tr>",
                            "<tr><td>Capital Delivery Services</td><td>1149</td><td>1.97</td><td>81.82</td><td>56.377</td><td>48.03</td><td>8.347</td><td>14.81</td></tr>",
                            "<tr><td>Building Services</td><td>1107</td><td>1.90</td><td>83.72</td><td>35.365</td><td>32.745</td><td>2.62</td><td>7.41</td></tr>",
                            "<tr><td>Fleet Mobility Services</td><td>1093</td><td>1.87</td><td>85.59</td><td>75.425</td><td>70.079</td><td>5.346</td><td>7.09</td></tr>",
                            "<tr><td>Management Services</td><td>1029</td><td>1.76</td><td>87.35</td><td>31.893</td><td>23.983</td><td>7.91</td><td>24.8</td></tr>",
                            "<tr><td>Austin Public Library</td><td>1010</td><td>1.73</td><td>89.08</td><td>71.918</td><td>64.113</td><td>7.805</td><td>10.85</td></tr>",
                            "<tr><td>Human Resources</td><td>768</td><td>1.32</td><td>90.40</td><td>367.3</td><td>324.439</td><td>42.861</td><td>11.67</td></tr>",
                            "<tr><td>Municipal Court</td><td>712</td><td>1.22</td><td>91.62</td><td>42.426</td><td>36.184</td><td>6.242</td><td>14.71</td></tr>",
                            "<tr><td>Austin Code</td><td>593</td><td>1.02</td><td>92.64</td><td>0</td><td>0</td><td>0</td><td>NULL</td></tr>",
                            "<tr><td>Economic Development</td><td>579</td><td>0.99</td><td>93.63</td><td>125.139</td><td>72.267</td><td>52.872</td><td>42.25</td></tr>",
                            "<tr><td>Mayor and Council</td><td>497</td><td>0.85</td><td>94.48</td><td>11.647</td><td>9.201</td><td>2.446</td><td>21</td></tr>",
                            "<tr><td>Animal Services</td><td>443</td><td>0.76</td><td>95.24</td><td>21.638</td><td>18.795</td><td>2.843</td><td>13.14</td></tr>",
                            "<tr><td>Law</td><td>440</td><td>0.75</td><td>95.99</td><td>25.701</td><td>22.673</td><td>3.028</td><td>11.78</td></tr>",
                            "<tr><td>Housing</td><td>416</td><td>0.71</td><td>96.70</td><td>59.724</td><td>33.795</td><td>25.929</td><td>43.41</td></tr>",
                            "<tr><td>Forensic Science</td><td>359</td><td>0.62</td><td>97.32</td><td>14.251</td><td>10.391</td><td>3.86</td><td>27.09</td></tr>",
                            "<tr><td>Communications and Public Information</td><td>347</td><td>0.59</td><td>97.91</td><td>8.795</td><td>6.983</td><td>1.812</td><td>20.6</td></tr>",
                            "<tr><td>Planning</td><td>333</td><td>0.57</td><td>98.48</td><td>10.282</td><td>8.913</td><td>1.369</td><td>13.31</td></tr>",
                            "<tr><td>Wireless Communication Services</td><td>249</td><td>0.43</td><td>98.91</td><td>20.657</td><td>15.988</td><td>4.669</td><td>22.6</td></tr>",
                            "</table>"
                        ]
                    }
                }
            ],
            "execution_count": 191
        },
        {
            "cell_type": "markdown",
            "source": [
                "The top 3 are about evenly collectively responsible for 36% of the logs with diminishing percentages for the subsequent departments. It almost matches a stereotypical Pareto distribution (\"20% of the members are responsible for 80% of the output\", although here's that's more like 70%). However, these results include the logs with negative budgets as well as zero-valued budgets and expenditures. The plot of the percentage as a function of department (up to cumulative 99%) with color cording according to the total budget (in millions of dollars) is shown below:\n",
                "\n",
                "![title](plots/perc_DepartmentName_BudgetM.png)\n",
                "\n",
                "### **Q1 Answer: Austin Energy (12.19%), Austin Water (12.06%), Parks and Recreation (12.02%), Police (7.73%), and Transportation and Public Works (4.89%) generated almost 49% of the logs - but this does not exclude \"atypical\" logs involving zero-valued budget and expenditures.**"
            ],
            "metadata": {
                "azdata_cell_guid": "97576f8c-bb8c-477a-93dc-f471f3142476"
            },
            "attachments": {}
        },
        {
            "cell_type": "markdown",
            "source": [
                "### **Q2: When grouped by department and for records with both positive budgets and expenditures, did any go beyond their budget?**\n",
                "\n",
                "Now that we can analyze categorical data easily and effectively, we'll look at the distributions for data where both budget AND expense are > 0. "
            ],
            "metadata": {
                "azdata_cell_guid": "e2611ddd-3328-45cc-84e5-853d2f7d3e49"
            },
            "attachments": {}
        },
        {
            "cell_type": "code",
            "source": [
                "--Create table just for budgets, expenses > 0\n",
                "DECLARE @SubTable TableType;\n",
                "INSERT INTO @SubTable\n",
                "SELECT * \n",
                "FROM AustinTXData.budget\n",
                "WHERE BUDGET > 0 AND EXPENDITURES > 0;\n",
                "\n",
                "-- Compute the stats\n",
                "EXEC NumUnique @SubTable, 'DEPARTMENT_NAME';\n",
                "EXEC CategStats @SubTable, 'DEPARTMENT_NAME', 99, 1;"
            ],
            "metadata": {
                "azdata_cell_guid": "f0a40f3c-d808-4a38-a746-8f13ddde1621",
                "language": "sql",
                "tags": []
            },
            "outputs": [
                {
                    "output_type": "display_data",
                    "data": {
                        "text/html": "(22441 rows affected)"
                    },
                    "metadata": {}
                },
                {
                    "output_type": "display_data",
                    "data": {
                        "text/html": "(1 row affected)"
                    },
                    "metadata": {}
                },
                {
                    "output_type": "display_data",
                    "data": {
                        "text/html": "(31 rows affected)"
                    },
                    "metadata": {}
                },
                {
                    "output_type": "display_data",
                    "data": {
                        "text/html": "Total execution time: 00:00:00.419"
                    },
                    "metadata": {}
                },
                {
                    "output_type": "execute_result",
                    "metadata": {},
                    "execution_count": 192,
                    "data": {
                        "application/vnd.dataresource+json": {
                            "schema": {
                                "fields": [
                                    {
                                        "name": "NumUnique_DEPARTMENT_NAME"
                                    }
                                ]
                            },
                            "data": [
                                {
                                    "NumUnique_DEPARTMENT_NAME": "59"
                                }
                            ]
                        },
                        "text/html": [
                            "<table>",
                            "<tr><th>NumUnique_DEPARTMENT_NAME</th></tr>",
                            "<tr><td>59</td></tr>",
                            "</table>"
                        ]
                    }
                },
                {
                    "output_type": "execute_result",
                    "metadata": {},
                    "execution_count": 192,
                    "data": {
                        "application/vnd.dataresource+json": {
                            "schema": {
                                "fields": [
                                    {
                                        "name": "DEPARTMENT_NAME"
                                    },
                                    {
                                        "name": "count_"
                                    },
                                    {
                                        "name": "perc"
                                    },
                                    {
                                        "name": "cumul_perc"
                                    },
                                    {
                                        "name": "budget_M"
                                    },
                                    {
                                        "name": "expend_M"
                                    },
                                    {
                                        "name": "under_budget_M"
                                    },
                                    {
                                        "name": "perc_under_budget"
                                    }
                                ]
                            },
                            "data": [
                                {
                                    "DEPARTMENT_NAME": "Austin Water",
                                    "count_": "3230",
                                    "perc": "14.39",
                                    "cumul_perc": "14.39",
                                    "budget_M": "789.785",
                                    "expend_M": "654.601",
                                    "under_budget_M": "135.184",
                                    "perc_under_budget": "17.12"
                                },
                                {
                                    "DEPARTMENT_NAME": "Parks and Recreation",
                                    "count_": "2897",
                                    "perc": "12.91",
                                    "cumul_perc": "27.30",
                                    "budget_M": "150.741",
                                    "expend_M": "125.58",
                                    "under_budget_M": "25.161",
                                    "perc_under_budget": "16.69"
                                },
                                {
                                    "DEPARTMENT_NAME": "Austin Energy",
                                    "count_": "2761",
                                    "perc": "12.30",
                                    "cumul_perc": "39.60",
                                    "budget_M": "1264.575",
                                    "expend_M": "1116.959",
                                    "under_budget_M": "147.616",
                                    "perc_under_budget": "11.67"
                                },
                                {
                                    "DEPARTMENT_NAME": "Police",
                                    "count_": "1662",
                                    "perc": "7.41",
                                    "cumul_perc": "47.01",
                                    "budget_M": "506.572",
                                    "expend_M": "413.447",
                                    "under_budget_M": "93.125",
                                    "perc_under_budget": "18.38"
                                },
                                {
                                    "DEPARTMENT_NAME": "Transportation and Public Works",
                                    "count_": "1199",
                                    "perc": "5.34",
                                    "cumul_perc": "52.35",
                                    "budget_M": "234.894",
                                    "expend_M": "170.239",
                                    "under_budget_M": "64.655",
                                    "perc_under_budget": "27.53"
                                },
                                {
                                    "DEPARTMENT_NAME": "Austin Public Health",
                                    "count_": "846",
                                    "perc": "3.77",
                                    "cumul_perc": "56.12",
                                    "budget_M": "68.36",
                                    "expend_M": "55.824",
                                    "under_budget_M": "12.536",
                                    "perc_under_budget": "18.34"
                                },
                                {
                                    "DEPARTMENT_NAME": "Austin Resource Recovery",
                                    "count_": "799",
                                    "perc": "3.56",
                                    "cumul_perc": "59.68",
                                    "budget_M": "128.545",
                                    "expend_M": "108.548",
                                    "under_budget_M": "19.997",
                                    "perc_under_budget": "15.56"
                                },
                                {
                                    "DEPARTMENT_NAME": "Watershed Protection",
                                    "count_": "754",
                                    "perc": "3.36",
                                    "cumul_perc": "63.04",
                                    "budget_M": "121.382",
                                    "expend_M": "93.904",
                                    "under_budget_M": "27.478",
                                    "perc_under_budget": "22.64"
                                },
                                {
                                    "DEPARTMENT_NAME": "Development Services",
                                    "count_": "719",
                                    "perc": "3.20",
                                    "cumul_perc": "66.24",
                                    "budget_M": "121.614",
                                    "expend_M": "95.404",
                                    "under_budget_M": "26.21",
                                    "perc_under_budget": "21.55"
                                },
                                {
                                    "DEPARTMENT_NAME": "Aviation",
                                    "count_": "715",
                                    "perc": "3.19",
                                    "cumul_perc": "69.43",
                                    "budget_M": "296.022",
                                    "expend_M": "239.303",
                                    "under_budget_M": "56.719",
                                    "perc_under_budget": "19.16"
                                },
                                {
                                    "DEPARTMENT_NAME": "Austin Convention Center",
                                    "count_": "640",
                                    "perc": "2.85",
                                    "cumul_perc": "72.28",
                                    "budget_M": "364.789",
                                    "expend_M": "294.131",
                                    "under_budget_M": "70.658",
                                    "perc_under_budget": "19.37"
                                },
                                {
                                    "DEPARTMENT_NAME": "Fire",
                                    "count_": "530",
                                    "perc": "2.36",
                                    "cumul_perc": "74.64",
                                    "budget_M": "262.13",
                                    "expend_M": "221.022",
                                    "under_budget_M": "41.108",
                                    "perc_under_budget": "15.68"
                                },
                                {
                                    "DEPARTMENT_NAME": "Emergency Medical Services",
                                    "count_": "507",
                                    "perc": "2.26",
                                    "cumul_perc": "76.90",
                                    "budget_M": "135.766",
                                    "expend_M": "110.159",
                                    "under_budget_M": "25.607",
                                    "perc_under_budget": "18.86"
                                },
                                {
                                    "DEPARTMENT_NAME": "Fleet Mobility Services",
                                    "count_": "499",
                                    "perc": "2.22",
                                    "cumul_perc": "79.12",
                                    "budget_M": "77.006",
                                    "expend_M": "66.556",
                                    "under_budget_M": "10.45",
                                    "perc_under_budget": "13.57"
                                },
                                {
                                    "DEPARTMENT_NAME": "Communications and Technology Management",
                                    "count_": "492",
                                    "perc": "2.19",
                                    "cumul_perc": "81.31",
                                    "budget_M": "130.247",
                                    "expend_M": "101.359",
                                    "under_budget_M": "28.888",
                                    "perc_under_budget": "22.18"
                                },
                                {
                                    "DEPARTMENT_NAME": "Financial Services",
                                    "count_": "466",
                                    "perc": "2.08",
                                    "cumul_perc": "83.39",
                                    "budget_M": "116.791",
                                    "expend_M": "88.305",
                                    "under_budget_M": "28.486",
                                    "perc_under_budget": "24.39"
                                },
                                {
                                    "DEPARTMENT_NAME": "Building Services",
                                    "count_": "403",
                                    "perc": "1.80",
                                    "cumul_perc": "85.19",
                                    "budget_M": "42.71",
                                    "expend_M": "33.961",
                                    "under_budget_M": "8.749",
                                    "perc_under_budget": "20.48"
                                },
                                {
                                    "DEPARTMENT_NAME": "Capital Delivery Services",
                                    "count_": "354",
                                    "perc": "1.58",
                                    "cumul_perc": "86.77",
                                    "budget_M": "57.949",
                                    "expend_M": "43.396",
                                    "under_budget_M": "14.553",
                                    "perc_under_budget": "25.11"
                                },
                                {
                                    "DEPARTMENT_NAME": "Management Services",
                                    "count_": "350",
                                    "perc": "1.56",
                                    "cumul_perc": "88.33",
                                    "budget_M": "33.758",
                                    "expend_M": "22.013",
                                    "under_budget_M": "11.745",
                                    "perc_under_budget": "34.79"
                                },
                                {
                                    "DEPARTMENT_NAME": "Human Resources",
                                    "count_": "325",
                                    "perc": "1.45",
                                    "cumul_perc": "89.78",
                                    "budget_M": "390.285",
                                    "expend_M": "346.651",
                                    "under_budget_M": "43.634",
                                    "perc_under_budget": "11.18"
                                },
                                {
                                    "DEPARTMENT_NAME": "Austin Public Library",
                                    "count_": "319",
                                    "perc": "1.42",
                                    "cumul_perc": "91.20",
                                    "budget_M": "73.691",
                                    "expend_M": "58.435",
                                    "under_budget_M": "15.256",
                                    "perc_under_budget": "20.7"
                                },
                                {
                                    "DEPARTMENT_NAME": "Municipal Court",
                                    "count_": "280",
                                    "perc": "1.25",
                                    "cumul_perc": "92.45",
                                    "budget_M": "40.862",
                                    "expend_M": "33.184",
                                    "under_budget_M": "7.678",
                                    "perc_under_budget": "18.79"
                                },
                                {
                                    "DEPARTMENT_NAME": "Economic Development",
                                    "count_": "249",
                                    "perc": "1.11",
                                    "cumul_perc": "93.56",
                                    "budget_M": "114.222",
                                    "expend_M": "71.718",
                                    "under_budget_M": "42.504",
                                    "perc_under_budget": "37.21"
                                },
                                {
                                    "DEPARTMENT_NAME": "Animal Services",
                                    "count_": "216",
                                    "perc": "0.96",
                                    "cumul_perc": "94.52",
                                    "budget_M": "22.17",
                                    "expend_M": "17.365",
                                    "under_budget_M": "4.805",
                                    "perc_under_budget": "21.67"
                                },
                                {
                                    "DEPARTMENT_NAME": "Mayor and Council",
                                    "count_": "200",
                                    "perc": "0.89",
                                    "cumul_perc": "95.41",
                                    "budget_M": "9.05",
                                    "expend_M": "8.583",
                                    "under_budget_M": "0.467",
                                    "perc_under_budget": "5.16"
                                },
                                {
                                    "DEPARTMENT_NAME": "Forensic Science",
                                    "count_": "154",
                                    "perc": "0.69",
                                    "cumul_perc": "96.10",
                                    "budget_M": "14.631",
                                    "expend_M": "9.191",
                                    "under_budget_M": "5.44",
                                    "perc_under_budget": "37.18"
                                },
                                {
                                    "DEPARTMENT_NAME": "Law",
                                    "count_": "138",
                                    "perc": "0.61",
                                    "cumul_perc": "96.71",
                                    "budget_M": "20.795",
                                    "expend_M": "16.045",
                                    "under_budget_M": "4.75",
                                    "perc_under_budget": "22.84"
                                },
                                {
                                    "DEPARTMENT_NAME": "Communications and Public Information",
                                    "count_": "131",
                                    "perc": "0.58",
                                    "cumul_perc": "97.29",
                                    "budget_M": "9.097",
                                    "expend_M": "6.115",
                                    "under_budget_M": "2.982",
                                    "perc_under_budget": "32.78"
                                },
                                {
                                    "DEPARTMENT_NAME": "Planning",
                                    "count_": "130",
                                    "perc": "0.58",
                                    "cumul_perc": "97.87",
                                    "budget_M": "11.59",
                                    "expend_M": "7.702",
                                    "under_budget_M": "3.888",
                                    "perc_under_budget": "33.55"
                                },
                                {
                                    "DEPARTMENT_NAME": "Wireless Communication Services",
                                    "count_": "108",
                                    "perc": "0.48",
                                    "cumul_perc": "98.35",
                                    "budget_M": "20.946",
                                    "expend_M": "15.687",
                                    "under_budget_M": "5.259",
                                    "perc_under_budget": "25.11"
                                },
                                {
                                    "DEPARTMENT_NAME": "Housing",
                                    "count_": "83",
                                    "perc": "0.37",
                                    "cumul_perc": "98.72",
                                    "budget_M": "25.528",
                                    "expend_M": "18.5",
                                    "under_budget_M": "7.028",
                                    "perc_under_budget": "27.53"
                                }
                            ]
                        },
                        "text/html": [
                            "<table>",
                            "<tr><th>DEPARTMENT_NAME</th><th>count_</th><th>perc</th><th>cumul_perc</th><th>budget_M</th><th>expend_M</th><th>under_budget_M</th><th>perc_under_budget</th></tr>",
                            "<tr><td>Austin Water</td><td>3230</td><td>14.39</td><td>14.39</td><td>789.785</td><td>654.601</td><td>135.184</td><td>17.12</td></tr>",
                            "<tr><td>Parks and Recreation</td><td>2897</td><td>12.91</td><td>27.30</td><td>150.741</td><td>125.58</td><td>25.161</td><td>16.69</td></tr>",
                            "<tr><td>Austin Energy</td><td>2761</td><td>12.30</td><td>39.60</td><td>1264.575</td><td>1116.959</td><td>147.616</td><td>11.67</td></tr>",
                            "<tr><td>Police</td><td>1662</td><td>7.41</td><td>47.01</td><td>506.572</td><td>413.447</td><td>93.125</td><td>18.38</td></tr>",
                            "<tr><td>Transportation and Public Works</td><td>1199</td><td>5.34</td><td>52.35</td><td>234.894</td><td>170.239</td><td>64.655</td><td>27.53</td></tr>",
                            "<tr><td>Austin Public Health</td><td>846</td><td>3.77</td><td>56.12</td><td>68.36</td><td>55.824</td><td>12.536</td><td>18.34</td></tr>",
                            "<tr><td>Austin Resource Recovery</td><td>799</td><td>3.56</td><td>59.68</td><td>128.545</td><td>108.548</td><td>19.997</td><td>15.56</td></tr>",
                            "<tr><td>Watershed Protection</td><td>754</td><td>3.36</td><td>63.04</td><td>121.382</td><td>93.904</td><td>27.478</td><td>22.64</td></tr>",
                            "<tr><td>Development Services</td><td>719</td><td>3.20</td><td>66.24</td><td>121.614</td><td>95.404</td><td>26.21</td><td>21.55</td></tr>",
                            "<tr><td>Aviation</td><td>715</td><td>3.19</td><td>69.43</td><td>296.022</td><td>239.303</td><td>56.719</td><td>19.16</td></tr>",
                            "<tr><td>Austin Convention Center</td><td>640</td><td>2.85</td><td>72.28</td><td>364.789</td><td>294.131</td><td>70.658</td><td>19.37</td></tr>",
                            "<tr><td>Fire</td><td>530</td><td>2.36</td><td>74.64</td><td>262.13</td><td>221.022</td><td>41.108</td><td>15.68</td></tr>",
                            "<tr><td>Emergency Medical Services</td><td>507</td><td>2.26</td><td>76.90</td><td>135.766</td><td>110.159</td><td>25.607</td><td>18.86</td></tr>",
                            "<tr><td>Fleet Mobility Services</td><td>499</td><td>2.22</td><td>79.12</td><td>77.006</td><td>66.556</td><td>10.45</td><td>13.57</td></tr>",
                            "<tr><td>Communications and Technology Management</td><td>492</td><td>2.19</td><td>81.31</td><td>130.247</td><td>101.359</td><td>28.888</td><td>22.18</td></tr>",
                            "<tr><td>Financial Services</td><td>466</td><td>2.08</td><td>83.39</td><td>116.791</td><td>88.305</td><td>28.486</td><td>24.39</td></tr>",
                            "<tr><td>Building Services</td><td>403</td><td>1.80</td><td>85.19</td><td>42.71</td><td>33.961</td><td>8.749</td><td>20.48</td></tr>",
                            "<tr><td>Capital Delivery Services</td><td>354</td><td>1.58</td><td>86.77</td><td>57.949</td><td>43.396</td><td>14.553</td><td>25.11</td></tr>",
                            "<tr><td>Management Services</td><td>350</td><td>1.56</td><td>88.33</td><td>33.758</td><td>22.013</td><td>11.745</td><td>34.79</td></tr>",
                            "<tr><td>Human Resources</td><td>325</td><td>1.45</td><td>89.78</td><td>390.285</td><td>346.651</td><td>43.634</td><td>11.18</td></tr>",
                            "<tr><td>Austin Public Library</td><td>319</td><td>1.42</td><td>91.20</td><td>73.691</td><td>58.435</td><td>15.256</td><td>20.7</td></tr>",
                            "<tr><td>Municipal Court</td><td>280</td><td>1.25</td><td>92.45</td><td>40.862</td><td>33.184</td><td>7.678</td><td>18.79</td></tr>",
                            "<tr><td>Economic Development</td><td>249</td><td>1.11</td><td>93.56</td><td>114.222</td><td>71.718</td><td>42.504</td><td>37.21</td></tr>",
                            "<tr><td>Animal Services</td><td>216</td><td>0.96</td><td>94.52</td><td>22.17</td><td>17.365</td><td>4.805</td><td>21.67</td></tr>",
                            "<tr><td>Mayor and Council</td><td>200</td><td>0.89</td><td>95.41</td><td>9.05</td><td>8.583</td><td>0.467</td><td>5.16</td></tr>",
                            "<tr><td>Forensic Science</td><td>154</td><td>0.69</td><td>96.10</td><td>14.631</td><td>9.191</td><td>5.44</td><td>37.18</td></tr>",
                            "<tr><td>Law</td><td>138</td><td>0.61</td><td>96.71</td><td>20.795</td><td>16.045</td><td>4.75</td><td>22.84</td></tr>",
                            "<tr><td>Communications and Public Information</td><td>131</td><td>0.58</td><td>97.29</td><td>9.097</td><td>6.115</td><td>2.982</td><td>32.78</td></tr>",
                            "<tr><td>Planning</td><td>130</td><td>0.58</td><td>97.87</td><td>11.59</td><td>7.702</td><td>3.888</td><td>33.55</td></tr>",
                            "<tr><td>Wireless Communication Services</td><td>108</td><td>0.48</td><td>98.35</td><td>20.946</td><td>15.687</td><td>5.259</td><td>25.11</td></tr>",
                            "<tr><td>Housing</td><td>83</td><td>0.37</td><td>98.72</td><td>25.528</td><td>18.5</td><td>7.028</td><td>27.53</td></tr>",
                            "</table>"
                        ]
                    }
                }
            ],
            "execution_count": 192
        },
        {
            "cell_type": "markdown",
            "source": [
                "Here's a plot of the percent under-budget as a function of Department with a color coding for the percentage of logs - and again, this is *with non-positive budgets, expenditures excluded*.\n",
                "\n",
                "![title](plots/percUnderBudget_Department_perc_2.png)\n",
                "\n",
                "### **Q2 Answer: None of the departments (up to cumulative 99%) went beyond their budget - The two departments with the lowest percent under-budget amounts were Austin Energy (11.67%), Human Resources (11.18%), and Mayor and Council (5.16%).**"
            ],
            "metadata": {
                "azdata_cell_guid": "0a5bb250-284a-40a1-91f4-dd655c349729"
            },
            "attachments": {}
        },
        {
            "cell_type": "markdown",
            "source": [
                "### **Q3: What were the most costly expenditures?**\n",
                "\n",
                "First, let's see how many different categories there are under EXPENSE_NAME."
            ],
            "metadata": {
                "azdata_cell_guid": "e5f9c0f3-cb92-472b-98ba-878f3f6faaf5"
            },
            "attachments": {}
        },
        {
            "cell_type": "code",
            "source": [
                "--Create table for original as TVP\n",
                "DECLARE @SubTable TableType;\n",
                "INSERT INTO @SubTable\n",
                "SELECT * \n",
                "FROM AustinTXData.budget;\n",
                "\n",
                "-- Compute the stats\n",
                "EXEC NumUnique @SubTable, 'EXPENSE_NAME';\n",
                "EXEC CategStats @SubTable, 'EXPENSE_NAME', 40, 0;\n",
                ""
            ],
            "metadata": {
                "azdata_cell_guid": "8e490e9c-8e95-4df0-95a9-312eb18dadf5",
                "language": "sql"
            },
            "outputs": [
                {
                    "output_type": "display_data",
                    "data": {
                        "text/html": "(58359 rows affected)"
                    },
                    "metadata": {}
                },
                {
                    "output_type": "display_data",
                    "data": {
                        "text/html": "(1 row affected)"
                    },
                    "metadata": {}
                },
                {
                    "output_type": "display_data",
                    "data": {
                        "text/html": "(19 rows affected)"
                    },
                    "metadata": {}
                },
                {
                    "output_type": "display_data",
                    "data": {
                        "text/html": "Total execution time: 00:00:00.635"
                    },
                    "metadata": {}
                },
                {
                    "output_type": "execute_result",
                    "metadata": {},
                    "execution_count": 193,
                    "data": {
                        "application/vnd.dataresource+json": {
                            "schema": {
                                "fields": [
                                    {
                                        "name": "NumUnique_EXPENSE_NAME"
                                    }
                                ]
                            },
                            "data": [
                                {
                                    "NumUnique_EXPENSE_NAME": "513"
                                }
                            ]
                        },
                        "text/html": [
                            "<table>",
                            "<tr><th>NumUnique_EXPENSE_NAME</th></tr>",
                            "<tr><td>513</td></tr>",
                            "</table>"
                        ]
                    }
                },
                {
                    "output_type": "execute_result",
                    "metadata": {},
                    "execution_count": 193,
                    "data": {
                        "application/vnd.dataresource+json": {
                            "schema": {
                                "fields": [
                                    {
                                        "name": "EXPENSE_NAME"
                                    },
                                    {
                                        "name": "count_"
                                    },
                                    {
                                        "name": "perc"
                                    },
                                    {
                                        "name": "cumul_perc"
                                    }
                                ]
                            },
                            "data": [
                                {
                                    "EXPENSE_NAME": "Medicare tax",
                                    "count_": "1294",
                                    "perc": "2.22",
                                    "cumul_perc": "2.22"
                                },
                                {
                                    "EXPENSE_NAME": "FICA tax",
                                    "count_": "1292",
                                    "perc": "2.21",
                                    "cumul_perc": "4.43"
                                },
                                {
                                    "EXPENSE_NAME": "Sick pay",
                                    "count_": "1278",
                                    "perc": "2.19",
                                    "cumul_perc": "6.62"
                                },
                                {
                                    "EXPENSE_NAME": "Awards and Recognition",
                                    "count_": "1262",
                                    "perc": "2.16",
                                    "cumul_perc": "8.78"
                                },
                                {
                                    "EXPENSE_NAME": "Insurance-health/life/dental",
                                    "count_": "1260",
                                    "perc": "2.16",
                                    "cumul_perc": "10.94"
                                },
                                {
                                    "EXPENSE_NAME": "Administrative leave",
                                    "count_": "1257",
                                    "perc": "2.15",
                                    "cumul_perc": "15.24"
                                },
                                {
                                    "EXPENSE_NAME": "Vacation pay",
                                    "count_": "1257",
                                    "perc": "2.15",
                                    "cumul_perc": "15.24"
                                },
                                {
                                    "EXPENSE_NAME": "Personal holiday pay",
                                    "count_": "1255",
                                    "perc": "2.15",
                                    "cumul_perc": "17.39"
                                },
                                {
                                    "EXPENSE_NAME": "Contribution to employees ret",
                                    "count_": "1254",
                                    "perc": "2.15",
                                    "cumul_perc": "19.54"
                                },
                                {
                                    "EXPENSE_NAME": "Holiday pay",
                                    "count_": "1250",
                                    "perc": "2.14",
                                    "cumul_perc": "21.68"
                                },
                                {
                                    "EXPENSE_NAME": "Regular wages - full-time",
                                    "count_": "1229",
                                    "perc": "2.11",
                                    "cumul_perc": "23.79"
                                },
                                {
                                    "EXPENSE_NAME": "Emergency leave",
                                    "count_": "1221",
                                    "perc": "2.09",
                                    "cumul_perc": "25.88"
                                },
                                {
                                    "EXPENSE_NAME": "Stability pay",
                                    "count_": "1214",
                                    "perc": "2.08",
                                    "cumul_perc": "27.96"
                                },
                                {
                                    "EXPENSE_NAME": "Jury leave",
                                    "count_": "1212",
                                    "perc": "2.08",
                                    "cumul_perc": "30.04"
                                },
                                {
                                    "EXPENSE_NAME": "Bad weather pay",
                                    "count_": "1205",
                                    "perc": "2.06",
                                    "cumul_perc": "32.10"
                                },
                                {
                                    "EXPENSE_NAME": "Accident pay",
                                    "count_": "1150",
                                    "perc": "1.97",
                                    "cumul_perc": "34.07"
                                },
                                {
                                    "EXPENSE_NAME": "Office supplies",
                                    "count_": "1049",
                                    "perc": "1.80",
                                    "cumul_perc": "35.87"
                                },
                                {
                                    "EXPENSE_NAME": "Personnel savings",
                                    "count_": "1002",
                                    "perc": "1.72",
                                    "cumul_perc": "37.59"
                                },
                                {
                                    "EXPENSE_NAME": "Overtime",
                                    "count_": "995",
                                    "perc": "1.70",
                                    "cumul_perc": "39.29"
                                }
                            ]
                        },
                        "text/html": [
                            "<table>",
                            "<tr><th>EXPENSE_NAME</th><th>count_</th><th>perc</th><th>cumul_perc</th></tr>",
                            "<tr><td>Medicare tax</td><td>1294</td><td>2.22</td><td>2.22</td></tr>",
                            "<tr><td>FICA tax</td><td>1292</td><td>2.21</td><td>4.43</td></tr>",
                            "<tr><td>Sick pay</td><td>1278</td><td>2.19</td><td>6.62</td></tr>",
                            "<tr><td>Awards and Recognition</td><td>1262</td><td>2.16</td><td>8.78</td></tr>",
                            "<tr><td>Insurance-health/life/dental</td><td>1260</td><td>2.16</td><td>10.94</td></tr>",
                            "<tr><td>Administrative leave</td><td>1257</td><td>2.15</td><td>15.24</td></tr>",
                            "<tr><td>Vacation pay</td><td>1257</td><td>2.15</td><td>15.24</td></tr>",
                            "<tr><td>Personal holiday pay</td><td>1255</td><td>2.15</td><td>17.39</td></tr>",
                            "<tr><td>Contribution to employees ret</td><td>1254</td><td>2.15</td><td>19.54</td></tr>",
                            "<tr><td>Holiday pay</td><td>1250</td><td>2.14</td><td>21.68</td></tr>",
                            "<tr><td>Regular wages - full-time</td><td>1229</td><td>2.11</td><td>23.79</td></tr>",
                            "<tr><td>Emergency leave</td><td>1221</td><td>2.09</td><td>25.88</td></tr>",
                            "<tr><td>Stability pay</td><td>1214</td><td>2.08</td><td>27.96</td></tr>",
                            "<tr><td>Jury leave</td><td>1212</td><td>2.08</td><td>30.04</td></tr>",
                            "<tr><td>Bad weather pay</td><td>1205</td><td>2.06</td><td>32.10</td></tr>",
                            "<tr><td>Accident pay</td><td>1150</td><td>1.97</td><td>34.07</td></tr>",
                            "<tr><td>Office supplies</td><td>1049</td><td>1.80</td><td>35.87</td></tr>",
                            "<tr><td>Personnel savings</td><td>1002</td><td>1.72</td><td>37.59</td></tr>",
                            "<tr><td>Overtime</td><td>995</td><td>1.70</td><td>39.29</td></tr>",
                            "</table>"
                        ]
                    }
                }
            ],
            "execution_count": 193
        },
        {
            "cell_type": "markdown",
            "source": [
                "There's 513 different expense justifications in the table and their distribution seems almost uniform over the first 15 largest categories, but then it starts to drop. Let's next sort the expenses in descending order and group them over the expense names. \n",
                "\n",
                "But there can be some peculiarities with negative budgets and expenditures... so we'll simultaneously sum the *absolute value* of the expenditures and budgets and subtract them from the original sums. If there's a significant difference, then it means there's a sizable amount of negative budget or expenditure, and if not, then it's not worth investigating."
            ],
            "metadata": {
                "azdata_cell_guid": "04c67947-50a3-424e-aa14-9a68fccf67c5"
            },
            "attachments": {}
        },
        {
            "cell_type": "code",
            "source": [
                "WITH expense AS (\n",
                "    SELECT\n",
                "        EXPENSE_NAME,\n",
                "        CAST(SUM(EXPENDITURES) / 1000000.0 AS DECIMAL(8,3)) AS expend_M,\n",
                "        CAST(SUM(ABS(EXPENDITURES)) / 1000000.0 AS DECIMAL(8,3)) AS expend_abs_M,\n",
                "        SUM(SUM(EXPENDITURES)) OVER () / 1000000.0 AS total_expend_M,\n",
                "        CAST(SUM(BUDGET) / 1000000.0 AS DECIMAL(8,3)) AS budget_M,\n",
                "        CAST(SUM(ABS(BUDGET)) / 1000000.0 AS DECIMAL(8,3)) AS budget_abs_M,\n",
                "        SUM(SUM(BUDGET)) OVER () / 1000000.0 AS total_budget_M\n",
                "    FROM\n",
                "        AustinTXData.budget\n",
                "    GROUP BY\n",
                "        EXPENSE_NAME\n",
                ")\n",
                "\n",
                "SELECT TOP (30)\n",
                "    EXPENSE_NAME,\n",
                "    expend_M,\n",
                "    expend_M - expend_abs_M AS expend_diff,\n",
                "    CAST(100 * expend_M / total_expend_M AS DECIMAL(6,2)) AS perc_expend,\n",
                "    budget_M,\n",
                "    budget_M - budget_abs_M AS budget_diff,\n",
                "    CAST(100 * budget_M / total_budget_M AS DECIMAL(6,2)) AS perc_budget\n",
                "FROM   \n",
                "    expense\n",
                "ORDER BY\n",
                "    expend_M DESC;"
            ],
            "metadata": {
                "azdata_cell_guid": "da2d68d0-23ff-4a8a-aad1-1e4536956ef1",
                "language": "sql"
            },
            "outputs": [
                {
                    "output_type": "display_data",
                    "data": {
                        "text/html": "(30 rows affected)"
                    },
                    "metadata": {}
                },
                {
                    "output_type": "display_data",
                    "data": {
                        "text/html": "Total execution time: 00:00:00.238"
                    },
                    "metadata": {}
                },
                {
                    "output_type": "execute_result",
                    "metadata": {},
                    "execution_count": 194,
                    "data": {
                        "application/vnd.dataresource+json": {
                            "schema": {
                                "fields": [
                                    {
                                        "name": "EXPENSE_NAME"
                                    },
                                    {
                                        "name": "expend_M"
                                    },
                                    {
                                        "name": "expend_diff"
                                    },
                                    {
                                        "name": "perc_expend"
                                    },
                                    {
                                        "name": "budget_M"
                                    },
                                    {
                                        "name": "budget_diff"
                                    },
                                    {
                                        "name": "perc_budget"
                                    }
                                ]
                            },
                            "data": [
                                {
                                    "EXPENSE_NAME": "Regular wages - full-time",
                                    "expend_M": "687.023",
                                    "expend_diff": "0.000",
                                    "perc_expend": "10.92",
                                    "budget_M": "959.558",
                                    "budget_diff": "0.000",
                                    "perc_budget": "13.47"
                                },
                                {
                                    "EXPENSE_NAME": "Services-other",
                                    "expend_M": "273.559",
                                    "expend_diff": "-0.489",
                                    "perc_expend": "4.35",
                                    "budget_M": "345.366",
                                    "budget_diff": "0.000",
                                    "perc_budget": "4.85"
                                },
                                {
                                    "EXPENSE_NAME": "Trf to Util D/S Separate Lien",
                                    "expend_M": "268.879",
                                    "expend_diff": "0.000",
                                    "perc_expend": "4.27",
                                    "budget_M": "335.319",
                                    "budget_diff": "0.000",
                                    "perc_budget": "4.71"
                                },
                                {
                                    "EXPENSE_NAME": "Interest payment D/S funds",
                                    "expend_M": "248.020",
                                    "expend_diff": "0.000",
                                    "perc_expend": "3.94",
                                    "budget_M": "254.330",
                                    "budget_diff": "0.000",
                                    "perc_budget": "3.57"
                                },
                                {
                                    "EXPENSE_NAME": "Trf to Electric CIP Fund",
                                    "expend_M": "239.286",
                                    "expend_diff": "0.000",
                                    "perc_expend": "3.80",
                                    "budget_M": "275.644",
                                    "budget_diff": "0.000",
                                    "perc_budget": "3.87"
                                },
                                {
                                    "EXPENSE_NAME": "Regular wages - Civil Services",
                                    "expend_M": "229.244",
                                    "expend_diff": "0.000",
                                    "perc_expend": "3.64",
                                    "budget_M": "337.507",
                                    "budget_diff": "0.000",
                                    "perc_budget": "4.74"
                                },
                                {
                                    "EXPENSE_NAME": "Insurance-health/life/dental",
                                    "expend_M": "197.294",
                                    "expend_diff": "0.000",
                                    "perc_expend": "3.14",
                                    "budget_M": "231.929",
                                    "budget_diff": "0.000",
                                    "perc_budget": "3.26"
                                },
                                {
                                    "EXPENSE_NAME": "Principal payment D/S funds",
                                    "expend_M": "192.345",
                                    "expend_diff": "0.000",
                                    "perc_expend": "3.06",
                                    "budget_M": "200.630",
                                    "budget_diff": "0.000",
                                    "perc_budget": "2.82"
                                },
                                {
                                    "EXPENSE_NAME": "Transmission Cost of Service",
                                    "expend_M": "176.319",
                                    "expend_diff": "0.000",
                                    "perc_expend": "2.80",
                                    "budget_M": "188.959",
                                    "budget_diff": "0.000",
                                    "perc_budget": "2.65"
                                },
                                {
                                    "EXPENSE_NAME": "Medical Claims",
                                    "expend_M": "176.256",
                                    "expend_diff": "0.000",
                                    "perc_expend": "2.80",
                                    "budget_M": "206.150",
                                    "budget_diff": "0.000",
                                    "perc_budget": "2.89"
                                },
                                {
                                    "EXPENSE_NAME": "Administrative Support",
                                    "expend_M": "173.827",
                                    "expend_diff": "0.000",
                                    "perc_expend": "2.76",
                                    "budget_M": "189.629",
                                    "budget_diff": "0.000",
                                    "perc_budget": "2.66"
                                },
                                {
                                    "EXPENSE_NAME": "Contribution to employees ret",
                                    "expend_M": "167.518",
                                    "expend_diff": "-0.030",
                                    "perc_expend": "2.66",
                                    "budget_M": "198.458",
                                    "budget_diff": "0.000",
                                    "perc_budget": "2.79"
                                },
                                {
                                    "EXPENSE_NAME": "Redemption of principal-gen",
                                    "expend_M": "159.427",
                                    "expend_diff": "0.000",
                                    "perc_expend": "2.53",
                                    "budget_M": "158.417",
                                    "budget_diff": "0.000",
                                    "perc_budget": "2.22"
                                },
                                {
                                    "EXPENSE_NAME": "Trf to General Fund",
                                    "expend_M": "150.316",
                                    "expend_diff": "0.000",
                                    "perc_expend": "2.39",
                                    "budget_M": "163.982",
                                    "budget_diff": "0.000",
                                    "perc_budget": "2.30"
                                },
                                {
                                    "EXPENSE_NAME": "Trf to Conv Ctr CIP Fund",
                                    "expend_M": "111.725",
                                    "expend_diff": "0.000",
                                    "perc_expend": "1.78",
                                    "budget_M": "148.967",
                                    "budget_diff": "0.000",
                                    "perc_budget": "2.09"
                                },
                                {
                                    "EXPENSE_NAME": "Trf to ABIA 95 D/S Fund",
                                    "expend_M": "90.864",
                                    "expend_diff": "0.000",
                                    "perc_expend": "1.44",
                                    "budget_M": "104.184",
                                    "budget_diff": "0.000",
                                    "perc_budget": "1.46"
                                },
                                {
                                    "EXPENSE_NAME": "Prescription plan",
                                    "expend_M": "85.239",
                                    "expend_diff": "0.000",
                                    "perc_expend": "1.35",
                                    "budget_M": "82.376",
                                    "budget_diff": "0.000",
                                    "perc_budget": "1.16"
                                },
                                {
                                    "EXPENSE_NAME": "Overtime - Civil Service",
                                    "expend_M": "82.474",
                                    "expend_diff": "0.000",
                                    "perc_expend": "1.31",
                                    "budget_M": "57.381",
                                    "budget_diff": "0.000",
                                    "perc_budget": "0.81"
                                },
                                {
                                    "EXPENSE_NAME": "Interest-general",
                                    "expend_M": "80.388",
                                    "expend_diff": "0.000",
                                    "perc_expend": "1.28",
                                    "budget_M": "77.124",
                                    "budget_diff": "0.000",
                                    "perc_budget": "1.08"
                                },
                                {
                                    "EXPENSE_NAME": "CTM Support",
                                    "expend_M": "80.052",
                                    "expend_diff": "0.000",
                                    "perc_expend": "1.27",
                                    "budget_M": "87.292",
                                    "budget_diff": "0.000",
                                    "perc_budget": "1.23"
                                },
                                {
                                    "EXPENSE_NAME": "TRF CRF to Debt Defeasance",
                                    "expend_M": "79.849",
                                    "expend_diff": "0.000",
                                    "perc_expend": "1.27",
                                    "budget_M": "20.000",
                                    "budget_diff": "0.000",
                                    "perc_budget": "0.28"
                                },
                                {
                                    "EXPENSE_NAME": "Grants to subrecipients",
                                    "expend_M": "77.091",
                                    "expend_diff": "-0.056",
                                    "perc_expend": "1.23",
                                    "budget_M": "143.040",
                                    "budget_diff": "0.000",
                                    "perc_budget": "2.01"
                                },
                                {
                                    "EXPENSE_NAME": "FICA tax",
                                    "expend_M": "74.560",
                                    "expend_diff": "0.000",
                                    "perc_expend": "1.19",
                                    "budget_M": "81.873",
                                    "budget_diff": "0.000",
                                    "perc_budget": "1.15"
                                },
                                {
                                    "EXPENSE_NAME": "Tfr to Power Supply Stabilization",
                                    "expend_M": "70.000",
                                    "expend_diff": "0.000",
                                    "perc_expend": "1.11",
                                    "budget_M": "0.000",
                                    "budget_diff": "0.000",
                                    "perc_budget": "0.00"
                                },
                                {
                                    "EXPENSE_NAME": "Vacation pay",
                                    "expend_M": "69.424",
                                    "expend_diff": "0.000",
                                    "perc_expend": "1.10",
                                    "budget_M": "0.000",
                                    "budget_diff": "0.000",
                                    "perc_budget": "0.00"
                                },
                                {
                                    "EXPENSE_NAME": "Temporary employees",
                                    "expend_M": "68.510",
                                    "expend_diff": "-0.014",
                                    "perc_expend": "1.09",
                                    "budget_M": "79.943",
                                    "budget_diff": "0.000",
                                    "perc_budget": "1.12"
                                },
                                {
                                    "EXPENSE_NAME": "Trf to Conv Ctr Tax Fund",
                                    "expend_M": "66.639",
                                    "expend_diff": "0.000",
                                    "perc_expend": "1.06",
                                    "budget_M": "62.253",
                                    "budget_diff": "0.000",
                                    "perc_budget": "0.87"
                                },
                                {
                                    "EXPENSE_NAME": "Trf to Convention Center",
                                    "expend_M": "57.316",
                                    "expend_diff": "0.000",
                                    "perc_expend": "0.91",
                                    "budget_M": "62.527",
                                    "budget_diff": "0.000",
                                    "perc_budget": "0.88"
                                },
                                {
                                    "EXPENSE_NAME": "Maintenance-computer software",
                                    "expend_M": "54.416",
                                    "expend_diff": "0.000",
                                    "perc_expend": "0.86",
                                    "budget_M": "66.518",
                                    "budget_diff": "0.000",
                                    "perc_budget": "0.93"
                                },
                                {
                                    "EXPENSE_NAME": "Contribution to police ret",
                                    "expend_M": "53.446",
                                    "expend_diff": "0.000",
                                    "perc_expend": "0.85",
                                    "budget_M": "56.776",
                                    "budget_diff": "0.000",
                                    "perc_budget": "0.80"
                                }
                            ]
                        },
                        "text/html": [
                            "<table>",
                            "<tr><th>EXPENSE_NAME</th><th>expend_M</th><th>expend_diff</th><th>perc_expend</th><th>budget_M</th><th>budget_diff</th><th>perc_budget</th></tr>",
                            "<tr><td>Regular wages - full-time</td><td>687.023</td><td>0.000</td><td>10.92</td><td>959.558</td><td>0.000</td><td>13.47</td></tr>",
                            "<tr><td>Services-other</td><td>273.559</td><td>-0.489</td><td>4.35</td><td>345.366</td><td>0.000</td><td>4.85</td></tr>",
                            "<tr><td>Trf to Util D/S Separate Lien</td><td>268.879</td><td>0.000</td><td>4.27</td><td>335.319</td><td>0.000</td><td>4.71</td></tr>",
                            "<tr><td>Interest payment D/S funds</td><td>248.020</td><td>0.000</td><td>3.94</td><td>254.330</td><td>0.000</td><td>3.57</td></tr>",
                            "<tr><td>Trf to Electric CIP Fund</td><td>239.286</td><td>0.000</td><td>3.80</td><td>275.644</td><td>0.000</td><td>3.87</td></tr>",
                            "<tr><td>Regular wages - Civil Services</td><td>229.244</td><td>0.000</td><td>3.64</td><td>337.507</td><td>0.000</td><td>4.74</td></tr>",
                            "<tr><td>Insurance-health/life/dental</td><td>197.294</td><td>0.000</td><td>3.14</td><td>231.929</td><td>0.000</td><td>3.26</td></tr>",
                            "<tr><td>Principal payment D/S funds</td><td>192.345</td><td>0.000</td><td>3.06</td><td>200.630</td><td>0.000</td><td>2.82</td></tr>",
                            "<tr><td>Transmission Cost of Service</td><td>176.319</td><td>0.000</td><td>2.80</td><td>188.959</td><td>0.000</td><td>2.65</td></tr>",
                            "<tr><td>Medical Claims</td><td>176.256</td><td>0.000</td><td>2.80</td><td>206.150</td><td>0.000</td><td>2.89</td></tr>",
                            "<tr><td>Administrative Support</td><td>173.827</td><td>0.000</td><td>2.76</td><td>189.629</td><td>0.000</td><td>2.66</td></tr>",
                            "<tr><td>Contribution to employees ret</td><td>167.518</td><td>-0.030</td><td>2.66</td><td>198.458</td><td>0.000</td><td>2.79</td></tr>",
                            "<tr><td>Redemption of principal-gen</td><td>159.427</td><td>0.000</td><td>2.53</td><td>158.417</td><td>0.000</td><td>2.22</td></tr>",
                            "<tr><td>Trf to General Fund</td><td>150.316</td><td>0.000</td><td>2.39</td><td>163.982</td><td>0.000</td><td>2.30</td></tr>",
                            "<tr><td>Trf to Conv Ctr CIP Fund</td><td>111.725</td><td>0.000</td><td>1.78</td><td>148.967</td><td>0.000</td><td>2.09</td></tr>",
                            "<tr><td>Trf to ABIA 95 D/S Fund</td><td>90.864</td><td>0.000</td><td>1.44</td><td>104.184</td><td>0.000</td><td>1.46</td></tr>",
                            "<tr><td>Prescription plan</td><td>85.239</td><td>0.000</td><td>1.35</td><td>82.376</td><td>0.000</td><td>1.16</td></tr>",
                            "<tr><td>Overtime - Civil Service</td><td>82.474</td><td>0.000</td><td>1.31</td><td>57.381</td><td>0.000</td><td>0.81</td></tr>",
                            "<tr><td>Interest-general</td><td>80.388</td><td>0.000</td><td>1.28</td><td>77.124</td><td>0.000</td><td>1.08</td></tr>",
                            "<tr><td>CTM Support</td><td>80.052</td><td>0.000</td><td>1.27</td><td>87.292</td><td>0.000</td><td>1.23</td></tr>",
                            "<tr><td>TRF CRF to Debt Defeasance</td><td>79.849</td><td>0.000</td><td>1.27</td><td>20.000</td><td>0.000</td><td>0.28</td></tr>",
                            "<tr><td>Grants to subrecipients</td><td>77.091</td><td>-0.056</td><td>1.23</td><td>143.040</td><td>0.000</td><td>2.01</td></tr>",
                            "<tr><td>FICA tax</td><td>74.560</td><td>0.000</td><td>1.19</td><td>81.873</td><td>0.000</td><td>1.15</td></tr>",
                            "<tr><td>Tfr to Power Supply Stabilization</td><td>70.000</td><td>0.000</td><td>1.11</td><td>0.000</td><td>0.000</td><td>0.00</td></tr>",
                            "<tr><td>Vacation pay</td><td>69.424</td><td>0.000</td><td>1.10</td><td>0.000</td><td>0.000</td><td>0.00</td></tr>",
                            "<tr><td>Temporary employees</td><td>68.510</td><td>-0.014</td><td>1.09</td><td>79.943</td><td>0.000</td><td>1.12</td></tr>",
                            "<tr><td>Trf to Conv Ctr Tax Fund</td><td>66.639</td><td>0.000</td><td>1.06</td><td>62.253</td><td>0.000</td><td>0.87</td></tr>",
                            "<tr><td>Trf to Convention Center</td><td>57.316</td><td>0.000</td><td>0.91</td><td>62.527</td><td>0.000</td><td>0.88</td></tr>",
                            "<tr><td>Maintenance-computer software</td><td>54.416</td><td>0.000</td><td>0.86</td><td>66.518</td><td>0.000</td><td>0.93</td></tr>",
                            "<tr><td>Contribution to police ret</td><td>53.446</td><td>0.000</td><td>0.85</td><td>56.776</td><td>0.000</td><td>0.80</td></tr>",
                            "</table>"
                        ]
                    }
                }
            ],
            "execution_count": 194
        },
        {
            "cell_type": "markdown",
            "source": [
                "*Regular wages - full time* is the top regular expenditure at \\$687M with a \\$959M budget, and that the budget and expense differences are zeros out to 3 decimal places indicates there's no negative values in either column (at least up to $1k in value). Looking at the percentages of the entire expenditure and budget shows it to be almost 11% and 13.5%. This is followed by *Services-other* with \\$274M (4.35%) and *Trf to Util D/S Separate Lien* with \\$269M (4.27%).\n",
                "\n",
                "Here's a plot of the expenditure (in millions of dollars) as a function of expense name with the budget (also in millions of dollars) as the color - but again, we know the budget of some of the logs are defined to be 0, such as the 'Vacation Pay' on row 25 in the table above.\n",
                "\n",
                "![image](plots/expense_expenseName_budget.png)\n",
                "\n",
                "### **Q3 Answer: The most costly expenditure is easily *Regular wages - full time* which has a total expenditure amount of `$687M` (11\\% of total expenses) vs its `$959M budget` (13.5\\% of total budget) - and the subsequent expenses are less than half this.**"
            ],
            "metadata": {
                "azdata_cell_guid": "24c143bb-4aa9-4eee-81d8-59e913597dd5"
            },
            "attachments": {}
        },
        {
            "cell_type": "markdown",
            "source": [
                "## Power BI\n",
                "\n",
                "Continuing with the use of Microsoft resources, Power BI is used to better visualize the data. I used Power BI Desktop to generate the report, which doesn't allow publishing to a public repository like Tableau does, so screenshots of the full report and its ability to interact with different categories of the data are shown below. The Power BI file itself is included in the same folder as the notebook file as a *.pbix file."
            ],
            "metadata": {
                "azdata_cell_guid": "c64dd999-5c89-453c-8c3f-89d5985b5eba"
            },
            "attachments": {}
        },
        {
            "cell_type": "markdown",
            "source": [
                "*The original report:*\n",
                "\n",
                "![image](plots/powerbi_original.png)"
            ],
            "metadata": {
                "azdata_cell_guid": "0963a994-5ba2-46e5-ad5d-4a6dc382c5d4"
            },
            "attachments": {}
        },
        {
            "cell_type": "markdown",
            "source": [
                "*The report showing results with the Austin Energy department selected:*\n",
                "\n",
                "![image](plots/powerbi_AustinEnergySelected.png)"
            ],
            "metadata": {
                "azdata_cell_guid": "b16f9a13-3421-4459-87d3-878ed8bd99f5"
            },
            "attachments": {}
        },
        {
            "cell_type": "markdown",
            "source": [
                "*The report showing results with the Expense **Regular Wages - Full Time** selected:*\n",
                "\n",
                "![image](plots/powerbi_RegularWagesFullTimeSelected.png)"
            ],
            "metadata": {
                "azdata_cell_guid": "b2323add-666f-4310-b4b9-2e2df2aa92d5"
            },
            "attachments": {}
        },
        {
            "cell_type": "markdown",
            "source": [
                "*The report showing results with the **Budget = 0, Expenditure > 0** category selected (The Total Budget and Expenses category are blank because they were designed to show results only for the Budget, Expense > 0 category):*\n",
                "\n",
                "![image](plots/powerbi_BudgetEQ0ExpendGT0Selected.png)"
            ],
            "metadata": {
                "azdata_cell_guid": "2f93cefc-495e-4797-ad28-8d2a1532e0cf"
            },
            "attachments": {}
        }
    ]
}