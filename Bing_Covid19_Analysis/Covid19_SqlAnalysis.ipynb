{
 "cells": [
  {
   "cell_type": "code",
   "execution_count": 3,
   "metadata": {},
   "outputs": [
    {
     "data": {
      "application/vnd.livy.statement-meta+json": {
       "execution_finish_time": "2024-10-06T20:00:05.4150285Z",
       "execution_start_time": "2024-10-06T19:59:36.4477254Z",
       "livy_statement_state": "available",
       "normalized_state": "finished",
       "parent_msg_id": "9778da14-8e50-4fae-bc3a-c9ecf2b0d186",
       "queued_time": "2024-10-06T19:59:36.3352624Z",
       "session_id": "8",
       "session_start_time": null,
       "spark_jobs": null,
       "spark_pool": "myfirstsp",
       "state": "finished",
       "statement_id": 4,
       "statement_ids": [
        4
       ]
      },
      "text/plain": [
       "StatementMeta(myfirstsp, 8, 4, Finished, Available, Finished)"
      ]
     },
     "metadata": {},
     "output_type": "display_data"
    },
    {
     "data": {
      "application/vnd.synapse.widget-view+json": {
       "widget_id": "7f84db9c-45e4-4c61-8daf-131ae431daf9",
       "widget_type": "Synapse.DataFrame"
      },
      "text/plain": [
       "SynapseWidget(Synapse.DataFrame, 7f84db9c-45e4-4c61-8daf-131ae431daf9)"
      ]
     },
     "metadata": {},
     "output_type": "display_data"
    }
   ],
   "source": [
    "# Azure storage access info\n",
    "blob_account_name = \"pandemicdatalake\"\n",
    "blob_container_name = \"public\"\n",
    "blob_relative_path = \"curated/covid-19/bing_covid-19_data/latest/bing_covid-19_data.parquet\"\n",
    "blob_sas_token = r\"\"  # Leave empty if not using SAS token\n",
    "\n",
    "# Allow SPARK to read from Blob remotely\n",
    "wasbs_path = f'wasbs://{blob_container_name}@{blob_account_name}.blob.core.windows.net/{blob_relative_path}'\n",
    "spark.conf.set(f'fs.azure.sas.{blob_container_name}.{blob_account_name}.blob.core.windows.net', blob_sas_token)\n",
    "\n",
    "# SPARK read parquet\n",
    "df = spark.read.parquet(wasbs_path)\n",
    "\n",
    "# Register the DataFrame as a SQL temporary view\n",
    "df.createOrReplaceTempView('bing_covid19_data')\n",
    "\n",
    "# Display top 10 rows\n",
    "display(spark.sql('SELECT * FROM bing_covid19_data LIMIT 20'))"
   ]
  },
  {
   "cell_type": "markdown",
   "metadata": {
    "nteract": {
     "transient": {
      "deleting": false
     }
    }
   },
   "source": [
    "Let's check see the size and of the dataset and the column types:"
   ]
  },
  {
   "cell_type": "code",
   "execution_count": 4,
   "metadata": {
    "jupyter": {
     "outputs_hidden": false,
     "source_hidden": false
    },
    "nteract": {
     "transient": {
      "deleting": false
     }
    }
   },
   "outputs": [
    {
     "data": {
      "application/vnd.livy.statement-meta+json": {
       "execution_finish_time": "2024-10-06T20:00:08.3434918Z",
       "execution_start_time": "2024-10-06T20:00:05.5536141Z",
       "livy_statement_state": "available",
       "normalized_state": "finished",
       "parent_msg_id": "21278860-24ab-4b4b-a328-74fd8392b0a5",
       "queued_time": "2024-10-06T19:59:36.4426038Z",
       "session_id": "8",
       "session_start_time": null,
       "spark_jobs": null,
       "spark_pool": "myfirstsp",
       "state": "finished",
       "statement_id": 5,
       "statement_ids": [
        5
       ]
      },
      "text/plain": [
       "StatementMeta(myfirstsp, 8, 5, Finished, Available, Finished)"
      ]
     },
     "metadata": {},
     "output_type": "display_data"
    },
    {
     "name": "stdout",
     "output_type": "stream",
     "text": [
      "4766736 17\n",
      "root\n",
      " |-- id: integer (nullable = true)\n",
      " |-- updated: date (nullable = true)\n",
      " |-- confirmed: integer (nullable = true)\n",
      " |-- confirmed_change: integer (nullable = true)\n",
      " |-- deaths: integer (nullable = true)\n",
      " |-- deaths_change: short (nullable = true)\n",
      " |-- recovered: integer (nullable = true)\n",
      " |-- recovered_change: integer (nullable = true)\n",
      " |-- latitude: double (nullable = true)\n",
      " |-- longitude: double (nullable = true)\n",
      " |-- iso2: string (nullable = true)\n",
      " |-- iso3: string (nullable = true)\n",
      " |-- country_region: string (nullable = true)\n",
      " |-- admin_region_1: string (nullable = true)\n",
      " |-- iso_subdivision: string (nullable = true)\n",
      " |-- admin_region_2: string (nullable = true)\n",
      " |-- load_time: timestamp (nullable = true)\n",
      "\n"
     ]
    }
   ],
   "source": [
    "print( df.count(), len(df.columns) )\n",
    "df.printSchema()"
   ]
  },
  {
   "cell_type": "code",
   "execution_count": 5,
   "metadata": {
    "jupyter": {
     "outputs_hidden": false,
     "source_hidden": false
    },
    "nteract": {
     "transient": {
      "deleting": false
     }
    }
   },
   "outputs": [
    {
     "data": {
      "application/vnd.livy.statement-meta+json": {
       "execution_finish_time": "2024-10-06T20:00:15.3610778Z",
       "execution_start_time": "2024-10-06T20:00:08.4800904Z",
       "livy_statement_state": "available",
       "normalized_state": "finished",
       "parent_msg_id": "a15b8202-651f-4981-a3de-b236742e5c85",
       "queued_time": "2024-10-06T19:59:36.9683518Z",
       "session_id": "8",
       "session_start_time": null,
       "spark_jobs": null,
       "spark_pool": "myfirstsp",
       "state": "finished",
       "statement_id": 6,
       "statement_ids": [
        6
       ]
      },
      "text/plain": [
       "StatementMeta(myfirstsp, 8, 6, Finished, Available, Finished)"
      ]
     },
     "metadata": {},
     "output_type": "display_data"
    },
    {
     "data": {
      "application/vnd.synapse.widget-view+json": {
       "widget_id": "71dadd38-7dc3-4c86-93d3-c88e74730d47",
       "widget_type": "Synapse.DataFrame"
      },
      "text/plain": [
       "SynapseWidget(Synapse.DataFrame, 71dadd38-7dc3-4c86-93d3-c88e74730d47)"
      ]
     },
     "metadata": {},
     "output_type": "display_data"
    }
   ],
   "source": [
    "display(spark.sql(\n",
    "    \"\"\"\n",
    "    WITH total_count AS (\n",
    "        SELECT COUNT(*) AS total FROM bing_covid19_data\n",
    "    )\n",
    "    SELECT\n",
    "        country_region,\n",
    "        COUNT(*) as num_records,\n",
    "        ROUND((COUNT(*) * 100.0 / (SELECT total FROM total_count)),2) AS percent_records\n",
    "    FROM\n",
    "        bing_covid19_data\n",
    "    GROUP BY\n",
    "        country_region\n",
    "    ORDER BY\n",
    "        num_records DESC\n",
    "    LIMIT 10;\n",
    "    \"\"\"\n",
    "))"
   ]
  },
  {
   "cell_type": "markdown",
   "metadata": {
    "nteract": {
     "transient": {
      "deleting": false
     }
    }
   },
   "source": [
    "80% of the records are captured in the first 3 largest, those being the United States (66%), India (7.5%), and Germany (6.2%) - but this includes multiple levels of hierarchical data which requires some clarification. This dataset does not contain duplicate entries, but it *does* contain aggregated data as additional rows. For instance, the covid statistics for various counties of New York as well as the state of New York itself are present... so if one were to blindly aggregate over rows belonging to New York, you could potentially double count. The dataset seems more granular for the United States and less so for other countries.\n",
    "\n",
    "So if you want to aggregate over...\n",
    "\n",
    "1. **State**: Check where admin_region_2 is NULL\n",
    "\n",
    "2. **Country**: Check where *both* admin_region_1 and admin_region_2 are NULL.\n",
    "\n",
    "Now let's re-compute the number of records, but only at a national level and show the first and last dates of data submission:"
   ]
  },
  {
   "cell_type": "code",
   "execution_count": 6,
   "metadata": {
    "jupyter": {
     "outputs_hidden": false,
     "source_hidden": false
    },
    "nteract": {
     "transient": {
      "deleting": false
     }
    }
   },
   "outputs": [
    {
     "data": {
      "application/vnd.livy.statement-meta+json": {
       "execution_finish_time": "2024-10-06T20:00:20.7912264Z",
       "execution_start_time": "2024-10-06T20:00:15.4799923Z",
       "livy_statement_state": "available",
       "normalized_state": "finished",
       "parent_msg_id": "e2efe657-f70f-4642-a58e-cc65fbc52dc8",
       "queued_time": "2024-10-06T19:59:37.2852568Z",
       "session_id": "8",
       "session_start_time": null,
       "spark_jobs": null,
       "spark_pool": "myfirstsp",
       "state": "finished",
       "statement_id": 7,
       "statement_ids": [
        7
       ]
      },
      "text/plain": [
       "StatementMeta(myfirstsp, 8, 7, Finished, Available, Finished)"
      ]
     },
     "metadata": {},
     "output_type": "display_data"
    },
    {
     "data": {
      "application/vnd.synapse.widget-view+json": {
       "widget_id": "0aef7231-b0aa-4cc1-8f83-84615d78f1d2",
       "widget_type": "Synapse.DataFrame"
      },
      "text/plain": [
       "SynapseWidget(Synapse.DataFrame, 0aef7231-b0aa-4cc1-8f83-84615d78f1d2)"
      ]
     },
     "metadata": {},
     "output_type": "display_data"
    }
   ],
   "source": [
    "display(spark.sql(\n",
    "    \"\"\"\n",
    "    WITH total_count AS (\n",
    "        SELECT \n",
    "            COUNT(*) AS total \n",
    "        FROM\n",
    "            bing_covid19_data\n",
    "        WHERE\n",
    "            admin_region_1 is NULL\n",
    "            AND admin_region_2 is NULL\n",
    "    )\n",
    "    SELECT\n",
    "        country_region,\n",
    "        COUNT(*) as num_records,\n",
    "        ROUND((COUNT(*) * 100.0 / (SELECT total FROM total_count)),2) AS percent_records,\n",
    "        MIN(updated) as start,\n",
    "        MAX(updated) as end\n",
    "    FROM\n",
    "        bing_covid19_data\n",
    "    WHERE\n",
    "        admin_region_1 is NULL\n",
    "        AND admin_region_2 is NULL\n",
    "    GROUP BY\n",
    "        country_region\n",
    "    ORDER BY\n",
    "        num_records DESC\n",
    "    LIMIT 15;\n",
    "    \"\"\"\n",
    "))"
   ]
  },
  {
   "cell_type": "markdown",
   "metadata": {
    "nteract": {
     "transient": {
      "deleting": false
     }
    }
   },
   "source": [
    "And that seems to be a lot more even, with many countries possessing a similar number of records (since we're just counting the number of days at this point) - although there is a strangely larger amount of records for the Federated States of Micronesia, especially since they start recording a year after everyone else.\n",
    "\n",
    "But nevertheless, as a confirmation that the dataset is being navigated properly, let's try to extract the records for the entire U.S. that correspond to the first day of every month (e.g. date = 202X-YY-01)"
   ]
  },
  {
   "cell_type": "code",
   "execution_count": 21,
   "metadata": {
    "jupyter": {
     "outputs_hidden": false,
     "source_hidden": false
    },
    "nteract": {
     "transient": {
      "deleting": false
     }
    }
   },
   "outputs": [
    {
     "data": {
      "application/vnd.livy.statement-meta+json": {
       "execution_finish_time": "2024-10-06T20:06:47.7335171Z",
       "execution_start_time": "2024-10-06T20:06:45.9346055Z",
       "livy_statement_state": "available",
       "normalized_state": "finished",
       "parent_msg_id": "1dc377ff-9158-4f3f-b9d5-7f8d5e91f97a",
       "queued_time": "2024-10-06T20:06:45.810644Z",
       "session_id": "8",
       "session_start_time": null,
       "spark_jobs": null,
       "spark_pool": "myfirstsp",
       "state": "finished",
       "statement_id": 22,
       "statement_ids": [
        22
       ]
      },
      "text/plain": [
       "StatementMeta(myfirstsp, 8, 22, Finished, Available, Finished)"
      ]
     },
     "metadata": {},
     "output_type": "display_data"
    },
    {
     "data": {
      "application/vnd.synapse.widget-view+json": {
       "widget_id": "67c29b77-69b0-4ef0-b680-ce68100657fb",
       "widget_type": "Synapse.DataFrame"
      },
      "text/plain": [
       "SynapseWidget(Synapse.DataFrame, 67c29b77-69b0-4ef0-b680-ce68100657fb)"
      ]
     },
     "metadata": {},
     "output_type": "display_data"
    }
   ],
   "source": [
    "display(spark.sql(\n",
    "\"\"\"\n",
    "SELECT\n",
    "    *\n",
    "FROM\n",
    "    bing_covid19_data\n",
    "WHERE\n",
    "    country_region = 'United States'\n",
    "    AND admin_region_1 IS NULL\n",
    "    AND admin_region_2 IS NULL\n",
    "    AND updated LIKE '202_-__-01'\n",
    "ORDER BY\n",
    "    updated DESC\n",
    "        \n",
    "\"\"\"\n",
    "))"
   ]
  },
  {
   "cell_type": "markdown",
   "metadata": {
    "nteract": {
     "transient": {
      "deleting": false
     }
    }
   },
   "source": [
    "Okay, seems like the records were successfully extracted correctly - although some numbers seem quite dubious (7.1 *million less* confirmed positive cases on 1 March 2022 than the previous record?), these are what the records state exactly. Let's look closer to that time range to see what's up:"
   ]
  },
  {
   "cell_type": "code",
   "execution_count": 25,
   "metadata": {
    "jupyter": {
     "outputs_hidden": false,
     "source_hidden": false
    },
    "nteract": {
     "transient": {
      "deleting": false
     }
    }
   },
   "outputs": [
    {
     "data": {
      "application/vnd.livy.statement-meta+json": {
       "execution_finish_time": "2024-10-06T20:11:48.6127198Z",
       "execution_start_time": "2024-10-06T20:11:45.8323401Z",
       "livy_statement_state": "available",
       "normalized_state": "finished",
       "parent_msg_id": "e77cd6c9-0a02-49df-afd6-2e6599395940",
       "queued_time": "2024-10-06T20:11:45.7077717Z",
       "session_id": "8",
       "session_start_time": null,
       "spark_jobs": null,
       "spark_pool": "myfirstsp",
       "state": "finished",
       "statement_id": 26,
       "statement_ids": [
        26
       ]
      },
      "text/plain": [
       "StatementMeta(myfirstsp, 8, 26, Finished, Available, Finished)"
      ]
     },
     "metadata": {},
     "output_type": "display_data"
    },
    {
     "data": {
      "application/vnd.synapse.widget-view+json": {
       "widget_id": "faa6e2f2-ca4b-4237-be37-010efad5e581",
       "widget_type": "Synapse.DataFrame"
      },
      "text/plain": [
       "SynapseWidget(Synapse.DataFrame, faa6e2f2-ca4b-4237-be37-010efad5e581)"
      ]
     },
     "metadata": {},
     "output_type": "display_data"
    }
   ],
   "source": [
    "display(spark.sql(\n",
    "    \"\"\"\n",
    "    SELECT\n",
    "        *\n",
    "    FROM\n",
    "        bing_covid19_data\n",
    "    WHERE\n",
    "        country_region = 'United States'\n",
    "        AND admin_region_1 IS NULL\n",
    "        AND admin_region_2 IS NULL\n",
    "        AND (updated <= '2022-03-01'\n",
    "            AND updated >= '2022-02-15')\n",
    "    \"\"\"\n",
    "))"
   ]
  },
  {
   "cell_type": "markdown",
   "metadata": {
    "nteract": {
     "transient": {
      "deleting": false
     }
    }
   },
   "source": [
    "That is... interesting. Seems there was a giant addition error on the record for 20 Feb 2022 of about +7.24M which gets corrected on the 1 March 2022 record with a -7.20M... And also the numbers in 'confirmed_change' for the dates 21 - 26 Feb 2022 are a little too similar, which makes it seem like its more likely to be an error rather than genuine.\n",
    "\n",
    "We should probably check how many records are negative in the confirmed_change / deaths_change / recovered_change to get an estimate for how many inaccurate rows there might be:"
   ]
  },
  {
   "cell_type": "code",
   "execution_count": 28,
   "metadata": {
    "jupyter": {
     "outputs_hidden": false,
     "source_hidden": false
    },
    "nteract": {
     "transient": {
      "deleting": false
     }
    }
   },
   "outputs": [
    {
     "data": {
      "application/vnd.livy.statement-meta+json": {
       "execution_finish_time": "2024-10-06T20:24:21.1519055Z",
       "execution_start_time": "2024-10-06T20:24:17.2150569Z",
       "livy_statement_state": "available",
       "normalized_state": "finished",
       "parent_msg_id": "4eb5fdce-8b5d-4a31-843c-b5b07693082c",
       "queued_time": "2024-10-06T20:24:17.0809767Z",
       "session_id": "8",
       "session_start_time": null,
       "spark_jobs": null,
       "spark_pool": "myfirstsp",
       "state": "finished",
       "statement_id": 29,
       "statement_ids": [
        29
       ]
      },
      "text/plain": [
       "StatementMeta(myfirstsp, 8, 29, Finished, Available, Finished)"
      ]
     },
     "metadata": {},
     "output_type": "display_data"
    },
    {
     "data": {
      "application/vnd.synapse.widget-view+json": {
       "widget_id": "15dcda2d-b101-4a08-b62e-628c80749a70",
       "widget_type": "Synapse.DataFrame"
      },
      "text/plain": [
       "SynapseWidget(Synapse.DataFrame, 15dcda2d-b101-4a08-b62e-628c80749a70)"
      ]
     },
     "metadata": {},
     "output_type": "display_data"
    },
    {
     "data": {
      "application/vnd.synapse.widget-view+json": {
       "widget_id": "209e527d-df4f-4590-abcc-560cd85e59e1",
       "widget_type": "Synapse.DataFrame"
      },
      "text/plain": [
       "SynapseWidget(Synapse.DataFrame, 209e527d-df4f-4590-abcc-560cd85e59e1)"
      ]
     },
     "metadata": {},
     "output_type": "display_data"
    },
    {
     "data": {
      "application/vnd.synapse.widget-view+json": {
       "widget_id": "e8822354-6311-4cfb-aaa3-3f268c361ef3",
       "widget_type": "Synapse.DataFrame"
      },
      "text/plain": [
       "SynapseWidget(Synapse.DataFrame, e8822354-6311-4cfb-aaa3-3f268c361ef3)"
      ]
     },
     "metadata": {},
     "output_type": "display_data"
    }
   ],
   "source": [
    "display(spark.sql(\n",
    "    \"\"\"\n",
    "    SELECT\n",
    "        COUNT(*) as neg_confirmed_change\n",
    "    FROM\n",
    "        bing_covid19_data\n",
    "    WHERE\n",
    "        confirmed_change < 0\n",
    "    \"\"\"\n",
    "))\n",
    "\n",
    "display(spark.sql(\n",
    "    \"\"\"\n",
    "    SELECT\n",
    "        COUNT(*) as neg_deaths_change\n",
    "    FROM\n",
    "        bing_covid19_data\n",
    "    WHERE\n",
    "        deaths_change < 0\n",
    "    \"\"\"\n",
    "))\n",
    "\n",
    "display(spark.sql(\n",
    "    \"\"\"\n",
    "    SELECT\n",
    "        COUNT(*) as neg_recovered_change\n",
    "    FROM\n",
    "        bing_covid19_data\n",
    "    WHERE\n",
    "        recovered_change < 0\n",
    "    \"\"\"\n",
    "))"
   ]
  },
  {
   "cell_type": "markdown",
   "metadata": {
    "nteract": {
     "transient": {
      "deleting": false
     }
    }
   },
   "source": [
    "Okay, not too large of an amount that it should be a big issue. When aggregating over all dates in the database it should be fine (since they'll all be summed), but any time-interval specific or subsequent non-linear ML functions should be wary and clean this data further before use - honestly fitting a spline or piecewise linear trend and replacing the huge values with the predictions should suffice. But that's for a different notebook; onto the questions!"
   ]
  },
  {
   "cell_type": "markdown",
   "metadata": {
    "nteract": {
     "transient": {
      "deleting": false
     }
    }
   },
   "source": [
    "## Questions:\n",
    "\n",
    "**Q1: Which countries had the largest counts in death, infection, and recovery?**\n",
    "\n",
    "**Q2: Which countries has the lowest and highest fatality rate?**"
   ]
  },
  {
   "cell_type": "markdown",
   "metadata": {
    "nteract": {
     "transient": {
      "deleting": false
     }
    }
   },
   "source": [
    "### Q1: Which countries had the largest counts in death, infection, and recovery?"
   ]
  },
  {
   "cell_type": "code",
   "execution_count": 32,
   "metadata": {
    "jupyter": {
     "outputs_hidden": false,
     "source_hidden": false
    },
    "nteract": {
     "transient": {
      "deleting": false
     }
    }
   },
   "outputs": [
    {
     "data": {
      "application/vnd.livy.statement-meta+json": {
       "execution_finish_time": "2024-10-06T20:43:57.8917644Z",
       "execution_start_time": "2024-10-06T20:43:55.1384827Z",
       "livy_statement_state": "available",
       "normalized_state": "finished",
       "parent_msg_id": "c7f98587-8163-4d2f-b9a6-f0985d62619d",
       "queued_time": "2024-10-06T20:43:55.0133364Z",
       "session_id": "8",
       "session_start_time": null,
       "spark_jobs": null,
       "spark_pool": "myfirstsp",
       "state": "finished",
       "statement_id": 33,
       "statement_ids": [
        33
       ]
      },
      "text/plain": [
       "StatementMeta(myfirstsp, 8, 33, Finished, Available, Finished)"
      ]
     },
     "metadata": {},
     "output_type": "display_data"
    },
    {
     "data": {
      "application/vnd.synapse.widget-view+json": {
       "widget_id": "67fd31fc-f09c-4f9e-8508-58eea1e21971",
       "widget_type": "Synapse.DataFrame"
      },
      "text/plain": [
       "SynapseWidget(Synapse.DataFrame, 67fd31fc-f09c-4f9e-8508-58eea1e21971)"
      ]
     },
     "metadata": {},
     "output_type": "display_data"
    }
   ],
   "source": [
    "display(spark.sql(\n",
    "    \"\"\"\n",
    "    SELECT\n",
    "        country_region,\n",
    "        MAX(confirmed) as max_confirmed,\n",
    "        MAX(deaths),\n",
    "        MAX(recovered)\n",
    "    FROM\n",
    "        bing_covid19_data\n",
    "    WHERE\n",
    "        admin_region_1 IS NULL\n",
    "        AND admin_region_2 IS NULL\n",
    "    GROUP BY\n",
    "        country_region\n",
    "    ORDER BY\n",
    "        max_confirmed DESC\n",
    "    LIMIT 15\n",
    "    \"\"\"\n",
    "))"
   ]
  },
  {
   "cell_type": "markdown",
   "metadata": {
    "nteract": {
     "transient": {
      "deleting": false
     }
    }
   },
   "source": [
    "For countries with the largest amount of confirmed cases, deaths, and recoveries, we can see from the table that the countries are\n",
    "\n",
    "1. **Most confirmed cases:** United States (103M), Indie (45M), France (39M)\n",
    "\n",
    "2. **Most deaths:** United States (1.1M), Brazil (699K), and India (530K)\n",
    "\n",
    "3. **Most recovered:** India (44M), United States (22M), and Brazil (20M)."
   ]
  },
  {
   "cell_type": "markdown",
   "metadata": {
    "nteract": {
     "transient": {
      "deleting": false
     }
    }
   },
   "source": [
    "### Q2: Which countries had the lowest and highest average fatality rates?\n",
    "\n",
    "The fatality rate can be calculated as the number dead / number confirmed. We'll look at the last records uploaded (so we don't have to worry about significant numerical errors) for each country and calculate this to see which had the highest and lowest rates:"
   ]
  },
  {
   "cell_type": "code",
   "execution_count": 45,
   "metadata": {
    "jupyter": {
     "outputs_hidden": false,
     "source_hidden": false
    },
    "nteract": {
     "transient": {
      "deleting": false
     }
    }
   },
   "outputs": [
    {
     "data": {
      "application/vnd.livy.statement-meta+json": {
       "execution_finish_time": "2024-10-06T21:12:04.7806341Z",
       "execution_start_time": "2024-10-06T21:12:00.8397862Z",
       "livy_statement_state": "available",
       "normalized_state": "finished",
       "parent_msg_id": "3af504dd-1b95-455c-b5ab-8c857c9a796a",
       "queued_time": "2024-10-06T21:12:00.7368545Z",
       "session_id": "8",
       "session_start_time": null,
       "spark_jobs": null,
       "spark_pool": "myfirstsp",
       "state": "finished",
       "statement_id": 46,
       "statement_ids": [
        46
       ]
      },
      "text/plain": [
       "StatementMeta(myfirstsp, 8, 46, Finished, Available, Finished)"
      ]
     },
     "metadata": {},
     "output_type": "display_data"
    },
    {
     "data": {
      "application/vnd.synapse.widget-view+json": {
       "widget_id": "c2e9042e-99db-4f27-b7da-e697258e898d",
       "widget_type": "Synapse.DataFrame"
      },
      "text/plain": [
       "SynapseWidget(Synapse.DataFrame, c2e9042e-99db-4f27-b7da-e697258e898d)"
      ]
     },
     "metadata": {},
     "output_type": "display_data"
    }
   ],
   "source": [
    "display(spark.sql(\n",
    "    \"\"\"\n",
    "    WITH last_dates as (\n",
    "        SELECT\n",
    "            country_region,\n",
    "            MAX(updated) as final_date\n",
    "        FROM\n",
    "            bing_covid19_data\n",
    "        WHERE\n",
    "            admin_region_1 IS NULL\n",
    "            AND admin_region_2 IS NULL\n",
    "        GROUP BY\n",
    "            country_region\n",
    "    )\n",
    "    SELECT\n",
    "        b.country_region,\n",
    "        b.updated,\n",
    "        b.confirmed,\n",
    "        b.deaths,\n",
    "        b.recovered,\n",
    "        b.deaths / b.confirmed as fatality_rate\n",
    "    FROM\n",
    "        bing_covid19_data b\n",
    "    JOIN\n",
    "        last_dates ld\n",
    "    ON\n",
    "        b.country_region = ld.country_region\n",
    "        AND b.updated = ld.final_date\n",
    "    WHERE\n",
    "        admin_region_1 IS NULL\n",
    "        AND admin_region_2 IS NULL\n",
    "        AND deaths > 0\n",
    "    ORDER BY\n",
    "        fatality_rate DESC\n",
    "    \"\"\"\n",
    "))"
   ]
  },
  {
   "cell_type": "markdown",
   "metadata": {
    "nteract": {
     "transient": {
      "deleting": false
     }
    }
   },
   "source": [
    "As of the latest records, the country with the highest and lowest fatality rates are:\n",
    "\n",
    "1. **Highest fatality rate:** Yemen (18%), but this is with small-population statistics.\n",
    "\n",
    "2. **Lowest fatality rate:** Nauru (0.02%) - but also with small-population statistics."
   ]
  },
  {
   "cell_type": "markdown",
   "metadata": {
    "nteract": {
     "transient": {
      "deleting": false
     }
    }
   },
   "source": [
    "## Future work:\n",
    "\n",
    "We're kind of hampered with doing easy time series analysis due to the giant errors (clerical or otherwise) that can occur. We'll do a follow up notebook where we impute some of these large values and see if we can do some forecasting."
   ]
  },
  {
   "cell_type": "markdown",
   "metadata": {},
   "source": [
    "## Tableau"
   ]
  },
  {
   "cell_type": "markdown",
   "metadata": {},
   "source": [
    "In addition to this, a Tableau dashboard of the average monthly confirmed Covid-19 cases in the counties of New York was made, which can be accessed at https://public.tableau.com/app/profile/james.edmond1269/viz/ny_counties/Dashboard1. Screenshots are included below:\n",
    "\n",
    "*The full dashboard for April 2020*"
   ]
  },
  {
   "cell_type": "markdown",
   "metadata": {},
   "source": [
    "![image](images/tableau_nycounties_full_april2020.png)"
   ]
  },
  {
   "cell_type": "markdown",
   "metadata": {},
   "source": [
    "*Full dashboard for July 2022*"
   ]
  },
  {
   "cell_type": "markdown",
   "metadata": {},
   "source": [
    "![image](images/tableau_nycounties_full_july2022.png)"
   ]
  },
  {
   "cell_type": "markdown",
   "metadata": {},
   "source": [
    "*The visual with New York county selected in July 2022:*"
   ]
  },
  {
   "cell_type": "markdown",
   "metadata": {},
   "source": [
    "![image](images/tableau_nycounties_newyork_july2022.png)"
   ]
  },
  {
   "cell_type": "markdown",
   "metadata": {},
   "source": [
    "*... And with Montgomery county selected in July 2022*"
   ]
  },
  {
   "cell_type": "markdown",
   "metadata": {},
   "source": [
    "![image](images/tableau_nycounties_montgomery_july2022.png)"
   ]
  }
 ],
 "metadata": {
  "description": null,
  "kernelspec": {
   "display_name": "python",
   "name": "synapse_pyspark"
  },
  "language_info": {
   "name": "python"
  },
  "save_output": true,
  "synapse_widget": {
   "state": {
    "0aef7231-b0aa-4cc1-8f83-84615d78f1d2": {
     "persist_state": {
      "view": {
       "chartOptions": {
        "aggregationType": "sum",
        "categoryFieldKeys": [
         "0"
        ],
        "chartType": "bar",
        "isStacked": false,
        "seriesFieldKeys": [
         "1"
        ]
       },
       "tableOptions": {},
       "type": "details"
      }
     },
     "sync_state": {
      "isSummary": false,
      "language": "scala",
      "table": {
       "rows": [
        {
         "0": "Federated States of Micronesia",
         "1": "1379",
         "2": "0.58",
         "3": "2021-01-10",
         "4": "2023-03-05"
        },
        {
         "0": "Thailand",
         "1": "1135",
         "2": "0.48",
         "3": "2020-01-21",
         "4": "2023-03-05"
        },
        {
         "0": "South Korea",
         "1": "1135",
         "2": "0.48",
         "3": "2020-01-21",
         "4": "2023-03-05"
        },
        {
         "0": "Singapore",
         "1": "1134",
         "2": "0.48",
         "3": "2020-01-23",
         "4": "2023-03-05"
        },
        {
         "0": "Vietnam",
         "1": "1134",
         "2": "0.48",
         "3": "2020-01-23",
         "4": "2023-03-05"
        },
        {
         "0": "Malaysia",
         "1": "1132",
         "2": "0.48",
         "3": "2020-01-24",
         "4": "2023-03-05"
        },
        {
         "0": "Taiwan",
         "1": "1132",
         "2": "0.48",
         "3": "2020-01-21",
         "4": "2023-03-04"
        },
        {
         "0": "France",
         "1": "1131",
         "2": "0.48",
         "3": "2020-01-25",
         "4": "2023-03-05"
        },
        {
         "0": "Nepal",
         "1": "1130",
         "2": "0.48",
         "3": "2020-01-25",
         "4": "2023-03-05"
        },
        {
         "0": "Cambodia",
         "1": "1128",
         "2": "0.48",
         "3": "2020-01-27",
         "4": "2023-03-05"
        },
        {
         "0": "Sri Lanka",
         "1": "1127",
         "2": "0.48",
         "3": "2020-01-28",
         "4": "2023-03-05"
        },
        {
         "0": "Russia",
         "1": "1126",
         "2": "0.48",
         "3": "2020-01-31",
         "4": "2023-03-05"
        },
        {
         "0": "Philippines",
         "1": "1126",
         "2": "0.48",
         "3": "2020-01-30",
         "4": "2023-03-05"
        },
        {
         "0": "Finland",
         "1": "1125",
         "2": "0.48",
         "3": "2020-01-29",
         "4": "2023-03-05"
        },
        {
         "0": "United Arab Emirates",
         "1": "1122",
         "2": "0.47",
         "3": "2020-01-29",
         "4": "2023-03-04"
        }
       ],
       "schema": [
        {
         "key": "0",
         "name": "country_region",
         "type": "string"
        },
        {
         "key": "1",
         "name": "num_records",
         "type": "bigint"
        },
        {
         "key": "2",
         "name": "percent_records",
         "type": "decimal"
        },
        {
         "key": "3",
         "name": "start",
         "type": "date"
        },
        {
         "key": "4",
         "name": "end",
         "type": "date"
        }
       ],
       "truncated": false
      },
      "wranglerEntryContext": {
       "dataframeType": "pyspark"
      }
     },
     "type": "Synapse.DataFrame"
    },
    "15dcda2d-b101-4a08-b62e-628c80749a70": {
     "persist_state": {
      "view": {
       "chartOptions": {
        "aggregationType": "sum",
        "categoryFieldKeys": [],
        "chartType": "bar",
        "isStacked": false,
        "seriesFieldKeys": [
         "0"
        ]
       },
       "tableOptions": {},
       "type": "details"
      }
     },
     "sync_state": {
      "isSummary": false,
      "language": "scala",
      "table": {
       "rows": [
        {
         "0": "3071"
        }
       ],
       "schema": [
        {
         "key": "0",
         "name": "neg_confirmed_change",
         "type": "bigint"
        }
       ],
       "truncated": false
      },
      "wranglerEntryContext": {
       "dataframeType": "pyspark"
      }
     },
     "type": "Synapse.DataFrame"
    },
    "209e527d-df4f-4590-abcc-560cd85e59e1": {
     "persist_state": {
      "view": {
       "chartOptions": {
        "aggregationType": "sum",
        "categoryFieldKeys": [],
        "chartType": "bar",
        "isStacked": false,
        "seriesFieldKeys": [
         "0"
        ]
       },
       "tableOptions": {},
       "type": "details"
      }
     },
     "sync_state": {
      "isSummary": false,
      "language": "scala",
      "table": {
       "rows": [
        {
         "0": "1922"
        }
       ],
       "schema": [
        {
         "key": "0",
         "name": "neg_deaths_change",
         "type": "bigint"
        }
       ],
       "truncated": false
      },
      "wranglerEntryContext": {
       "dataframeType": "pyspark"
      }
     },
     "type": "Synapse.DataFrame"
    },
    "67c29b77-69b0-4ef0-b680-ce68100657fb": {
     "persist_state": {
      "view": {
       "chartOptions": {
        "aggregationType": "sum",
        "categoryFieldKeys": [
         "1"
        ],
        "chartType": "bar",
        "isStacked": false,
        "seriesFieldKeys": [
         "0"
        ]
       },
       "tableOptions": {},
       "type": "details"
      }
     },
     "sync_state": {
      "isSummary": false,
      "language": "scala",
      "table": {
       "rows": [
        {
         "0": "229467613",
         "1": "2023-03-01",
         "10": "US",
         "11": "USA",
         "12": "United States",
         "16": "2024-10-06 00:04:12.003",
         "2": "103420826",
         "3": "15499",
         "4": "1119560",
         "5": "0",
         "8": "39.49591",
         "9": "-98.98998"
        },
        {
         "0": "216670568",
         "1": "2022-11-01",
         "10": "US",
         "11": "USA",
         "12": "United States",
         "16": "2024-10-06 00:04:12.003",
         "2": "97553232",
         "3": "58156",
         "4": "1070389",
         "5": "123",
         "8": "39.49591",
         "9": "-98.98998"
        },
        {
         "0": "212298419",
         "1": "2022-10-01",
         "10": "US",
         "11": "USA",
         "12": "United States",
         "16": "2024-10-06 00:04:12.003",
         "2": "96391464",
         "3": "6416",
         "4": "1059579",
         "5": "1073",
         "8": "39.49591",
         "9": "-98.98998"
        },
        {
         "0": "207910484",
         "1": "2022-09-01",
         "10": "US",
         "11": "USA",
         "12": "United States",
         "16": "2024-10-06 00:04:12.003",
         "2": "94379514",
         "3": "125690",
         "4": "1044730",
         "5": "890",
         "8": "39.49591",
         "9": "-98.98998"
        },
        {
         "0": "203481464",
         "1": "2022-08-01",
         "10": "US",
         "11": "USA",
         "12": "United States",
         "16": "2024-10-06 00:04:12.003",
         "2": "91316648",
         "3": "7489",
         "4": "1029925",
         "5": "328",
         "8": "39.49591",
         "9": "-98.98998"
        },
        {
         "0": "198894436",
         "1": "2022-07-01",
         "10": "US",
         "11": "USA",
         "12": "United States",
         "16": "2024-10-06 00:04:12.003",
         "2": "87623593",
         "3": "405920",
         "4": "1016757",
         "5": "275",
         "8": "39.49591",
         "9": "-98.98998"
        },
        {
         "0": "195427437",
         "1": "2022-06-01",
         "10": "US",
         "11": "USA",
         "12": "United States",
         "16": "2024-10-06 00:04:12.003",
         "2": "76332257",
         "3": "-7652387",
         "4": "952537",
         "8": "39.49591",
         "9": "-98.98998"
        },
        {
         "0": "190019407",
         "1": "2022-05-01",
         "10": "US",
         "11": "USA",
         "12": "United States",
         "16": "2024-10-06 00:04:12.003",
         "2": "81504995",
         "3": "360",
         "4": "997276",
         "5": "6",
         "8": "39.49591",
         "9": "-98.98998"
        },
        {
         "0": "185754708",
         "1": "2022-04-01",
         "10": "US",
         "11": "USA",
         "12": "United States",
         "16": "2024-10-06 00:04:12.003",
         "2": "80103661",
         "3": "84533",
         "4": "980624",
         "5": "1976",
         "8": "39.49591",
         "9": "-98.98998"
        },
        {
         "0": "182275367",
         "1": "2022-03-01",
         "10": "US",
         "11": "USA",
         "12": "United States",
         "16": "2024-10-06 00:04:12.003",
         "2": "71735729",
         "3": "-7196010",
         "4": "900506",
         "8": "39.49591",
         "9": "-98.98998"
        },
        {
         "0": "178347546",
         "1": "2022-02-01",
         "10": "US",
         "11": "USA",
         "12": "United States",
         "16": "2024-10-06 00:04:12.003",
         "2": "68697359",
         "3": "348623",
         "4": "842251",
         "5": "3099",
         "8": "39.49591",
         "9": "-98.98998"
        },
        {
         "0": "174222368",
         "1": "2022-01-01",
         "10": "US",
         "11": "USA",
         "12": "United States",
         "16": "2024-10-06 00:04:12.003",
         "2": "50103882",
         "3": "201141",
         "4": "781273",
         "5": "281",
         "8": "39.49591",
         "9": "-98.98998"
        },
        {
         "0": "170492512",
         "1": "2021-12-01",
         "10": "US",
         "11": "USA",
         "12": "United States",
         "16": "2024-10-06 00:04:12.003",
         "2": "44437688",
         "3": "116185",
         "4": "741479",
         "5": "1925",
         "8": "39.49591",
         "9": "-98.98998"
        },
        {
         "0": "167107428",
         "1": "2021-11-01",
         "10": "US",
         "11": "USA",
         "12": "United States",
         "16": "2024-10-06 00:04:12.003",
         "2": "44014625",
         "3": "3348",
         "4": "708799",
         "5": "886",
         "8": "39.49591",
         "9": "-98.98998"
        },
        {
         "0": "161794567",
         "1": "2021-10-01",
         "10": "US",
         "11": "USA",
         "12": "United States",
         "16": "2024-10-06 00:04:12.003",
         "2": "43910849",
         "3": "4038554",
         "4": "664528",
         "5": "3798",
         "8": "39.49591",
         "9": "-98.98998"
        },
        {
         "0": "157896638",
         "1": "2021-09-01",
         "10": "US",
         "11": "USA",
         "12": "United States",
         "16": "2024-10-06 00:04:12.003",
         "2": "36341291",
         "3": "131238",
         "4": "607477",
         "5": "1829",
         "8": "39.49591",
         "9": "-98.98998"
        },
        {
         "0": "152759711",
         "1": "2021-08-01",
         "10": "US",
         "11": "USA",
         "12": "United States",
         "16": "2024-10-06 00:04:12.003",
         "2": "32418597",
         "3": "138293",
         "4": "579807",
         "5": "50",
         "8": "39.49591",
         "9": "-98.98998"
        },
        {
         "0": "146324684",
         "1": "2021-07-01",
         "10": "US",
         "11": "USA",
         "12": "United States",
         "16": "2024-10-06 00:04:12.003",
         "2": "31158208",
         "3": "28922",
         "4": "571681",
         "5": "250",
         "8": "39.49591",
         "9": "-98.98998"
        },
        {
         "0": "139956593",
         "1": "2021-06-01",
         "10": "US",
         "11": "USA",
         "12": "United States",
         "16": "2024-10-06 00:04:12.003",
         "2": "30809244",
         "3": "13891",
         "4": "561818",
         "5": "553",
         "8": "39.49591",
         "9": "-98.98998"
        },
        {
         "0": "132815498",
         "1": "2021-05-01",
         "10": "US",
         "11": "USA",
         "12": "United States",
         "16": "2024-10-06 00:04:12.003",
         "2": "30040851",
         "3": "31484",
         "4": "544502",
         "5": "694",
         "8": "39.49591",
         "9": "-98.98998"
        },
        {
         "0": "125268159",
         "1": "2021-04-01",
         "10": "US",
         "11": "USA",
         "12": "United States",
         "16": "2024-10-06 00:04:12.003",
         "2": "28429641",
         "3": "61887",
         "4": "522265",
         "5": "877",
         "8": "39.49591",
         "9": "-98.98998"
        },
        {
         "0": "121382179",
         "1": "2021-03-01",
         "10": "US",
         "11": "USA",
         "12": "United States",
         "16": "2024-10-06 00:04:12.003",
         "2": "26818816",
         "3": "45649",
         "4": "487432",
         "5": "1208",
         "8": "39.49591",
         "9": "-98.98998"
        },
        {
         "0": "113626140",
         "1": "2021-02-01",
         "10": "US",
         "11": "USA",
         "12": "United States",
         "16": "2024-10-06 00:04:12.003",
         "2": "24844728",
         "3": "102288",
         "4": "419692",
         "5": "1549",
         "6": "11166500",
         "7": "0",
         "8": "39.49591",
         "9": "-98.98998"
        },
        {
         "0": "102908905",
         "1": "2021-01-01",
         "10": "US",
         "11": "USA",
         "12": "United States",
         "16": "2024-10-06 00:04:12.003",
         "2": "19438731",
         "3": "258867",
         "4": "329311",
         "5": "2444",
         "6": "9170094",
         "7": "412944",
         "8": "39.49591",
         "9": "-98.98998"
        },
        {
         "0": "91765130",
         "1": "2020-12-01",
         "10": "US",
         "11": "USA",
         "12": "United States",
         "16": "2024-10-06 00:04:12.003",
         "2": "13465599",
         "3": "190410",
         "4": "255580",
         "5": "2388",
         "6": "6690098",
         "7": "95989",
         "8": "39.49591",
         "9": "-98.98998"
        },
        {
         "0": "82783219",
         "1": "2020-11-01",
         "10": "US",
         "11": "USA",
         "12": "United States",
         "16": "2024-10-06 00:04:12.003",
         "2": "9068682",
         "3": "81650",
         "4": "218319",
         "5": "414",
         "6": "5562198",
         "7": "10028",
         "8": "39.49591",
         "9": "-98.98998"
        },
        {
         "0": "71907096",
         "1": "2020-10-01",
         "10": "US",
         "11": "USA",
         "12": "United States",
         "16": "2024-10-06 00:04:12.003",
         "2": "7186019",
         "3": "48252",
         "4": "195641",
         "5": "861",
         "6": "3930203",
         "7": "9283",
         "8": "39.49591",
         "9": "-98.98998"
        },
        {
         "0": "61056594",
         "1": "2020-09-01",
         "10": "US",
         "11": "USA",
         "12": "United States",
         "16": "2024-10-06 00:04:12.003",
         "2": "6004196",
         "3": "37630",
         "4": "172978",
         "5": "1021",
         "6": "3218565",
         "7": "246",
         "8": "39.49591",
         "9": "-98.98998"
        },
        {
         "0": "57843198",
         "1": "2020-08-01",
         "10": "US",
         "11": "USA",
         "12": "United States",
         "16": "2024-10-06 00:04:12.003",
         "2": "4597990",
         "3": "53561",
         "4": "143271",
         "5": "1207",
         "6": "2299937",
         "7": "27422",
         "8": "39.49591",
         "9": "-98.98998"
        },
        {
         "0": "57843108",
         "1": "2020-07-01",
         "10": "US",
         "11": "USA",
         "12": "United States",
         "16": "2024-10-06 00:04:12.003",
         "2": "2695495",
         "3": "54869",
         "4": "117698",
         "5": "670",
         "6": "840649",
         "7": "14868",
         "8": "39.49591",
         "9": "-98.98998"
        },
        {
         "0": "57843046",
         "1": "2020-06-01",
         "10": "US",
         "11": "USA",
         "12": "United States",
         "16": "2024-10-06 00:04:12.003",
         "2": "1810113",
         "3": "20039",
         "4": "98437",
         "5": "478",
         "6": "411898",
         "7": "13806",
         "8": "39.49591",
         "9": "-98.98998"
        },
        {
         "0": "57842972",
         "1": "2020-05-01",
         "10": "US",
         "11": "USA",
         "12": "United States",
         "16": "2024-10-06 00:04:12.003",
         "2": "1124523",
         "3": "30531",
         "4": "58931",
         "5": "1794",
         "6": "137944",
         "7": "9508",
         "8": "39.49591",
         "9": "-98.98998"
        },
        {
         "0": "57842884",
         "1": "2020-04-01",
         "10": "US",
         "11": "USA",
         "12": "United States",
         "16": "2024-10-06 00:04:12.003",
         "2": "241626",
         "3": "28879",
         "4": "4746",
         "5": "940",
         "6": "8878",
         "7": "2933",
         "8": "39.49591",
         "9": "-98.98998"
        },
        {
         "0": "57842858",
         "1": "2020-03-01",
         "10": "US",
         "11": "USA",
         "12": "United States",
         "16": "2024-10-06 00:04:12.003",
         "2": "57",
         "3": "1",
         "4": "2",
         "5": "1",
         "6": "9",
         "7": "3",
         "8": "39.49591",
         "9": "-98.98998"
        },
        {
         "0": "339294",
         "1": "2020-02-01",
         "10": "US",
         "11": "USA",
         "12": "United States",
         "16": "2024-10-06 00:04:12.003",
         "2": "7",
         "3": "1",
         "4": "0",
         "5": "0",
         "8": "39.49591",
         "9": "-98.98998"
        }
       ],
       "schema": [
        {
         "key": "0",
         "name": "id",
         "type": "int"
        },
        {
         "key": "1",
         "name": "updated",
         "type": "date"
        },
        {
         "key": "2",
         "name": "confirmed",
         "type": "int"
        },
        {
         "key": "3",
         "name": "confirmed_change",
         "type": "int"
        },
        {
         "key": "4",
         "name": "deaths",
         "type": "int"
        },
        {
         "key": "5",
         "name": "deaths_change",
         "type": "smallint"
        },
        {
         "key": "6",
         "name": "recovered",
         "type": "int"
        },
        {
         "key": "7",
         "name": "recovered_change",
         "type": "int"
        },
        {
         "key": "8",
         "name": "latitude",
         "type": "double"
        },
        {
         "key": "9",
         "name": "longitude",
         "type": "double"
        },
        {
         "key": "10",
         "name": "iso2",
         "type": "string"
        },
        {
         "key": "11",
         "name": "iso3",
         "type": "string"
        },
        {
         "key": "12",
         "name": "country_region",
         "type": "string"
        },
        {
         "key": "13",
         "name": "admin_region_1",
         "type": "string"
        },
        {
         "key": "14",
         "name": "iso_subdivision",
         "type": "string"
        },
        {
         "key": "15",
         "name": "admin_region_2",
         "type": "string"
        },
        {
         "key": "16",
         "name": "load_time",
         "type": "timestamp"
        }
       ],
       "truncated": false
      },
      "wranglerEntryContext": {
       "dataframeType": "pyspark"
      }
     },
     "type": "Synapse.DataFrame"
    },
    "67fd31fc-f09c-4f9e-8508-58eea1e21971": {
     "persist_state": {
      "view": {
       "chartOptions": {
        "aggregationType": "sum",
        "categoryFieldKeys": [
         "0"
        ],
        "chartType": "bar",
        "isStacked": false,
        "seriesFieldKeys": [
         "1"
        ]
       },
       "tableOptions": {},
       "type": "details"
      }
     },
     "sync_state": {
      "isSummary": false,
      "language": "scala",
      "table": {
       "rows": [
        {
         "0": "Worldwide",
         "1": "675622359",
         "2": "7507739",
         "3": "95897262"
        },
        {
         "0": "United States",
         "1": "103582936",
         "2": "1121667",
         "3": "27202309"
        },
        {
         "0": "India",
         "1": "44688722",
         "2": "530775",
         "3": "44154035"
        },
        {
         "0": "France",
         "1": "38591184",
         "2": "161407",
         "3": "342647"
        },
        {
         "0": "Germany",
         "1": "38202571",
         "2": "168296",
         "3": "3999988"
        },
        {
         "0": "Brazil",
         "1": "37063464",
         "2": "699197",
         "3": "20425139"
        },
        {
         "0": "Japan",
         "1": "33260228",
         "2": "72771",
         "3": "1652318"
        },
        {
         "0": "South Korea",
         "1": "30555102",
         "2": "47571",
         "3": "275576"
        },
        {
         "0": "Italy",
         "1": "25603510",
         "2": "188322",
         "3": "4451133"
        },
        {
         "0": "United Kingdom",
         "1": "24396534",
         "2": "219449",
         "3": "1918"
        },
        {
         "0": "Russia",
         "1": "22342128",
         "2": "396298",
         "3": "6710574"
        },
        {
         "0": "Turkey",
         "1": "17042722",
         "2": "101492",
         "3": "6642132"
        },
        {
         "0": "Spain",
         "1": "13763336",
         "2": "119380",
         "3": "150376"
        },
        {
         "0": "Vietnam",
         "1": "11526950",
         "2": "43186",
         "3": "664938"
        },
        {
         "0": "Australia",
         "1": "11385534",
         "2": "19459",
         "3": "25730"
        }
       ],
       "schema": [
        {
         "key": "0",
         "name": "country_region",
         "type": "string"
        },
        {
         "key": "1",
         "name": "max_confirmed",
         "type": "int"
        },
        {
         "key": "2",
         "name": "max(deaths)",
         "type": "int"
        },
        {
         "key": "3",
         "name": "max(recovered)",
         "type": "int"
        }
       ],
       "truncated": false
      },
      "wranglerEntryContext": {
       "dataframeType": "pyspark"
      }
     },
     "type": "Synapse.DataFrame"
    },
    "71dadd38-7dc3-4c86-93d3-c88e74730d47": {
     "persist_state": {
      "view": {
       "chartOptions": {
        "aggregationType": "sum",
        "categoryFieldKeys": [
         "0"
        ],
        "chartType": "bar",
        "isStacked": false,
        "seriesFieldKeys": [
         "1"
        ]
       },
       "tableOptions": {},
       "type": "details"
      }
     },
     "sync_state": {
      "isSummary": false,
      "language": "scala",
      "table": {
       "rows": [
        {
         "0": "United States",
         "1": "3162281",
         "2": "66.34"
        },
        {
         "0": "India",
         "1": "357985",
         "2": "7.51"
        },
        {
         "0": "Germany",
         "1": "296227",
         "2": "6.21"
        },
        {
         "0": "Russia",
         "1": "87747",
         "2": "1.84"
        },
        {
         "0": "Japan",
         "1": "50294",
         "2": "1.06"
        },
        {
         "0": "Costa Rica",
         "1": "49344",
         "2": "1.04"
        },
        {
         "0": "Colombia",
         "1": "35192",
         "2": "0.74"
        },
        {
         "0": "Mexico",
         "1": "34274",
         "2": "0.72"
        },
        {
         "0": "China (mainland)",
         "1": "31325",
         "2": "0.66"
        },
        {
         "0": "Iran",
         "1": "29887",
         "2": "0.63"
        }
       ],
       "schema": [
        {
         "key": "0",
         "name": "country_region",
         "type": "string"
        },
        {
         "key": "1",
         "name": "num_records",
         "type": "bigint"
        },
        {
         "key": "2",
         "name": "percent_records",
         "type": "decimal"
        }
       ],
       "truncated": false
      },
      "wranglerEntryContext": {
       "dataframeType": "pyspark"
      }
     },
     "type": "Synapse.DataFrame"
    },
    "7f84db9c-45e4-4c61-8daf-131ae431daf9": {
     "persist_state": {
      "view": {
       "chartOptions": {
        "aggregationType": "sum",
        "categoryFieldKeys": [
         "1"
        ],
        "chartType": "bar",
        "isStacked": false,
        "seriesFieldKeys": [
         "0"
        ]
       },
       "tableOptions": {},
       "type": "details"
      }
     },
     "sync_state": {
      "isSummary": false,
      "language": "scala",
      "table": {
       "rows": [
        {
         "0": "338995",
         "1": "2020-01-21",
         "12": "Worldwide",
         "16": "2024-10-06 00:04:12.003",
         "2": "262",
         "4": "0"
        },
        {
         "0": "338996",
         "1": "2020-01-22",
         "12": "Worldwide",
         "16": "2024-10-06 00:04:12.003",
         "2": "313",
         "3": "51",
         "4": "0",
         "5": "0"
        },
        {
         "0": "338997",
         "1": "2020-01-23",
         "12": "Worldwide",
         "16": "2024-10-06 00:04:12.003",
         "2": "578",
         "3": "265",
         "4": "0",
         "5": "0"
        },
        {
         "0": "338998",
         "1": "2020-01-24",
         "12": "Worldwide",
         "16": "2024-10-06 00:04:12.003",
         "2": "841",
         "3": "263",
         "4": "0",
         "5": "0"
        },
        {
         "0": "338999",
         "1": "2020-01-25",
         "12": "Worldwide",
         "16": "2024-10-06 00:04:12.003",
         "2": "1320",
         "3": "479",
         "4": "0",
         "5": "0"
        },
        {
         "0": "339000",
         "1": "2020-01-26",
         "12": "Worldwide",
         "16": "2024-10-06 00:04:12.003",
         "2": "2014",
         "3": "694",
         "4": "0",
         "5": "0"
        },
        {
         "0": "339001",
         "1": "2020-01-27",
         "12": "Worldwide",
         "16": "2024-10-06 00:04:12.003",
         "2": "2798",
         "3": "784",
         "4": "0",
         "5": "0"
        },
        {
         "0": "339002",
         "1": "2020-01-28",
         "12": "Worldwide",
         "16": "2024-10-06 00:04:12.003",
         "2": "4593",
         "3": "1795",
         "4": "0",
         "5": "0"
        },
        {
         "0": "339003",
         "1": "2020-01-29",
         "12": "Worldwide",
         "16": "2024-10-06 00:04:12.003",
         "2": "6065",
         "3": "1472",
         "4": "0",
         "5": "0"
        },
        {
         "0": "339004",
         "1": "2020-01-30",
         "12": "Worldwide",
         "16": "2024-10-06 00:04:12.003",
         "2": "7818",
         "3": "1753",
         "4": "0",
         "5": "0"
        },
        {
         "0": "339005",
         "1": "2020-01-31",
         "12": "Worldwide",
         "16": "2024-10-06 00:04:12.003",
         "2": "9826",
         "3": "2008",
         "4": "0",
         "5": "0"
        },
        {
         "0": "339006",
         "1": "2020-02-01",
         "12": "Worldwide",
         "16": "2024-10-06 00:04:12.003",
         "2": "11953",
         "3": "2127",
         "4": "0",
         "5": "0"
        },
        {
         "0": "339007",
         "1": "2020-02-02",
         "12": "Worldwide",
         "16": "2024-10-06 00:04:12.003",
         "2": "14557",
         "3": "2604",
         "4": "0",
         "5": "0"
        },
        {
         "0": "339008",
         "1": "2020-02-03",
         "12": "Worldwide",
         "16": "2024-10-06 00:04:12.003",
         "2": "17386",
         "3": "2829",
         "4": "362",
         "5": "362"
        },
        {
         "0": "339009",
         "1": "2020-02-04",
         "12": "Worldwide",
         "16": "2024-10-06 00:04:12.003",
         "2": "20625",
         "3": "3239",
         "4": "426",
         "5": "64"
        },
        {
         "0": "339010",
         "1": "2020-02-05",
         "12": "Worldwide",
         "16": "2024-10-06 00:04:12.003",
         "2": "24549",
         "3": "3924",
         "4": "492",
         "5": "66"
        },
        {
         "0": "339011",
         "1": "2020-02-06",
         "12": "Worldwide",
         "16": "2024-10-06 00:04:12.003",
         "2": "28256",
         "3": "3707",
         "4": "565",
         "5": "73"
        },
        {
         "0": "339012",
         "1": "2020-02-07",
         "12": "Worldwide",
         "16": "2024-10-06 00:04:12.003",
         "2": "31420",
         "3": "3164",
         "4": "638",
         "5": "73"
        },
        {
         "0": "339013",
         "1": "2020-02-08",
         "12": "Worldwide",
         "16": "2024-10-06 00:04:12.003",
         "2": "34822",
         "3": "3402",
         "4": "724",
         "5": "86"
        },
        {
         "0": "339014",
         "1": "2020-02-09",
         "12": "Worldwide",
         "16": "2024-10-06 00:04:12.003",
         "2": "37494",
         "3": "2672",
         "4": "813",
         "5": "89"
        }
       ],
       "schema": [
        {
         "key": "0",
         "name": "id",
         "type": "int"
        },
        {
         "key": "1",
         "name": "updated",
         "type": "date"
        },
        {
         "key": "2",
         "name": "confirmed",
         "type": "int"
        },
        {
         "key": "3",
         "name": "confirmed_change",
         "type": "int"
        },
        {
         "key": "4",
         "name": "deaths",
         "type": "int"
        },
        {
         "key": "5",
         "name": "deaths_change",
         "type": "smallint"
        },
        {
         "key": "6",
         "name": "recovered",
         "type": "int"
        },
        {
         "key": "7",
         "name": "recovered_change",
         "type": "int"
        },
        {
         "key": "8",
         "name": "latitude",
         "type": "double"
        },
        {
         "key": "9",
         "name": "longitude",
         "type": "double"
        },
        {
         "key": "10",
         "name": "iso2",
         "type": "string"
        },
        {
         "key": "11",
         "name": "iso3",
         "type": "string"
        },
        {
         "key": "12",
         "name": "country_region",
         "type": "string"
        },
        {
         "key": "13",
         "name": "admin_region_1",
         "type": "string"
        },
        {
         "key": "14",
         "name": "iso_subdivision",
         "type": "string"
        },
        {
         "key": "15",
         "name": "admin_region_2",
         "type": "string"
        },
        {
         "key": "16",
         "name": "load_time",
         "type": "timestamp"
        }
       ],
       "truncated": false
      },
      "wranglerEntryContext": {
       "dataframeType": "pyspark"
      }
     },
     "type": "Synapse.DataFrame"
    },
    "c2e9042e-99db-4f27-b7da-e697258e898d": {
     "persist_state": {
      "view": {
       "chartOptions": {
        "aggregationType": "sum",
        "categoryFieldKeys": [
         "0"
        ],
        "chartType": "bar",
        "isStacked": false,
        "seriesFieldKeys": [
         "2"
        ]
       },
       "tableOptions": {},
       "type": "details"
      }
     },
     "sync_state": {
      "isSummary": false,
      "language": "scala",
      "table": {
       "rows": [
        {
         "0": "Yemen",
         "1": "2023-03-05",
         "2": "11945",
         "3": "2159",
         "5": "0.18074508162411052"
        },
        {
         "0": "St Marten",
         "1": "2020-04-17",
         "2": "57",
         "3": "9",
         "4": "12",
         "5": "0.15789473684210525"
        },
        {
         "0": "French-Guadeloupe",
         "1": "2020-05-01",
         "2": "76",
         "3": "10",
         "4": "50",
         "5": "0.13157894736842105"
        },
        {
         "0": "Sudan",
         "1": "2023-03-05",
         "2": "63809",
         "3": "5013",
         "5": "0.07856258521525177"
        },
        {
         "0": "French-Martinique",
         "1": "2020-05-01",
         "2": "66",
         "3": "5",
         "4": "48",
         "5": "0.07575757575757576"
        },
        {
         "0": "Syria",
         "1": "2023-03-05",
         "2": "57467",
         "3": "3164",
         "5": "0.05505768528024779"
        },
        {
         "0": "Somalia",
         "1": "2023-03-05",
         "2": "27324",
         "3": "1361",
         "5": "0.04980969111403894"
        },
        {
         "0": "Peru",
         "1": "2023-03-04",
         "2": "4484769",
         "3": "219478",
         "5": "0.0489385294983978"
        },
        {
         "0": "Egypt",
         "1": "2023-03-05",
         "2": "515698",
         "3": "24809",
         "5": "0.048107613370616135"
        },
        {
         "0": "Mexico",
         "1": "2023-03-04",
         "2": "7459860",
         "3": "333038",
         "5": "0.04464400136195586"
        },
        {
         "0": "China (mainland)",
         "1": "2023-03-04",
         "2": "2023904",
         "3": "87468",
         "5": "0.04321746485999336"
        },
        {
         "0": "Bosnia and Herzegovina",
         "1": "2023-03-05",
         "2": "401636",
         "3": "16279",
         "5": "0.04053172524375305"
        },
        {
         "0": "US Virgin Islands",
         "1": "2020-04-18",
         "2": "51",
         "3": "2",
         "4": "43",
         "5": "0.0392156862745098"
        },
        {
         "0": "Afghanistan",
         "1": "2023-03-05",
         "2": "209362",
         "3": "7896",
         "5": "0.037714580487385484"
        },
        {
         "0": "Liberia",
         "1": "2023-03-05",
         "2": "8090",
         "3": "295",
         "5": "0.03646477132262052"
        },
        {
         "0": "Macao SAR",
         "1": "2023-03-04",
         "2": "3514",
         "3": "121",
         "5": "0.0344336937962436"
        },
        {
         "0": "Ecuador",
         "1": "2023-03-05",
         "2": "1057121",
         "3": "36014",
         "5": "0.034068001676250875"
        },
        {
         "0": "Niger",
         "1": "2023-03-05",
         "2": "9508",
         "3": "315",
         "5": "0.033129995793016405"
        },
        {
         "0": "Myanmar",
         "1": "2023-03-05",
         "2": "633935",
         "3": "19490",
         "5": "0.03074447695741677"
        },
        {
         "0": "Malawi",
         "1": "2023-03-05",
         "2": "88702",
         "3": "2686",
         "5": "0.03028116615183423"
        },
        {
         "0": "The Gambia",
         "1": "2023-03-05",
         "2": "12586",
         "3": "372",
         "5": "0.029556650246305417"
        },
        {
         "0": "Bulgaria",
         "1": "2023-03-05",
         "2": "1297062",
         "3": "38219",
         "5": "0.029465823530409496"
        },
        {
         "0": "North Macedonia",
         "1": "2023-03-05",
         "2": "346852",
         "3": "9662",
         "5": "0.027856261460219345"
        },
        {
         "0": "Tunisia",
         "1": "2023-03-04",
         "2": "1150962",
         "3": "29331",
         "5": "0.0254838995553285"
        },
        {
         "0": "Algeria",
         "1": "2023-03-05",
         "2": "271469",
         "3": "6881",
         "5": "0.02534727722134019"
        },
        {
         "0": "Chad",
         "1": "2023-03-05",
         "2": "7678",
         "3": "194",
         "5": "0.025266996613701485"
        },
        {
         "0": "South Africa",
         "1": "2023-03-05",
         "2": "4064889",
         "3": "102595",
         "5": "0.02523931157775772"
        },
        {
         "0": "Haiti",
         "1": "2023-03-05",
         "2": "34143",
         "3": "860",
         "5": "0.02518817912895762"
        },
        {
         "0": "Sri Lanka",
         "1": "2023-03-05",
         "2": "672032",
         "3": "16830",
         "5": "0.02504345031188991"
        },
        {
         "0": "Paraguay",
         "1": "2023-03-05",
         "2": "808401",
         "3": "19878",
         "5": "0.02458928180445101"
        },
        {
         "0": "Namibia",
         "1": "2023-03-05",
         "2": "171156",
         "3": "4090",
         "5": "0.023896328495641404"
        },
        {
         "0": "Indonesia",
         "1": "2023-03-05",
         "2": "6736787",
         "3": "160925",
         "5": "0.02388750007978581"
        },
        {
         "0": "Honduras",
         "1": "2023-03-05",
         "2": "472219",
         "3": "11111",
         "5": "0.023529337023711457"
        },
        {
         "0": "Trinidad and Tobago",
         "1": "2023-03-05",
         "2": "189296",
         "3": "4347",
         "5": "0.022964035161862902"
        },
        {
         "0": "Jamaica",
         "1": "2023-03-05",
         "2": "154196",
         "3": "3502",
         "5": "0.022711354380139562"
        },
        {
         "0": "Mali",
         "1": "2023-03-05",
         "2": "33051",
         "3": "743",
         "5": "0.022480409064778675"
        },
        {
         "0": "Colombia",
         "1": "2023-03-04",
         "2": "6358232",
         "3": "142329",
         "5": "0.022384996332313764"
        },
        {
         "0": "Bahamas",
         "1": "2023-03-05",
         "2": "37491",
         "3": "833",
         "5": "0.022218665813128483"
        },
        {
         "0": "Hungary",
         "1": "2023-03-05",
         "2": "2195926",
         "3": "48751",
         "5": "0.022200657034890974"
        },
        {
         "0": "Senegal",
         "1": "2023-03-05",
         "2": "88921",
         "3": "1971",
         "5": "0.022165742625476548"
        },
        {
         "0": "Cambodia",
         "1": "2023-03-05",
         "2": "138719",
         "3": "3056",
         "5": "0.022030147276148184"
        },
        {
         "0": "Zimbabwe",
         "1": "2023-03-05",
         "2": "264127",
         "3": "5668",
         "5": "0.021459373710374176"
        },
        {
         "0": "Uganda",
         "1": "2023-03-05",
         "2": "170504",
         "3": "3630",
         "5": "0.02128982311265425"
        },
        {
         "0": "El Salvador",
         "1": "2023-03-05",
         "2": "201785",
         "3": "4230",
         "5": "0.020962906063384294"
        },
        {
         "0": "Madagascar",
         "1": "2023-03-05",
         "2": "67865",
         "3": "1422",
         "5": "0.020953363294776393"
        },
        {
         "0": "Ukraine",
         "1": "2023-03-04",
         "2": "5701333",
         "3": "119210",
         "5": "0.020909145282340114"
        },
        {
         "0": "Lesotho",
         "1": "2023-03-05",
         "2": "34790",
         "3": "723",
         "5": "0.020781833860304685"
        },
        {
         "0": "Romania",
         "1": "2023-03-05",
         "2": "3340342",
         "3": "67704",
         "5": "0.020268583276802195"
        },
        {
         "0": "Tanzania",
         "1": "2023-03-05",
         "2": "42846",
         "3": "846",
         "5": "0.01974513373477104"
        },
        {
         "0": "Moldova",
         "1": "2023-03-05",
         "2": "607450",
         "3": "11988",
         "5": "0.019734957609679808"
        },
        {
         "0": "Guinea-Bissau",
         "1": "2023-03-05",
         "2": "8960",
         "3": "176",
         "5": "0.019642857142857142"
        },
        {
         "0": "Armenia",
         "1": "2023-03-05",
         "2": "446819",
         "3": "8721",
         "5": "0.0195179703638386"
        },
        {
         "0": "Pakistan",
         "1": "2023-03-04",
         "2": "1577072",
         "3": "30643",
         "5": "0.019430311361814806"
        },
        {
         "0": "Eswatini",
         "1": "2023-03-05",
         "2": "74199",
         "3": "1423",
         "5": "0.01917815603983881"
        },
        {
         "0": "Iran",
         "1": "2023-03-05",
         "2": "7569483",
         "3": "144867",
         "5": "0.01913829517815153"
        },
        {
         "0": "Brazil",
         "1": "2023-03-04",
         "2": "37063464",
         "3": "699197",
         "5": "0.018864858395318904"
        },
        {
         "0": "Bolivia",
         "1": "2023-03-05",
         "2": "1193650",
         "3": "22365",
         "5": "0.018736648096175597"
        },
        {
         "0": "Poland",
         "1": "2023-03-05",
         "2": "6428783",
         "3": "118941",
         "5": "0.018501324434189177"
        },
        {
         "0": "Angola",
         "1": "2023-03-05",
         "2": "105277",
         "3": "1933",
         "5": "0.01836108551725448"
        },
        {
         "0": "Burkina Faso",
         "1": "2023-03-05",
         "2": "22056",
         "3": "396",
         "5": "0.017954298150163223"
        },
        {
         "0": "Comoros",
         "1": "2023-03-05",
         "2": "9001",
         "3": "161",
         "5": "0.017886901455393844"
        },
        {
         "0": "Guyana",
         "1": "2023-03-05",
         "2": "73075",
         "3": "1298",
         "5": "0.01776257269928156"
        },
        {
         "0": "Russia",
         "1": "2023-03-05",
         "2": "22342128",
         "3": "396298",
         "5": "0.017737701619111663"
        },
        {
         "0": "Puerto Rico",
         "1": "2021-12-23",
         "2": "181934",
         "3": "3176",
         "5": "0.017456879967460728"
        },
        {
         "0": "Suriname",
         "1": "2023-03-05",
         "2": "82467",
         "3": "1404",
         "5": "0.01702499181490778"
        },
        {
         "0": "Kenya",
         "1": "2023-03-05",
         "2": "342919",
         "3": "5688",
         "5": "0.016587007427409973"
        },
        {
         "0": "Guatemala",
         "1": "2023-03-05",
         "2": "1237335",
         "3": "20177",
         "5": "0.01630682070740745"
        },
        {
         "0": "Sierra Leone",
         "1": "2023-03-05",
         "2": "7760",
         "3": "126",
         "5": "0.016237113402061857"
        },
        {
         "0": "Philippines",
         "1": "2023-03-05",
         "2": "4076704",
         "3": "66133",
         "5": "0.016222173599064343"
        },
        {
         "0": "Antigua and Barbuda",
         "1": "2023-03-05",
         "2": "9106",
         "3": "146",
         "5": "0.01603338458159455"
        },
        {
         "0": "Cameroon",
         "1": "2023-03-05",
         "2": "124392",
         "3": "1965",
         "5": "0.015796835809376807"
        },
        {
         "0": "Nicaragua",
         "1": "2023-03-05",
         "2": "15638",
         "3": "245",
         "5": "0.01566696508504924"
        },
        {
         "0": "Mauritania",
         "1": "2023-03-05",
         "2": "63668",
         "3": "997",
         "5": "0.01565935791920588"
        },
        {
         "0": "Congo",
         "1": "2023-03-04",
         "2": "25077",
         "3": "388",
         "5": "0.015472345176855286"
        },
        {
         "0": "Republic of the Congo",
         "1": "2023-03-05",
         "2": "25077",
         "3": "388",
         "5": "0.015472345176855286"
        },
        {
         "0": "Congo (DRC)",
         "1": "2023-03-05",
         "2": "95749",
         "3": "1464",
         "5": "0.015289976918818995"
        },
        {
         "0": "Ethiopia",
         "1": "2023-03-05",
         "2": "500031",
         "3": "7572",
         "5": "0.015143061130209927"
        },
        {
         "0": "Kyrgyzstan",
         "1": "2023-03-05",
         "2": "206673",
         "3": "2991",
         "5": "0.01447213714418429"
        },
        {
         "0": "Bangladesh",
         "1": "2023-03-05",
         "2": "2037829",
         "3": "29445",
         "5": "0.014449200595339452"
        },
        {
         "0": "Papua New Guinea",
         "1": "2023-03-05",
         "2": "46809",
         "3": "670",
         "5": "0.014313486722638808"
        },
        {
         "0": "Croatia",
         "1": "2023-03-05",
         "2": "1268992",
         "3": "17971",
         "5": "0.0141616338006859"
        },
        {
         "0": "Saint Lucia",
         "1": "2023-03-05",
         "2": "30004",
         "3": "409",
         "5": "0.013631515797893614"
        },
        {
         "0": "Guam",
         "1": "2022-01-15",
         "2": "18151",
         "3": "238",
         "5": "0.013112225221750868"
        },
        {
         "0": "Argentina",
         "1": "2023-03-05",
         "2": "10044125",
         "3": "130463",
         "5": "0.012988986098838874"
        },
        {
         "0": "Saint Vincent and the Grenadines",
         "1": "2023-03-05",
         "2": "9589",
         "3": "123",
         "5": "0.012827197830847846"
        },
        {
         "0": "Fiji",
         "1": "2023-03-05",
         "2": "68897",
         "3": "883",
         "5": "0.012816232927413386"
        },
        {
         "0": "Morocco",
         "1": "2023-03-05",
         "2": "1272477",
         "3": "16296",
         "5": "0.0128065183103506"
        },
        {
         "0": "Kazakhstan",
         "1": "2023-03-05",
         "2": "1498668",
         "3": "19069",
         "5": "0.012723965548073356"
        },
        {
         "0": "Libya",
         "1": "2023-03-05",
         "2": "507174",
         "3": "6437",
         "5": "0.012691896666627232"
        },
        {
         "0": "Chile",
         "1": "2023-03-04",
         "2": "5172090",
         "3": "64197",
         "5": "0.01241219700353242"
        },
        {
         "0": "São Tomé and Príncipe",
         "1": "2023-03-05",
         "2": "6281",
         "3": "77",
         "5": "0.012259194395796848"
        },
        {
         "0": "Azerbaijan",
         "1": "2023-03-05",
         "2": "828648",
         "3": "10126",
         "5": "0.012219905194968189"
        },
        {
         "0": "Guinea",
         "1": "2023-03-05",
         "2": "38267",
         "3": "467",
         "5": "0.012203726448375885"
        },
        {
         "0": "Grenada",
         "1": "2023-03-05",
         "2": "19680",
         "3": "238",
         "5": "0.012093495934959349"
        },
        {
         "0": "Djibouti",
         "1": "2023-03-05",
         "2": "15690",
         "3": "189",
         "5": "0.012045889101338431"
        },
        {
         "0": "Nepal",
         "1": "2023-03-05",
         "2": "1001149",
         "3": "12020",
         "5": "0.012006204870603677"
        },
        {
         "0": "India",
         "1": "2023-03-04",
         "2": "44688722",
         "3": "530775",
         "4": "44154035",
         "5": "0.01187715773120565"
        },
        {
         "0": "Guernsey",
         "1": "2021-10-02",
         "2": "1603",
         "3": "19",
         "4": "1505",
         "5": "0.011852776044915784"
        },
        {
         "0": "Nigeria",
         "1": "2023-03-05",
         "2": "266598",
         "3": "3155",
         "5": "0.011834297331562877"
        },
        {
         "0": "Zambia",
         "1": "2023-03-05",
         "2": "343079",
         "3": "4057",
         "5": "0.01182526473494443"
        },
        {
         "0": "Kosovo",
         "1": "2023-03-05",
         "2": "273176",
         "3": "3211",
         "5": "0.011754326880838727"
        },
        {
         "0": "Saudi Arabia",
         "1": "2023-03-05",
         "2": "829624",
         "3": "9617",
         "5": "0.011591998302845626"
        },
        {
         "0": "Oman",
         "1": "2023-03-05",
         "2": "399449",
         "3": "4628",
         "5": "0.011585959659430866"
        },
        {
         "0": "Canada",
         "1": "2023-03-04",
         "2": "4608456",
         "3": "51536",
         "5": "0.011182921134540506"
        },
        {
         "0": "Rwanda",
         "1": "2023-03-05",
         "2": "133180",
         "3": "1468",
         "5": "0.011022676077489113"
        },
        {
         "0": "United States",
         "1": "2023-03-04",
         "2": "103582936",
         "3": "1121667",
         "5": "0.010828685141730294"
        },
        {
         "0": "Albania",
         "1": "2023-03-05",
         "2": "334427",
         "3": "3598",
         "5": "0.010758700702993479"
        },
        {
         "0": "Equatorial Guinea",
         "1": "2023-03-05",
         "2": "17229",
         "3": "183",
         "5": "0.01062162632770329"
        },
        {
         "0": "Venezuela",
         "1": "2023-03-05",
         "2": "552014",
         "3": "5854",
         "5": "0.010604803501360473"
        },
        {
         "0": "U.S. Virgin Islands",
         "1": "2021-10-02",
         "2": "6786",
         "3": "71",
         "4": "6521",
         "5": "0.010462717359269083"
        },
        {
         "0": "Iraq",
         "1": "2023-03-05",
         "2": "2465545",
         "3": "25375",
         "5": "0.010291842168769988"
        },
        {
         "0": "Worldwide",
         "1": "2023-03-04",
         "2": "675622359",
         "3": "6875314",
         "5": "0.010176267715852784"
        },
        {
         "0": "Eritrea",
         "1": "2023-03-05",
         "2": "10189",
         "3": "103",
         "5": "0.010108941014819904"
        },
        {
         "0": "Belize",
         "1": "2023-03-05",
         "2": "70757",
         "3": "688",
         "5": "0.00972341959099453"
        },
        {
         "0": "Montenegro",
         "1": "2023-03-05",
         "2": "288490",
         "3": "2805",
         "5": "0.009723040659988214"
        },
        {
         "0": "Mozambique",
         "1": "2023-03-05",
         "2": "233098",
         "3": "2242",
         "5": "0.00961827214304713"
        },
        {
         "0": "Côte d'Ivoire",
         "1": "2023-03-04",
         "2": "88208",
         "3": "834",
         "5": "0.0094549247233811"
        },
        {
         "0": "Côte d’Ivoire",
         "1": "2023-03-05",
         "2": "88231",
         "3": "834",
         "5": "0.00945246001972096"
        },
        {
         "0": "Georgia",
         "1": "2023-03-05",
         "2": "1825598",
         "3": "16965",
         "5": "0.009292845412845545"
        },
        {
         "0": "Czechia",
         "1": "2023-03-05",
         "2": "4612903",
         "3": "42457",
         "5": "0.0092039654855088"
        },
        {
         "0": "Bonaire",
         "1": "2021-10-02",
         "2": "2087",
         "3": "19",
         "4": "1940",
         "5": "0.009103977000479156"
        },
        {
         "0": "United Kingdom",
         "1": "2023-03-04",
         "2": "24396534",
         "3": "219449",
         "5": "0.008995089220460578"
        },
        {
         "0": "Sweden",
         "1": "2023-03-04",
         "2": "2698535",
         "3": "23731",
         "5": "0.008794030835249496"
        },
        {
         "0": "Lebanon",
         "1": "2023-03-05",
         "2": "1232301",
         "3": "10835",
         "5": "0.008792494690826349"
        },
        {
         "0": "British Virgin Islands",
         "1": "2023-03-04",
         "2": "7305",
         "3": "64",
         "5": "0.008761122518822724"
        },
        {
         "0": "Spain",
         "1": "2023-03-04",
         "2": "13763336",
         "3": "119380",
         "5": "0.008673769208279156"
        },
        {
         "0": "Ghana",
         "1": "2023-03-05",
         "2": "171172",
         "3": "1462",
         "5": "0.008541116537751501"
        },
        {
         "0": "Bermuda",
         "1": "2023-03-04",
         "2": "18814",
         "3": "160",
         "5": "0.008504305304560434"
        },
        {
         "0": "Botswana",
         "1": "2023-03-05",
         "2": "329727",
         "3": "2801",
         "5": "0.008494906392257837"
        },
        {
         "0": "Panama",
         "1": "2023-03-05",
         "2": "1031273",
         "3": "8604",
         "5": "0.008343086651158326"
        },
        {
         "0": "French Polynesia",
         "1": "2023-03-04",
         "2": "77957",
         "3": "649",
         "5": "0.00832510229998589"
        },
        {
         "0": "West Bank",
         "1": "2023-03-05",
         "2": "703228",
         "3": "5708",
         "5": "0.008116855415313384"
        },
        {
         "0": "Jordan",
         "1": "2023-03-05",
         "2": "1746997",
         "3": "14122",
         "5": "0.00808358571880776"
        },
        {
         "0": "Slovakia",
         "1": "2023-03-05",
         "2": "2666004",
         "3": "21029",
         "5": "0.007887835127029067"
        },
        {
         "0": "Jersey",
         "1": "2021-10-02",
         "2": "10054",
         "3": "78",
         "4": "9720",
         "5": "0.0077581062263775615"
        },
        {
         "0": "Cuba",
         "1": "2023-03-05",
         "2": "1112613",
         "3": "8530",
         "5": "0.007666637006757965"
        },
        {
         "0": "Costa Rica",
         "1": "2023-03-05",
         "2": "1204164",
         "3": "9230",
         "5": "0.007665068877661182"
        },
        {
         "0": "South Sudan",
         "1": "2023-03-05",
         "2": "18368",
         "3": "138",
         "5": "0.007513066202090592"
        },
        {
         "0": "Uruguay",
         "1": "2023-03-05",
         "2": "1034303",
         "3": "7617",
         "5": "0.007364379683709706"
        },
        {
         "0": "Togo",
         "1": "2023-03-05",
         "2": "39382",
         "3": "290",
         "5": "0.007363770250368188"
        },
        {
         "0": "Italy",
         "1": "2023-03-04",
         "2": "25576852",
         "3": "188094",
         "5": "0.00735407156439737"
        },
        {
         "0": "Central African Republic",
         "1": "2023-03-05",
         "2": "15368",
         "3": "113",
         "5": "0.007352941176470588"
        },
        {
         "0": "Northern Mariana Islands",
         "1": "2022-02-10",
         "2": "272",
         "3": "2",
         "5": "0.007352941176470588"
        },
        {
         "0": "Lithuania",
         "1": "2023-03-05",
         "2": "1305902",
         "3": "9590",
         "5": "0.00734358320915352"
        },
        {
         "0": "Malaysia",
         "1": "2023-03-05",
         "2": "5043790",
         "3": "36966",
         "5": "0.007329012508450986"
        },
        {
         "0": "Thailand",
         "1": "2023-03-05",
         "2": "4728035",
         "3": "33911",
         "5": "0.0071723242319483675"
        },
        {
         "0": "Belarus",
         "1": "2023-03-05",
         "2": "994037",
         "3": "7118",
         "5": "0.007160699249625517"
        },
        {
         "0": "Serbia",
         "1": "2023-03-05",
         "2": "2495185",
         "3": "17844",
         "5": "0.0071513735454485335"
        },
        {
         "0": "Belgium",
         "1": "2023-03-04",
         "2": "4727795",
         "3": "33775",
         "5": "0.007143922272433555"
        },
        {
         "0": "St Kitts and Nevis",
         "1": "2023-03-05",
         "2": "6597",
         "3": "47",
         "5": "0.007124450507806579"
        },
        {
         "0": "Malta",
         "1": "2023-03-05",
         "2": "117477",
         "3": "827",
         "5": "0.007039675851443261"
        },
        {
         "0": "Tajikistan",
         "1": "2023-03-05",
         "2": "17786",
         "3": "125",
         "5": "0.0070279995502080285"
        },
        {
         "0": "Dominican Republic",
         "1": "2023-03-05",
         "2": "660705",
         "3": "4384",
         "5": "0.006635336496621034"
        },
        {
         "0": "Curaçao",
         "1": "2023-03-04",
         "2": "45986",
         "3": "301",
         "5": "0.006545470360544514"
        },
        {
         "0": "Cabo Verde",
         "1": "2023-03-05",
         "2": "63244",
         "3": "413",
         "5": "0.006530263740433875"
        },
        {
         "0": "Uzbekistan",
         "1": "2023-03-05",
         "2": "251071",
         "3": "1637",
         "5": "0.006520068028565625"
        },
        {
         "0": "Latvia",
         "1": "2023-03-05",
         "2": "976095",
         "3": "6265",
         "5": "0.006418432632069624"
        },
        {
         "0": "Aruba",
         "1": "2023-03-04",
         "2": "44044",
         "3": "282",
         "5": "0.006402688220870039"
        },
        {
         "0": "Greece",
         "1": "2023-03-05",
         "2": "5548487",
         "3": "34779",
         "5": "0.0062681952755769274"
        },
        {
         "0": "Gabon",
         "1": "2023-03-05",
         "2": "48981",
         "3": "306",
         "5": "0.006247320389538801"
        },
        {
         "0": "Solomon Islands",
         "1": "2023-03-05",
         "2": "24575",
         "3": "153",
         "5": "0.0062258392675483215"
        },
        {
         "0": "Finland",
         "1": "2023-03-05",
         "2": "1462976",
         "3": "8936",
         "5": "0.0061080974670808"
        },
        {
         "0": "Turkey",
         "1": "2023-03-05",
         "2": "17042722",
         "3": "101492",
         "5": "0.005955151999780316"
        },
        {
         "0": "Timor-Leste",
         "1": "2023-03-05",
         "2": "23418",
         "3": "138",
         "5": "0.0058929028952088135"
        },
        {
         "0": "Benin",
         "1": "2023-03-05",
         "2": "27990",
         "3": "163",
         "5": "0.005823508395855663"
        },
        {
         "0": "Turks and Caicos Islands",
         "1": "2023-03-04",
         "2": "6551",
         "3": "38",
         "5": "0.005800641123492597"
        },
        {
         "0": "Montserrat",
         "1": "2023-03-04",
         "2": "1403",
         "3": "8",
         "5": "0.005702066999287242"
        },
        {
         "0": "Gibraltar",
         "1": "2023-03-04",
         "2": "20423",
         "3": "111",
         "5": "0.005435048719580865"
        },
        {
         "0": "Barbados",
         "1": "2023-03-05",
         "2": "106645",
         "3": "575",
         "5": "0.005391720193164236"
        },
        {
         "0": "Slovenia",
         "1": "2023-03-05",
         "2": "1329386",
         "3": "7073",
         "5": "0.005320501344229592"
        },
        {
         "0": "San Marino",
         "1": "2023-03-05",
         "2": "23583",
         "3": "122",
         "5": "0.0051732179960140776"
        },
        {
         "0": "Ireland",
         "1": "2023-03-05",
         "2": "1703850",
         "3": "8691",
         "5": "0.005100801126859759"
        },
        {
         "0": "Guadeloupe",
         "1": "2023-03-05",
         "2": "201852",
         "3": "1010",
         "5": "0.005003666052355191"
        },
        {
         "0": "Estonia",
         "1": "2023-03-05",
         "2": "615128",
         "3": "2940",
         "5": "0.004779493048601266"
        },
        {
         "0": "Martinique",
         "1": "2023-03-05",
         "2": "228875",
         "3": "1092",
         "5": "0.004771163298743856"
        },
        {
         "0": "Portugal",
         "1": "2023-03-05",
         "2": "5568084",
         "3": "26180",
         "5": "0.004701796883811379"
        },
        {
         "0": "Dominica",
         "1": "2023-03-05",
         "2": "15760",
         "3": "74",
         "5": "0.004695431472081219"
        },
        {
         "0": "Hong Kong SAR",
         "1": "2023-03-04",
         "2": "2876106",
         "3": "13462",
         "5": "0.004680634162996774"
        },
        {
         "0": "Mayotte",
         "1": "2023-03-05",
         "2": "42004",
         "3": "187",
         "5": "0.004451956956480335"
        },
        {
         "0": "Germany",
         "1": "2023-03-04",
         "2": "38202571",
         "3": "168296",
         "5": "0.004405357953526217"
        },
        {
         "0": "French Guiana",
         "1": "2023-03-05",
         "2": "98041",
         "3": "413",
         "5": "0.004212523332075356"
        },
        {
         "0": "France",
         "1": "2023-03-05",
         "2": "38591184",
         "3": "161407",
         "5": "0.004182483750692904"
        },
        {
         "0": "Monaco",
         "1": "2023-03-05",
         "2": "16115",
         "3": "67",
         "5": "0.004157617126900403"
        },
        {
         "0": "Liechtenstein",
         "1": "2023-03-05",
         "2": "21426",
         "3": "89",
         "5": "0.0041538317931485115"
        },
        {
         "0": "New Caledonia",
         "1": "2023-03-04",
         "2": "80007",
         "3": "314",
         "5": "0.003924656592548152"
        },
        {
         "0": "Kuwait",
         "1": "2023-03-05",
         "2": "663456",
         "3": "2570",
         "5": "0.0038736555250084405"
        },
        {
         "0": "Luxembourg",
         "1": "2023-03-05",
         "2": "316601",
         "3": "1219",
         "5": "0.0038502721090584047"
        },
        {
         "0": "Vietnam",
         "1": "2023-03-05",
         "2": "11526950",
         "3": "43186",
         "5": "0.0037465244492255107"
        },
        {
         "0": "Austria",
         "1": "2023-03-04",
         "2": "5926148",
         "3": "21899",
         "5": "0.0036953177679666456"
        },
        {
         "0": "Kiribati",
         "1": "2023-03-05",
         "2": "5013",
         "3": "18",
         "5": "0.003590664272890485"
        },
        {
         "0": "Mauritius",
         "1": "2023-03-05",
         "2": "295440",
         "3": "1044",
         "5": "0.0035337124289195774"
        },
        {
         "0": "Norway",
         "1": "2023-03-05",
         "2": "1479208",
         "3": "5213",
         "5": "0.0035241832115564544"
        },
        {
         "0": "Laos",
         "1": "2023-03-05",
         "2": "218019",
         "3": "758",
         "5": "0.003476761199711952"
        },
        {
         "0": "Andorra",
         "1": "2023-03-05",
         "2": "47875",
         "3": "165",
         "5": "0.0034464751958224542"
        },
        {
         "0": "Seychelles",
         "1": "2023-03-05",
         "2": "50665",
         "3": "172",
         "5": "0.003394848514753775"
        },
        {
         "0": "Switzerland",
         "1": "2023-03-05",
         "2": "4412439",
         "3": "14207",
         "5": "0.0032197612250277003"
        },
        {
         "0": "Anguilla",
         "1": "2023-03-04",
         "2": "3904",
         "3": "12",
         "5": "0.0030737704918032786"
        },
        {
         "0": "Isle of Man",
         "1": "2023-03-04",
         "2": "38008",
         "3": "116",
         "5": "0.003051989054935803"
        },
        {
         "0": "Netherlands",
         "1": "2023-03-04",
         "2": "8607177",
         "3": "23081",
         "5": "0.002681599321124685"
        },
        {
         "0": "Israel",
         "1": "2023-03-05",
         "2": "4800904",
         "3": "12303",
         "5": "0.002562642369020501"
        },
        {
         "0": "Federated States of Micronesia",
         "1": "2023-03-05",
         "2": "23948",
         "3": "61",
         "5": "0.002547185568732253"
        },
        {
         "0": "Denmark",
         "1": "2023-03-05",
         "2": "3403707",
         "3": "8274",
         "5": "0.0024308790386481562"
        },
        {
         "0": "United Arab Emirates",
         "1": "2023-03-04",
         "2": "1052247",
         "3": "2349",
         "5": "0.0022323655947700492"
        },
        {
         "0": "Bahrain",
         "1": "2023-03-05",
         "2": "708532",
         "3": "1552",
         "5": "0.0021904444682808964"
        },
        {
         "0": "Japan",
         "1": "2023-03-05",
         "2": "33260228",
         "3": "72771",
         "5": "0.002187928477219098"
        },
        {
         "0": "Mongolia",
         "1": "2023-03-05",
         "2": "1007897",
         "3": "2136",
         "5": "0.002119264170842854"
        },
        {
         "0": "Cyprus",
         "1": "2023-03-05",
         "2": "650685",
         "3": "1330",
         "5": "0.002043999784842128"
        },
        {
         "0": "Wallis and Futuna",
         "1": "2023-03-04",
         "2": "3427",
         "3": "7",
         "5": "0.0020426028596440037"
        },
        {
         "0": "Taiwan",
         "1": "2023-03-04",
         "2": "9970937",
         "3": "17672",
         "5": "0.001772350983663822"
        },
        {
         "0": "Greenland",
         "1": "2023-03-04",
         "2": "11971",
         "3": "21",
         "5": "0.001754239411912121"
        },
        {
         "0": "Samoa",
         "1": "2023-03-05",
         "2": "16607",
         "3": "29",
         "5": "0.0017462515806587584"
        },
        {
         "0": "Australia",
         "1": "2023-03-04",
         "2": "11385534",
         "3": "19459",
         "5": "0.0017090985807077647"
        },
        {
         "0": "Maldives",
         "1": "2023-03-05",
         "2": "185732",
         "3": "311",
         "5": "0.0016744556673055802"
        },
        {
         "0": "Palau",
         "1": "2023-03-05",
         "2": "5989",
         "3": "9",
         "5": "0.001502755050926699"
        },
        {
         "0": "Qatar",
         "1": "2023-03-05",
         "2": "494377",
         "3": "686",
         "5": "0.00138760500589631"
        },
        {
         "0": "Iceland",
         "1": "2023-03-04",
         "2": "209093",
         "3": "263",
         "5": "0.0012578135088214335"
        },
        {
         "0": "Cayman Islands",
         "1": "2023-03-04",
         "2": "31472",
         "3": "37",
         "5": "0.001175648195221149"
        },
        {
         "0": "Vanuatu",
         "1": "2023-03-05",
         "2": "12014",
         "3": "14",
         "5": "0.001165307141668054"
        },
        {
         "0": "New Zealand",
         "1": "2023-03-05",
         "2": "2216852",
         "3": "2542",
         "5": "0.0011466710452479462"
        },
        {
         "0": "South Korea",
         "1": "2023-03-05",
         "2": "30555102",
         "3": "34020",
         "5": "0.0011133983450619801"
        },
        {
         "0": "Marshall Islands",
         "1": "2023-03-05",
         "2": "15618",
         "3": "17",
         "5": "0.0010884876424638239"
        },
        {
         "0": "Faroe Islands",
         "1": "2023-03-04",
         "2": "34658",
         "3": "28",
         "5": "8.078942812626233E-4"
        },
        {
         "0": "Brunei",
         "1": "2023-03-05",
         "2": "278698",
         "3": "225",
         "5": "8.073254921097388E-4"
        },
        {
         "0": "Tonga",
         "1": "2023-03-05",
         "2": "16807",
         "3": "13",
         "5": "7.734872374605819E-4"
        },
        {
         "0": "Singapore",
         "1": "2023-03-05",
         "2": "2230868",
         "3": "1722",
         "5": "7.718968580839386E-4"
        },
        {
         "0": "Burundi",
         "1": "2023-03-05",
         "2": "53631",
         "3": "38",
         "5": "7.085454308142678E-4"
        },
        {
         "0": "Saint Pierre and Miquelon",
         "1": "2023-03-04",
         "2": "3452",
         "3": "2",
         "5": "5.793742757821553E-4"
        },
        {
         "0": "Bhutan",
         "1": "2023-03-05",
         "2": "62620",
         "3": "21",
         "5": "3.3535611625678695E-4"
        },
        {
         "0": "Cook Islands",
         "1": "2023-03-04",
         "2": "7020",
         "3": "2",
         "5": "2.849002849002849E-4"
        },
        {
         "0": "Nauru",
         "1": "2023-03-05",
         "2": "5247",
         "3": "1",
         "5": "1.905850962454736E-4"
        }
       ],
       "schema": [
        {
         "key": "0",
         "name": "country_region",
         "type": "string"
        },
        {
         "key": "1",
         "name": "updated",
         "type": "date"
        },
        {
         "key": "2",
         "name": "confirmed",
         "type": "int"
        },
        {
         "key": "3",
         "name": "deaths",
         "type": "int"
        },
        {
         "key": "4",
         "name": "recovered",
         "type": "int"
        },
        {
         "key": "5",
         "name": "fatality_rate",
         "type": "double"
        }
       ],
       "truncated": false
      },
      "wranglerEntryContext": {
       "dataframeType": "pyspark"
      }
     },
     "type": "Synapse.DataFrame"
    },
    "e8822354-6311-4cfb-aaa3-3f268c361ef3": {
     "persist_state": {
      "view": {
       "chartOptions": {
        "aggregationType": "sum",
        "categoryFieldKeys": [],
        "chartType": "bar",
        "isStacked": false,
        "seriesFieldKeys": [
         "0"
        ]
       },
       "tableOptions": {},
       "type": "details"
      }
     },
     "sync_state": {
      "isSummary": false,
      "language": "scala",
      "table": {
       "rows": [
        {
         "0": "7946"
        }
       ],
       "schema": [
        {
         "key": "0",
         "name": "neg_recovered_change",
         "type": "bigint"
        }
       ],
       "truncated": false
      },
      "wranglerEntryContext": {
       "dataframeType": "pyspark"
      }
     },
     "type": "Synapse.DataFrame"
    },
    "faa6e2f2-ca4b-4237-be37-010efad5e581": {
     "persist_state": {
      "view": {
       "chartOptions": {
        "aggregationType": "sum",
        "categoryFieldKeys": [
         "1"
        ],
        "chartType": "bar",
        "isStacked": false,
        "seriesFieldKeys": [
         "0"
        ]
       },
       "tableOptions": {},
       "type": "details"
      }
     },
     "sync_state": {
      "isSummary": false,
      "language": "scala",
      "table": {
       "rows": [
        {
         "0": "180201567",
         "1": "2022-02-15",
         "10": "US",
         "11": "USA",
         "12": "United States",
         "16": "2024-10-06 00:04:12.003",
         "2": "70971781",
         "3": "143206",
         "4": "874755",
         "5": "2370",
         "8": "39.49591",
         "9": "-98.98998"
        },
        {
         "0": "180353475",
         "1": "2022-02-16",
         "10": "US",
         "11": "USA",
         "12": "United States",
         "16": "2024-10-06 00:04:12.003",
         "2": "71050716",
         "3": "78935",
         "4": "878289",
         "5": "3534",
         "8": "39.49591",
         "9": "-98.98998"
        },
        {
         "0": "180485031",
         "1": "2022-02-17",
         "10": "US",
         "11": "USA",
         "12": "United States",
         "16": "2024-10-06 00:04:12.003",
         "2": "71180629",
         "3": "129913",
         "4": "880328",
         "5": "2039",
         "8": "39.49591",
         "9": "-98.98998"
        },
        {
         "0": "180675939",
         "1": "2022-02-18",
         "10": "US",
         "11": "USA",
         "12": "United States",
         "16": "2024-10-06 00:04:12.003",
         "2": "71207823",
         "3": "27194",
         "4": "883741",
         "5": "3413",
         "8": "39.49591",
         "9": "-98.98998"
        },
        {
         "0": "180675940",
         "1": "2022-02-19",
         "10": "US",
         "11": "USA",
         "12": "United States",
         "16": "2024-10-06 00:04:12.003",
         "2": "71220709",
         "3": "12886",
         "4": "884368",
         "5": "627",
         "8": "39.49591",
         "9": "-98.98998"
        },
        {
         "0": "180909265",
         "1": "2022-02-20",
         "10": "US",
         "11": "USA",
         "12": "United States",
         "16": "2024-10-06 00:04:12.003",
         "2": "78457081",
         "3": "7236372",
         "4": "884619",
         "5": "251",
         "8": "39.49591",
         "9": "-98.98998"
        },
        {
         "0": "180282654",
         "1": "2022-02-21",
         "10": "US",
         "11": "USA",
         "12": "United States",
         "16": "2024-10-06 00:04:12.003",
         "2": "78536190",
         "3": "79109",
         "4": "934951",
         "8": "39.49591",
         "9": "-98.98998"
        },
        {
         "0": "181221697",
         "1": "2022-02-22",
         "10": "US",
         "11": "USA",
         "12": "United States",
         "16": "2024-10-06 00:04:12.003",
         "2": "78615299",
         "3": "79109",
         "4": "937161",
         "5": "2210",
         "8": "39.49591",
         "9": "-98.98998"
        },
        {
         "0": "181473092",
         "1": "2022-02-23",
         "10": "US",
         "11": "USA",
         "12": "United States",
         "16": "2024-10-06 00:04:12.003",
         "2": "78694409",
         "3": "79110",
         "4": "939371",
         "5": "2210",
         "8": "39.49591",
         "9": "-98.98998"
        },
        {
         "0": "181473093",
         "1": "2022-02-24",
         "10": "US",
         "11": "USA",
         "12": "United States",
         "16": "2024-10-06 00:04:12.003",
         "2": "78773519",
         "3": "79110",
         "4": "941582",
         "5": "2211",
         "8": "39.49591",
         "9": "-98.98998"
        },
        {
         "0": "181641185",
         "1": "2022-02-25",
         "10": "US",
         "11": "USA",
         "12": "United States",
         "16": "2024-10-06 00:04:12.003",
         "2": "78852629",
         "3": "79110",
         "4": "943793",
         "5": "2211",
         "8": "39.49591",
         "9": "-98.98998"
        },
        {
         "0": "181820251",
         "1": "2022-02-26",
         "10": "US",
         "11": "USA",
         "12": "United States",
         "16": "2024-10-06 00:04:12.003",
         "2": "78931739",
         "3": "79110",
         "4": "946004",
         "5": "2211",
         "8": "39.49591",
         "9": "-98.98998"
        },
        {
         "0": "181135695",
         "1": "2022-02-27",
         "10": "US",
         "11": "USA",
         "12": "United States",
         "16": "2024-10-06 00:04:12.003",
         "2": "78934227",
         "3": "2488",
         "4": "948215",
         "5": "2211",
         "8": "39.49591",
         "9": "-98.98998"
        },
        {
         "0": "182275367",
         "1": "2022-03-01",
         "10": "US",
         "11": "USA",
         "12": "United States",
         "16": "2024-10-06 00:04:12.003",
         "2": "71735729",
         "3": "-7196010",
         "4": "900506",
         "8": "39.49591",
         "9": "-98.98998"
        }
       ],
       "schema": [
        {
         "key": "0",
         "name": "id",
         "type": "int"
        },
        {
         "key": "1",
         "name": "updated",
         "type": "date"
        },
        {
         "key": "2",
         "name": "confirmed",
         "type": "int"
        },
        {
         "key": "3",
         "name": "confirmed_change",
         "type": "int"
        },
        {
         "key": "4",
         "name": "deaths",
         "type": "int"
        },
        {
         "key": "5",
         "name": "deaths_change",
         "type": "smallint"
        },
        {
         "key": "6",
         "name": "recovered",
         "type": "int"
        },
        {
         "key": "7",
         "name": "recovered_change",
         "type": "int"
        },
        {
         "key": "8",
         "name": "latitude",
         "type": "double"
        },
        {
         "key": "9",
         "name": "longitude",
         "type": "double"
        },
        {
         "key": "10",
         "name": "iso2",
         "type": "string"
        },
        {
         "key": "11",
         "name": "iso3",
         "type": "string"
        },
        {
         "key": "12",
         "name": "country_region",
         "type": "string"
        },
        {
         "key": "13",
         "name": "admin_region_1",
         "type": "string"
        },
        {
         "key": "14",
         "name": "iso_subdivision",
         "type": "string"
        },
        {
         "key": "15",
         "name": "admin_region_2",
         "type": "string"
        },
        {
         "key": "16",
         "name": "load_time",
         "type": "timestamp"
        }
       ],
       "truncated": false
      },
      "wranglerEntryContext": {
       "dataframeType": "pyspark"
      }
     },
     "type": "Synapse.DataFrame"
    }
   },
   "version": "0.1"
  }
 },
 "nbformat": 4,
 "nbformat_minor": 2
}
