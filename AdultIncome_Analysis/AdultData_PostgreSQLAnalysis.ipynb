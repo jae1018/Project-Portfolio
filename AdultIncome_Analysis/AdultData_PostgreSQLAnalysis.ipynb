{
 "cells": [
  {
   "cell_type": "markdown",
   "id": "9a810ffc",
   "metadata": {},
   "source": [
    "This notebook goes through an EDA of a dataset of adult income using Postgres. The link to the Kaggle dataset is https://www.kaggle.com/datasets/armanmanteghi/data-analytics-with-python-with-demographics, which itself is taken from the UCI Adult Income dataset (located at https://archive.ics.uci.edu/dataset/2/adult)."
   ]
  },
  {
   "cell_type": "markdown",
   "id": "7e8c8c5f",
   "metadata": {},
   "source": [
    "As is typical, imports first:"
   ]
  },
  {
   "cell_type": "code",
   "execution_count": 1,
   "id": "51d2f235",
   "metadata": {},
   "outputs": [],
   "source": [
    "import pandas as pd\n",
    "\n",
    "# for loading dataset as pandas df into SQL database\n",
    "from sqlalchemy import create_engine"
   ]
  },
  {
   "cell_type": "markdown",
   "id": "8d1e6a82",
   "metadata": {},
   "source": [
    "# Initializing PostgreSQL and Loading Data"
   ]
  },
  {
   "cell_type": "markdown",
   "id": "ec9a1a3e",
   "metadata": {},
   "source": [
    "Create the database to start (and deleting it first if it already exists by running this notebook from scratch)."
   ]
  },
  {
   "cell_type": "code",
   "execution_count": null,
   "id": "b44771c4",
   "metadata": {},
   "outputs": [],
   "source": [
    "%%bash\n",
    "#pg_ctl restart -D /usr/local/var/postgres\n",
    "psql -c \"DROP DATABASE IF EXISTS ADULT_DATA;\" postgres\n",
    "psql -c \"CREATE DATABASE ADULT_DATA;\" postgres"
   ]
  },
  {
   "cell_type": "markdown",
   "id": "ba91d577",
   "metadata": {},
   "source": [
    "Load postgres and the initialized database"
   ]
  },
  {
   "cell_type": "code",
   "execution_count": 3,
   "id": "a284a529",
   "metadata": {},
   "outputs": [
    {
     "data": {
      "text/html": [
       "<span style=\"None\">Connecting to &#x27;postgresql:///adult_data&#x27;</span>"
      ],
      "text/plain": [
       "Connecting to 'postgresql:///adult_data'"
      ]
     },
     "metadata": {},
     "output_type": "display_data"
    }
   ],
   "source": [
    "%load_ext sql\n",
    "%sql postgresql:///adult_data"
   ]
  },
  {
   "cell_type": "markdown",
   "id": "29a677f9",
   "metadata": {},
   "source": [
    "Run a test command to check that postgres has been loaded correctly."
   ]
  },
  {
   "cell_type": "code",
   "execution_count": 4,
   "id": "9a6753d8",
   "metadata": {},
   "outputs": [
    {
     "data": {
      "text/html": [
       "<span style=\"None\">Running query in &#x27;postgresql:///adult_data&#x27;</span>"
      ],
      "text/plain": [
       "Running query in 'postgresql:///adult_data'"
      ]
     },
     "metadata": {},
     "output_type": "display_data"
    },
    {
     "data": {
      "text/html": [
       "<span style=\"color: green\">1 rows affected.</span>"
      ],
      "text/plain": [
       "1 rows affected."
      ]
     },
     "metadata": {},
     "output_type": "display_data"
    },
    {
     "data": {
      "text/html": [
       "<table>\n",
       "    <thead>\n",
       "        <tr>\n",
       "            <th>current_date</th>\n",
       "        </tr>\n",
       "    </thead>\n",
       "    <tbody>\n",
       "        <tr>\n",
       "            <td>2024-10-11</td>\n",
       "        </tr>\n",
       "    </tbody>\n",
       "</table>"
      ],
      "text/plain": [
       "+--------------+\n",
       "| current_date |\n",
       "+--------------+\n",
       "|  2024-10-11  |\n",
       "+--------------+"
      ]
     },
     "execution_count": 4,
     "metadata": {},
     "output_type": "execute_result"
    }
   ],
   "source": [
    "%sql SELECT current_date;"
   ]
  },
  {
   "cell_type": "markdown",
   "id": "9bdd756a",
   "metadata": {},
   "source": [
    "Perfect! Now let's load the dataset into a database using pandas and sqalchemy."
   ]
  },
  {
   "cell_type": "code",
   "execution_count": 5,
   "id": "c009b7c6",
   "metadata": {},
   "outputs": [
    {
     "data": {
      "text/plain": [
       "561"
      ]
     },
     "execution_count": 5,
     "metadata": {},
     "output_type": "execute_result"
    }
   ],
   "source": [
    "df = pd.read_csv('adult_data.csv')\n",
    "engine = create_engine('postgresql://localhost/adult_data', echo=False)\n",
    "df.to_sql('adult_data', engine, if_exists='replace', index=False)"
   ]
  },
  {
   "cell_type": "markdown",
   "id": "d1e991ba",
   "metadata": {},
   "source": [
    "Checking that all rows have been loaded (should be around 32k)."
   ]
  },
  {
   "cell_type": "code",
   "execution_count": 6,
   "id": "9301f704",
   "metadata": {},
   "outputs": [
    {
     "data": {
      "text/html": [
       "<span style=\"None\">Running query in &#x27;postgresql:///adult_data&#x27;</span>"
      ],
      "text/plain": [
       "Running query in 'postgresql:///adult_data'"
      ]
     },
     "metadata": {},
     "output_type": "display_data"
    },
    {
     "data": {
      "text/html": [
       "<span style=\"color: green\">1 rows affected.</span>"
      ],
      "text/plain": [
       "1 rows affected."
      ]
     },
     "metadata": {},
     "output_type": "display_data"
    },
    {
     "data": {
      "text/html": [
       "<table>\n",
       "    <thead>\n",
       "        <tr>\n",
       "            <th>count</th>\n",
       "        </tr>\n",
       "    </thead>\n",
       "    <tbody>\n",
       "        <tr>\n",
       "            <td>32561</td>\n",
       "        </tr>\n",
       "    </tbody>\n",
       "</table>"
      ],
      "text/plain": [
       "+-------+\n",
       "| count |\n",
       "+-------+\n",
       "| 32561 |\n",
       "+-------+"
      ]
     },
     "execution_count": 6,
     "metadata": {},
     "output_type": "execute_result"
    }
   ],
   "source": [
    "%%sql\n",
    "SELECT\n",
    "    COUNT(*)\n",
    "FROM\n",
    "    adult_data;"
   ]
  },
  {
   "cell_type": "markdown",
   "id": "569a4b00",
   "metadata": {},
   "source": [
    "And setting display limit to None (so that there's no implicit automatic limits of 10 unless we set it explicitly, or anything like that)"
   ]
  },
  {
   "cell_type": "code",
   "execution_count": 7,
   "id": "946f839e",
   "metadata": {},
   "outputs": [
    {
     "data": {
      "text/html": [
       "<span style=\"None\">displaylimit: Value None will be treated as 0 (no limit)</span>"
      ],
      "text/plain": [
       "displaylimit: Value None will be treated as 0 (no limit)"
      ]
     },
     "metadata": {},
     "output_type": "display_data"
    }
   ],
   "source": [
    "%config SqlMagic.displaylimit = None"
   ]
  },
  {
   "cell_type": "markdown",
   "id": "dbce574f",
   "metadata": {},
   "source": [
    "Now we can proceed with the analysis!"
   ]
  },
  {
   "cell_type": "markdown",
   "id": "617bbe42",
   "metadata": {},
   "source": [
    "# Analysis"
   ]
  },
  {
   "cell_type": "markdown",
   "id": "1faf5b8b",
   "metadata": {},
   "source": [
    "Let's first check the available columns and their data types as well as the first few rows of the table."
   ]
  },
  {
   "cell_type": "code",
   "execution_count": 8,
   "id": "a0dba582",
   "metadata": {},
   "outputs": [
    {
     "data": {
      "text/html": [
       "<span style=\"None\">Running query in &#x27;postgresql:///adult_data&#x27;</span>"
      ],
      "text/plain": [
       "Running query in 'postgresql:///adult_data'"
      ]
     },
     "metadata": {},
     "output_type": "display_data"
    },
    {
     "data": {
      "text/html": [
       "<span style=\"color: green\">15 rows affected.</span>"
      ],
      "text/plain": [
       "15 rows affected."
      ]
     },
     "metadata": {},
     "output_type": "display_data"
    },
    {
     "data": {
      "text/html": [
       "<table>\n",
       "    <thead>\n",
       "        <tr>\n",
       "            <th>column_name</th>\n",
       "            <th>data_type</th>\n",
       "        </tr>\n",
       "    </thead>\n",
       "    <tbody>\n",
       "        <tr>\n",
       "            <td>fnlwgt</td>\n",
       "            <td>bigint</td>\n",
       "        </tr>\n",
       "        <tr>\n",
       "            <td>capital-gain</td>\n",
       "            <td>bigint</td>\n",
       "        </tr>\n",
       "        <tr>\n",
       "            <td>capital-loss</td>\n",
       "            <td>bigint</td>\n",
       "        </tr>\n",
       "        <tr>\n",
       "            <td>hours-per-week</td>\n",
       "            <td>bigint</td>\n",
       "        </tr>\n",
       "        <tr>\n",
       "            <td>education-num</td>\n",
       "            <td>bigint</td>\n",
       "        </tr>\n",
       "        <tr>\n",
       "            <td>age</td>\n",
       "            <td>bigint</td>\n",
       "        </tr>\n",
       "        <tr>\n",
       "            <td>race</td>\n",
       "            <td>text</td>\n",
       "        </tr>\n",
       "        <tr>\n",
       "            <td>sex</td>\n",
       "            <td>text</td>\n",
       "        </tr>\n",
       "        <tr>\n",
       "            <td>native-country</td>\n",
       "            <td>text</td>\n",
       "        </tr>\n",
       "        <tr>\n",
       "            <td>salary</td>\n",
       "            <td>text</td>\n",
       "        </tr>\n",
       "        <tr>\n",
       "            <td>workclass</td>\n",
       "            <td>text</td>\n",
       "        </tr>\n",
       "        <tr>\n",
       "            <td>education</td>\n",
       "            <td>text</td>\n",
       "        </tr>\n",
       "        <tr>\n",
       "            <td>marital-status</td>\n",
       "            <td>text</td>\n",
       "        </tr>\n",
       "        <tr>\n",
       "            <td>occupation</td>\n",
       "            <td>text</td>\n",
       "        </tr>\n",
       "        <tr>\n",
       "            <td>relationship</td>\n",
       "            <td>text</td>\n",
       "        </tr>\n",
       "    </tbody>\n",
       "</table>"
      ],
      "text/plain": [
       "+----------------+-----------+\n",
       "|  column_name   | data_type |\n",
       "+----------------+-----------+\n",
       "|     fnlwgt     |   bigint  |\n",
       "|  capital-gain  |   bigint  |\n",
       "|  capital-loss  |   bigint  |\n",
       "| hours-per-week |   bigint  |\n",
       "| education-num  |   bigint  |\n",
       "|      age       |   bigint  |\n",
       "|      race      |    text   |\n",
       "|      sex       |    text   |\n",
       "| native-country |    text   |\n",
       "|     salary     |    text   |\n",
       "|   workclass    |    text   |\n",
       "|   education    |    text   |\n",
       "| marital-status |    text   |\n",
       "|   occupation   |    text   |\n",
       "|  relationship  |    text   |\n",
       "+----------------+-----------+"
      ]
     },
     "execution_count": 8,
     "metadata": {},
     "output_type": "execute_result"
    }
   ],
   "source": [
    "%%sql\n",
    "SELECT\n",
    "    COLUMN_NAME, DATA_TYPE\n",
    "FROM\n",
    "    INFORMATION_SCHEMA.COLUMNS\n",
    "WHERE\n",
    "    TABLE_NAME = 'adult_data'\n",
    ";"
   ]
  },
  {
   "cell_type": "code",
   "execution_count": 10,
   "id": "e601ac21",
   "metadata": {},
   "outputs": [
    {
     "data": {
      "text/html": [
       "<span style=\"None\">Running query in &#x27;postgresql:///adult_data&#x27;</span>"
      ],
      "text/plain": [
       "Running query in 'postgresql:///adult_data'"
      ]
     },
     "metadata": {},
     "output_type": "display_data"
    },
    {
     "data": {
      "text/html": [
       "<span style=\"color: green\">10 rows affected.</span>"
      ],
      "text/plain": [
       "10 rows affected."
      ]
     },
     "metadata": {},
     "output_type": "display_data"
    },
    {
     "data": {
      "text/html": [
       "<table>\n",
       "    <thead>\n",
       "        <tr>\n",
       "            <th>age</th>\n",
       "            <th>workclass</th>\n",
       "            <th>fnlwgt</th>\n",
       "            <th>education</th>\n",
       "            <th>education-num</th>\n",
       "            <th>marital-status</th>\n",
       "            <th>occupation</th>\n",
       "            <th>relationship</th>\n",
       "            <th>race</th>\n",
       "            <th>sex</th>\n",
       "            <th>capital-gain</th>\n",
       "            <th>capital-loss</th>\n",
       "            <th>hours-per-week</th>\n",
       "            <th>native-country</th>\n",
       "            <th>salary</th>\n",
       "        </tr>\n",
       "    </thead>\n",
       "    <tbody>\n",
       "        <tr>\n",
       "            <td>39</td>\n",
       "            <td>State-gov</td>\n",
       "            <td>77516</td>\n",
       "            <td>Bachelors</td>\n",
       "            <td>13</td>\n",
       "            <td>Never-married</td>\n",
       "            <td>Adm-clerical</td>\n",
       "            <td>Not-in-family</td>\n",
       "            <td>White</td>\n",
       "            <td>Male</td>\n",
       "            <td>2174</td>\n",
       "            <td>0</td>\n",
       "            <td>40</td>\n",
       "            <td>United-States</td>\n",
       "            <td><=50K</td>\n",
       "        </tr>\n",
       "        <tr>\n",
       "            <td>50</td>\n",
       "            <td>Self-emp-not-inc</td>\n",
       "            <td>83311</td>\n",
       "            <td>Bachelors</td>\n",
       "            <td>13</td>\n",
       "            <td>Married-civ-spouse</td>\n",
       "            <td>Exec-managerial</td>\n",
       "            <td>Husband</td>\n",
       "            <td>White</td>\n",
       "            <td>Male</td>\n",
       "            <td>0</td>\n",
       "            <td>0</td>\n",
       "            <td>13</td>\n",
       "            <td>United-States</td>\n",
       "            <td><=50K</td>\n",
       "        </tr>\n",
       "        <tr>\n",
       "            <td>38</td>\n",
       "            <td>Private</td>\n",
       "            <td>215646</td>\n",
       "            <td>HS-grad</td>\n",
       "            <td>9</td>\n",
       "            <td>Divorced</td>\n",
       "            <td>Handlers-cleaners</td>\n",
       "            <td>Not-in-family</td>\n",
       "            <td>White</td>\n",
       "            <td>Male</td>\n",
       "            <td>0</td>\n",
       "            <td>0</td>\n",
       "            <td>40</td>\n",
       "            <td>United-States</td>\n",
       "            <td><=50K</td>\n",
       "        </tr>\n",
       "        <tr>\n",
       "            <td>53</td>\n",
       "            <td>Private</td>\n",
       "            <td>234721</td>\n",
       "            <td>11th</td>\n",
       "            <td>7</td>\n",
       "            <td>Married-civ-spouse</td>\n",
       "            <td>Handlers-cleaners</td>\n",
       "            <td>Husband</td>\n",
       "            <td>Black</td>\n",
       "            <td>Male</td>\n",
       "            <td>0</td>\n",
       "            <td>0</td>\n",
       "            <td>40</td>\n",
       "            <td>United-States</td>\n",
       "            <td><=50K</td>\n",
       "        </tr>\n",
       "        <tr>\n",
       "            <td>28</td>\n",
       "            <td>Private</td>\n",
       "            <td>338409</td>\n",
       "            <td>Bachelors</td>\n",
       "            <td>13</td>\n",
       "            <td>Married-civ-spouse</td>\n",
       "            <td>Prof-specialty</td>\n",
       "            <td>Wife</td>\n",
       "            <td>Black</td>\n",
       "            <td>Female</td>\n",
       "            <td>0</td>\n",
       "            <td>0</td>\n",
       "            <td>40</td>\n",
       "            <td>Cuba</td>\n",
       "            <td><=50K</td>\n",
       "        </tr>\n",
       "        <tr>\n",
       "            <td>37</td>\n",
       "            <td>Private</td>\n",
       "            <td>284582</td>\n",
       "            <td>Masters</td>\n",
       "            <td>14</td>\n",
       "            <td>Married-civ-spouse</td>\n",
       "            <td>Exec-managerial</td>\n",
       "            <td>Wife</td>\n",
       "            <td>White</td>\n",
       "            <td>Female</td>\n",
       "            <td>0</td>\n",
       "            <td>0</td>\n",
       "            <td>40</td>\n",
       "            <td>United-States</td>\n",
       "            <td><=50K</td>\n",
       "        </tr>\n",
       "        <tr>\n",
       "            <td>49</td>\n",
       "            <td>Private</td>\n",
       "            <td>160187</td>\n",
       "            <td>9th</td>\n",
       "            <td>5</td>\n",
       "            <td>Married-spouse-absent</td>\n",
       "            <td>Other-service</td>\n",
       "            <td>Not-in-family</td>\n",
       "            <td>Black</td>\n",
       "            <td>Female</td>\n",
       "            <td>0</td>\n",
       "            <td>0</td>\n",
       "            <td>16</td>\n",
       "            <td>Jamaica</td>\n",
       "            <td><=50K</td>\n",
       "        </tr>\n",
       "        <tr>\n",
       "            <td>52</td>\n",
       "            <td>Self-emp-not-inc</td>\n",
       "            <td>209642</td>\n",
       "            <td>HS-grad</td>\n",
       "            <td>9</td>\n",
       "            <td>Married-civ-spouse</td>\n",
       "            <td>Exec-managerial</td>\n",
       "            <td>Husband</td>\n",
       "            <td>White</td>\n",
       "            <td>Male</td>\n",
       "            <td>0</td>\n",
       "            <td>0</td>\n",
       "            <td>45</td>\n",
       "            <td>United-States</td>\n",
       "            <td>>50K</td>\n",
       "        </tr>\n",
       "        <tr>\n",
       "            <td>31</td>\n",
       "            <td>Private</td>\n",
       "            <td>45781</td>\n",
       "            <td>Masters</td>\n",
       "            <td>14</td>\n",
       "            <td>Never-married</td>\n",
       "            <td>Prof-specialty</td>\n",
       "            <td>Not-in-family</td>\n",
       "            <td>White</td>\n",
       "            <td>Female</td>\n",
       "            <td>14084</td>\n",
       "            <td>0</td>\n",
       "            <td>50</td>\n",
       "            <td>United-States</td>\n",
       "            <td>>50K</td>\n",
       "        </tr>\n",
       "        <tr>\n",
       "            <td>42</td>\n",
       "            <td>Private</td>\n",
       "            <td>159449</td>\n",
       "            <td>Bachelors</td>\n",
       "            <td>13</td>\n",
       "            <td>Married-civ-spouse</td>\n",
       "            <td>Exec-managerial</td>\n",
       "            <td>Husband</td>\n",
       "            <td>White</td>\n",
       "            <td>Male</td>\n",
       "            <td>5178</td>\n",
       "            <td>0</td>\n",
       "            <td>40</td>\n",
       "            <td>United-States</td>\n",
       "            <td>>50K</td>\n",
       "        </tr>\n",
       "    </tbody>\n",
       "</table>"
      ],
      "text/plain": [
       "+-----+------------------+--------+-----------+---------------+-----------------------+-------------------+---------------+-------+--------+--------------+--------------+----------------+----------------+--------+\n",
       "| age |    workclass     | fnlwgt | education | education-num |     marital-status    |     occupation    |  relationship |  race |  sex   | capital-gain | capital-loss | hours-per-week | native-country | salary |\n",
       "+-----+------------------+--------+-----------+---------------+-----------------------+-------------------+---------------+-------+--------+--------------+--------------+----------------+----------------+--------+\n",
       "|  39 |    State-gov     | 77516  | Bachelors |       13      |     Never-married     |    Adm-clerical   | Not-in-family | White |  Male  |     2174     |      0       |       40       | United-States  | <=50K  |\n",
       "|  50 | Self-emp-not-inc | 83311  | Bachelors |       13      |   Married-civ-spouse  |  Exec-managerial  |    Husband    | White |  Male  |      0       |      0       |       13       | United-States  | <=50K  |\n",
       "|  38 |     Private      | 215646 |  HS-grad  |       9       |        Divorced       | Handlers-cleaners | Not-in-family | White |  Male  |      0       |      0       |       40       | United-States  | <=50K  |\n",
       "|  53 |     Private      | 234721 |    11th   |       7       |   Married-civ-spouse  | Handlers-cleaners |    Husband    | Black |  Male  |      0       |      0       |       40       | United-States  | <=50K  |\n",
       "|  28 |     Private      | 338409 | Bachelors |       13      |   Married-civ-spouse  |   Prof-specialty  |      Wife     | Black | Female |      0       |      0       |       40       |      Cuba      | <=50K  |\n",
       "|  37 |     Private      | 284582 |  Masters  |       14      |   Married-civ-spouse  |  Exec-managerial  |      Wife     | White | Female |      0       |      0       |       40       | United-States  | <=50K  |\n",
       "|  49 |     Private      | 160187 |    9th    |       5       | Married-spouse-absent |   Other-service   | Not-in-family | Black | Female |      0       |      0       |       16       |    Jamaica     | <=50K  |\n",
       "|  52 | Self-emp-not-inc | 209642 |  HS-grad  |       9       |   Married-civ-spouse  |  Exec-managerial  |    Husband    | White |  Male  |      0       |      0       |       45       | United-States  |  >50K  |\n",
       "|  31 |     Private      | 45781  |  Masters  |       14      |     Never-married     |   Prof-specialty  | Not-in-family | White | Female |    14084     |      0       |       50       | United-States  |  >50K  |\n",
       "|  42 |     Private      | 159449 | Bachelors |       13      |   Married-civ-spouse  |  Exec-managerial  |    Husband    | White |  Male  |     5178     |      0       |       40       | United-States  |  >50K  |\n",
       "+-----+------------------+--------+-----------+---------------+-----------------------+-------------------+---------------+-------+--------+--------------+--------------+----------------+----------------+--------+"
      ]
     },
     "execution_count": 10,
     "metadata": {},
     "output_type": "execute_result"
    }
   ],
   "source": [
    "%%sql\n",
    "SELECT\n",
    "    *\n",
    "FROM\n",
    "    adult_data\n",
    "LIMIT\n",
    "    10;"
   ]
  },
  {
   "cell_type": "markdown",
   "id": "585665d9",
   "metadata": {},
   "source": [
    "Looks like there's variety of categories across most of the categorical data. Let's define a function that gets the unique categories of a specified column, their counts (as raw ints and percentages), and cumulative percentage of the data."
   ]
  },
  {
   "cell_type": "code",
   "execution_count": 55,
   "id": "98025c4d",
   "metadata": {},
   "outputs": [
    {
     "data": {
      "text/html": [
       "<span style=\"None\">Running query in &#x27;postgresql:///adult_data&#x27;</span>"
      ],
      "text/plain": [
       "Running query in 'postgresql:///adult_data'"
      ]
     },
     "metadata": {},
     "output_type": "display_data"
    },
    {
     "data": {
      "text/html": [
       "<table>\n",
       "    <thead>\n",
       "        <tr>\n",
       "        </tr>\n",
       "    </thead>\n",
       "    <tbody>\n",
       "    </tbody>\n",
       "</table>"
      ],
      "text/plain": [
       "++\n",
       "||\n",
       "++\n",
       "++"
      ]
     },
     "execution_count": 55,
     "metadata": {},
     "output_type": "execute_result"
    }
   ],
   "source": [
    "%%sql\n",
    "\n",
    "--%sql DROP FUNCTION categ_counts(TEXT); --used when needed to modify output for func!\n",
    "\n",
    "CREATE OR REPLACE FUNCTION categ_counts(col TEXT)\n",
    "\n",
    "RETURNS TABLE (\n",
    "    categ TEXT,\n",
    "    count BIGINT,\n",
    "    perc NUMERIC,\n",
    "    cumul_perc NUMERIC\n",
    ")\n",
    "\n",
    "LANGUAGE plpgsql\n",
    "AS $$\n",
    "BEGIN\n",
    "    RETURN QUERY EXECUTE format($q$\n",
    "                                \n",
    "        WITH counts AS (\n",
    "            SELECT\n",
    "                %I,\n",
    "                COUNT(*) AS count\n",
    "            FROM\n",
    "                adult_data\n",
    "            GROUP BY\n",
    "                %I\n",
    "        ), \n",
    "        percs AS (\n",
    "            SELECT\n",
    "                %I,\n",
    "                count,\n",
    "                ROUND(count * 100.0 / SUM(count) OVER (), 2) AS perc\n",
    "            FROM\n",
    "                counts\n",
    "        )\n",
    "        SELECT\n",
    "            %I,\n",
    "            count,\n",
    "            perc,\n",
    "            SUM(perc) OVER (ORDER BY count DESC) AS cumul_perc\n",
    "        FROM\n",
    "            percs\n",
    "        ORDER BY\n",
    "            count DESC;\n",
    "                                \n",
    "    $q$, col, col, col, col);\n",
    "END;\n",
    "$$;"
   ]
  },
  {
   "cell_type": "markdown",
   "id": "d4a6424b",
   "metadata": {},
   "source": [
    "Here are the distributions of unique categories for each column, sorted by occupancy."
   ]
  },
  {
   "cell_type": "code",
   "execution_count": 56,
   "id": "d301e9c6",
   "metadata": {},
   "outputs": [
    {
     "data": {
      "text/html": [
       "<span style=\"None\">Running query in &#x27;postgresql:///adult_data&#x27;</span>"
      ],
      "text/plain": [
       "Running query in 'postgresql:///adult_data'"
      ]
     },
     "metadata": {},
     "output_type": "display_data"
    },
    {
     "data": {
      "text/html": [
       "<span style=\"color: green\">9 rows affected.</span>"
      ],
      "text/plain": [
       "9 rows affected."
      ]
     },
     "metadata": {},
     "output_type": "display_data"
    },
    {
     "data": {
      "text/html": [
       "<table>\n",
       "    <thead>\n",
       "        <tr>\n",
       "            <th>categ</th>\n",
       "            <th>count</th>\n",
       "            <th>perc</th>\n",
       "            <th>cumul_perc</th>\n",
       "        </tr>\n",
       "    </thead>\n",
       "    <tbody>\n",
       "        <tr>\n",
       "            <td>Private</td>\n",
       "            <td>22696</td>\n",
       "            <td>69.70</td>\n",
       "            <td>69.70</td>\n",
       "        </tr>\n",
       "        <tr>\n",
       "            <td>Self-emp-not-inc</td>\n",
       "            <td>2541</td>\n",
       "            <td>7.80</td>\n",
       "            <td>77.50</td>\n",
       "        </tr>\n",
       "        <tr>\n",
       "            <td>Local-gov</td>\n",
       "            <td>2093</td>\n",
       "            <td>6.43</td>\n",
       "            <td>83.93</td>\n",
       "        </tr>\n",
       "        <tr>\n",
       "            <td>?</td>\n",
       "            <td>1836</td>\n",
       "            <td>5.64</td>\n",
       "            <td>89.57</td>\n",
       "        </tr>\n",
       "        <tr>\n",
       "            <td>State-gov</td>\n",
       "            <td>1298</td>\n",
       "            <td>3.99</td>\n",
       "            <td>93.56</td>\n",
       "        </tr>\n",
       "        <tr>\n",
       "            <td>Self-emp-inc</td>\n",
       "            <td>1116</td>\n",
       "            <td>3.43</td>\n",
       "            <td>96.99</td>\n",
       "        </tr>\n",
       "        <tr>\n",
       "            <td>Federal-gov</td>\n",
       "            <td>960</td>\n",
       "            <td>2.95</td>\n",
       "            <td>99.94</td>\n",
       "        </tr>\n",
       "        <tr>\n",
       "            <td>Without-pay</td>\n",
       "            <td>14</td>\n",
       "            <td>0.04</td>\n",
       "            <td>99.98</td>\n",
       "        </tr>\n",
       "        <tr>\n",
       "            <td>Never-worked</td>\n",
       "            <td>7</td>\n",
       "            <td>0.02</td>\n",
       "            <td>100.00</td>\n",
       "        </tr>\n",
       "    </tbody>\n",
       "</table>"
      ],
      "text/plain": [
       "+------------------+-------+-------+------------+\n",
       "|      categ       | count |  perc | cumul_perc |\n",
       "+------------------+-------+-------+------------+\n",
       "|     Private      | 22696 | 69.70 |   69.70    |\n",
       "| Self-emp-not-inc |  2541 |  7.80 |   77.50    |\n",
       "|    Local-gov     |  2093 |  6.43 |   83.93    |\n",
       "|        ?         |  1836 |  5.64 |   89.57    |\n",
       "|    State-gov     |  1298 |  3.99 |   93.56    |\n",
       "|   Self-emp-inc   |  1116 |  3.43 |   96.99    |\n",
       "|   Federal-gov    |  960  |  2.95 |   99.94    |\n",
       "|   Without-pay    |   14  |  0.04 |   99.98    |\n",
       "|   Never-worked   |   7   |  0.02 |   100.00   |\n",
       "+------------------+-------+-------+------------+"
      ]
     },
     "execution_count": 56,
     "metadata": {},
     "output_type": "execute_result"
    }
   ],
   "source": [
    "%sql SELECT * FROM categ_counts('workclass') LIMIT 20;"
   ]
  },
  {
   "cell_type": "code",
   "execution_count": 57,
   "id": "2ba546d6",
   "metadata": {},
   "outputs": [
    {
     "data": {
      "text/html": [
       "<span style=\"None\">Running query in &#x27;postgresql:///adult_data&#x27;</span>"
      ],
      "text/plain": [
       "Running query in 'postgresql:///adult_data'"
      ]
     },
     "metadata": {},
     "output_type": "display_data"
    },
    {
     "data": {
      "text/html": [
       "<span style=\"color: green\">16 rows affected.</span>"
      ],
      "text/plain": [
       "16 rows affected."
      ]
     },
     "metadata": {},
     "output_type": "display_data"
    },
    {
     "data": {
      "text/html": [
       "<table>\n",
       "    <thead>\n",
       "        <tr>\n",
       "            <th>categ</th>\n",
       "            <th>count</th>\n",
       "            <th>perc</th>\n",
       "            <th>cumul_perc</th>\n",
       "        </tr>\n",
       "    </thead>\n",
       "    <tbody>\n",
       "        <tr>\n",
       "            <td>HS-grad</td>\n",
       "            <td>10501</td>\n",
       "            <td>32.25</td>\n",
       "            <td>32.25</td>\n",
       "        </tr>\n",
       "        <tr>\n",
       "            <td>Some-college</td>\n",
       "            <td>7291</td>\n",
       "            <td>22.39</td>\n",
       "            <td>54.64</td>\n",
       "        </tr>\n",
       "        <tr>\n",
       "            <td>Bachelors</td>\n",
       "            <td>5355</td>\n",
       "            <td>16.45</td>\n",
       "            <td>71.09</td>\n",
       "        </tr>\n",
       "        <tr>\n",
       "            <td>Masters</td>\n",
       "            <td>1723</td>\n",
       "            <td>5.29</td>\n",
       "            <td>76.38</td>\n",
       "        </tr>\n",
       "        <tr>\n",
       "            <td>Assoc-voc</td>\n",
       "            <td>1382</td>\n",
       "            <td>4.24</td>\n",
       "            <td>80.62</td>\n",
       "        </tr>\n",
       "        <tr>\n",
       "            <td>11th</td>\n",
       "            <td>1175</td>\n",
       "            <td>3.61</td>\n",
       "            <td>84.23</td>\n",
       "        </tr>\n",
       "        <tr>\n",
       "            <td>Assoc-acdm</td>\n",
       "            <td>1067</td>\n",
       "            <td>3.28</td>\n",
       "            <td>87.51</td>\n",
       "        </tr>\n",
       "        <tr>\n",
       "            <td>10th</td>\n",
       "            <td>933</td>\n",
       "            <td>2.87</td>\n",
       "            <td>90.38</td>\n",
       "        </tr>\n",
       "        <tr>\n",
       "            <td>7th-8th</td>\n",
       "            <td>646</td>\n",
       "            <td>1.98</td>\n",
       "            <td>92.36</td>\n",
       "        </tr>\n",
       "        <tr>\n",
       "            <td>Prof-school</td>\n",
       "            <td>576</td>\n",
       "            <td>1.77</td>\n",
       "            <td>94.13</td>\n",
       "        </tr>\n",
       "        <tr>\n",
       "            <td>9th</td>\n",
       "            <td>514</td>\n",
       "            <td>1.58</td>\n",
       "            <td>95.71</td>\n",
       "        </tr>\n",
       "        <tr>\n",
       "            <td>12th</td>\n",
       "            <td>433</td>\n",
       "            <td>1.33</td>\n",
       "            <td>97.04</td>\n",
       "        </tr>\n",
       "        <tr>\n",
       "            <td>Doctorate</td>\n",
       "            <td>413</td>\n",
       "            <td>1.27</td>\n",
       "            <td>98.31</td>\n",
       "        </tr>\n",
       "        <tr>\n",
       "            <td>5th-6th</td>\n",
       "            <td>333</td>\n",
       "            <td>1.02</td>\n",
       "            <td>99.33</td>\n",
       "        </tr>\n",
       "        <tr>\n",
       "            <td>1st-4th</td>\n",
       "            <td>168</td>\n",
       "            <td>0.52</td>\n",
       "            <td>99.85</td>\n",
       "        </tr>\n",
       "        <tr>\n",
       "            <td>Preschool</td>\n",
       "            <td>51</td>\n",
       "            <td>0.16</td>\n",
       "            <td>100.01</td>\n",
       "        </tr>\n",
       "    </tbody>\n",
       "</table>"
      ],
      "text/plain": [
       "+--------------+-------+-------+------------+\n",
       "|    categ     | count |  perc | cumul_perc |\n",
       "+--------------+-------+-------+------------+\n",
       "|   HS-grad    | 10501 | 32.25 |   32.25    |\n",
       "| Some-college |  7291 | 22.39 |   54.64    |\n",
       "|  Bachelors   |  5355 | 16.45 |   71.09    |\n",
       "|   Masters    |  1723 |  5.29 |   76.38    |\n",
       "|  Assoc-voc   |  1382 |  4.24 |   80.62    |\n",
       "|     11th     |  1175 |  3.61 |   84.23    |\n",
       "|  Assoc-acdm  |  1067 |  3.28 |   87.51    |\n",
       "|     10th     |  933  |  2.87 |   90.38    |\n",
       "|   7th-8th    |  646  |  1.98 |   92.36    |\n",
       "| Prof-school  |  576  |  1.77 |   94.13    |\n",
       "|     9th      |  514  |  1.58 |   95.71    |\n",
       "|     12th     |  433  |  1.33 |   97.04    |\n",
       "|  Doctorate   |  413  |  1.27 |   98.31    |\n",
       "|   5th-6th    |  333  |  1.02 |   99.33    |\n",
       "|   1st-4th    |  168  |  0.52 |   99.85    |\n",
       "|  Preschool   |   51  |  0.16 |   100.01   |\n",
       "+--------------+-------+-------+------------+"
      ]
     },
     "execution_count": 57,
     "metadata": {},
     "output_type": "execute_result"
    }
   ],
   "source": [
    "%sql SELECT * FROM categ_counts('education') LIMIT 20;"
   ]
  },
  {
   "cell_type": "code",
   "execution_count": 58,
   "id": "15b1c6d8",
   "metadata": {},
   "outputs": [
    {
     "data": {
      "text/html": [
       "<span style=\"None\">Running query in &#x27;postgresql:///adult_data&#x27;</span>"
      ],
      "text/plain": [
       "Running query in 'postgresql:///adult_data'"
      ]
     },
     "metadata": {},
     "output_type": "display_data"
    },
    {
     "data": {
      "text/html": [
       "<span style=\"color: green\">7 rows affected.</span>"
      ],
      "text/plain": [
       "7 rows affected."
      ]
     },
     "metadata": {},
     "output_type": "display_data"
    },
    {
     "data": {
      "text/html": [
       "<table>\n",
       "    <thead>\n",
       "        <tr>\n",
       "            <th>categ</th>\n",
       "            <th>count</th>\n",
       "            <th>perc</th>\n",
       "            <th>cumul_perc</th>\n",
       "        </tr>\n",
       "    </thead>\n",
       "    <tbody>\n",
       "        <tr>\n",
       "            <td>Married-civ-spouse</td>\n",
       "            <td>14976</td>\n",
       "            <td>45.99</td>\n",
       "            <td>45.99</td>\n",
       "        </tr>\n",
       "        <tr>\n",
       "            <td>Never-married</td>\n",
       "            <td>10683</td>\n",
       "            <td>32.81</td>\n",
       "            <td>78.80</td>\n",
       "        </tr>\n",
       "        <tr>\n",
       "            <td>Divorced</td>\n",
       "            <td>4443</td>\n",
       "            <td>13.65</td>\n",
       "            <td>92.45</td>\n",
       "        </tr>\n",
       "        <tr>\n",
       "            <td>Separated</td>\n",
       "            <td>1025</td>\n",
       "            <td>3.15</td>\n",
       "            <td>95.60</td>\n",
       "        </tr>\n",
       "        <tr>\n",
       "            <td>Widowed</td>\n",
       "            <td>993</td>\n",
       "            <td>3.05</td>\n",
       "            <td>98.65</td>\n",
       "        </tr>\n",
       "        <tr>\n",
       "            <td>Married-spouse-absent</td>\n",
       "            <td>418</td>\n",
       "            <td>1.28</td>\n",
       "            <td>99.93</td>\n",
       "        </tr>\n",
       "        <tr>\n",
       "            <td>Married-AF-spouse</td>\n",
       "            <td>23</td>\n",
       "            <td>0.07</td>\n",
       "            <td>100.00</td>\n",
       "        </tr>\n",
       "    </tbody>\n",
       "</table>"
      ],
      "text/plain": [
       "+-----------------------+-------+-------+------------+\n",
       "|         categ         | count |  perc | cumul_perc |\n",
       "+-----------------------+-------+-------+------------+\n",
       "|   Married-civ-spouse  | 14976 | 45.99 |   45.99    |\n",
       "|     Never-married     | 10683 | 32.81 |   78.80    |\n",
       "|        Divorced       |  4443 | 13.65 |   92.45    |\n",
       "|       Separated       |  1025 |  3.15 |   95.60    |\n",
       "|        Widowed        |  993  |  3.05 |   98.65    |\n",
       "| Married-spouse-absent |  418  |  1.28 |   99.93    |\n",
       "|   Married-AF-spouse   |   23  |  0.07 |   100.00   |\n",
       "+-----------------------+-------+-------+------------+"
      ]
     },
     "execution_count": 58,
     "metadata": {},
     "output_type": "execute_result"
    }
   ],
   "source": [
    "%sql SELECT * FROM categ_counts('marital-status') LIMIT 20;"
   ]
  },
  {
   "cell_type": "code",
   "execution_count": 59,
   "id": "bb7a87ab",
   "metadata": {},
   "outputs": [
    {
     "data": {
      "text/html": [
       "<span style=\"None\">Running query in &#x27;postgresql:///adult_data&#x27;</span>"
      ],
      "text/plain": [
       "Running query in 'postgresql:///adult_data'"
      ]
     },
     "metadata": {},
     "output_type": "display_data"
    },
    {
     "data": {
      "text/html": [
       "<span style=\"color: green\">15 rows affected.</span>"
      ],
      "text/plain": [
       "15 rows affected."
      ]
     },
     "metadata": {},
     "output_type": "display_data"
    },
    {
     "data": {
      "text/html": [
       "<table>\n",
       "    <thead>\n",
       "        <tr>\n",
       "            <th>categ</th>\n",
       "            <th>count</th>\n",
       "            <th>perc</th>\n",
       "            <th>cumul_perc</th>\n",
       "        </tr>\n",
       "    </thead>\n",
       "    <tbody>\n",
       "        <tr>\n",
       "            <td>Prof-specialty</td>\n",
       "            <td>4140</td>\n",
       "            <td>12.71</td>\n",
       "            <td>12.71</td>\n",
       "        </tr>\n",
       "        <tr>\n",
       "            <td>Craft-repair</td>\n",
       "            <td>4099</td>\n",
       "            <td>12.59</td>\n",
       "            <td>25.30</td>\n",
       "        </tr>\n",
       "        <tr>\n",
       "            <td>Exec-managerial</td>\n",
       "            <td>4066</td>\n",
       "            <td>12.49</td>\n",
       "            <td>37.79</td>\n",
       "        </tr>\n",
       "        <tr>\n",
       "            <td>Adm-clerical</td>\n",
       "            <td>3770</td>\n",
       "            <td>11.58</td>\n",
       "            <td>49.37</td>\n",
       "        </tr>\n",
       "        <tr>\n",
       "            <td>Sales</td>\n",
       "            <td>3650</td>\n",
       "            <td>11.21</td>\n",
       "            <td>60.58</td>\n",
       "        </tr>\n",
       "        <tr>\n",
       "            <td>Other-service</td>\n",
       "            <td>3295</td>\n",
       "            <td>10.12</td>\n",
       "            <td>70.70</td>\n",
       "        </tr>\n",
       "        <tr>\n",
       "            <td>Machine-op-inspct</td>\n",
       "            <td>2002</td>\n",
       "            <td>6.15</td>\n",
       "            <td>76.85</td>\n",
       "        </tr>\n",
       "        <tr>\n",
       "            <td>?</td>\n",
       "            <td>1843</td>\n",
       "            <td>5.66</td>\n",
       "            <td>82.51</td>\n",
       "        </tr>\n",
       "        <tr>\n",
       "            <td>Transport-moving</td>\n",
       "            <td>1597</td>\n",
       "            <td>4.90</td>\n",
       "            <td>87.41</td>\n",
       "        </tr>\n",
       "        <tr>\n",
       "            <td>Handlers-cleaners</td>\n",
       "            <td>1370</td>\n",
       "            <td>4.21</td>\n",
       "            <td>91.62</td>\n",
       "        </tr>\n",
       "        <tr>\n",
       "            <td>Farming-fishing</td>\n",
       "            <td>994</td>\n",
       "            <td>3.05</td>\n",
       "            <td>94.67</td>\n",
       "        </tr>\n",
       "        <tr>\n",
       "            <td>Tech-support</td>\n",
       "            <td>928</td>\n",
       "            <td>2.85</td>\n",
       "            <td>97.52</td>\n",
       "        </tr>\n",
       "        <tr>\n",
       "            <td>Protective-serv</td>\n",
       "            <td>649</td>\n",
       "            <td>1.99</td>\n",
       "            <td>99.51</td>\n",
       "        </tr>\n",
       "        <tr>\n",
       "            <td>Priv-house-serv</td>\n",
       "            <td>149</td>\n",
       "            <td>0.46</td>\n",
       "            <td>99.97</td>\n",
       "        </tr>\n",
       "        <tr>\n",
       "            <td>Armed-Forces</td>\n",
       "            <td>9</td>\n",
       "            <td>0.03</td>\n",
       "            <td>100.00</td>\n",
       "        </tr>\n",
       "    </tbody>\n",
       "</table>"
      ],
      "text/plain": [
       "+-------------------+-------+-------+------------+\n",
       "|       categ       | count |  perc | cumul_perc |\n",
       "+-------------------+-------+-------+------------+\n",
       "|   Prof-specialty  |  4140 | 12.71 |   12.71    |\n",
       "|    Craft-repair   |  4099 | 12.59 |   25.30    |\n",
       "|  Exec-managerial  |  4066 | 12.49 |   37.79    |\n",
       "|    Adm-clerical   |  3770 | 11.58 |   49.37    |\n",
       "|       Sales       |  3650 | 11.21 |   60.58    |\n",
       "|   Other-service   |  3295 | 10.12 |   70.70    |\n",
       "| Machine-op-inspct |  2002 |  6.15 |   76.85    |\n",
       "|         ?         |  1843 |  5.66 |   82.51    |\n",
       "|  Transport-moving |  1597 |  4.90 |   87.41    |\n",
       "| Handlers-cleaners |  1370 |  4.21 |   91.62    |\n",
       "|  Farming-fishing  |  994  |  3.05 |   94.67    |\n",
       "|    Tech-support   |  928  |  2.85 |   97.52    |\n",
       "|  Protective-serv  |  649  |  1.99 |   99.51    |\n",
       "|  Priv-house-serv  |  149  |  0.46 |   99.97    |\n",
       "|    Armed-Forces   |   9   |  0.03 |   100.00   |\n",
       "+-------------------+-------+-------+------------+"
      ]
     },
     "execution_count": 59,
     "metadata": {},
     "output_type": "execute_result"
    }
   ],
   "source": [
    "%sql SELECT * FROM categ_counts('occupation') LIMIT 20;"
   ]
  },
  {
   "cell_type": "code",
   "execution_count": 60,
   "id": "a6efcf9b",
   "metadata": {},
   "outputs": [
    {
     "data": {
      "text/html": [
       "<span style=\"None\">Running query in &#x27;postgresql:///adult_data&#x27;</span>"
      ],
      "text/plain": [
       "Running query in 'postgresql:///adult_data'"
      ]
     },
     "metadata": {},
     "output_type": "display_data"
    },
    {
     "data": {
      "text/html": [
       "<span style=\"color: green\">6 rows affected.</span>"
      ],
      "text/plain": [
       "6 rows affected."
      ]
     },
     "metadata": {},
     "output_type": "display_data"
    },
    {
     "data": {
      "text/html": [
       "<table>\n",
       "    <thead>\n",
       "        <tr>\n",
       "            <th>categ</th>\n",
       "            <th>count</th>\n",
       "            <th>perc</th>\n",
       "            <th>cumul_perc</th>\n",
       "        </tr>\n",
       "    </thead>\n",
       "    <tbody>\n",
       "        <tr>\n",
       "            <td>Husband</td>\n",
       "            <td>13193</td>\n",
       "            <td>40.52</td>\n",
       "            <td>40.52</td>\n",
       "        </tr>\n",
       "        <tr>\n",
       "            <td>Not-in-family</td>\n",
       "            <td>8305</td>\n",
       "            <td>25.51</td>\n",
       "            <td>66.03</td>\n",
       "        </tr>\n",
       "        <tr>\n",
       "            <td>Own-child</td>\n",
       "            <td>5068</td>\n",
       "            <td>15.56</td>\n",
       "            <td>81.59</td>\n",
       "        </tr>\n",
       "        <tr>\n",
       "            <td>Unmarried</td>\n",
       "            <td>3446</td>\n",
       "            <td>10.58</td>\n",
       "            <td>92.17</td>\n",
       "        </tr>\n",
       "        <tr>\n",
       "            <td>Wife</td>\n",
       "            <td>1568</td>\n",
       "            <td>4.82</td>\n",
       "            <td>96.99</td>\n",
       "        </tr>\n",
       "        <tr>\n",
       "            <td>Other-relative</td>\n",
       "            <td>981</td>\n",
       "            <td>3.01</td>\n",
       "            <td>100.00</td>\n",
       "        </tr>\n",
       "    </tbody>\n",
       "</table>"
      ],
      "text/plain": [
       "+----------------+-------+-------+------------+\n",
       "|     categ      | count |  perc | cumul_perc |\n",
       "+----------------+-------+-------+------------+\n",
       "|    Husband     | 13193 | 40.52 |   40.52    |\n",
       "| Not-in-family  |  8305 | 25.51 |   66.03    |\n",
       "|   Own-child    |  5068 | 15.56 |   81.59    |\n",
       "|   Unmarried    |  3446 | 10.58 |   92.17    |\n",
       "|      Wife      |  1568 |  4.82 |   96.99    |\n",
       "| Other-relative |  981  |  3.01 |   100.00   |\n",
       "+----------------+-------+-------+------------+"
      ]
     },
     "execution_count": 60,
     "metadata": {},
     "output_type": "execute_result"
    }
   ],
   "source": [
    "%sql SELECT * FROM categ_counts('relationship') LIMIT 20;"
   ]
  },
  {
   "cell_type": "code",
   "execution_count": 61,
   "id": "82e6342b",
   "metadata": {},
   "outputs": [
    {
     "data": {
      "text/html": [
       "<span style=\"None\">Running query in &#x27;postgresql:///adult_data&#x27;</span>"
      ],
      "text/plain": [
       "Running query in 'postgresql:///adult_data'"
      ]
     },
     "metadata": {},
     "output_type": "display_data"
    },
    {
     "data": {
      "text/html": [
       "<span style=\"color: green\">5 rows affected.</span>"
      ],
      "text/plain": [
       "5 rows affected."
      ]
     },
     "metadata": {},
     "output_type": "display_data"
    },
    {
     "data": {
      "text/html": [
       "<table>\n",
       "    <thead>\n",
       "        <tr>\n",
       "            <th>categ</th>\n",
       "            <th>count</th>\n",
       "            <th>perc</th>\n",
       "            <th>cumul_perc</th>\n",
       "        </tr>\n",
       "    </thead>\n",
       "    <tbody>\n",
       "        <tr>\n",
       "            <td>White</td>\n",
       "            <td>27816</td>\n",
       "            <td>85.43</td>\n",
       "            <td>85.43</td>\n",
       "        </tr>\n",
       "        <tr>\n",
       "            <td>Black</td>\n",
       "            <td>3124</td>\n",
       "            <td>9.59</td>\n",
       "            <td>95.02</td>\n",
       "        </tr>\n",
       "        <tr>\n",
       "            <td>Asian-Pac-Islander</td>\n",
       "            <td>1039</td>\n",
       "            <td>3.19</td>\n",
       "            <td>98.21</td>\n",
       "        </tr>\n",
       "        <tr>\n",
       "            <td>Amer-Indian-Eskimo</td>\n",
       "            <td>311</td>\n",
       "            <td>0.96</td>\n",
       "            <td>99.17</td>\n",
       "        </tr>\n",
       "        <tr>\n",
       "            <td>Other</td>\n",
       "            <td>271</td>\n",
       "            <td>0.83</td>\n",
       "            <td>100.00</td>\n",
       "        </tr>\n",
       "    </tbody>\n",
       "</table>"
      ],
      "text/plain": [
       "+--------------------+-------+-------+------------+\n",
       "|       categ        | count |  perc | cumul_perc |\n",
       "+--------------------+-------+-------+------------+\n",
       "|       White        | 27816 | 85.43 |   85.43    |\n",
       "|       Black        |  3124 |  9.59 |   95.02    |\n",
       "| Asian-Pac-Islander |  1039 |  3.19 |   98.21    |\n",
       "| Amer-Indian-Eskimo |  311  |  0.96 |   99.17    |\n",
       "|       Other        |  271  |  0.83 |   100.00   |\n",
       "+--------------------+-------+-------+------------+"
      ]
     },
     "execution_count": 61,
     "metadata": {},
     "output_type": "execute_result"
    }
   ],
   "source": [
    "%sql SELECT * FROM categ_counts('race') LIMIT 20;"
   ]
  },
  {
   "cell_type": "code",
   "execution_count": 62,
   "id": "603d8858",
   "metadata": {},
   "outputs": [
    {
     "data": {
      "text/html": [
       "<span style=\"None\">Running query in &#x27;postgresql:///adult_data&#x27;</span>"
      ],
      "text/plain": [
       "Running query in 'postgresql:///adult_data'"
      ]
     },
     "metadata": {},
     "output_type": "display_data"
    },
    {
     "data": {
      "text/html": [
       "<span style=\"color: green\">2 rows affected.</span>"
      ],
      "text/plain": [
       "2 rows affected."
      ]
     },
     "metadata": {},
     "output_type": "display_data"
    },
    {
     "data": {
      "text/html": [
       "<table>\n",
       "    <thead>\n",
       "        <tr>\n",
       "            <th>categ</th>\n",
       "            <th>count</th>\n",
       "            <th>perc</th>\n",
       "            <th>cumul_perc</th>\n",
       "        </tr>\n",
       "    </thead>\n",
       "    <tbody>\n",
       "        <tr>\n",
       "            <td>Male</td>\n",
       "            <td>21790</td>\n",
       "            <td>66.92</td>\n",
       "            <td>66.92</td>\n",
       "        </tr>\n",
       "        <tr>\n",
       "            <td>Female</td>\n",
       "            <td>10771</td>\n",
       "            <td>33.08</td>\n",
       "            <td>100.00</td>\n",
       "        </tr>\n",
       "    </tbody>\n",
       "</table>"
      ],
      "text/plain": [
       "+--------+-------+-------+------------+\n",
       "| categ  | count |  perc | cumul_perc |\n",
       "+--------+-------+-------+------------+\n",
       "|  Male  | 21790 | 66.92 |   66.92    |\n",
       "| Female | 10771 | 33.08 |   100.00   |\n",
       "+--------+-------+-------+------------+"
      ]
     },
     "execution_count": 62,
     "metadata": {},
     "output_type": "execute_result"
    }
   ],
   "source": [
    "%sql SELECT * FROM categ_counts('sex') LIMIT 20;"
   ]
  },
  {
   "cell_type": "code",
   "execution_count": 63,
   "id": "981290d2",
   "metadata": {},
   "outputs": [
    {
     "data": {
      "text/html": [
       "<span style=\"None\">Running query in &#x27;postgresql:///adult_data&#x27;</span>"
      ],
      "text/plain": [
       "Running query in 'postgresql:///adult_data'"
      ]
     },
     "metadata": {},
     "output_type": "display_data"
    },
    {
     "data": {
      "text/html": [
       "<span style=\"color: green\">20 rows affected.</span>"
      ],
      "text/plain": [
       "20 rows affected."
      ]
     },
     "metadata": {},
     "output_type": "display_data"
    },
    {
     "data": {
      "text/html": [
       "<table>\n",
       "    <thead>\n",
       "        <tr>\n",
       "            <th>categ</th>\n",
       "            <th>count</th>\n",
       "            <th>perc</th>\n",
       "            <th>cumul_perc</th>\n",
       "        </tr>\n",
       "    </thead>\n",
       "    <tbody>\n",
       "        <tr>\n",
       "            <td>United-States</td>\n",
       "            <td>29170</td>\n",
       "            <td>89.59</td>\n",
       "            <td>89.59</td>\n",
       "        </tr>\n",
       "        <tr>\n",
       "            <td>Mexico</td>\n",
       "            <td>643</td>\n",
       "            <td>1.97</td>\n",
       "            <td>91.56</td>\n",
       "        </tr>\n",
       "        <tr>\n",
       "            <td>?</td>\n",
       "            <td>583</td>\n",
       "            <td>1.79</td>\n",
       "            <td>93.35</td>\n",
       "        </tr>\n",
       "        <tr>\n",
       "            <td>Philippines</td>\n",
       "            <td>198</td>\n",
       "            <td>0.61</td>\n",
       "            <td>93.96</td>\n",
       "        </tr>\n",
       "        <tr>\n",
       "            <td>Germany</td>\n",
       "            <td>137</td>\n",
       "            <td>0.42</td>\n",
       "            <td>94.38</td>\n",
       "        </tr>\n",
       "        <tr>\n",
       "            <td>Canada</td>\n",
       "            <td>121</td>\n",
       "            <td>0.37</td>\n",
       "            <td>94.75</td>\n",
       "        </tr>\n",
       "        <tr>\n",
       "            <td>Puerto-Rico</td>\n",
       "            <td>114</td>\n",
       "            <td>0.35</td>\n",
       "            <td>95.10</td>\n",
       "        </tr>\n",
       "        <tr>\n",
       "            <td>El-Salvador</td>\n",
       "            <td>106</td>\n",
       "            <td>0.33</td>\n",
       "            <td>95.43</td>\n",
       "        </tr>\n",
       "        <tr>\n",
       "            <td>India</td>\n",
       "            <td>100</td>\n",
       "            <td>0.31</td>\n",
       "            <td>95.74</td>\n",
       "        </tr>\n",
       "        <tr>\n",
       "            <td>Cuba</td>\n",
       "            <td>95</td>\n",
       "            <td>0.29</td>\n",
       "            <td>96.03</td>\n",
       "        </tr>\n",
       "        <tr>\n",
       "            <td>England</td>\n",
       "            <td>90</td>\n",
       "            <td>0.28</td>\n",
       "            <td>96.31</td>\n",
       "        </tr>\n",
       "        <tr>\n",
       "            <td>Jamaica</td>\n",
       "            <td>81</td>\n",
       "            <td>0.25</td>\n",
       "            <td>96.56</td>\n",
       "        </tr>\n",
       "        <tr>\n",
       "            <td>South</td>\n",
       "            <td>80</td>\n",
       "            <td>0.25</td>\n",
       "            <td>96.81</td>\n",
       "        </tr>\n",
       "        <tr>\n",
       "            <td>China</td>\n",
       "            <td>75</td>\n",
       "            <td>0.23</td>\n",
       "            <td>97.04</td>\n",
       "        </tr>\n",
       "        <tr>\n",
       "            <td>Italy</td>\n",
       "            <td>73</td>\n",
       "            <td>0.22</td>\n",
       "            <td>97.26</td>\n",
       "        </tr>\n",
       "        <tr>\n",
       "            <td>Dominican-Republic</td>\n",
       "            <td>70</td>\n",
       "            <td>0.21</td>\n",
       "            <td>97.47</td>\n",
       "        </tr>\n",
       "        <tr>\n",
       "            <td>Vietnam</td>\n",
       "            <td>67</td>\n",
       "            <td>0.21</td>\n",
       "            <td>97.68</td>\n",
       "        </tr>\n",
       "        <tr>\n",
       "            <td>Guatemala</td>\n",
       "            <td>64</td>\n",
       "            <td>0.20</td>\n",
       "            <td>97.88</td>\n",
       "        </tr>\n",
       "        <tr>\n",
       "            <td>Japan</td>\n",
       "            <td>62</td>\n",
       "            <td>0.19</td>\n",
       "            <td>98.07</td>\n",
       "        </tr>\n",
       "        <tr>\n",
       "            <td>Poland</td>\n",
       "            <td>60</td>\n",
       "            <td>0.18</td>\n",
       "            <td>98.25</td>\n",
       "        </tr>\n",
       "    </tbody>\n",
       "</table>"
      ],
      "text/plain": [
       "+--------------------+-------+-------+------------+\n",
       "|       categ        | count |  perc | cumul_perc |\n",
       "+--------------------+-------+-------+------------+\n",
       "|   United-States    | 29170 | 89.59 |   89.59    |\n",
       "|       Mexico       |  643  |  1.97 |   91.56    |\n",
       "|         ?          |  583  |  1.79 |   93.35    |\n",
       "|    Philippines     |  198  |  0.61 |   93.96    |\n",
       "|      Germany       |  137  |  0.42 |   94.38    |\n",
       "|       Canada       |  121  |  0.37 |   94.75    |\n",
       "|    Puerto-Rico     |  114  |  0.35 |   95.10    |\n",
       "|    El-Salvador     |  106  |  0.33 |   95.43    |\n",
       "|       India        |  100  |  0.31 |   95.74    |\n",
       "|        Cuba        |   95  |  0.29 |   96.03    |\n",
       "|      England       |   90  |  0.28 |   96.31    |\n",
       "|      Jamaica       |   81  |  0.25 |   96.56    |\n",
       "|       South        |   80  |  0.25 |   96.81    |\n",
       "|       China        |   75  |  0.23 |   97.04    |\n",
       "|       Italy        |   73  |  0.22 |   97.26    |\n",
       "| Dominican-Republic |   70  |  0.21 |   97.47    |\n",
       "|      Vietnam       |   67  |  0.21 |   97.68    |\n",
       "|     Guatemala      |   64  |  0.20 |   97.88    |\n",
       "|       Japan        |   62  |  0.19 |   98.07    |\n",
       "|       Poland       |   60  |  0.18 |   98.25    |\n",
       "+--------------------+-------+-------+------------+"
      ]
     },
     "execution_count": 63,
     "metadata": {},
     "output_type": "execute_result"
    }
   ],
   "source": [
    "%sql SELECT * FROM categ_counts('native-country') LIMIT 20;"
   ]
  },
  {
   "cell_type": "code",
   "execution_count": 64,
   "id": "953877aa",
   "metadata": {},
   "outputs": [
    {
     "data": {
      "text/html": [
       "<span style=\"None\">Running query in &#x27;postgresql:///adult_data&#x27;</span>"
      ],
      "text/plain": [
       "Running query in 'postgresql:///adult_data'"
      ]
     },
     "metadata": {},
     "output_type": "display_data"
    },
    {
     "data": {
      "text/html": [
       "<span style=\"color: green\">2 rows affected.</span>"
      ],
      "text/plain": [
       "2 rows affected."
      ]
     },
     "metadata": {},
     "output_type": "display_data"
    },
    {
     "data": {
      "text/html": [
       "<table>\n",
       "    <thead>\n",
       "        <tr>\n",
       "            <th>categ</th>\n",
       "            <th>count</th>\n",
       "            <th>perc</th>\n",
       "            <th>cumul_perc</th>\n",
       "        </tr>\n",
       "    </thead>\n",
       "    <tbody>\n",
       "        <tr>\n",
       "            <td><=50K</td>\n",
       "            <td>24720</td>\n",
       "            <td>75.92</td>\n",
       "            <td>75.92</td>\n",
       "        </tr>\n",
       "        <tr>\n",
       "            <td>>50K</td>\n",
       "            <td>7841</td>\n",
       "            <td>24.08</td>\n",
       "            <td>100.00</td>\n",
       "        </tr>\n",
       "    </tbody>\n",
       "</table>"
      ],
      "text/plain": [
       "+-------+-------+-------+------------+\n",
       "| categ | count |  perc | cumul_perc |\n",
       "+-------+-------+-------+------------+\n",
       "| <=50K | 24720 | 75.92 |   75.92    |\n",
       "|  >50K |  7841 | 24.08 |   100.00   |\n",
       "+-------+-------+-------+------------+"
      ]
     },
     "execution_count": 64,
     "metadata": {},
     "output_type": "execute_result"
    }
   ],
   "source": [
    "%sql SELECT * FROM categ_counts('salary') LIMIT 20;"
   ]
  },
  {
   "cell_type": "markdown",
   "id": "d7e3f8b5",
   "metadata": {},
   "source": [
    "Across the categorical data, the largest groups are ...\n",
    "\n",
    "1. privately employed (70%, workclass),\n",
    "\n",
    "2. have completed high school, completed some college, or got a bachelor's (cumulative 71%, education),\n",
    "\n",
    "3. currently married or never married (cumulative 79%, marital-status), \n",
    "\n",
    "4. have a job described by Prof-specialty, Craft-repair, Exec-managerial, Adm-clerical, Sales, or Other-service (cumulative 77%, occupation),\n",
    "\n",
    "5. are a Husband, Not-in-family, or their Own-child (cumulative 82%, relationship),\n",
    "\n",
    "6. are overwhelmingly white (85%, race),\n",
    "\n",
    "7. are largely male (67%, sex),\n",
    "\n",
    "8. are predominantly born in the united states (90%, native-country),\n",
    "\n",
    "9. and earn less than \\$50k a year (76%, salary)."
   ]
  },
  {
   "cell_type": "markdown",
   "id": "e06dc7d5",
   "metadata": {},
   "source": [
    "Now we'll investigate the numerical data by looking the at the min, max, mean, 25th, 50th \\[median\\], and 75th percentiles, and the standard deviation per numerical column. Since the structure is consistent across numerical data, we can just define a single function with a for loop to calculate the stats per column and join them all into a single table."
   ]
  },
  {
   "cell_type": "code",
   "execution_count": 101,
   "id": "ace22446",
   "metadata": {},
   "outputs": [
    {
     "data": {
      "text/html": [
       "<span style=\"None\">Running query in &#x27;postgresql:///adult_data&#x27;</span>"
      ],
      "text/plain": [
       "Running query in 'postgresql:///adult_data'"
      ]
     },
     "metadata": {},
     "output_type": "display_data"
    },
    {
     "data": {
      "text/html": [
       "<table>\n",
       "    <thead>\n",
       "        <tr>\n",
       "        </tr>\n",
       "    </thead>\n",
       "    <tbody>\n",
       "    </tbody>\n",
       "</table>"
      ],
      "text/plain": [
       "++\n",
       "||\n",
       "++\n",
       "++"
      ]
     },
     "execution_count": 101,
     "metadata": {},
     "output_type": "execute_result"
    }
   ],
   "source": [
    "%%sql\n",
    "\n",
    "--DROP FUNCTION numer_stats(TEXT[]); -- uncomment to delete func\n",
    "\n",
    "CREATE OR REPLACE FUNCTION numer_stats(cols TEXT[])\n",
    "\n",
    "RETURNS TABLE (\n",
    "    col_name TEXT,\n",
    "    min_ NUMERIC,\n",
    "    max_ NUMERIC,\n",
    "    mean NUMERIC,\n",
    "    perc25 NUMERIC,\n",
    "    median NUMERIC,\n",
    "    perc75 NUMERIC,\n",
    "    std_dev NUMERIC\n",
    ")\n",
    "\n",
    "LANGUAGE plpgsql\n",
    "AS $$\n",
    "DECLARE\n",
    "    col TEXT;\n",
    "BEGIN\n",
    "\n",
    "    FOREACH col IN ARRAY cols\n",
    "    LOOP\n",
    "        RETURN QUERY EXECUTE format($q$\n",
    "                                    \n",
    "            SELECT \n",
    "                %L AS col_name,\n",
    "                MIN(%I)::NUMERIC,\n",
    "                MAX(%I)::NUMERIC,\n",
    "                ROUND(AVG(%I), 2) AS mean,\n",
    "                PERCENTILE_CONT(0.25) WITHIN GROUP(ORDER BY %I)::NUMERIC AS perc25,\n",
    "                PERCENTILE_CONT(0.5) WITHIN GROUP(ORDER BY %I)::NUMERIC AS median,\n",
    "                PERCENTILE_CONT(0.75) WITHIN GROUP(ORDER BY %I)::NUMERIC AS perc75,\n",
    "                ROUND(STDDEV_SAMP(%I), 2) AS std_dev\n",
    "            FROM \n",
    "                adult_data;\n",
    "                                    \n",
    "        $q$, col, col, col, col, col, col, col, col);\n",
    "    END LOOP;\n",
    "    \n",
    "END;\n",
    "$$;"
   ]
  },
  {
   "cell_type": "code",
   "execution_count": 102,
   "id": "33a79e9e",
   "metadata": {},
   "outputs": [
    {
     "data": {
      "text/html": [
       "<span style=\"None\">Running query in &#x27;postgresql:///adult_data&#x27;</span>"
      ],
      "text/plain": [
       "Running query in 'postgresql:///adult_data'"
      ]
     },
     "metadata": {},
     "output_type": "display_data"
    },
    {
     "data": {
      "text/html": [
       "<span style=\"color: green\">6 rows affected.</span>"
      ],
      "text/plain": [
       "6 rows affected."
      ]
     },
     "metadata": {},
     "output_type": "display_data"
    },
    {
     "data": {
      "text/html": [
       "<table>\n",
       "    <thead>\n",
       "        <tr>\n",
       "            <th>col_name</th>\n",
       "            <th>min_</th>\n",
       "            <th>max_</th>\n",
       "            <th>mean</th>\n",
       "            <th>perc25</th>\n",
       "            <th>median</th>\n",
       "            <th>perc75</th>\n",
       "            <th>std_dev</th>\n",
       "        </tr>\n",
       "    </thead>\n",
       "    <tbody>\n",
       "        <tr>\n",
       "            <td>age</td>\n",
       "            <td>17</td>\n",
       "            <td>90</td>\n",
       "            <td>38.58</td>\n",
       "            <td>28</td>\n",
       "            <td>37</td>\n",
       "            <td>48</td>\n",
       "            <td>13.64</td>\n",
       "        </tr>\n",
       "        <tr>\n",
       "            <td>hours-per-week</td>\n",
       "            <td>1</td>\n",
       "            <td>99</td>\n",
       "            <td>40.44</td>\n",
       "            <td>40</td>\n",
       "            <td>40</td>\n",
       "            <td>45</td>\n",
       "            <td>12.35</td>\n",
       "        </tr>\n",
       "        <tr>\n",
       "            <td>education-num</td>\n",
       "            <td>1</td>\n",
       "            <td>16</td>\n",
       "            <td>10.08</td>\n",
       "            <td>9</td>\n",
       "            <td>10</td>\n",
       "            <td>12</td>\n",
       "            <td>2.57</td>\n",
       "        </tr>\n",
       "        <tr>\n",
       "            <td>fnlwgt</td>\n",
       "            <td>12285</td>\n",
       "            <td>1484705</td>\n",
       "            <td>189778.37</td>\n",
       "            <td>117827</td>\n",
       "            <td>178356</td>\n",
       "            <td>237051</td>\n",
       "            <td>105549.98</td>\n",
       "        </tr>\n",
       "        <tr>\n",
       "            <td>capital-gain</td>\n",
       "            <td>0</td>\n",
       "            <td>99999</td>\n",
       "            <td>1077.65</td>\n",
       "            <td>0</td>\n",
       "            <td>0</td>\n",
       "            <td>0</td>\n",
       "            <td>7385.29</td>\n",
       "        </tr>\n",
       "        <tr>\n",
       "            <td>capital-loss</td>\n",
       "            <td>0</td>\n",
       "            <td>4356</td>\n",
       "            <td>87.30</td>\n",
       "            <td>0</td>\n",
       "            <td>0</td>\n",
       "            <td>0</td>\n",
       "            <td>402.96</td>\n",
       "        </tr>\n",
       "    </tbody>\n",
       "</table>"
      ],
      "text/plain": [
       "+----------------+-------+---------+-----------+--------+--------+--------+-----------+\n",
       "|    col_name    |  min_ |   max_  |    mean   | perc25 | median | perc75 |  std_dev  |\n",
       "+----------------+-------+---------+-----------+--------+--------+--------+-----------+\n",
       "|      age       |   17  |    90   |   38.58   |   28   |   37   |   48   |   13.64   |\n",
       "| hours-per-week |   1   |    99   |   40.44   |   40   |   40   |   45   |   12.35   |\n",
       "| education-num  |   1   |    16   |   10.08   |   9    |   10   |   12   |    2.57   |\n",
       "|     fnlwgt     | 12285 | 1484705 | 189778.37 | 117827 | 178356 | 237051 | 105549.98 |\n",
       "|  capital-gain  |   0   |  99999  |  1077.65  |   0    |   0    |   0    |  7385.29  |\n",
       "|  capital-loss  |   0   |   4356  |   87.30   |   0    |   0    |   0    |   402.96  |\n",
       "+----------------+-------+---------+-----------+--------+--------+--------+-----------+"
      ]
     },
     "execution_count": 102,
     "metadata": {},
     "output_type": "execute_result"
    }
   ],
   "source": [
    "%%sql\n",
    "SELECT * \n",
    "FROM numer_stats(ARRAY['age','hours-per-week','education-num','fnlwgt','capital-gain','capital-loss']);"
   ]
  },
  {
   "cell_type": "markdown",
   "id": "178d70c3",
   "metadata": {},
   "source": [
    "And the observations for the numerical data is as follows:\n",
    "\n",
    "1. The age distribution is largely represented by late 20's to late 40's (IQR)\n",
    "\n",
    "2. The hours-per-week is pretty tight with respect to the percentiles (40 hours is both the 25 and 50 percentiles and 45 is 75 percentile) but has some significant outliers judging from the standard deviation.\n",
    "\n",
    "3. The education-num is also pretty tight with similar values in the 25, 50, and 75 percentiles and a low standard deviation.\n",
    "\n",
    "4. fnlwgt (a column that is not explained in either the Kaggle or UCI repository) is very skewed with a huge difference between mean and median.\n",
    "\n",
    "5. At least 75% of the data for both capital-gain and capital-loss are exactly 0 (seen from the min_ and percentile columns). From the max_, mean, and std_dev, there are a number of large non-zero values.\n",
    "\n",
    "Now we can proceed by positing some questions"
   ]
  },
  {
   "cell_type": "markdown",
   "id": "06d46e1d",
   "metadata": {},
   "source": [
    "# Questions"
   ]
  },
  {
   "cell_type": "markdown",
   "id": "c77cca99",
   "metadata": {},
   "source": [
    "1. **What's the relationship between hours-per-week worked and education level?**\n",
    "\n",
    "2. **Is there a difference in education level between U.S. born and non-U.S. born persons?** \n",
    "\n",
    "3. **Does sex affect the likelihood of earning greater than \\$50k?**\n",
    "\n",
    "4. **For those earning a salary >\\$50k, is there a change in hours-per-week worked between different racial categories?**\n",
    "\n",
    "We'll see if any kinds of relationships are suggested here, but we will statistically validate them using R\n",
    "Note that the answers to these questions *are not* statistically validated here - but will be done in a separate R markdown document (put document title here)."
   ]
  },
  {
   "cell_type": "markdown",
   "id": "f4fb633d",
   "metadata": {},
   "source": [
    "### Q1: What's the relationship between hours-per-week worked and education level?"
   ]
  },
  {
   "cell_type": "code",
   "execution_count": 120,
   "id": "4b82b9b2",
   "metadata": {},
   "outputs": [
    {
     "data": {
      "text/html": [
       "<span style=\"None\">Running query in &#x27;postgresql:///adult_data&#x27;</span>"
      ],
      "text/plain": [
       "Running query in 'postgresql:///adult_data'"
      ]
     },
     "metadata": {},
     "output_type": "display_data"
    },
    {
     "data": {
      "text/html": [
       "<span style=\"color: green\">16 rows affected.</span>"
      ],
      "text/plain": [
       "16 rows affected."
      ]
     },
     "metadata": {},
     "output_type": "display_data"
    },
    {
     "data": {
      "text/html": [
       "<table>\n",
       "    <thead>\n",
       "        <tr>\n",
       "            <th>education-num</th>\n",
       "            <th>education</th>\n",
       "            <th>num</th>\n",
       "            <th>avg_hours_per_week</th>\n",
       "            <th>std_hours_per_week</th>\n",
       "        </tr>\n",
       "    </thead>\n",
       "    <tbody>\n",
       "        <tr>\n",
       "            <td>15</td>\n",
       "            <td>Prof-school</td>\n",
       "            <td>576</td>\n",
       "            <td>47.43</td>\n",
       "            <td>14.81</td>\n",
       "        </tr>\n",
       "        <tr>\n",
       "            <td>16</td>\n",
       "            <td>Doctorate</td>\n",
       "            <td>413</td>\n",
       "            <td>46.97</td>\n",
       "            <td>15.08</td>\n",
       "        </tr>\n",
       "        <tr>\n",
       "            <td>14</td>\n",
       "            <td>Masters</td>\n",
       "            <td>1723</td>\n",
       "            <td>43.84</td>\n",
       "            <td>12.28</td>\n",
       "        </tr>\n",
       "        <tr>\n",
       "            <td>13</td>\n",
       "            <td>Bachelors</td>\n",
       "            <td>5355</td>\n",
       "            <td>42.61</td>\n",
       "            <td>11.45</td>\n",
       "        </tr>\n",
       "        <tr>\n",
       "            <td>11</td>\n",
       "            <td>Assoc-voc</td>\n",
       "            <td>1382</td>\n",
       "            <td>41.61</td>\n",
       "            <td>10.79</td>\n",
       "        </tr>\n",
       "        <tr>\n",
       "            <td>9</td>\n",
       "            <td>HS-grad</td>\n",
       "            <td>10501</td>\n",
       "            <td>40.58</td>\n",
       "            <td>11.33</td>\n",
       "        </tr>\n",
       "        <tr>\n",
       "            <td>12</td>\n",
       "            <td>Assoc-acdm</td>\n",
       "            <td>1067</td>\n",
       "            <td>40.50</td>\n",
       "            <td>12.20</td>\n",
       "        </tr>\n",
       "        <tr>\n",
       "            <td>4</td>\n",
       "            <td>7th-8th</td>\n",
       "            <td>646</td>\n",
       "            <td>39.37</td>\n",
       "            <td>14.20</td>\n",
       "        </tr>\n",
       "        <tr>\n",
       "            <td>3</td>\n",
       "            <td>5th-6th</td>\n",
       "            <td>333</td>\n",
       "            <td>38.90</td>\n",
       "            <td>10.55</td>\n",
       "        </tr>\n",
       "        <tr>\n",
       "            <td>10</td>\n",
       "            <td>Some-college</td>\n",
       "            <td>7291</td>\n",
       "            <td>38.85</td>\n",
       "            <td>12.76</td>\n",
       "        </tr>\n",
       "        <tr>\n",
       "            <td>2</td>\n",
       "            <td>1st-4th</td>\n",
       "            <td>168</td>\n",
       "            <td>38.26</td>\n",
       "            <td>12.85</td>\n",
       "        </tr>\n",
       "        <tr>\n",
       "            <td>5</td>\n",
       "            <td>9th</td>\n",
       "            <td>514</td>\n",
       "            <td>38.04</td>\n",
       "            <td>11.06</td>\n",
       "        </tr>\n",
       "        <tr>\n",
       "            <td>6</td>\n",
       "            <td>10th</td>\n",
       "            <td>933</td>\n",
       "            <td>37.05</td>\n",
       "            <td>13.79</td>\n",
       "        </tr>\n",
       "        <tr>\n",
       "            <td>1</td>\n",
       "            <td>Preschool</td>\n",
       "            <td>51</td>\n",
       "            <td>36.65</td>\n",
       "            <td>12.56</td>\n",
       "        </tr>\n",
       "        <tr>\n",
       "            <td>8</td>\n",
       "            <td>12th</td>\n",
       "            <td>433</td>\n",
       "            <td>35.78</td>\n",
       "            <td>12.63</td>\n",
       "        </tr>\n",
       "        <tr>\n",
       "            <td>7</td>\n",
       "            <td>11th</td>\n",
       "            <td>1175</td>\n",
       "            <td>33.93</td>\n",
       "            <td>13.97</td>\n",
       "        </tr>\n",
       "    </tbody>\n",
       "</table>"
      ],
      "text/plain": [
       "+---------------+--------------+-------+--------------------+--------------------+\n",
       "| education-num |  education   |  num  | avg_hours_per_week | std_hours_per_week |\n",
       "+---------------+--------------+-------+--------------------+--------------------+\n",
       "|       15      | Prof-school  |  576  |       47.43        |       14.81        |\n",
       "|       16      |  Doctorate   |  413  |       46.97        |       15.08        |\n",
       "|       14      |   Masters    |  1723 |       43.84        |       12.28        |\n",
       "|       13      |  Bachelors   |  5355 |       42.61        |       11.45        |\n",
       "|       11      |  Assoc-voc   |  1382 |       41.61        |       10.79        |\n",
       "|       9       |   HS-grad    | 10501 |       40.58        |       11.33        |\n",
       "|       12      |  Assoc-acdm  |  1067 |       40.50        |       12.20        |\n",
       "|       4       |   7th-8th    |  646  |       39.37        |       14.20        |\n",
       "|       3       |   5th-6th    |  333  |       38.90        |       10.55        |\n",
       "|       10      | Some-college |  7291 |       38.85        |       12.76        |\n",
       "|       2       |   1st-4th    |  168  |       38.26        |       12.85        |\n",
       "|       5       |     9th      |  514  |       38.04        |       11.06        |\n",
       "|       6       |     10th     |  933  |       37.05        |       13.79        |\n",
       "|       1       |  Preschool   |   51  |       36.65        |       12.56        |\n",
       "|       8       |     12th     |  433  |       35.78        |       12.63        |\n",
       "|       7       |     11th     |  1175 |       33.93        |       13.97        |\n",
       "+---------------+--------------+-------+--------------------+--------------------+"
      ]
     },
     "execution_count": 120,
     "metadata": {},
     "output_type": "execute_result"
    }
   ],
   "source": [
    "%%sql\n",
    "SELECT\n",
    "    \"education-num\",\n",
    "    education,\n",
    "    COUNT(*) as num,\n",
    "    ROUND(AVG(\"hours-per-week\"),2) as avg_hours_per_week, --quotes needed b/c hyphens\n",
    "    ROUND(STDDEV_SAMP(\"hours-per-week\"),2) as std_hours_per_week --quotes needed b/c hyphens\n",
    "FROM\n",
    "    adult_data\n",
    "GROUP BY\n",
    "    education,\n",
    "    \"education-num\" --easy since 1-to-1 correspondence b/w edu-num and edu label\n",
    "ORDER BY\n",
    "    avg_hours_per_week DESC;"
   ]
  },
  {
   "cell_type": "markdown",
   "id": "db3b9777",
   "metadata": {},
   "source": [
    "The Prof-school education level has the highest average number of hours worked per week at 47.5 hours. Doctorate level is comparable at 47 hours. The average amount begins to drop off after that with 3rd place being Masters level at 44 hours followed by lower education levels having fewer average hours worked per week. It's worth noting that both Prof-school and Doctorate have the 2 largest standard deviations among the groups, so there could be outliers pushing these higher. Various levels of high school education occupy the middle and bottom slots between the 16 groups.\n",
    "\n",
    "**Q1 Answer: Higher educations seems to be related to a higher average of hours worked per week.**"
   ]
  },
  {
   "cell_type": "markdown",
   "id": "3f601555",
   "metadata": {},
   "source": [
    "### Q2: Is there a difference in education level between U.S. born and non-U.S. born persons?"
   ]
  },
  {
   "cell_type": "code",
   "execution_count": 166,
   "id": "725b4885",
   "metadata": {},
   "outputs": [
    {
     "data": {
      "text/html": [
       "<span style=\"None\">Running query in &#x27;postgresql:///adult_data&#x27;</span>"
      ],
      "text/plain": [
       "Running query in 'postgresql:///adult_data'"
      ]
     },
     "metadata": {},
     "output_type": "display_data"
    },
    {
     "data": {
      "text/html": [
       "<span style=\"color: green\">16 rows affected.</span>"
      ],
      "text/plain": [
       "16 rows affected."
      ]
     },
     "metadata": {},
     "output_type": "display_data"
    },
    {
     "data": {
      "text/html": [
       "<table>\n",
       "    <thead>\n",
       "        <tr>\n",
       "            <th>education-num</th>\n",
       "            <th>education</th>\n",
       "            <th>non_us_count</th>\n",
       "            <th>non_us_perc</th>\n",
       "            <th>us_count</th>\n",
       "            <th>us_perc</th>\n",
       "        </tr>\n",
       "    </thead>\n",
       "    <tbody>\n",
       "        <tr>\n",
       "            <td>16</td>\n",
       "            <td>Doctorate</td>\n",
       "            <td>85</td>\n",
       "            <td>2.51</td>\n",
       "            <td>328</td>\n",
       "            <td>1.12</td>\n",
       "        </tr>\n",
       "        <tr>\n",
       "            <td>15</td>\n",
       "            <td>Prof-school</td>\n",
       "            <td>74</td>\n",
       "            <td>2.18</td>\n",
       "            <td>502</td>\n",
       "            <td>1.72</td>\n",
       "        </tr>\n",
       "        <tr>\n",
       "            <td>14</td>\n",
       "            <td>Masters</td>\n",
       "            <td>196</td>\n",
       "            <td>5.78</td>\n",
       "            <td>1527</td>\n",
       "            <td>5.23</td>\n",
       "        </tr>\n",
       "        <tr>\n",
       "            <td>13</td>\n",
       "            <td>Bachelors</td>\n",
       "            <td>589</td>\n",
       "            <td>17.37</td>\n",
       "            <td>4766</td>\n",
       "            <td>16.34</td>\n",
       "        </tr>\n",
       "        <tr>\n",
       "            <td>12</td>\n",
       "            <td>Assoc-acdm</td>\n",
       "            <td>85</td>\n",
       "            <td>2.51</td>\n",
       "            <td>982</td>\n",
       "            <td>3.37</td>\n",
       "        </tr>\n",
       "        <tr>\n",
       "            <td>11</td>\n",
       "            <td>Assoc-voc</td>\n",
       "            <td>93</td>\n",
       "            <td>2.74</td>\n",
       "            <td>1289</td>\n",
       "            <td>4.42</td>\n",
       "        </tr>\n",
       "        <tr>\n",
       "            <td>10</td>\n",
       "            <td>Some-college</td>\n",
       "            <td>551</td>\n",
       "            <td>16.25</td>\n",
       "            <td>6740</td>\n",
       "            <td>23.11</td>\n",
       "        </tr>\n",
       "        <tr>\n",
       "            <td>9</td>\n",
       "            <td>HS-grad</td>\n",
       "            <td>799</td>\n",
       "            <td>23.56</td>\n",
       "            <td>9702</td>\n",
       "            <td>33.26</td>\n",
       "        </tr>\n",
       "        <tr>\n",
       "            <td>8</td>\n",
       "            <td>12th</td>\n",
       "            <td>68</td>\n",
       "            <td>2.01</td>\n",
       "            <td>365</td>\n",
       "            <td>1.25</td>\n",
       "        </tr>\n",
       "        <tr>\n",
       "            <td>7</td>\n",
       "            <td>11th</td>\n",
       "            <td>108</td>\n",
       "            <td>3.18</td>\n",
       "            <td>1067</td>\n",
       "            <td>3.66</td>\n",
       "        </tr>\n",
       "        <tr>\n",
       "            <td>6</td>\n",
       "            <td>10th</td>\n",
       "            <td>85</td>\n",
       "            <td>2.51</td>\n",
       "            <td>848</td>\n",
       "            <td>2.91</td>\n",
       "        </tr>\n",
       "        <tr>\n",
       "            <td>5</td>\n",
       "            <td>9th</td>\n",
       "            <td>119</td>\n",
       "            <td>3.51</td>\n",
       "            <td>395</td>\n",
       "            <td>1.35</td>\n",
       "        </tr>\n",
       "        <tr>\n",
       "            <td>4</td>\n",
       "            <td>7th-8th</td>\n",
       "            <td>147</td>\n",
       "            <td>4.34</td>\n",
       "            <td>499</td>\n",
       "            <td>1.71</td>\n",
       "        </tr>\n",
       "        <tr>\n",
       "            <td>3</td>\n",
       "            <td>5th-6th</td>\n",
       "            <td>236</td>\n",
       "            <td>6.96</td>\n",
       "            <td>97</td>\n",
       "            <td>0.33</td>\n",
       "        </tr>\n",
       "        <tr>\n",
       "            <td>2</td>\n",
       "            <td>1st-4th</td>\n",
       "            <td>122</td>\n",
       "            <td>3.60</td>\n",
       "            <td>46</td>\n",
       "            <td>0.16</td>\n",
       "        </tr>\n",
       "        <tr>\n",
       "            <td>1</td>\n",
       "            <td>Preschool</td>\n",
       "            <td>34</td>\n",
       "            <td>1.00</td>\n",
       "            <td>17</td>\n",
       "            <td>0.06</td>\n",
       "        </tr>\n",
       "    </tbody>\n",
       "</table>"
      ],
      "text/plain": [
       "+---------------+--------------+--------------+-------------+----------+---------+\n",
       "| education-num |  education   | non_us_count | non_us_perc | us_count | us_perc |\n",
       "+---------------+--------------+--------------+-------------+----------+---------+\n",
       "|       16      |  Doctorate   |      85      |     2.51    |   328    |   1.12  |\n",
       "|       15      | Prof-school  |      74      |     2.18    |   502    |   1.72  |\n",
       "|       14      |   Masters    |     196      |     5.78    |   1527   |   5.23  |\n",
       "|       13      |  Bachelors   |     589      |    17.37    |   4766   |  16.34  |\n",
       "|       12      |  Assoc-acdm  |      85      |     2.51    |   982    |   3.37  |\n",
       "|       11      |  Assoc-voc   |      93      |     2.74    |   1289   |   4.42  |\n",
       "|       10      | Some-college |     551      |    16.25    |   6740   |  23.11  |\n",
       "|       9       |   HS-grad    |     799      |    23.56    |   9702   |  33.26  |\n",
       "|       8       |     12th     |      68      |     2.01    |   365    |   1.25  |\n",
       "|       7       |     11th     |     108      |     3.18    |   1067   |   3.66  |\n",
       "|       6       |     10th     |      85      |     2.51    |   848    |   2.91  |\n",
       "|       5       |     9th      |     119      |     3.51    |   395    |   1.35  |\n",
       "|       4       |   7th-8th    |     147      |     4.34    |   499    |   1.71  |\n",
       "|       3       |   5th-6th    |     236      |     6.96    |    97    |   0.33  |\n",
       "|       2       |   1st-4th    |     122      |     3.60    |    46    |   0.16  |\n",
       "|       1       |  Preschool   |      34      |     1.00    |    17    |   0.06  |\n",
       "+---------------+--------------+--------------+-------------+----------+---------+"
      ]
     },
     "execution_count": 166,
     "metadata": {},
     "output_type": "execute_result"
    }
   ],
   "source": [
    "%%sql\n",
    "-- first get table of non-us born stats\n",
    "WITH non_us_born as (\n",
    "    SELECT\n",
    "        \"education-num\",\n",
    "        education,\n",
    "        COUNT(*) as count\n",
    "    FROM\n",
    "        adult_data\n",
    "    WHERE\n",
    "        \"native-country\" != 'United-States' -- double quotes for columns, single quotes for strs\n",
    "    GROUP BY\n",
    "        education,\n",
    "        \"education-num\"\n",
    "),\n",
    "\n",
    "-- then table of us-born\n",
    "us_born as (\n",
    "    SELECT\n",
    "        \"education-num\",\n",
    "        education,\n",
    "        COUNT(*) as count\n",
    "    FROM\n",
    "        adult_data\n",
    "    WHERE\n",
    "        \"native-country\" = 'United-States'\n",
    "    GROUP BY\n",
    "        education,\n",
    "        \"education-num\"\n",
    "),\n",
    "\n",
    "-- then join of both on education level (with coalesce and full outer in case counts of 0)\n",
    "joined as (\n",
    "    SELECT\n",
    "        nus.\"education-num\",\n",
    "        nus.education,\n",
    "        COALESCE(nus.count,0) as non_us_count, --in case of zeros in a category\n",
    "        COALESCE(us.count,0) as us_count\n",
    "    FROM\n",
    "        non_us_born nus\n",
    "    FULL OUTER JOIN\n",
    "        us_born us\n",
    "    ON\n",
    "        us.education = nus.education\n",
    ")\n",
    "\n",
    "-- then finally calculate percentages as well\n",
    "SELECT\n",
    "    \"education-num\",\n",
    "    education,\n",
    "    non_us_count,\n",
    "    ROUND(SUM(non_us_count) * 100 / SUM(non_us_count) over (),2) as non_us_perc,\n",
    "    us_count,\n",
    "    ROUND(SUM(us_count) * 100 / SUM(us_count) over (),2) as us_perc\n",
    "FROM\n",
    "    joined\n",
    "GROUP BY\n",
    "    \"education-num\", education, non_us_count, us_count\n",
    "ORDER BY\n",
    "    \"education-num\" DESC;"
   ]
  },
  {
   "cell_type": "markdown",
   "id": "f2da1723",
   "metadata": {},
   "source": [
    "Immediate observations are:\n",
    "\n",
    "1. The Doctorate (education-num = 16) education level has twice the relative representation among non-U.S. born persons than those born in the U.S.\n",
    "\n",
    "2. The Prof-school, Masters, and Bachelors (15 - 13) levels show more even representation.\n",
    "\n",
    "3. Those U.S. born with Associates, some college, or complete high school (12 - 9) have greater representation.\n",
    "\n",
    "4. 10th through 12th grade high school education (6 - 8) has somewhat even representation.\n",
    "\n",
    "5. Non-U.S. born persons with an education level below 10th grade high school (<= 5) are much more populous than U.S. born.\n",
    "\n",
    "**Q2 Answer: The extrema of the education levels (doctorate and those with 9th grade education or below) have a higher non-U.S. born relative population than U.S born. U.S. born persons with an Associate's degree, some college, or a high school diploma have greater representation. The remaining categories are largely even between both populations.**"
   ]
  },
  {
   "cell_type": "markdown",
   "id": "8a4a93a3",
   "metadata": {},
   "source": [
    "### Q3: Does sex affect the likelihood of earning greater than \\$50k in salary?"
   ]
  },
  {
   "cell_type": "markdown",
   "id": "5e2c66bb",
   "metadata": {},
   "source": [
    "Recall that salary here is a binary variable (<=50k, or >50k) so we can't get a continuous distribution."
   ]
  },
  {
   "cell_type": "code",
   "execution_count": 150,
   "id": "cf18c49c",
   "metadata": {},
   "outputs": [
    {
     "data": {
      "text/html": [
       "<span style=\"None\">Running query in &#x27;postgresql:///adult_data&#x27;</span>"
      ],
      "text/plain": [
       "Running query in 'postgresql:///adult_data'"
      ]
     },
     "metadata": {},
     "output_type": "display_data"
    },
    {
     "data": {
      "text/html": [
       "<span style=\"color: green\">2 rows affected.</span>"
      ],
      "text/plain": [
       "2 rows affected."
      ]
     },
     "metadata": {},
     "output_type": "display_data"
    },
    {
     "data": {
      "text/html": [
       "<table>\n",
       "    <thead>\n",
       "        <tr>\n",
       "            <th>sex</th>\n",
       "            <th>lte_50k</th>\n",
       "            <th>gt_50k</th>\n",
       "        </tr>\n",
       "    </thead>\n",
       "    <tbody>\n",
       "        <tr>\n",
       "            <td>Female</td>\n",
       "            <td>9592</td>\n",
       "            <td>1179</td>\n",
       "        </tr>\n",
       "        <tr>\n",
       "            <td>Male</td>\n",
       "            <td>15128</td>\n",
       "            <td>6662</td>\n",
       "        </tr>\n",
       "    </tbody>\n",
       "</table>"
      ],
      "text/plain": [
       "+--------+---------+--------+\n",
       "|  sex   | lte_50k | gt_50k |\n",
       "+--------+---------+--------+\n",
       "| Female |   9592  |  1179  |\n",
       "|  Male  |  15128  |  6662  |\n",
       "+--------+---------+--------+"
      ]
     },
     "execution_count": 150,
     "metadata": {},
     "output_type": "execute_result"
    }
   ],
   "source": [
    "%%sql\n",
    "SELECT\n",
    "    sex,\n",
    "    SUM(CASE WHEN salary LIKE '<=%' THEN 1 ELSE 0 END) as lte_50k,\n",
    "    SUM(CASE WHEN salary LIKE '>%' THEN 1 ELSE 0 END) as gt_50k\n",
    "FROM\n",
    "    adult_data\n",
    "GROUP BY\n",
    "    sex;"
   ]
  },
  {
   "cell_type": "markdown",
   "id": "1a6a3532",
   "metadata": {},
   "source": [
    "Let's re-express the above table with percentages while also showing the marginal distribution:"
   ]
  },
  {
   "cell_type": "code",
   "execution_count": 178,
   "id": "25d51a93",
   "metadata": {},
   "outputs": [
    {
     "data": {
      "text/html": [
       "<span style=\"None\">Running query in &#x27;postgresql:///adult_data&#x27;</span>"
      ],
      "text/plain": [
       "Running query in 'postgresql:///adult_data'"
      ]
     },
     "metadata": {},
     "output_type": "display_data"
    },
    {
     "data": {
      "text/html": [
       "<span style=\"color: green\">3 rows affected.</span>"
      ],
      "text/plain": [
       "3 rows affected."
      ]
     },
     "metadata": {},
     "output_type": "display_data"
    },
    {
     "data": {
      "text/html": [
       "<table>\n",
       "    <thead>\n",
       "        <tr>\n",
       "            <th>sex</th>\n",
       "            <th>lte_50k_perc</th>\n",
       "            <th>gt_50k_perc</th>\n",
       "            <th>col_sum</th>\n",
       "        </tr>\n",
       "    </thead>\n",
       "    <tbody>\n",
       "        <tr>\n",
       "            <td>Female</td>\n",
       "            <td>29.46</td>\n",
       "            <td>3.62</td>\n",
       "            <td>33.08</td>\n",
       "        </tr>\n",
       "        <tr>\n",
       "            <td>Male</td>\n",
       "            <td>46.46</td>\n",
       "            <td>20.46</td>\n",
       "            <td>66.92</td>\n",
       "        </tr>\n",
       "        <tr>\n",
       "            <td>row_sum</td>\n",
       "            <td>75.92</td>\n",
       "            <td>24.08</td>\n",
       "            <td>100.00</td>\n",
       "        </tr>\n",
       "    </tbody>\n",
       "</table>"
      ],
      "text/plain": [
       "+---------+--------------+-------------+---------+\n",
       "|   sex   | lte_50k_perc | gt_50k_perc | col_sum |\n",
       "+---------+--------------+-------------+---------+\n",
       "|  Female |    29.46     |     3.62    |  33.08  |\n",
       "|   Male  |    46.46     |    20.46    |  66.92  |\n",
       "| row_sum |    75.92     |    24.08    |  100.00 |\n",
       "+---------+--------------+-------------+---------+"
      ]
     },
     "execution_count": 178,
     "metadata": {},
     "output_type": "execute_result"
    }
   ],
   "source": [
    "%%sql\n",
    "\n",
    "-- get raw counts first\n",
    "WITH salary_counts as (\n",
    "    SELECT\n",
    "        sex,\n",
    "        SUM(CASE WHEN salary LIKE '<=%' THEN 1 ELSE 0 END) as lte_50k,\n",
    "        SUM(CASE WHEN salary LIKE '>%' THEN 1 ELSE 0 END) as gt_50k\n",
    "    FROM\n",
    "        adult_data\n",
    "    GROUP BY\n",
    "        sex\n",
    "),\n",
    "\n",
    "total_counts as (\n",
    "    SELECT\n",
    "        COUNT(*)::NUMERIC as count\n",
    "    FROM\n",
    "        adult_data\n",
    "),\n",
    "\n",
    "-- reexpress counts as percentages\n",
    "percs as (\n",
    "    SELECT\n",
    "        sc.sex,\n",
    "        ROUND(lte_50k * 100 / tc.count,2) as lte_50k_perc,\n",
    "        ROUND(gt_50k * 100/ tc.count,2) as gt_50k_perc,\n",
    "        ROUND((lte_50k + gt_50k) / tc.count,2) as \"col_sum\"\n",
    "    FROM\n",
    "        salary_counts sc,\n",
    "        total_counts tc\n",
    ")\n",
    "\n",
    "-- then shows percentages along with margins\n",
    "SELECT\n",
    "    percs.sex,\n",
    "    lte_50k_perc,\n",
    "    gt_50k_perc,\n",
    "    lte_50k_perc + gt_50k_perc as \"col_sum\"\n",
    "FROM\n",
    "    percs\n",
    "\n",
    "UNION ALL\n",
    "\n",
    "SELECT\n",
    "    'row_sum',\n",
    "    SUM(lte_50k_perc),\n",
    "    SUM(gt_50k_perc),\n",
    "    SUM(lte_50k_perc) + SUM(gt_50k_perc)\n",
    "FROM\n",
    "    percs"
   ]
  },
  {
   "cell_type": "markdown",
   "id": "5674bcec",
   "metadata": {},
   "source": [
    "From the table, it's evident that women are 33% of the table data, 38% (= 29.46% / 75.92%) of those earning <=\\\\$50k in salary, and only 18% (= 3.62% / 20.46%) of those earning >\\\\$50k in salary. This means that in the >\\\\$50k salary category, men account for about 82\\% of the data.\n",
    "\n",
    "**Q3 Answer: Sex has a strong relationship between earning under or above $50k in salary.**"
   ]
  },
  {
   "cell_type": "markdown",
   "id": "4b152bcd",
   "metadata": {},
   "source": [
    "### Q4: For those earning a salary >\\\\$50k, is there a change in hours-per-week worked between different racial categories?"
   ]
  },
  {
   "cell_type": "code",
   "execution_count": 189,
   "id": "7e1af4ee",
   "metadata": {
    "scrolled": true
   },
   "outputs": [
    {
     "data": {
      "text/html": [
       "<span style=\"None\">Running query in &#x27;postgresql:///adult_data&#x27;</span>"
      ],
      "text/plain": [
       "Running query in 'postgresql:///adult_data'"
      ]
     },
     "metadata": {},
     "output_type": "display_data"
    },
    {
     "data": {
      "text/html": [
       "<span style=\"color: green\">5 rows affected.</span>"
      ],
      "text/plain": [
       "5 rows affected."
      ]
     },
     "metadata": {},
     "output_type": "display_data"
    },
    {
     "data": {
      "text/html": [
       "<table>\n",
       "    <thead>\n",
       "        <tr>\n",
       "            <th>avg_hours_per_week</th>\n",
       "            <th>std_hours_per_week</th>\n",
       "            <th>count</th>\n",
       "            <th>race</th>\n",
       "            <th>salary</th>\n",
       "        </tr>\n",
       "    </thead>\n",
       "    <tbody>\n",
       "        <tr>\n",
       "            <td>44.92</td>\n",
       "            <td>9.40</td>\n",
       "            <td>25</td>\n",
       "            <td>Other</td>\n",
       "            <td>>50K</td>\n",
       "        </tr>\n",
       "        <tr>\n",
       "            <td>45.56</td>\n",
       "            <td>11.03</td>\n",
       "            <td>7117</td>\n",
       "            <td>White</td>\n",
       "            <td>>50K</td>\n",
       "        </tr>\n",
       "        <tr>\n",
       "            <td>44.83</td>\n",
       "            <td>11.13</td>\n",
       "            <td>276</td>\n",
       "            <td>Asian-Pac-Islander</td>\n",
       "            <td>>50K</td>\n",
       "        </tr>\n",
       "        <tr>\n",
       "            <td>44.92</td>\n",
       "            <td>9.85</td>\n",
       "            <td>36</td>\n",
       "            <td>Amer-Indian-Eskimo</td>\n",
       "            <td>>50K</td>\n",
       "        </tr>\n",
       "        <tr>\n",
       "            <td>44.38</td>\n",
       "            <td>10.84</td>\n",
       "            <td>387</td>\n",
       "            <td>Black</td>\n",
       "            <td>>50K</td>\n",
       "        </tr>\n",
       "    </tbody>\n",
       "</table>"
      ],
      "text/plain": [
       "+--------------------+--------------------+-------+--------------------+--------+\n",
       "| avg_hours_per_week | std_hours_per_week | count |        race        | salary |\n",
       "+--------------------+--------------------+-------+--------------------+--------+\n",
       "|       44.92        |        9.40        |   25  |       Other        |  >50K  |\n",
       "|       45.56        |       11.03        |  7117 |       White        |  >50K  |\n",
       "|       44.83        |       11.13        |  276  | Asian-Pac-Islander |  >50K  |\n",
       "|       44.92        |        9.85        |   36  | Amer-Indian-Eskimo |  >50K  |\n",
       "|       44.38        |       10.84        |  387  |       Black        |  >50K  |\n",
       "+--------------------+--------------------+-------+--------------------+--------+"
      ]
     },
     "execution_count": 189,
     "metadata": {},
     "output_type": "execute_result"
    }
   ],
   "source": [
    "%%sql\n",
    "SELECT\n",
    "    ROUND(AVG(\"hours-per-week\"),2) as avg_hours_per_week,\n",
    "    ROUND(STDDEV_SAMP(\"hours-per-week\"),2) as std_hours_per_week,\n",
    "    COUNT(*) as count,\n",
    "    race,\n",
    "    salary\n",
    "FROM\n",
    "    adult_data\n",
    "WHERE\n",
    "    salary LIKE '>%'\n",
    "GROUP BY\n",
    "    race,\n",
    "    salary"
   ]
  },
  {
   "cell_type": "markdown",
   "id": "f04a44cd",
   "metadata": {},
   "source": [
    "The average number of hours worked per week is all almost within 1 hour of each racial group. The standard deviations are small for the Other and Amer-Indian-Eskimo categories, but these groups have very few counts relative to the other 3 \n",
    "\n",
    "**Q4 Answer: There seems to be no relationship between average number of hours worked per week and different racial groups when earning >\\\\$50k in salary.**"
   ]
  },
  {
   "cell_type": "markdown",
   "id": "5379b4f9",
   "metadata": {},
   "source": [
    "# Hypothesis Testing"
   ]
  },
  {
   "cell_type": "markdown",
   "id": "addb123d",
   "metadata": {},
   "source": [
    "Each of the 4 questions were answered, but only with a cursory analysis. These answers are investigated and statistically validated in the R document adult_demographics_analysis_R.pdf."
   ]
  },
  {
   "cell_type": "markdown",
   "id": "5873d7f8",
   "metadata": {},
   "source": [
    "# Clustering"
   ]
  },
  {
   "cell_type": "markdown",
   "id": "59b3aa98",
   "metadata": {},
   "source": [
    "A Kmodes clustering of this dataset is walked through in the AdultData_KModes.ipynb Jupyter notebook."
   ]
  },
  {
   "cell_type": "markdown",
   "id": "5a1b6006",
   "metadata": {},
   "source": [
    "# Tableau\n",
    "\n",
    "A tableau dashboard showing the trend of average hours worked per week by U.S. born individuals vs those not born in the U.S., the distribution of sex, workclass, and race, and the salary disparities by gender across racial categories can be found on the Tableau Public Server at https://tinyurl.com/bdej24j2."
   ]
  },
  {
   "cell_type": "markdown",
   "id": "510c1a46",
   "metadata": {},
   "source": [
    "*Screenshot of the original dashboard over the full dataset.*\n",
    "\n",
    "![image](images/tableau_full.png)"
   ]
  },
  {
   "cell_type": "markdown",
   "id": "e3fcb0b0",
   "metadata": {},
   "source": [
    "*Screenshot showing the dashboard statistics for those not born in the United States.*\n",
    "\n",
    "![image](images/tableau_nonusborn.png)"
   ]
  },
  {
   "cell_type": "markdown",
   "id": "946525d0",
   "metadata": {},
   "source": [
    "*Showing the visuals only corresponding to the Asian-Pacific-Islander racial category.*\n",
    "\n",
    "![image](images/tableau_asianpacificislander.png)"
   ]
  },
  {
   "cell_type": "markdown",
   "id": "348c4f7e",
   "metadata": {},
   "source": [
    "*And the visuals for the US-born White, Black, and American-Indian-Eskimo racial categories.*\n",
    "\n",
    "![image](images/tableau_whiteblackamericanindianeskimo_usborn.png)"
   ]
  },
  {
   "cell_type": "code",
   "execution_count": null,
   "id": "ac481a48",
   "metadata": {},
   "outputs": [],
   "source": []
  }
 ],
 "metadata": {
  "kernelspec": {
   "display_name": "Python 3 (ipykernel)",
   "language": "python",
   "name": "python3"
  },
  "language_info": {
   "codemirror_mode": {
    "name": "ipython",
    "version": 3
   },
   "file_extension": ".py",
   "mimetype": "text/x-python",
   "name": "python",
   "nbconvert_exporter": "python",
   "pygments_lexer": "ipython3",
   "version": "3.10.12"
  }
 },
 "nbformat": 4,
 "nbformat_minor": 5
}
